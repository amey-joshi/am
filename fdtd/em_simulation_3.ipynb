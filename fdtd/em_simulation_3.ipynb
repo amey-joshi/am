{
  "nbformat": 4,
  "nbformat_minor": 0,
  "metadata": {
    "colab": {
      "name": "em-simulation-3.ipynb",
      "provenance": [],
      "authorship_tag": "ABX9TyNr+eJLc/Pl+7owqEcDwd5R",
      "include_colab_link": true
    },
    "kernelspec": {
      "name": "python3",
      "display_name": "Python 3"
    }
  },
  "cells": [
    {
      "cell_type": "markdown",
      "metadata": {
        "id": "view-in-github",
        "colab_type": "text"
      },
      "source": [
        "<a href=\"https://colab.research.google.com/github/amey-joshi/am/blob/master/fdtd/em_simulation_3.ipynb\" target=\"_parent\"><img src=\"https://colab.research.google.com/assets/colab-badge.svg\" alt=\"Open In Colab\"/></a>"
      ]
    },
    {
      "cell_type": "markdown",
      "metadata": {
        "id": "LT1py47rJdPc"
      },
      "source": [
        "Section 1.3 from the book **Electromagnetic Simulation Using the FDTD Method with Python** by **Houle, Jennifer E and Sullivan, Dennis M**, published by John Wiley & Sons in 2020."
      ]
    },
    {
      "cell_type": "code",
      "metadata": {
        "id": "cNVzRjQpB_t7"
      },
      "source": [
        "import numpy as np\n",
        "import matplotlib.pyplot as plt"
      ],
      "execution_count": 10,
      "outputs": []
    },
    {
      "cell_type": "code",
      "metadata": {
        "id": "zFgzVrF9CPIp"
      },
      "source": [
        "# Parameters of the problem.\n",
        "ke = 200\n",
        "\n",
        "ex = np.zeros(ke)\n",
        "hy = np.zeros(ke)\n",
        "\n",
        "kc = ke//2\n",
        "t0 = 40\n",
        "spread = 12\n",
        "\n",
        "# Artifacts for an absorbing boundary condition.\n",
        "low_boundary = [0, 0]\n",
        "high_boundary = [0, 0]\n",
        "\n",
        "# Dictionaries to save electric field data for plotting\n",
        "save_steps = [100, 225, 250]\n",
        "plotting_data = [\n",
        "  {'nsteps': 100, 'ex_data': None, 'label': ''},\n",
        "  {'nsteps': 225, 'ex_data': None, 'label': ''},\n",
        "  {'nsteps': 250, 'ex_data': None, 'label': 'FDTD cells'}\n",
        "]\n",
        "\n",
        "nsteps = 250"
      ],
      "execution_count": 25,
      "outputs": []
    },
    {
      "cell_type": "code",
      "metadata": {
        "id": "ka-Q1NkMCQFL"
      },
      "source": [
        "# Functions used in the simulation\n",
        "\n",
        "def reset_fields():\n",
        "  ex[:] = 0\n",
        "  hy[:] = 0\n",
        "  low_boundary[:] = 0\n",
        "  high_boundary[:] = 0\n",
        "\n",
        "def compute_fields():\n",
        "  for k in range(1, ke):\n",
        "    ex[k] += 0.5 * (hy[k-1] - hy[k])\n",
        "\n",
        "  ex[kc] = np.exp(-0.5 * ((t - t0)/spread)**2)\n",
        "  \n",
        "  # Update the boundary values\n",
        "  ex[0] = low_boundary.pop(0)\n",
        "  low_boundary.append(ex[1])\n",
        "\n",
        "  ex[ke-1] = high_boundary.pop(0)\n",
        "  high_boundary.append(ex[ke-2])\n",
        "\n",
        "  for k in range(ke - 1):\n",
        "    hy[k] += 0.5 * (ex[k] - ex[k+1])\n",
        "\n",
        "def plot_e_field(data, timestep, label):\n",
        "  \"\"\"Plot of E field at a single time step\"\"\"\n",
        "  plt.plot(data, color='k', linewidth=1)\n",
        "  plt.ylabel('E$_x$', fontsize='14')\n",
        "  plt.xticks(np.arange(0, 199, step=20))\n",
        "  plt.xlim(0, 199)\n",
        "  plt.yticks(np.arange(0, 1.2, step=1))\n",
        "  plt.ylim(-0.2, 1.2)\n",
        "  plt.text(100, 0.5, f'T = {timestep}', horizontalalignment='center')\n",
        "  plt.xlabel(f'{label}')\n"
      ],
      "execution_count": 26,
      "outputs": []
    },
    {
      "cell_type": "code",
      "metadata": {
        "id": "rFtHlHe5EP5n"
      },
      "source": [
        "reset_fields()\n",
        "\n",
        "index = 0\n",
        "for t in range(nsteps + 1):\n",
        "  compute_fields()\n",
        "\n",
        "  if t in save_steps:\n",
        "    d = plotting_data[index]\n",
        "    d['ex_data'] = np.copy(ex)\n",
        "    index += 1"
      ],
      "execution_count": 27,
      "outputs": []
    },
    {
      "cell_type": "code",
      "metadata": {
        "id": "l_qbRK-dEUfx",
        "outputId": "3adf4c38-bf8c-465c-abc1-02b596d7106e",
        "colab": {
          "base_uri": "https://localhost:8080/",
          "height": 497
        }
      },
      "source": [
        "fig = plt.figure(figsize=(8, 8))\n",
        "for sno, d in enumerate(plotting_data):\n",
        "  ax = fig.add_subplot(len(plotting_data), 1, sno + 1)\n",
        "  plot_e_field(d['ex_data'], d['nsteps'], d['label'])\n"
      ],
      "execution_count": 29,
      "outputs": [
        {
          "output_type": "display_data",
          "data": {
            "image/png": "[encoded data removed]",
            "text/plain": [
              "<Figure size 576x576 with 3 Axes>"
            ]
          },
          "metadata": {
            "tags": [],
            "needs_background": "light"
          }
        }
      ]
    }
  ]
}