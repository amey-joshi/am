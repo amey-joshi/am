{
  "nbformat": 4,
  "nbformat_minor": 0,
  "metadata": {
    "colab": {
      "name": "em_simulation_7.ipynb",
      "provenance": [],
      "authorship_tag": "ABX9TyO5z2jn31kC3t7L9rHgRfuW",
      "include_colab_link": true
    },
    "kernelspec": {
      "name": "python3",
      "display_name": "Python 3"
    }
  },
  "cells": [
    {
      "cell_type": "markdown",
      "metadata": {
        "id": "view-in-github",
        "colab_type": "text"
      },
      "source": [
        "<a href=\"https://colab.research.google.com/github/amey-joshi/am/blob/master/fdtd/em_simulation_7.ipynb\" target=\"_parent\"><img src=\"https://colab.research.google.com/assets/colab-badge.svg\" alt=\"Open In Colab\"/></a>"
      ]
    },
    {
      "cell_type": "markdown",
      "metadata": {
        "id": "-MrcBXx5MmRa"
      },
      "source": [
        "Propagation of an electromagnetic wave in a lossy medium. The $\\vec{D}$ field is computed in the code."
      ]
    },
    {
      "cell_type": "code",
      "metadata": {
        "id": "jCVIrtPuImyA"
      },
      "source": [
        "import numpy as np\n",
        "import matplotlib.pyplot as plt"
      ],
      "execution_count": 1,
      "outputs": []
    },
    {
      "cell_type": "code",
      "metadata": {
        "id": "M-9_MS7VJBqJ"
      },
      "source": [
        "# Physical parameters.\n",
        "ke = 200          # The extent of the domain.\n",
        "kc = ke//2        # The centre of the domain.\n",
        "ks = 5            # Location of the soft source.\n",
        "ex = np.zeros(ke) # X-component of the electric field.\n",
        "dx = np.zeros(ke) # X-component of the electric displacement.\n",
        "ix = np.zeros(ke) # Time domain representation of the lossy part of D-field.\n",
        "hy = np.zeros(ke) # Y-component of the H-field.\n",
        "c0 = 3e8          # Speed of light in vacuum.\n",
        "freq_in = 700e6   # Frequency of a sinusoidal source, 700 MHz in this case.\n",
        "\n",
        "\n",
        "# Artifacts for absorbing boundary layer.\n",
        "lob = [0, 0] # Boundary at the lower end.\n",
        "hib = [0, 0] # Boundary at the higher end.\n",
        "\n",
        "# Dielectric parameters\n",
        "epsilon_0 = 8.854e-12 # Permittivity of free space.\n",
        "kappa = 4             # The relative permittivity.\n",
        "sigma = 0.04          # Conductivity of the medium.\n",
        "\n",
        "gax = np.ones(ke)\n",
        "gbx = np.zeros(ke)"
      ],
      "execution_count": 2,
      "outputs": []
    },
    {
      "cell_type": "code",
      "metadata": {
        "id": "pAPEm20KKNMx"
      },
      "source": [
        "# Simulation parameters\n",
        "nsteps = 500\n",
        "ddx = 0.01 # Cell size.\n",
        "dt  = 0.5 * ddx/c0 # Time step\n",
        "\n",
        "gax[kc:] = 1 / (kappa + (sigma * dt / epsilon_0))\n",
        "gbx[kc:] = sigma * dt / epsilon_0\n"
      ],
      "execution_count": 3,
      "outputs": []
    },
    {
      "cell_type": "code",
      "metadata": {
        "id": "wWzFp1_RKhK6"
      },
      "source": [
        "def reset_data():\n",
        "  ex[:] = 0\n",
        "  ix[:] = 0\n",
        "  dx[:] = 0\n",
        "  hy[:] = 0\n",
        "  lob = [0, 0]\n",
        "  hib = [0, 0]\n",
        "\n",
        "def compute_fields(t):\n",
        "  for k in range(1, ke):\n",
        "    dx[k] += 0.5 * (hy[k-1] - hy[k])\n",
        "\n",
        "  dx[ks] = np.sin(2*np.pi*freq_in*dt*t)\n",
        "\n",
        "  for k in range(1, ke):\n",
        "    ex[k] = gax[k] * (dx[k] - ix[k])\n",
        "    ix[k] = ix[k] + gbx[k] * ex[k]\n",
        "\n",
        "  # Update the boundary values\n",
        "  ex[0] = lob.pop(0)\n",
        "  lob.append(ex[1])\n",
        "\n",
        "  ex[ke-1] = hib.pop(0)\n",
        "  hib.append(ex[ke-2])\n",
        "\n",
        "  for k in range(ke - 1):\n",
        "    hy[k] += 0.5 * (ex[k] - ex[k+1])\n",
        "\n",
        "def plot_e_field():\n",
        "  plt.rcParams['font.size'] = 12\n",
        "  plt.figure(figsize=(8, 4))\n",
        "  plt.plot(ex, color='k', linewidth=1)\n",
        "  plt.ylabel('E$_x$', fontsize='14')\n",
        "  plt.xticks(np.arange(0, 199, step=20))\n",
        "  plt.xlim(0, 199)\n",
        "  plt.yticks(np.arange(-1, 1.2, step=1))\n",
        "  plt.ylim(-1.2, 1.2)\n",
        "  plt.text(50, 0.5, f'T = {t}',  horizontalalignment='center')\n",
        "  plt.plot(gbx / gbx[kc], 'k--',\n",
        "  linewidth=0.75) # Scaled for plotting\n",
        "  plt.text(170, 0.5, rf'$\\kappa$ = {kappa}', horizontalalignment='center')\n",
        "  plt.text(170, -0.5, rf'$\\sigma$ = {sigma}', horizontalalignment='center')\n",
        "  plt.xlabel('FDTD cells')\n",
        "  plt.subplots_adjust(bottom=0.25, hspace=0.45)\n",
        "  plt.show()\n",
        "\n"
      ],
      "execution_count": 7,
      "outputs": []
    },
    {
      "cell_type": "code",
      "metadata": {
        "id": "5J4Nk3yKMFTy",
        "outputId": "9d986674-8335-461b-8c9b-1a50a04f64da",
        "colab": {
          "base_uri": "https://localhost:8080/",
          "height": 248
        }
      },
      "source": [
        "reset_data()\n",
        "\n",
        "for t in range(nsteps):\n",
        "  compute_fields(t)\n",
        "\n",
        "plot_e_field()"
      ],
      "execution_count": 9,
      "outputs": [
        {
          "output_type": "display_data",
          "data": {
            "image/png": "[encoded data removed]",
            "text/plain": [
              "<Figure size 576x288 with 1 Axes>"
            ]
          },
          "metadata": {
            "tags": [],
            "needs_background": "light"
          }
        }
      ]
    }
  ]
}