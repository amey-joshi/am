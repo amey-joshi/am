{
  "nbformat": 4,
  "nbformat_minor": 0,
  "metadata": {
    "colab": {
      "name": "em-simulation-1.ipynb",
      "provenance": [],
      "authorship_tag": "ABX9TyO0ddKP7BTcWHH2mDrb7Gvm",
      "include_colab_link": true
    },
    "kernelspec": {
      "name": "python3",
      "display_name": "Python 3"
    }
  },
  "cells": [
    {
      "cell_type": "markdown",
      "metadata": {
        "id": "view-in-github",
        "colab_type": "text"
      },
      "source": [
        "<a href=\"https://colab.research.google.com/github/amey-joshi/am/blob/master/fdtd/em_simulation_1.ipynb\" target=\"_parent\"><img src=\"https://colab.research.google.com/assets/colab-badge.svg\" alt=\"Open In Colab\"/></a>"
      ]
    },
    {
      "cell_type": "markdown",
      "metadata": {
        "id": "QNZPsG4x3cI9"
      },
      "source": [
        "Exercises from the book **Electromagnetic Simulation Using the FDTD Method with Python** by **Houle, Jennifer E and Sullivan, Dennis M**, published by John Wiley & Sons in 2020.\n",
        "\n",
        "[Google scholar reference.](https://scholar.googleusercontent.com/scholar.bib?q=info:Q54PGxF5348J:scholar.google.com/&output=citation&scisdr=CgWwsGAUEOKI6WUnZQI:AAGBfm0AAAAAX5wifQKko6g8M02zgeFhCyz6T7zi_NSo&scisig=AAGBfm0AAAAAX5wifenz0Yfmki57tpWq7DfW5EUmO1vV&scisf=4&ct=citation&cd=-1&hl=en)\n",
        "\n",
        "The main equations are (1.6a), (1.6b), (1.7) and (1.8)."
      ]
    },
    {
      "cell_type": "code",
      "metadata": {
        "id": "Y_jnV6MHIbLL"
      },
      "source": [
        "import numpy as np\n",
        "import matplotlib.pyplot as plt\n",
        "import math"
      ],
      "execution_count": 13,
      "outputs": []
    },
    {
      "cell_type": "code",
      "metadata": {
        "id": "tWABwCGhI1Ct"
      },
      "source": [
        "ke = 200\n",
        "ex = np.zeros(ke) # x-component of normalized electric field.\n",
        "hy = np.zeros(ke) # y-component of magnetic field.\n",
        "\n",
        "kc = ke // 2  # The centre of the grid.\n",
        "t0 = 40       # The mean of the gaussian pulse.\n",
        "spread = 12   # The standard deviation of the pulse.\n",
        "\n",
        "nsteps = 100"
      ],
      "execution_count": 34,
      "outputs": []
    },
    {
      "cell_type": "code",
      "metadata": {
        "id": "hB3zBeDNJ79c"
      },
      "source": [
        "for t in range(1, nsteps + 1):\n",
        "  for k in range(1, ke):\n",
        "    ex[k] +=0.5 * (hy[k - 1] - hy[k])\n",
        "  \n",
        "  ex[kc] = np.exp(-0.5 * ((t0 - t)/spread)**2)\n",
        "\n",
        "  for k in range(ke - 1):\n",
        "    hy[k] += 0.5 * (ex[k] - ex[k + 1])\n"
      ],
      "execution_count": 35,
      "outputs": []
    },
    {
      "cell_type": "code",
      "metadata": {
        "id": "kaViCQlUKhNJ",
        "outputId": "5604c9be-9060-4381-b52c-3833937425eb",
        "colab": {
          "base_uri": "https://localhost:8080/",
          "height": 460
        }
      },
      "source": [
        "plt.figure(figsize=(8, 8))\n",
        "plt.subplot(211)\n",
        "plt.plot(ex, color='k', linewidth=1)\n",
        "plt.ylabel('E$_x$', fontsize='14')\n",
        "plt.xticks(np.arange(0, ke + 1, step=20))\n",
        "plt.xlim(0, 200)\n",
        "plt.yticks(np.arange(-1, 1.2, step=1))\n",
        "plt.ylim(-1.2, 1.2)\n",
        "plt.text(100, 0.5, 'T = {}'.format(t), horizontalalignment='center')\n",
        "plt.subplot(212)\n",
        "plt.plot(hy, color='k', linewidth=1)\n",
        "plt.ylabel('H$_y$', fontsize='14')\n",
        "plt.xlabel('FDTD cells')\n",
        "plt.xticks(np.arange(0, ke + 1, step=20))\n",
        "plt.xlim(0, 200)\n",
        "plt.yticks(np.arange(-1, 1.2, step=1))\n",
        "plt.ylim(-1.2, 1.2)\n",
        "plt.subplots_adjust(bottom=0.2, hspace=0.45)\n",
        "plt.show()"
      ],
      "execution_count": 36,
      "outputs": [
        {
          "output_type": "display_data",
          "data": {
            "image/png": "[encoded data removed]",
            "text/plain": [
              "<Figure size 576x576 with 2 Axes>"
            ]
          },
          "metadata": {
            "tags": [],
            "needs_background": "light"
          }
        }
      ]
    },
    {
      "cell_type": "code",
      "metadata": {
        "id": "FT2DkaToOjST",
        "outputId": "3a8bc691-158e-43b5-bed7-bb2cc694009e",
        "colab": {
          "base_uri": "https://localhost:8080/"
        }
      },
      "source": [
        "np.exp(-0.5 * ((t0)/spread)**2)/(spread * np.sqrt(2 * np.pi))"
      ],
      "execution_count": 37,
      "outputs": [
        {
          "output_type": "execute_result",
          "data": {
            "text/plain": [
              "0.03144860230774943"
            ]
          },
          "metadata": {
            "tags": []
          },
          "execution_count": 37
        }
      ]
    }
  ]
}