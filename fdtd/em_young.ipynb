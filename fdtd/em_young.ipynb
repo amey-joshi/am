{
 "cells": [
  {
   "cell_type": "code",
   "execution_count": 1,
   "metadata": {
    "id": "J9yGEd3GLIOf"
   },
   "outputs": [],
   "source": [
    "\"\"\" Young experiment simulation using fdtd\n",
    "TM simulation of a plane wave source impinging on a dielectric\n",
    "screen with two narrow slits\n",
    "\"\"\"\n",
    "import numpy as np\n",
    "from matplotlib import pyplot as plt\n",
    "# from mpl_toolkits.mplot3d.axes3d import Axes3D, get_test_data\n",
    "\n",
    "import matplotlib.patches as patches # Plot rectangles\n",
    "\n",
    "import glob\n",
    "from PIL import Image\n",
    "import re\n",
    "import os"
   ]
  },
  {
   "cell_type": "code",
   "execution_count": 2,
   "metadata": {
    "id": "ekk4HwsO9PWb"
   },
   "outputs": [],
   "source": [
    "# Physical parameters of the problem.\n",
    "c = 3e8           # The speed of light in vacuum.\n",
    "epsr = 1e4        # The relative dielectric permittivity of the screen.\n",
    "sigma = 0.3       # The conductivity of the screen.\n",
    "epsz = 8.854e-12  # Permittivity of free space in SI units."
   ]
  },
  {
   "cell_type": "code",
   "execution_count": 3,
   "metadata": {
    "id": "aqrRweif_xG3"
   },
   "outputs": [],
   "source": [
    "# Geometrical parameters of the problem. \n",
    "# The extent of the domain. **You can alter these parameters.**\n",
    "ie = 200 # vertical limit.\n",
    "je = 200 # horizontal limit.\n",
    "\n",
    "# The central points in either directions.\n",
    "ic = ie // 2 - 1\n",
    "jc = je // 2 - 1\n",
    "\n",
    "# The location of the perfectly matching layer.\n",
    "ia = 10           # starting vertical position after PML.\n",
    "ib = ie - ia - 1  # ending horizontal position before PML.\n",
    "ja = 10           # starting horizontal position after PML.\n",
    "jb = je - ja - 1  # ending horizontal position before PML.\n",
    "\n",
    "# Slit geometry. **You can alter these parameters.**\n",
    "slit_width = 8 # width of each slit (vertical measure).\n",
    "slit_sep = 20 # separation between both slits (vertical measure).\n",
    "screen_width = 8 # width of the screen (horizontal measure)."
   ]
  },
  {
   "cell_type": "code",
   "execution_count": 4,
   "metadata": {
    "id": "BsVnfOtR_RAH"
   },
   "outputs": [],
   "source": [
    "# The field vectors.\n",
    "ez = np.zeros((ie, je)) # electric field\n",
    "dz = np.zeros((ie, je)) # electric displacement\n",
    "hx = np.zeros((ie, je)) # magnetic field in x\n",
    "hy = np.zeros((ie, je)) # magnetic field in y\n",
    "iz = np.zeros((ie, je))\n",
    "ihx = np.zeros((ie, je))\n",
    "ihy = np.zeros((ie, je))\n",
    "\n",
    "ez_inc = np.zeros(je) # incident electric field\n",
    "hx_inc = np.zeros(je) # incident magnetic field in x"
   ]
  },
  {
   "cell_type": "code",
   "execution_count": 5,
   "metadata": {
    "id": "8Is32bhl_Toa"
   },
   "outputs": [],
   "source": [
    "# Simulation parameters and data.\n",
    "ddx = 0.01 # Cell size in m\n",
    "dt = ddx / 2*c\n",
    "gaz = np.ones((ie, je))\n",
    "gbz = np.zeros((ie, je))\n",
    "\n",
    "boundary_low = [0, 0]\n",
    "boundary_high = [0, 0]\n",
    "\n",
    "t0 = 10       # Time for which the source is generated. **You can alter this parameter.**\n",
    "nsteps = 500  # Number of time steps. **You can alter this parameter.**\n",
    "\n",
    "# Vectors used for PML.\n",
    "gi2 = np.ones(ie)\n",
    "gi3 = np.ones(ie)\n",
    "fi1 = np.zeros(ie)\n",
    "fi2 = np.ones(ie)\n",
    "fi3 = np.ones(ie)\n",
    "\n",
    "gj2 = np.ones(je)\n",
    "gj3 = np.ones(je)\n",
    "fj1 = np.zeros(je)\n",
    "fj2 = np.ones(je)\n",
    "fj3 = np.ones(je)\n",
    "\n",
    "# Dictionary to keep track of desired points for plotting.\n",
    "plotting_points = []\n",
    "for num_steps in range(1,nsteps+1):\n",
    "    plotting_points.append({'label': 'a', 'num_steps': num_steps, 'data_to_plot': None})"
   ]
  },
  {
   "cell_type": "code",
   "execution_count": 6,
   "metadata": {
    "id": "qOPEGCrPLIOq"
   },
   "outputs": [],
   "source": [
    "# Functions used in simulation.\n",
    "def build_dielectric_profile():\n",
    "  for j in range(ja, jb): # vertical range\n",
    "      for i in range(ia, ib): # horizontal range\n",
    "          if (\n",
    "              ((i > 0 and i < ic - slit_width/2-slit_sep/2) or \n",
    "              (i > ic - slit_sep/2 + slit_width/2 and i < ic + slit_sep/2 - slit_width/2) or \n",
    "              (i > ic + slit_width/2+slit_sep/2 and i < ie)) \n",
    "              and (j > jc-screen_width/2 and j < jc+screen_width/2)\n",
    "              ): # If position is inside the dielectric\n",
    "                  \n",
    "              gaz[i, j] = 1 / (epsr + (sigma * dt / epsz))\n",
    "              gbz[i, j] = (sigma * dt / epsz)\n",
    "            \n",
    "def create_pml():\n",
    "  npml = ia + 1 # number of points for the PML\n",
    "  for n in range(npml):\n",
    "      xnum = npml - n\n",
    "      xd = npml\n",
    "      xxn = xnum / xd\n",
    "      xn = 0.33 * xxn ** 3\n",
    "      \n",
    "      gi2[n] = 1 / (1 + xn)\n",
    "      gi2[ie - 1 - n] = 1 / (1 + xn)\n",
    "      gi3[n] = (1 - xn) / (1 + xn)\n",
    "      gi3[ie - 1 - n] = (1 - xn) / (1 + xn)\n",
    "      \n",
    "      gj2[n] = 1 / (1 + xn)\n",
    "      gj2[je - 1 - n] = 1 / (1 + xn)\n",
    "      gj3[n] = (1 - xn) / (1 + xn)\n",
    "      gj3[je - 1 - n] = (1 - xn) / (1 + xn)\n",
    "      \n",
    "      xxn = (xnum - 0.5) / xd\n",
    "      xn = 0.33 * xxn ** 3\n",
    "      \n",
    "      fi1[n] = xn\n",
    "      fi1[ie - 2 - n] = xn\n",
    "      fi2[n] = 1 / (1 + xn)\n",
    "      fi2[ie - 2 - n] = 1 / (1 + xn)\n",
    "      fi3[n] = (1 - xn) / (1 + xn)\n",
    "      fi3[ie - 2 - n] = (1 - xn) / (1 + xn)\n",
    "      \n",
    "      fj1[n] = xn\n",
    "      fj1[je - 2 - n] = xn\n",
    "      fj2[n] = 1 / (1 + xn)\n",
    "      fj2[je - 2 - n] = 1 / (1 + xn)\n",
    "      fj3[n] = (1 - xn) / (1 + xn)\n",
    "      fj3[je - 2 - n] = (1 - xn) / (1 + xn)\n",
    "\n",
    "def compute_fields(time_step): \n",
    "  # Print progress.\n",
    "  if time_step%10 == 0: \n",
    "      print(\"\\r\",100*time_step/nsteps,'%', end=\"\") \n",
    "  \n",
    "  for j in range(1, je):\n",
    "      ez_inc[j] = ez_inc[j] + 0.5 * (hx_inc[j - 1] - hx_inc[j])\n",
    "              \n",
    "  # Absorbing Boundary Conditions\n",
    "  ez_inc[0] = boundary_low.pop(0)\n",
    "  boundary_low.append(ez_inc[1])  \n",
    "  ez_inc[je - 1] = boundary_high.pop(0)\n",
    "  boundary_high.append(ez_inc[je - 2])\n",
    "    \n",
    "  for j in range(1, je):\n",
    "      for i in range(1, ie):\n",
    "          dz[i, j] = gi3[i] * gj3[j] * dz[i, j] + \\\n",
    "                      gi2[i] * gj2[j] * 0.5 * \\\n",
    "                      (hy[i, j] - hy[i - 1, j] -\n",
    "                      hx[i, j] + hx[i, j - 1])\n",
    "\n",
    "  # Source of electromagnetic waves.\n",
    "  ez_inc[1] = (np.sin(2*np.pi*time_step/(2*t0)))**2\n",
    "  \n",
    "  for i in range(ia, ib + 1):\n",
    "      dz[i, ja] = dz[i, ja] + 0.5 * hx_inc[ja - 1]\n",
    "      dz[i, jb] = dz[i, jb] - 0.5 * hx_inc[jb]\n",
    "      \n",
    "  for j in range(0, je):\n",
    "      for i in range(0, ie):\n",
    "          ez[i, j] = gaz[i, j] * (dz[i, j] - iz[i, j])\n",
    "          iz[i, j] = iz[i, j] + gbz[i, j] * ez[i, j]\n",
    "                  \n",
    "  for j in range(0, je - 1):\n",
    "      hx_inc[j] = hx_inc[j] + 0.5 * (ez_inc[j] - ez_inc[j + 1])\n",
    "      \n",
    "  for j in range(0, je - 1):\n",
    "      for i in range(0, ie - 1):\n",
    "          curl_e = ez[i, j] - ez[i, j + 1]\n",
    "          ihx[i, j] = ihx[i, j] + curl_e\n",
    "          hx[i, j] = fj3[j] * hx[i, j] + fj2[j] * \\\n",
    "                      (0.5 * curl_e + fi1[i] * ihx[i, j])\n",
    "              \n",
    "  for i in range(ia, ib + 1):\n",
    "      hx[i, ja - 1] = hx[i, ja - 1] + 0.5 * ez_inc[ja]\n",
    "      hx[i, jb] = hx[i, jb] - 0.5 * ez_inc[jb]\n",
    "      \n",
    "  for j in range(0, je):\n",
    "      for i in range(0, ie - 1):\n",
    "          curl_e = ez[i, j] - ez[i + 1, j]\n",
    "          ihy[i, j] = ihy[i, j] + curl_e\n",
    "          hy[i, j] = fi3[i] * hy[i, j] - fi2[i] * \\\n",
    "                      (0.5 * curl_e + fj1[j] * ihy[i, j])\n",
    "  \n",
    "  for j in range(ja, jb + 1):\n",
    "      hy[ia - 1, j] = hy[ia - 1, j] - 0.5 * ez_inc[j]\n",
    "      hy[ib, j] = hy[ib, j] + 0.5 * ez_inc[j]\n",
    "      \n",
    "  # Save data at certain points for later plotting\n",
    "  for plotting_point in plotting_points:\n",
    "      if time_step == plotting_point['num_steps']:\n",
    "          plotting_point['data_to_plot'] = np.copy(ez)\n",
    "\n"
   ]
  },
  {
   "cell_type": "code",
   "execution_count": 7,
   "metadata": {
    "colab": {
     "base_uri": "https://localhost:8080/"
    },
    "id": "i9_3AWO8CZ3a",
    "outputId": "eb7ad8a8-2887-47b2-8167-d5572bb0d3a4"
   },
   "outputs": [
    {
     "name": "stdout",
     "output_type": "stream",
     "text": [
      "Starting FDTD...\n",
      " 100.0 %"
     ]
    }
   ],
   "source": [
    "# The main simulation.\n",
    "build_dielectric_profile()\n",
    "create_pml()\n",
    "\n",
    "print('Starting FDTD...')\n",
    "for time_step in range(1, nsteps + 1):\n",
    "  compute_fields(time_step)"
   ]
  },
  {
   "cell_type": "code",
   "execution_count": 13,
   "metadata": {
    "colab": {
     "base_uri": "https://localhost:8080/"
    },
    "id": "ayLk4mc9LIO0",
    "outputId": "e9ad3b6e-ca03-4093-a213-a6012646c7bf"
   },
   "outputs": [
    {
     "name": "stdout",
     "output_type": "stream",
     "text": [
      "Creating folder \"figs\". Saving images inside it...\n",
      "Starting to save images to make gif...\n",
      " 98.0 %"
     ]
    }
   ],
   "source": [
    "'''\n",
    "This cell saves the images of the data collected\n",
    "'''\n",
    "# filepaths\n",
    "if not os.path.exists('figs'):\n",
    "    print('Folder \"figs\" already exists. Saving/replacing images inside it...')\n",
    "    os.makedirs('figs')    \n",
    "else:\n",
    "    print('Creating folder \"figs\". Saving images inside it...')\n",
    "    \n",
    "pwd = os.getcwd()\n",
    "os.chdir('figs')    \n",
    "    \n",
    "plt.rcParams['font.size'] = 12\n",
    "plt.rcParams['grid.color'] = 'gray'\n",
    "plt.rcParams['grid.linestyle'] = 'dotted'\n",
    "\n",
    "print('Starting to save images to make gif...')\n",
    "for subplot_num, plotting_point in enumerate(plotting_points):\n",
    "    if subplot_num%10 == 0:\n",
    "        print(\"\\r\",100*subplot_num/nsteps,'%', end=\"\")\n",
    "        \n",
    "    fig = plt.figure()\n",
    "    ax = fig.add_subplot(1, 1, 1)\n",
    "    \n",
    "    # Plot the dielectric in white color\n",
    "    rect1 = patches.Rectangle((jc-screen_width/2,0),screen_width,ic-slit_sep/2-slit_width/2,linewidth=1,edgecolor='#ffffff',facecolor='#ffffff')\n",
    "    rect2 = patches.Rectangle((jc-screen_width/2,ic-slit_sep/2+slit_width/2),screen_width,slit_sep-slit_width,linewidth=1,edgecolor='#ffffff',facecolor='#ffffff')\n",
    "    rect3 = patches.Rectangle((jc-screen_width/2,ic+slit_sep/2+slit_width/2),screen_width,ic-slit_sep/2-slit_width/2,linewidth=1,edgecolor='#ffffff',facecolor='#ffffff')\n",
    "    ax.add_patch(rect1)\n",
    "    ax.add_patch(rect2)\n",
    "    ax.add_patch(rect3)\n",
    "\n",
    "    plt.imshow(plotting_point['data_to_plot'], interpolation='bilinear', cmap='gist_heat')\n",
    "    plt.savefig('figs_%s.png'%str(subplot_num+1))\n",
    "    plt.close()\n",
    "    \n",
    "os.chdir(pwd)"
   ]
  },
  {
   "cell_type": "code",
   "execution_count": 15,
   "metadata": {
    "colab": {
     "base_uri": "https://localhost:8080/"
    },
    "id": "GhuteryVLIO8",
    "outputId": "f4b64010-1480-477a-cc3e-0c5b18ed2cd0"
   },
   "outputs": [],
   "source": [
    "'''\n",
    "This cell makes a gif using the images obtained\n",
    "First it transforms the images names to integers in order to sort them\n",
    "'''\n",
    "def tryint(s):\n",
    "    try:\n",
    "        return int(s)\n",
    "    except:\n",
    "        return s\n",
    "\n",
    "def alphanum_key(s):\n",
    "    \"\"\" Turn a string into a list of string and number chunks.\n",
    "        \"z23a\" -> [\"z\", 23, \"a\"]\n",
    "    \"\"\"\n",
    "    return [ tryint(c) for c in re.split('([0-9]+)', s) ]\n",
    "\n",
    "def sort_nicely(l):\n",
    "    \"\"\" Sort the given list in the way that humans expect.\n",
    "    \"\"\"\n",
    "    l.sort(key=alphanum_key)\n",
    "    return l\n",
    "    \n",
    "fp_in = \"figs_*.png\"\n",
    "fp_out = \"YoungMovie.gif\"\n",
    "\n",
    "pwd = os.getcwd()\n",
    "os.chdir('figs')    \n",
    "\n",
    "img, *imgs = [Image.open(f) for f in sort_nicely(glob.glob(fp_in))]\n",
    "img.save(fp=fp_out, format='GIF', append_images=imgs,\n",
    "         save_all=True, duration=20, loop=0, optimize=True) # duration: time of each frame in miliseconds\n",
    "\n",
    "os.chdir(pwd)"
   ]
  },
  {
   "cell_type": "code",
   "execution_count": 16,
   "metadata": {
    "colab": {
     "base_uri": "https://localhost:8080/",
     "height": 267
    },
    "id": "X3kVmFT-LIPE",
    "outputId": "8ed29a01-7831-40e9-9b4b-e930f9d1c955"
   },
   "outputs": [
    {
     "data": {
      "image/png": "[encoded data removed]",
      "text/plain": [
       "<Figure size 432x288 with 1 Axes>"
      ]
     },
     "metadata": {
      "needs_background": "light"
     },
     "output_type": "display_data"
    }
   ],
   "source": [
    "'''\n",
    "This cell computes the averaged (total) electric field after the slits\n",
    "'''\n",
    "\n",
    "x = []\n",
    "x1 = 40 # Starting vertical position\n",
    "x2 = 160 # Final vertical position\n",
    "\n",
    "# Construct array with x values, along vertical position from x1 to x2\n",
    "for i in range(x1, x2):\n",
    "    x.append(i)\n",
    "    \n",
    "# Here we compute an averaged field over two times t1 and t2\n",
    "average = 0\n",
    "t1 = nsteps - 100\n",
    "t2 = nsteps - 1\n",
    "y_measure = 150 # Horizontal position where the filed is to be measured\n",
    "\n",
    "for i in range(t1, t2):\n",
    "    average += abs(plotting_points[i]['data_to_plot'][x1:x2, y_measure])\n",
    "\n",
    "# Plot the averaged field\n",
    "ignore = plt.plot(x, average/(t2-t1))"
   ]
  },
  {
   "cell_type": "code",
   "execution_count": null,
   "metadata": {},
   "outputs": [],
   "source": []
  }
 ],
 "metadata": {
  "colab": {
   "name": "em-young.ipynb",
   "provenance": []
  },
  "kernelspec": {
   "display_name": "Python 3",
   "language": "python",
   "name": "python3"
  },
  "language_info": {
   "codemirror_mode": {
    "name": "ipython",
    "version": 3
   },
   "file_extension": ".py",
   "mimetype": "text/x-python",
   "name": "python",
   "nbconvert_exporter": "python",
   "pygments_lexer": "ipython3",
   "version": "3.8.6"
  }
 },
 "nbformat": 4,
 "nbformat_minor": 1
}
