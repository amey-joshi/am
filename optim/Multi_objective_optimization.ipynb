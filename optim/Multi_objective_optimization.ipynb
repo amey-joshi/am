{
  "nbformat": 4,
  "nbformat_minor": 0,
  "metadata": {
    "colab": {
      "name": "Multi-objective-optimization.ipynb",
      "provenance": [],
      "collapsed_sections": [
        "vRqufm0kTS-D"
      ],
      "authorship_tag": "ABX9TyP5QNbbSLTvmUYXCo+klRt8",
      "include_colab_link": true
    },
    "kernelspec": {
      "name": "python3",
      "display_name": "Python 3"
    }
  },
  "cells": [
    {
      "cell_type": "markdown",
      "metadata": {
        "id": "view-in-github",
        "colab_type": "text"
      },
      "source": [
        "<a href=\"https://colab.research.google.com/github/amey-joshi/am/blob/master/optim/Multi_objective_optimization.ipynb\" target=\"_parent\"><img src=\"https://colab.research.google.com/assets/colab-badge.svg\" alt=\"Open In Colab\"/></a>"
      ]
    },
    {
      "cell_type": "code",
      "metadata": {
        "id": "lWeNDqW-e8pf"
      },
      "source": [
        "import numpy as np\n",
        "import pandas as pd\n",
        "import cvxpy as cp\n",
        "\n",
        "from sklearn.preprocessing import StandardScaler\n",
        "from scipy import optimize"
      ],
      "execution_count": 1,
      "outputs": []
    },
    {
      "cell_type": "markdown",
      "metadata": {
        "id": "S3VBxr1ITM4X"
      },
      "source": [
        "# Generate simulated data"
      ]
    },
    {
      "cell_type": "markdown",
      "metadata": {
        "id": "ogWmEU6HSIoD"
      },
      "source": [
        "We simulate data assuming that all the variables are normally distributed. The mean and the standard deviations of the variables are assumed to take the values in the variables <code>xmeans</code> and <code>xstds</code>."
      ]
    },
    {
      "cell_type": "code",
      "metadata": {
        "id": "6QEvZGPbfNAS"
      },
      "source": [
        "n_obs = 1160 # Number of observations\n",
        "xmeans = [0.15, 130.84, 85.73, 1046.68, 320.59]\n",
        "xstds  = [0.014, 14.29, 8.79, 114.32, 25.43]\n",
        "\n",
        "np.random.seed(11112020)\n",
        "x1 = np.random.normal(xmeans[0], xstds[0], n_obs)\n",
        "x2 = np.random.normal(xmeans[1], xstds[1], n_obs)\n",
        "x3 = np.random.normal(xmeans[2], xstds[2], n_obs)\n",
        "x4 = np.random.normal(xmeans[3], xstds[3], n_obs)\n",
        "x5 = np.random.normal(xmeans[4], xstds[4], n_obs)\n",
        "\n",
        "ymeans = [282.38, 107.12, 0.01, 0.38, 1.31]\n",
        "ystds  = [27.21, 23.57, 0.006, 0.07, 0.09]\n",
        "\n",
        "y1 = np.random.normal(ymeans[0], ystds[0], n_obs)\n",
        "y2 = np.random.normal(ymeans[1], ystds[1], n_obs)\n",
        "y3 = np.random.normal(ymeans[2], ystds[2], n_obs)\n",
        "y4 = np.random.normal(ymeans[3], ystds[3], n_obs)\n",
        "y5 = np.random.normal(ymeans[4], ystds[4], n_obs)\n",
        "\n",
        "data = pd.DataFrame({'x1': x1, 'x2': x2, 'x3': x3, 'x4': x4, 'x5': x5,\n",
        "                     'y1': y1, 'y2': y2, 'y3': y3, 'y4': y4, 'y5': y5,})"
      ],
      "execution_count": 2,
      "outputs": []
    },
    {
      "cell_type": "markdown",
      "metadata": {
        "id": "KQJ6XcERexnO"
      },
      "source": [
        "In the sections to follow, we will predict $y_i$ as functions of $x_1, \\ldots, x_5$ assuming a variety of functional forms of the dependency. We will start with the linear function and then try a few non-linear ones."
      ]
    },
    {
      "cell_type": "markdown",
      "metadata": {
        "id": "2_IdGy1bYGnT"
      },
      "source": [
        "# Common functions"
      ]
    },
    {
      "cell_type": "code",
      "metadata": {
        "id": "is8lGu_icNOb"
      },
      "source": [
        "def compute_error_orig(X, Y, beta, scaler, X1 = None):\n",
        "  \"\"\" Compute the error between unscaled variables. \n",
        "  \n",
        "  Some times, we run a model on scaled variables. In that case, we apply the\n",
        "  inverse transform on the results and compare them with the original data.\n",
        "  \"\"\"\n",
        "  if X1 is None:\n",
        "    Y_hat = cp.matmul(X, beta)\n",
        "  else:\n",
        "    Y_hat = cp.matmul(X1, beta)\n",
        "\n",
        "  Z = np.concatenate((X, Y_hat.value), axis=1)\n",
        "  results = pd.DataFrame(data = scaler.inverse_transform(Z))\n",
        "  results.columns = ['x1', 'x2', 'x3', 'x4', 'x5', 'y1', 'y2', 'y3', 'y4', 'y5']\n",
        "  error = (data - results)**2\n",
        "  total_errors = error.sum().to_numpy()[5:]\n",
        "  rms_error = np.sqrt(total_errors)/n_obs\n",
        "  print(rms_error)\n",
        "\n",
        "  return rms_error"
      ],
      "execution_count": 3,
      "outputs": []
    },
    {
      "cell_type": "code",
      "metadata": {
        "id": "XB_cf2glYZfc"
      },
      "source": [
        "def compute_error(X, Y, beta):\n",
        "  \"\"\"\n",
        "  Compute error between predicted and actual response. \n",
        "  \"\"\"\n",
        "  Y_hat = cp.matmul(X, beta)\n",
        "  error = Y - Y_hat\n",
        "  error_sq = np.square(error.value)\n",
        "  sse = np.sum(error_sq, axis=0)\n",
        "  rms = np.sqrt(sse)/n_obs\n",
        "  print(f'Total sum of squares of error: {sse}')\n",
        "  print(f'Root mean square of error: {rms}')\n",
        "\n",
        "  return rms"
      ],
      "execution_count": 4,
      "outputs": []
    },
    {
      "cell_type": "code",
      "metadata": {
        "id": "FOF-M1pzalWM"
      },
      "source": [
        "def print_status(prob, beta):\n",
        "  \"\"\" Prints the status of the optimizer. \"\"\"\n",
        "  print(f'Problem status: {prob.status}')\n",
        "  print(f'Optimal value: {prob.value}')\n",
        "  print('Beta values:')\n",
        "  print(beta.value)"
      ],
      "execution_count": 5,
      "outputs": []
    },
    {
      "cell_type": "markdown",
      "metadata": {
        "id": "M-paZGLbmxhP"
      },
      "source": [
        "This data frame will store the RMS errors of each model."
      ]
    },
    {
      "cell_type": "code",
      "metadata": {
        "id": "TEVxI1pTk2cN"
      },
      "source": [
        "column_names = ['model_name', 'err_y1', 'err_y2', 'err_y3', 'err_y4', 'err_y5']\n",
        "model_summary = pd.DataFrame(columns=column_names)"
      ],
      "execution_count": 6,
      "outputs": []
    },
    {
      "cell_type": "markdown",
      "metadata": {
        "id": "vRqufm0kTS-D"
      },
      "source": [
        "# Linear model - 1"
      ]
    },
    {
      "cell_type": "markdown",
      "metadata": {
        "id": "pv6_gsbwfK2m"
      },
      "source": [
        "We are fitting the model:\n",
        "\n",
        "\\begin{eqnarray}\n",
        "y_1 &=& \\beta_{11}x_1 + \\beta_{12}x_2 + \\beta_{13}x_3 + \\beta_{14}x_4 + \\beta_{15}x_5 \\\\\n",
        "y_2 &=& \\beta_{21}x_1 + \\beta_{22}x_2 + \\beta_{23}x_3 + \\beta_{24}x_4 + \\beta_{25}x_5 \\\\\n",
        "y_3 &=& \\beta_{31}x_1 + \\beta_{32}x_2 + \\beta_{33}x_3 + \\beta_{34}x_4 + \\beta_{35}x_5 \\\\\n",
        "y_4 &=& \\beta_{41}x_1 + \\beta_{42}x_2 + \\beta_{43}x_3 + \\beta_{44}x_4 + \\beta_{45}x_5 \\\\\n",
        "y_5 &=& \\beta_{51}x_1 + \\beta_{52}x_2 + \\beta_{53}x_3 + \\beta_{54}x_4 + \\beta_{55}x_5\n",
        "\\end{eqnarray}"
      ]
    },
    {
      "cell_type": "markdown",
      "metadata": {
        "id": "RDE6_L4ySh3g"
      },
      "source": [
        "Optimizers work best when the variables are scaled. We use the scikit-learn scaler to transform our data. "
      ]
    },
    {
      "cell_type": "code",
      "metadata": {
        "id": "cDIRVWSFfZMu"
      },
      "source": [
        "scaler = StandardScaler()\n",
        "scaler.fit(data)\n",
        "scaled_data = scaler.transform(data)"
      ],
      "execution_count": 7,
      "outputs": []
    },
    {
      "cell_type": "markdown",
      "metadata": {
        "id": "Bo8YMe0cSte_"
      },
      "source": [
        "We segregate the preditors into the matrix <code>X</code> and the responses into the matrix <code>Y</code>."
      ]
    },
    {
      "cell_type": "code",
      "metadata": {
        "id": "VFEctLsVgAm0"
      },
      "source": [
        "X = scaled_data[:, 0:5]\n",
        "Y = scaled_data[:, 5:10]"
      ],
      "execution_count": 8,
      "outputs": []
    },
    {
      "cell_type": "markdown",
      "metadata": {
        "id": "6tRpf1zxS84K"
      },
      "source": [
        "We now build a linear model and run it. The variable <code>beta</code> has the coeffifients of the linear model.\n",
        "\n",
        "**This step can take a few minutes.**"
      ]
    },
    {
      "cell_type": "code",
      "metadata": {
        "id": "rYzbOr6vgc3k",
        "outputId": "311a6404-9886-4fb3-9a05-678bf83951a3",
        "colab": {
          "base_uri": "https://localhost:8080/"
        }
      },
      "source": [
        "beta = cp.Variable((5, 5))\n",
        "obj = cp.Minimize(cp.norm(Y - cp.matmul(X, beta)))\n",
        "prob = cp.Problem(obj)\n",
        "prob.solve()"
      ],
      "execution_count": null,
      "outputs": [
        {
          "output_type": "execute_result",
          "data": {
            "text/plain": [
              "35.5324071011577"
            ]
          },
          "metadata": {
            "tags": []
          },
          "execution_count": 146
        }
      ]
    },
    {
      "cell_type": "code",
      "metadata": {
        "id": "TLXvZLq7kMLW",
        "outputId": "409eac4e-f657-4494-cd1c-284a162a021f",
        "colab": {
          "base_uri": "https://localhost:8080/"
        }
      },
      "source": [
        "print_status(prob, beta)"
      ],
      "execution_count": null,
      "outputs": [
        {
          "output_type": "stream",
          "text": [
            "Problem status: optimal\n",
            "Optimal value: 35.5324071011577\n",
            "Beta values:\n",
            "[[ 0.0109488   0.02589171 -0.0442837   0.02470366 -0.02229602]\n",
            " [ 0.00994741 -0.03560378  0.02444012  0.01066956  0.0111661 ]\n",
            " [-0.0201376   0.02608267  0.02757303 -0.00720288  0.03756629]\n",
            " [ 0.03318335 -0.01143796 -0.01100121  0.02615937 -0.05206846]\n",
            " [ 0.03577049 -0.04468985  0.01498306 -0.02103517 -0.02175626]]\n"
          ],
          "name": "stdout"
        }
      ]
    },
    {
      "cell_type": "code",
      "metadata": {
        "id": "jlb_Yea70llf"
      },
      "source": [
        "Y_hat = cp,matmul(X, beta) # Estimates of Y"
      ],
      "execution_count": null,
      "outputs": []
    },
    {
      "cell_type": "code",
      "metadata": {
        "id": "3KGgZuRGbKbW",
        "outputId": "7cdcda10-0040-406e-c6de-ccbcbcdce1fe",
        "colab": {
          "base_uri": "https://localhost:8080/"
        }
      },
      "source": [
        "compute_error(X, Y, beta)"
      ],
      "execution_count": null,
      "outputs": [
        {
          "output_type": "stream",
          "text": [
            "Total sum of squares of error: [1156.61287274 1154.53861065 1155.74789072 1157.75610247 1154.04109214]\n",
            "Root mean square of error: [0.02931811 0.02929181 0.02930715 0.0293326  0.0292855 ]\n"
          ],
          "name": "stdout"
        },
        {
          "output_type": "execute_result",
          "data": {
            "text/plain": [
              "array([0.02931811, 0.02929181, 0.02930715, 0.0293326 , 0.0292855 ])"
            ]
          },
          "metadata": {
            "tags": []
          },
          "execution_count": 148
        }
      ]
    },
    {
      "cell_type": "code",
      "metadata": {
        "id": "wTTFgcOucltM",
        "outputId": "fae1a64c-0d30-42c1-d77c-f60d27954070",
        "colab": {
          "base_uri": "https://localhost:8080/"
        }
      },
      "source": [
        "errors = compute_error_orig(X, Y, beta, scaler)"
      ],
      "execution_count": null,
      "outputs": [
        {
          "output_type": "stream",
          "text": [
            "[7.88313341e-01 6.92319500e-01 1.75097276e-04 2.01302848e-03\n",
            " 2.63304027e-03]\n"
          ],
          "name": "stdout"
        }
      ]
    },
    {
      "cell_type": "code",
      "metadata": {
        "id": "p_5NgpsKmea2"
      },
      "source": [
        "model_summary = model_summary.append({'model_name': 'Linear model - 1', 'err_y1': errors[0], 'err_y2': errors[1], 'err_y3': errors[2], 'err_y4': errors[3], 'err_y5': errors[4]}, ignore_index=True)"
      ],
      "execution_count": null,
      "outputs": []
    },
    {
      "cell_type": "markdown",
      "metadata": {
        "id": "A1KkgB0cg2pR"
      },
      "source": [
        "# Linear model - 2\n",
        "We will fit a linear model with an intercept.\n",
        "\n",
        "\\begin{eqnarray}\n",
        "y_1 &=& \\beta_{11}x_1 + \\beta_{12}x_2 + \\beta_{13}x_3 + \\beta_{14}x_4 + \\beta_{15}x_5 + \\beta_{10}\\\\\n",
        "y_2 &=& \\beta_{21}x_1 + \\beta_{22}x_2 + \\beta_{23}x_3 + \\beta_{24}x_4 + \\beta_{25}x_5 + \\beta_{20} \\\\\n",
        "y_3 &=& \\beta_{31}x_1 + \\beta_{32}x_2 + \\beta_{33}x_3 + \\beta_{34}x_4 + \\beta_{35}x_5 + \\beta_{30} \\\\\n",
        "y_4 &=& \\beta_{41}x_1 + \\beta_{42}x_2 + \\beta_{43}x_3 + \\beta_{44}x_4 + \\beta_{45}x_5 + \\beta_{40} \\\\\n",
        "y_5 &=& \\beta_{51}x_1 + \\beta_{52}x_2 + \\beta_{53}x_3 + \\beta_{54}x_4 + \\beta_{55}x_5 + \\beta_{50}\n",
        "\\end{eqnarray}"
      ]
    },
    {
      "cell_type": "code",
      "metadata": {
        "id": "DNgVNdIshPrQ",
        "outputId": "f05c5a90-6f68-4d24-ad4d-fef3e537c73e",
        "colab": {
          "base_uri": "https://localhost:8080/"
        }
      },
      "source": [
        "X1 = np.hstack((X, np.ones((n_obs, 1))))\n",
        "beta = cp.Variable((6, 5))\n",
        "obj = cp.Minimize(cp.norm(Y - cp.matmul(X1, beta)))\n",
        "prob = cp.Problem(obj)\n",
        "prob.solve()"
      ],
      "execution_count": null,
      "outputs": [
        {
          "output_type": "execute_result",
          "data": {
            "text/plain": [
              "35.535277027584655"
            ]
          },
          "metadata": {
            "tags": []
          },
          "execution_count": 151
        }
      ]
    },
    {
      "cell_type": "code",
      "metadata": {
        "id": "_ZfO4ADUiErs",
        "outputId": "4da3a2d3-836f-4ec9-b0bc-332f17be3d54",
        "colab": {
          "base_uri": "https://localhost:8080/"
        }
      },
      "source": [
        "print_status(prob, beta)"
      ],
      "execution_count": null,
      "outputs": [
        {
          "output_type": "stream",
          "text": [
            "Problem status: optimal\n",
            "Optimal value: 35.535277027584655\n",
            "Beta values:\n",
            "[[ 1.09397889e-02  2.59220080e-02 -4.43067351e-02  2.48319614e-02\n",
            "  -2.21265280e-02]\n",
            " [ 1.00519081e-02 -3.56046136e-02  2.47613889e-02  1.09339153e-02\n",
            "   1.12205095e-02]\n",
            " [-2.02438936e-02  2.62953456e-02  2.76433063e-02 -7.35515989e-03\n",
            "   3.72673410e-02]\n",
            " [ 3.30284669e-02 -1.12285498e-02 -1.08815323e-02  2.60963434e-02\n",
            "  -5.23252671e-02]\n",
            " [ 3.59263790e-02 -4.47787525e-02  1.50764993e-02 -2.11889100e-02\n",
            "  -2.19615602e-02]\n",
            " [ 9.43465094e-05  6.67892246e-06  1.90589107e-04  1.46015662e-04\n",
            "   3.20768804e-05]]\n"
          ],
          "name": "stdout"
        }
      ]
    },
    {
      "cell_type": "code",
      "metadata": {
        "id": "AuMzDWvX0jb6"
      },
      "source": [
        "Y_hat = cp,matmul(X1, beta) # Estimates of Y"
      ],
      "execution_count": null,
      "outputs": []
    },
    {
      "cell_type": "code",
      "metadata": {
        "id": "jArztsiIiIHq",
        "outputId": "678a337b-312c-454c-8384-29400e4daed5",
        "colab": {
          "base_uri": "https://localhost:8080/"
        }
      },
      "source": [
        "compute_error(X1, Y, beta)"
      ],
      "execution_count": null,
      "outputs": [
        {
          "output_type": "stream",
          "text": [
            "Total sum of squares of error: [1156.61297354 1154.53873561 1155.74810773 1157.75627625 1154.04137772]\n",
            "Root mean square of error: [0.02931811 0.02929181 0.02930715 0.0293326  0.0292855 ]\n"
          ],
          "name": "stdout"
        },
        {
          "output_type": "execute_result",
          "data": {
            "text/plain": [
              "array([0.02931811, 0.02929181, 0.02930715, 0.0293326 , 0.0292855 ])"
            ]
          },
          "metadata": {
            "tags": []
          },
          "execution_count": 153
        }
      ]
    },
    {
      "cell_type": "code",
      "metadata": {
        "id": "I2gbXOi-iL-m",
        "outputId": "7cf855a4-441c-4239-e66d-91893b819339",
        "colab": {
          "base_uri": "https://localhost:8080/"
        }
      },
      "source": [
        "errors = compute_error_orig(X, Y, beta, scaler, X1)"
      ],
      "execution_count": null,
      "outputs": [
        {
          "output_type": "stream",
          "text": [
            "[7.88313375e-01 6.92319537e-01 1.75097293e-04 2.01302863e-03\n",
            " 2.63304059e-03]\n"
          ],
          "name": "stdout"
        }
      ]
    },
    {
      "cell_type": "code",
      "metadata": {
        "id": "Nm3STmr1lcfC"
      },
      "source": [
        "model_summary = model_summary.append({'model_name': 'Linear model - 2', 'err_y1': errors[0], 'err_y2': errors[1], 'err_y3': errors[2], 'err_y4': errors[3], 'err_y5': errors[4]}, ignore_index=True)"
      ],
      "execution_count": null,
      "outputs": []
    },
    {
      "cell_type": "markdown",
      "metadata": {
        "id": "yWz70uWnTjnb"
      },
      "source": [
        "# Nonlinear model - 1"
      ]
    },
    {
      "cell_type": "markdown",
      "metadata": {
        "id": "hym-UC4fU1ZV"
      },
      "source": [
        "We fit the model:\n",
        "\n",
        "\\begin{eqnarray}\n",
        "\\ln y_1 &=& \\beta_{11}x_1 + \\beta_{12}\\ln x_2 + \\beta_{13}\\ln x_3 + \\beta_{14}\\ln x_4 + \\beta_{15}\\ln x_5 \\\\\n",
        "\\ln y_2 &=& \\beta_{21}x_1 + \\beta_{22}\\ln x_2 + \\beta_{23}\\ln x_3 + \\beta_{24}\\ln x_4 + \\beta_{25}\\ln x_5 \\\\\n",
        "y_3 &=& \\beta_{31}x_1 + \\beta_{32}\\ln x_2 + \\beta_{33}\\ln x_3 + \\beta_{34}\\ln x_4 + \\beta_{35}\\ln x_5 \\\\\n",
        "y_4 &=& \\beta_{41}x_1 + \\beta_{42}\\ln x_2 + \\beta_{43}\\ln x_3 + \\beta_{44}\\ln x_4 + \\beta_{45}\\ln x_5 \\\\\n",
        "y_5 &=& \\beta_{51}x_1 + \\beta_{52}\\ln x_2 + \\beta_{53}\\ln x_3 + \\beta_{54}\\ln x_4 + \\beta_{55}\\ln x_5 \\\\\n",
        "\\end{eqnarray}"
      ]
    },
    {
      "cell_type": "code",
      "metadata": {
        "id": "aTF-0uUgUPUe"
      },
      "source": [
        "data_nm1 = data.copy()\n",
        "\n",
        "data_nm1['x2'] = np.log(data_nm1['x2'])\n",
        "data_nm1['x3'] = np.log(data_nm1['x3'])\n",
        "data_nm1['x4'] = np.log(data_nm1['x4'])\n",
        "data_nm1['x5'] = np.log(data_nm1['x5'])\n",
        "\n",
        "data_nm1['y1'] = np.log(data_nm1['y1'])\n",
        "data_nm1['y2'] = np.log(data_nm1['y2'])"
      ],
      "execution_count": null,
      "outputs": []
    },
    {
      "cell_type": "markdown",
      "metadata": {
        "id": "sSlOYgwmZE_v"
      },
      "source": [
        "**This step can take a long time.**"
      ]
    },
    {
      "cell_type": "code",
      "metadata": {
        "id": "4ojgJK_4V4Fb",
        "outputId": "78760654-0c75-4bdf-fbdc-88f8d4882a97",
        "colab": {
          "base_uri": "https://localhost:8080/"
        }
      },
      "source": [
        "X = data_nm1[['x1', 'x2', 'x3', 'x4', 'x5']].to_numpy(copy=True)\n",
        "Y = data_nm1[['y1', 'y2', 'y3', 'y4', 'y5']].to_numpy(copy=True)\n",
        "beta = cp.Variable((5, 5))\n",
        "obj = cp.Minimize(cp.norm(Y - cp.matmul(X, beta)))\n",
        "prob = cp.Problem(obj)\n",
        "prob.solve()"
      ],
      "execution_count": null,
      "outputs": [
        {
          "output_type": "execute_result",
          "data": {
            "text/plain": [
              "8.305100187417185"
            ]
          },
          "metadata": {
            "tags": []
          },
          "execution_count": 157
        }
      ]
    },
    {
      "cell_type": "code",
      "metadata": {
        "id": "3zR0FZ3Za-q_",
        "outputId": "37bd424e-3583-4d7c-ca57-10c44fe5ba89",
        "colab": {
          "base_uri": "https://localhost:8080/"
        }
      },
      "source": [
        "print_status(prob, beta)"
      ],
      "execution_count": null,
      "outputs": [
        {
          "output_type": "stream",
          "text": [
            "Problem status: optimal\n",
            "Optimal value: 8.305100187417185\n",
            "Beta values:\n",
            "[[ 4.24407642e-01  9.19228230e-01 -1.83308583e-02  1.39424365e-01\n",
            "  -4.27318804e-02]\n",
            " [ 1.79095648e-01  8.50325176e-02  1.39617787e-03  1.83790729e-02\n",
            "   5.97255814e-02]\n",
            " [ 1.32647535e-01  2.30710221e-01  1.33360064e-03  6.37619860e-03\n",
            "   7.65496021e-02]\n",
            " [ 2.69589815e-01  2.45463165e-01 -7.88288533e-04  3.26207990e-02\n",
            "   3.19679261e-02]\n",
            " [ 3.88274684e-01  2.34984382e-01  9.42597893e-04  2.78823336e-03\n",
            "   8.07657252e-02]]\n"
          ],
          "name": "stdout"
        }
      ]
    },
    {
      "cell_type": "code",
      "metadata": {
        "id": "e_n6Gcxm0hJs"
      },
      "source": [
        "Y_hat = cp,matmul(X, beta) # Estimates of Y"
      ],
      "execution_count": null,
      "outputs": []
    },
    {
      "cell_type": "code",
      "metadata": {
        "id": "VCJZh_eTXU7L",
        "outputId": "d60d0156-7db0-453b-96aa-fd5e9c9b1961",
        "colab": {
          "base_uri": "https://localhost:8080/"
        }
      },
      "source": [
        "errors = compute_error(X, Y, beta)"
      ],
      "execution_count": null,
      "outputs": [
        {
          "output_type": "stream",
          "text": [
            "Total sum of squares of error: [1.32631530e+01 6.87769259e+01 4.12540399e-02 5.46186173e+00\n",
            " 9.56625064e+00]\n",
            "Root mean square of error: [0.00313954 0.0071493  0.0001751  0.00201471 0.00266632]\n"
          ],
          "name": "stdout"
        }
      ]
    },
    {
      "cell_type": "code",
      "metadata": {
        "id": "GfGMZoqUml-r"
      },
      "source": [
        "model_summary = model_summary.append({'model_name': 'Nonlinear model - 1', 'err_y1': errors[0], 'err_y2': errors[1], 'err_y3': errors[2], 'err_y4': errors[3], 'err_y5': errors[4]}, ignore_index=True)"
      ],
      "execution_count": null,
      "outputs": []
    },
    {
      "cell_type": "markdown",
      "metadata": {
        "id": "2jUul-RNqWWK"
      },
      "source": [
        "# Nonlinear model - 1a"
      ]
    },
    {
      "cell_type": "markdown",
      "metadata": {
        "id": "3PaQq9U6qex2"
      },
      "source": [
        "We fit the model:\n",
        "\n",
        "\\begin{eqnarray}\n",
        "\\ln y_1 &=& \\beta_{11}x_1 + \\beta_{12}\\ln x_2 + \\beta_{13}\\ln x_3 + \\beta_{14}\\ln x_4 + \\beta_{15}\\ln x_5 + \\beta_{10}\\\\\n",
        "\\ln y_2 &=& \\beta_{21}x_1 + \\beta_{22}\\ln x_2 + \\beta_{23}\\ln x_3 + \\beta_{24}\\ln x_4 + \\beta_{25}\\ln x_5 + \\beta_{20} \\\\\n",
        "y_3 &=& \\beta_{31}x_1 + \\beta_{32}\\ln x_2 + \\beta_{33}\\ln x_3 + \\beta_{34}\\ln x_4 + \\beta_{35}\\ln x_5 + \\beta_{30} \\\\\n",
        "y_4 &=& \\beta_{41}x_1 + \\beta_{42}\\ln x_2 + \\beta_{43}\\ln x_3 + \\beta_{44}\\ln x_4 + \\beta_{45}\\ln x_5 + \\beta_{40} \\\\\n",
        "y_5 &=& \\beta_{51}x_1 + \\beta_{52}\\ln x_2 + \\beta_{53}\\ln x_3 + \\beta_{54}\\ln x_4 + \\beta_{55}\\ln x_5 + \\beta_{50} \\\\\n",
        "\\end{eqnarray}"
      ]
    },
    {
      "cell_type": "code",
      "metadata": {
        "id": "pjuOqJfSqpNl",
        "outputId": "6386457f-4f8c-4c41-a21b-52b194e46a23",
        "colab": {
          "base_uri": "https://localhost:8080/"
        }
      },
      "source": [
        "data_nm1 = data.copy()\n",
        "\n",
        "data_nm1['x2'] = np.log(data_nm1['x2'])\n",
        "data_nm1['x3'] = np.log(data_nm1['x3'])\n",
        "data_nm1['x4'] = np.log(data_nm1['x4'])\n",
        "data_nm1['x5'] = np.log(data_nm1['x5'])\n",
        "\n",
        "data_nm1['y1'] = np.log(data_nm1['y1'])\n",
        "data_nm1['y2'] = np.log(data_nm1['y2'])\n",
        "\n",
        "X = data_nm1[['x1', 'x2', 'x3', 'x4', 'x5']].to_numpy(copy=True)\n",
        "Y = data_nm1[['y1', 'y2', 'y3', 'y4', 'y5']].to_numpy(copy=True)\n",
        "X1 = np.hstack((X, np.ones((n_obs, 1))))\n",
        "beta = cp.Variable((6, 5))\n",
        "obj = cp.Minimize(cp.norm(Y - cp.matmul(X1, beta)))\n",
        "prob = cp.Problem(obj)\n",
        "prob.solve()"
      ],
      "execution_count": null,
      "outputs": [
        {
          "output_type": "execute_result",
          "data": {
            "text/plain": [
              "8.131718387558735"
            ]
          },
          "metadata": {
            "tags": []
          },
          "execution_count": 161
        }
      ]
    },
    {
      "cell_type": "code",
      "metadata": {
        "id": "-coSmZJpspig",
        "outputId": "d577332a-20e3-4c05-8047-b16c77d880d6",
        "colab": {
          "base_uri": "https://localhost:8080/"
        }
      },
      "source": [
        "print_status(prob, beta)"
      ],
      "execution_count": null,
      "outputs": [
        {
          "output_type": "stream",
          "text": [
            "Problem status: optimal\n",
            "Optimal value: 8.131718387558735\n",
            "Beta values:\n",
            "[[ 8.90788558e-02  5.74988290e-01 -9.50026868e-03  1.16636348e-01\n",
            "  -1.42652441e-01]\n",
            " [ 1.13444977e-02 -8.72357366e-02  1.85781502e-03  7.74110256e-03\n",
            "   8.80722709e-03]\n",
            " [-2.17434418e-02  7.21693077e-02 -5.44201275e-05 -3.12573944e-03\n",
            "   2.94501552e-02]\n",
            " [ 2.82224982e-02 -2.56561620e-03 -2.14124802e-03  1.77753164e-02\n",
            "  -4.20399104e-02]\n",
            " [ 4.09692015e-02 -1.22079097e-01  8.09385983e-04 -1.89398338e-02\n",
            "  -2.47706318e-02]\n",
            " [ 5.23364643e+00  5.37800571e+00  1.26805378e-02  3.25917593e-01\n",
            "   1.59519489e+00]]\n"
          ],
          "name": "stdout"
        }
      ]
    },
    {
      "cell_type": "code",
      "metadata": {
        "id": "X7pBwaen0ZM4"
      },
      "source": [
        "Y_hat = cp,matmul(X1, beta) # Estimates of Y"
      ],
      "execution_count": null,
      "outputs": []
    },
    {
      "cell_type": "code",
      "metadata": {
        "id": "ML1QCeHkswmQ",
        "outputId": "5b9dc9c6-dbfa-43a9-f7d2-96c0a3b986d2",
        "colab": {
          "base_uri": "https://localhost:8080/"
        }
      },
      "source": [
        "compute_error(X1, Y, beta)"
      ],
      "execution_count": null,
      "outputs": [
        {
          "output_type": "stream",
          "text": [
            "Total sum of squares of error: [1.07211918e+01 6.60971778e+01 4.13595123e-02 5.45155239e+00\n",
            " 9.33025642e+00]\n",
            "Root mean square of error: [0.00282269 0.00700864 0.00017532 0.00201281 0.00263323]\n"
          ],
          "name": "stdout"
        },
        {
          "output_type": "execute_result",
          "data": {
            "text/plain": [
              "array([0.00282269, 0.00700864, 0.00017532, 0.00201281, 0.00263323])"
            ]
          },
          "metadata": {
            "tags": []
          },
          "execution_count": 163
        }
      ]
    },
    {
      "cell_type": "code",
      "metadata": {
        "id": "_syjrLIytOB4"
      },
      "source": [
        "model_summary = model_summary.append({'model_name': 'Nonlinear model - 1a', 'err_y1': errors[0], 'err_y2': errors[1], 'err_y3': errors[2], 'err_y4': errors[3], 'err_y5': errors[4]}, ignore_index=True)"
      ],
      "execution_count": null,
      "outputs": []
    },
    {
      "cell_type": "markdown",
      "metadata": {
        "id": "R9RzKeCeYvZB"
      },
      "source": [
        "# Nonlinear model - 2"
      ]
    },
    {
      "cell_type": "markdown",
      "metadata": {
        "id": "1fGBoOvIaDee"
      },
      "source": [
        "Transform the variables. We are fitting the model:\n",
        "\n",
        "\\begin{eqnarray}\n",
        "y_1 &=& \\beta_{11}x_1 + \\beta_{12}\\ln x_2 + \\beta_{13}\\ln x_3 + \\beta_{14}\\ln x_4 + \\beta_{15}\\ln x_5 \\\\\n",
        "y_2 &=& \\beta_{21}x_1 + \\beta_{22}\\ln x_2 + \\beta_{23}\\ln x_3 + \\beta_{24}\\ln x_4 + \\beta_{25}\\ln x_5 \\\\\n",
        "y_3 &=& \\beta_{31}x_1 + \\beta_{32}\\ln x_2 + \\beta_{33}\\ln x_3 + \\beta_{34}\\ln x_4 + \\beta_{35}\\ln x_5 \\\\\n",
        "y_4 &=& \\beta_{41}x_1 + \\beta_{42}\\ln x_2 + \\beta_{43}\\ln x_3 + \\beta_{44}\\ln x_4 + \\beta_{45}\\ln x_5 \\\\\n",
        "y_5 &=& \\beta_{51}x_1 + \\beta_{52}\\ln x_2 + \\beta_{53}\\ln x_3 + \\beta_{54}\\ln x_4 + \\beta_{55}\\ln x_5 \\\\\n",
        "\\end{eqnarray}"
      ]
    },
    {
      "cell_type": "code",
      "metadata": {
        "id": "eZslJfnfY0Xd"
      },
      "source": [
        "data_nm2 = data.copy()\n",
        "\n",
        "data_nm2['x2'] = np.log(data_nm2['x2'])\n",
        "data_nm2['x3'] = np.log(data_nm2['x3'])\n",
        "data_nm2['x4'] = np.log(data_nm2['x4'])\n",
        "data_nm2['x5'] = np.log(data_nm2['x5'])"
      ],
      "execution_count": null,
      "outputs": []
    },
    {
      "cell_type": "markdown",
      "metadata": {
        "id": "ullisUuIa5Ku"
      },
      "source": [
        "**This step can take a few minutes.**"
      ]
    },
    {
      "cell_type": "code",
      "metadata": {
        "id": "LSZtf0MDY_QM",
        "outputId": "75942741-f627-4547-c203-193db60bafd3",
        "colab": {
          "base_uri": "https://localhost:8080/"
        }
      },
      "source": [
        "X = data_nm2[['x1', 'x2', 'x3', 'x4', 'x5']].to_numpy(copy=True)\n",
        "Y = data_nm2[['y1', 'y2', 'y3', 'y4', 'y5']].to_numpy(copy=True)\n",
        "beta = cp.Variable((5, 5))\n",
        "obj = cp.Minimize(cp.norm(Y - cp.matmul(X, beta)))\n",
        "prob = cp.Problem(obj)\n",
        "prob.solve()"
      ],
      "execution_count": null,
      "outputs": [
        {
          "output_type": "execute_result",
          "data": {
            "text/plain": [
              "918.4829557994454"
            ]
          },
          "metadata": {
            "tags": []
          },
          "execution_count": 166
        }
      ]
    },
    {
      "cell_type": "code",
      "metadata": {
        "id": "1yeAJHhFayQY",
        "outputId": "06d1c9fd-7e2e-4979-cbd5-4e2f92801175",
        "colab": {
          "base_uri": "https://localhost:8080/"
        }
      },
      "source": [
        "print_status(prob, beta)"
      ],
      "execution_count": null,
      "outputs": [
        {
          "output_type": "stream",
          "text": [
            "Problem status: optimal\n",
            "Optimal value: 918.4829557994454\n",
            "Beta values:\n",
            "[[ 3.25715798e+01  5.62077151e+01 -3.60577321e-01 -5.80506727e-01\n",
            "  -1.25713030e+00]\n",
            " [ 8.51565325e+00 -2.20178778e+00 -1.87710797e-01 -1.13926160e-01\n",
            "  -5.18954634e-03]\n",
            " [-1.26475186e+00  1.18470501e+01  1.30673201e-01  4.18812154e-02\n",
            "   2.99929555e-01]\n",
            " [ 1.55160765e+01  7.75954533e+00  1.75203901e-01  5.82633512e-02\n",
            "  -1.17186472e-01]\n",
            " [ 2.31772235e+01  3.30955793e-01 -1.41628782e-01  7.27569643e-02\n",
            "   1.71138948e-01]]\n"
          ],
          "name": "stdout"
        }
      ]
    },
    {
      "cell_type": "code",
      "metadata": {
        "id": "q0oom8x00S4z"
      },
      "source": [
        "Y_hat = cp,matmul(X, beta) # Estimates of Y"
      ],
      "execution_count": null,
      "outputs": []
    },
    {
      "cell_type": "code",
      "metadata": {
        "id": "cUEabBnVZyyK",
        "outputId": "c15ae108-1204-4f3f-bb14-50272865941c",
        "colab": {
          "base_uri": "https://localhost:8080/"
        }
      },
      "source": [
        "errors = compute_error(X, Y, beta)"
      ],
      "execution_count": null,
      "outputs": [
        {
          "output_type": "stream",
          "text": [
            "Total sum of squares of error: [8.39074151e+05 6.48633384e+05 1.35620404e+00 6.06658613e+00\n",
            " 1.14750340e+01]\n",
            "Root mean square of error: [0.78966371 0.6942912  0.00100393 0.00212331 0.00292024]\n"
          ],
          "name": "stdout"
        }
      ]
    },
    {
      "cell_type": "code",
      "metadata": {
        "id": "3HT6vitymrTd"
      },
      "source": [
        "model_summary = model_summary.append({'model_name': 'Nonlinear model - 2', 'err_y1': errors[0], 'err_y2': errors[1], 'err_y3': errors[2], 'err_y4': errors[3], 'err_y5': errors[4]}, ignore_index=True)"
      ],
      "execution_count": null,
      "outputs": []
    },
    {
      "cell_type": "markdown",
      "metadata": {
        "id": "LXpxk0I-rzN2"
      },
      "source": [
        "# Linear model using Nelder-Mead algorithm"
      ]
    },
    {
      "cell_type": "markdown",
      "metadata": {
        "id": "iWsWN7iS0k24"
      },
      "source": [
        "We are fitting the model:\n",
        "\n",
        "\\begin{eqnarray}\n",
        "y_1 &=& \\beta_{11}x_1 + \\beta_{12}x_2 + \\beta_{13}x_3 + \\beta_{14}x_4 + \\beta_{15}x_5 \\\\\n",
        "y_2 &=& \\beta_{21}x_1 + \\beta_{22}x_2 + \\beta_{23}x_3 + \\beta_{24}x_4 + \\beta_{25}x_5 \\\\\n",
        "y_3 &=& \\beta_{31}x_1 + \\beta_{32}x_2 + \\beta_{33}x_3 + \\beta_{34}x_4 + \\beta_{35}x_5 \\\\\n",
        "y_4 &=& \\beta_{41}x_1 + \\beta_{42}x_2 + \\beta_{43}x_3 + \\beta_{44}x_4 + \\beta_{45}x_5 \\\\\n",
        "y_5 &=& \\beta_{51}x_1 + \\beta_{52}x_2 + \\beta_{53}x_3 + \\beta_{54}x_4 + \\beta_{55}x_5\n",
        "\\end{eqnarray}"
      ]
    },
    {
      "cell_type": "code",
      "metadata": {
        "id": "AMWmvc80xRUK"
      },
      "source": [
        "X = scaled_data[:, 0:5]\n",
        "Y = scaled_data[:, 5:10]\n",
        "\n",
        "def error_fn0(beta):\n",
        "  return np.linalg.norm(Y[:, 0] - X @ beta)\n",
        "\n",
        "def error_fn1(beta):\n",
        "  return np.linalg.norm(Y[:, 1] - X @ beta)\n",
        "\n",
        "def error_fn2(beta):\n",
        "  return np.linalg.norm(Y[:, 2] - X @ beta)\n",
        "\n",
        "def error_fn3(beta):\n",
        "  return np.linalg.norm(Y[:, 3] - X @ beta)\n",
        "\n",
        "def error_fn4(beta):\n",
        "  return np.linalg.norm(Y[:, 4] - X @ beta)\n",
        "\n",
        "beta = np.zeros((5, 5))\n",
        "\n",
        "def run_nelder_mead_solver(beta):\n",
        "  r0 = optimize.minimize(error_fn0, beta[0, :], method='nelder-mead')\n",
        "  r1 = optimize.minimize(error_fn1, beta[1, :], method='nelder-mead')\n",
        "  r2 = optimize.minimize(error_fn2, beta[2, :], method='nelder-mead')\n",
        "  r3 = optimize.minimize(error_fn3, beta[3, :], method='nelder-mead')\n",
        "  r4 = optimize.minimize(error_fn4, beta[4, :], method='nelder-mead')\n",
        "\n",
        "  beta[0, :] = r0.fun\n",
        "  beta[1, :] = r1.fun\n",
        "  beta[2, :] = r2.fun\n",
        "  beta[3, :] = r3.fun\n",
        "  beta[4, :] = r4.fun\n",
        "\n",
        "  return beta\n",
        "\n",
        "beta = run_nelder_mead_solver(beta)\n"
      ],
      "execution_count": 9,
      "outputs": []
    },
    {
      "cell_type": "code",
      "metadata": {
        "id": "D1Ads7nuz3lG"
      },
      "source": [
        "Y_hat = X @ beta # Get estimates of Y."
      ],
      "execution_count": 10,
      "outputs": []
    },
    {
      "cell_type": "code",
      "metadata": {
        "id": "MeL_GsuCzzjv",
        "outputId": "3c81a307-6ccf-4f5d-a9c2-d87817bfc287",
        "colab": {
          "base_uri": "https://localhost:8080/"
        }
      },
      "source": [
        "errors = compute_error_orig(X, Y, beta, scaler)"
      ],
      "execution_count": null,
      "outputs": [
        {
          "output_type": "stream",
          "text": [
            "[6.07828666e+01 5.34628055e+01 1.35100176e-02 1.55170923e-01\n",
            " 2.03375578e-01]\n"
          ],
          "name": "stdout"
        }
      ]
    },
    {
      "cell_type": "code",
      "metadata": {
        "id": "iL_H8qUC0uSl"
      },
      "source": [
        "model_summary = model_summary.append({'model_name': 'Nelder-Mead', 'err_y1': errors[0], 'err_y2': errors[1], 'err_y3': errors[2], 'err_y4': errors[3], 'err_y5': errors[4]}, ignore_index=True)"
      ],
      "execution_count": null,
      "outputs": []
    },
    {
      "cell_type": "markdown",
      "metadata": {
        "id": "CULffD2SdGnf"
      },
      "source": [
        "# Levenberg-Marquardt algorithm\n",
        "\n",
        "The <code>scipy</code> function <code>leastsq</code> used the Levenberg-Marquardt algorithm to find the values of the coefficients that minimize the squared error. Refer to the notes section of the [documentation](https://docs.scipy.org/doc/scipy/reference/generated/scipy.optimize.leastsq.html#scipy.optimize.leastsq) and the MINPACK documentation of [lmder](https://www.math.utah.edu/software/minpack/minpack/lmder.html) and [lmdif](https://www.math.utah.edu/software/minpack/minpack/lmdif.html).\n"
      ]
    },
    {
      "cell_type": "code",
      "metadata": {
        "id": "jQatyt-QdJvh"
      },
      "source": [
        "X = scaled_data[:, 0:5]\n",
        "Y = scaled_data[:, 5:10]\n",
        "\n",
        "def error_fn0(beta):\n",
        "  return (Y[:, 0] - X @ beta)\n",
        "\n",
        "def error_fn1(beta):\n",
        "  return (Y[:, 1] - X @ beta)\n",
        "\n",
        "def error_fn2(beta):\n",
        "  return (Y[:, 2] - X @ beta)\n",
        "\n",
        "def error_fn3(beta):\n",
        "  return (Y[:, 3] - X @ beta)\n",
        "\n",
        "def error_fn4(beta):\n",
        "  return (Y[:, 4] - X @ beta)\n",
        "\n",
        "beta = np.zeros((5, 5))\n",
        "\n",
        "def run_lm_solver(beta):\n",
        "  r0 = optimize.leastsq(error_fn0, beta[0, :])\n",
        "  r1 = optimize.leastsq(error_fn1, beta[1, :])\n",
        "  r2 = optimize.leastsq(error_fn2, beta[2, :])\n",
        "  r3 = optimize.leastsq(error_fn3, beta[3, :])\n",
        "  r4 = optimize.leastsq(error_fn4, beta[4, :])\n",
        "\n",
        "  beta[0, :] = r0[0]\n",
        "  beta[1, :] = r1[0]\n",
        "  beta[2, :] = r2[0]\n",
        "  beta[3, :] = r3[0]\n",
        "  beta[4, :] = r4[0]\n",
        "\n",
        "  return beta\n",
        "\n",
        "beta = run_lm_solver(beta)"
      ],
      "execution_count": null,
      "outputs": []
    },
    {
      "cell_type": "code",
      "metadata": {
        "id": "efGFaQx70QKP"
      },
      "source": [
        "Y_hat = X @ beta # Get estimates of Y."
      ],
      "execution_count": null,
      "outputs": []
    },
    {
      "cell_type": "code",
      "metadata": {
        "id": "BlXd1CZyfnxU",
        "outputId": "d83219b2-abd1-48a6-8e59-573cbc9b0da6",
        "colab": {
          "base_uri": "https://localhost:8080/"
        }
      },
      "source": [
        "errors = compute_error_orig(X, Y, beta, scaler)"
      ],
      "execution_count": null,
      "outputs": [
        {
          "output_type": "stream",
          "text": [
            "[7.90030729e-01 6.93673148e-01 1.75192641e-04 2.01462603e-03\n",
            " 2.64331028e-03]\n"
          ],
          "name": "stdout"
        }
      ]
    },
    {
      "cell_type": "code",
      "metadata": {
        "id": "B3pW3JECfuDW"
      },
      "source": [
        "model_summary = model_summary.append({'model_name': 'Levenberg-Marquardt', 'err_y1': errors[0], 'err_y2': errors[1], 'err_y3': errors[2], 'err_y4': errors[3], 'err_y5': errors[4]}, ignore_index=True)"
      ],
      "execution_count": null,
      "outputs": []
    },
    {
      "cell_type": "code",
      "metadata": {
        "id": "iKEc3cyA8uFO",
        "outputId": "40b495b8-b204-49db-c53f-00e29d1598e2",
        "colab": {
          "base_uri": "https://localhost:8080/",
          "height": 248
        }
      },
      "source": [
        "model_summary"
      ],
      "execution_count": null,
      "outputs": [
        {
          "output_type": "execute_result",
          "data": {
            "text/html": [
              "<div>\n",
              "<style scoped>\n",
              "    .dataframe tbody tr th:only-of-type {\n",
              "        vertical-align: middle;\n",
              "    }\n",
              "\n",
              "    .dataframe tbody tr th {\n",
              "        vertical-align: top;\n",
              "    }\n",
              "\n",
              "    .dataframe thead th {\n",
              "        text-align: right;\n",
              "    }\n",
              "</style>\n",
              "<table border=\"1\" class=\"dataframe\">\n",
              "  <thead>\n",
              "    <tr style=\"text-align: right;\">\n",
              "      <th></th>\n",
              "      <th>model_name</th>\n",
              "      <th>err_y1</th>\n",
              "      <th>err_y2</th>\n",
              "      <th>err_y3</th>\n",
              "      <th>err_y4</th>\n",
              "      <th>err_y5</th>\n",
              "    </tr>\n",
              "  </thead>\n",
              "  <tbody>\n",
              "    <tr>\n",
              "      <th>0</th>\n",
              "      <td>Linear model - 1</td>\n",
              "      <td>0.788313</td>\n",
              "      <td>0.692319</td>\n",
              "      <td>0.000175</td>\n",
              "      <td>0.002013</td>\n",
              "      <td>0.002633</td>\n",
              "    </tr>\n",
              "    <tr>\n",
              "      <th>1</th>\n",
              "      <td>Linear model - 2</td>\n",
              "      <td>0.788313</td>\n",
              "      <td>0.692320</td>\n",
              "      <td>0.000175</td>\n",
              "      <td>0.002013</td>\n",
              "      <td>0.002633</td>\n",
              "    </tr>\n",
              "    <tr>\n",
              "      <th>2</th>\n",
              "      <td>Nonlinear model - 1</td>\n",
              "      <td>0.003140</td>\n",
              "      <td>0.007149</td>\n",
              "      <td>0.000175</td>\n",
              "      <td>0.002015</td>\n",
              "      <td>0.002666</td>\n",
              "    </tr>\n",
              "    <tr>\n",
              "      <th>3</th>\n",
              "      <td>Nonlinear model - 1a</td>\n",
              "      <td>0.003140</td>\n",
              "      <td>0.007149</td>\n",
              "      <td>0.000175</td>\n",
              "      <td>0.002015</td>\n",
              "      <td>0.002666</td>\n",
              "    </tr>\n",
              "    <tr>\n",
              "      <th>4</th>\n",
              "      <td>Nonlinear model - 2</td>\n",
              "      <td>0.789664</td>\n",
              "      <td>0.694291</td>\n",
              "      <td>0.001004</td>\n",
              "      <td>0.002123</td>\n",
              "      <td>0.002920</td>\n",
              "    </tr>\n",
              "    <tr>\n",
              "      <th>5</th>\n",
              "      <td>Nelder-Mead</td>\n",
              "      <td>60.782867</td>\n",
              "      <td>53.462805</td>\n",
              "      <td>0.013510</td>\n",
              "      <td>0.155171</td>\n",
              "      <td>0.203376</td>\n",
              "    </tr>\n",
              "    <tr>\n",
              "      <th>6</th>\n",
              "      <td>Levenberg-Marquardt</td>\n",
              "      <td>0.790031</td>\n",
              "      <td>0.693673</td>\n",
              "      <td>0.000175</td>\n",
              "      <td>0.002015</td>\n",
              "      <td>0.002643</td>\n",
              "    </tr>\n",
              "  </tbody>\n",
              "</table>\n",
              "</div>"
            ],
            "text/plain": [
              "             model_name     err_y1     err_y2    err_y3    err_y4    err_y5\n",
              "0      Linear model - 1   0.788313   0.692319  0.000175  0.002013  0.002633\n",
              "1      Linear model - 2   0.788313   0.692320  0.000175  0.002013  0.002633\n",
              "2   Nonlinear model - 1   0.003140   0.007149  0.000175  0.002015  0.002666\n",
              "3  Nonlinear model - 1a   0.003140   0.007149  0.000175  0.002015  0.002666\n",
              "4   Nonlinear model - 2   0.789664   0.694291  0.001004  0.002123  0.002920\n",
              "5           Nelder-Mead  60.782867  53.462805  0.013510  0.155171  0.203376\n",
              "6   Levenberg-Marquardt   0.790031   0.693673  0.000175  0.002015  0.002643"
            ]
          },
          "metadata": {
            "tags": []
          },
          "execution_count": 176
        }
      ]
    },
    {
      "cell_type": "markdown",
      "metadata": {
        "id": "QdR7HjnMEDSi"
      },
      "source": [
        "# Conclusion\n",
        "The model summary indicates that the non-linear model has given the best results on simulated data. The exercise needs to repeated on real data to get the best results."
      ]
    },
    {
      "cell_type": "markdown",
      "metadata": {
        "id": "UVblC_HFm_tD"
      },
      "source": [
        "# Weighted model - 1"
      ]
    },
    {
      "cell_type": "code",
      "metadata": {
        "id": "0z7EPuQAnCNT"
      },
      "source": [
        "weights = 0.2 * np.ones(5)\n",
        "X = scaled_data[:, 0:5]\n",
        "Y = scaled_data[:, 5:10]\n",
        "y = np.average(Y, axis=1, weights=weights)\n",
        "y = y.reshape((n_obs, 1))"
      ],
      "execution_count": null,
      "outputs": []
    },
    {
      "cell_type": "code",
      "metadata": {
        "id": "0qeAhXFNo0g4",
        "outputId": "3e8879db-94c8-4bb9-e38b-127de59d64a4",
        "colab": {
          "base_uri": "https://localhost:8080/"
        }
      },
      "source": [
        "beta = cp.Variable((5, 1))\n",
        "obj = cp.Minimize(cp.sum_squares(y - X@beta))\n",
        "prob = cp.Problem(obj)\n",
        "prob.solve()"
      ],
      "execution_count": null,
      "outputs": [
        {
          "output_type": "execute_result",
          "data": {
            "text/plain": [
              "222.43462549212643"
            ]
          },
          "metadata": {
            "tags": []
          },
          "execution_count": 178
        }
      ]
    },
    {
      "cell_type": "code",
      "metadata": {
        "id": "BwkZ6v7Vpcjm",
        "outputId": "b3bec80c-ae7a-473c-dd7a-f96fe80424c4",
        "colab": {
          "base_uri": "https://localhost:8080/"
        }
      },
      "source": [
        "print_status(prob, beta)"
      ],
      "execution_count": null,
      "outputs": [
        {
          "output_type": "stream",
          "text": [
            "Problem status: optimal\n",
            "Optimal value: 222.43462549212643\n",
            "Beta values:\n",
            "[[-0.00100429]\n",
            " [ 0.00412584]\n",
            " [ 0.01277479]\n",
            " [-0.00303544]\n",
            " [-0.00735161]]\n"
          ],
          "name": "stdout"
        }
      ]
    },
    {
      "cell_type": "code",
      "metadata": {
        "id": "AgnobfZB0upv"
      },
      "source": [
        "Y_hat = cp.matmul(X, beta) # Estimates of Y."
      ],
      "execution_count": null,
      "outputs": []
    },
    {
      "cell_type": "code",
      "metadata": {
        "id": "dwOrskeLplrN",
        "outputId": "a2b2cd47-3e98-453a-bae5-64e042d2ebf3",
        "colab": {
          "base_uri": "https://localhost:8080/"
        }
      },
      "source": [
        "errors = compute_error(X, y, beta)"
      ],
      "execution_count": null,
      "outputs": [
        {
          "output_type": "stream",
          "text": [
            "Total sum of squares of error: [222.43462549]\n",
            "Root mean square of error: [0.01285711]\n"
          ],
          "name": "stdout"
        }
      ]
    },
    {
      "cell_type": "code",
      "metadata": {
        "id": "uS-lUu5ux3rR"
      },
      "source": [
        "model_summary = model_summary.append({'model_name': 'Weighted model - 1', 'err_y1': errors[0], 'err_y2': None, 'err_y3': None, 'err_y4': None, 'err_y5': None}, ignore_index=True)"
      ],
      "execution_count": null,
      "outputs": []
    },
    {
      "cell_type": "markdown",
      "metadata": {
        "id": "5xvDnADNtXFM"
      },
      "source": [
        "# Weighted model - 1a"
      ]
    },
    {
      "cell_type": "code",
      "metadata": {
        "id": "DAWRm0_utpib"
      },
      "source": [
        "weights = np.ones(5)/5\n",
        "X = scaled_data[:, 0:5]\n",
        "Y = scaled_data[:, 5:10]\n",
        "y = np.average(Y, axis=1, weights=weights)\n",
        "y = y.reshape((n_obs, 1))"
      ],
      "execution_count": null,
      "outputs": []
    },
    {
      "cell_type": "code",
      "metadata": {
        "id": "cLuGoYNzt7Ko",
        "outputId": "07a58ec7-530f-46dc-f1ec-dcd59f61121b",
        "colab": {
          "base_uri": "https://localhost:8080/"
        }
      },
      "source": [
        "X1 = np.hstack((X, np.ones((n_obs, 1))))\n",
        "beta = cp.Variable((6, 1))\n",
        "obj = cp.Minimize(cp.sum_squares(y - X1@beta))\n",
        "prob = cp.Problem(obj)\n",
        "prob.solve()"
      ],
      "execution_count": null,
      "outputs": [
        {
          "output_type": "execute_result",
          "data": {
            "text/plain": [
              "222.4346254921264"
            ]
          },
          "metadata": {
            "tags": []
          },
          "execution_count": 183
        }
      ]
    },
    {
      "cell_type": "code",
      "metadata": {
        "id": "4FUz2BRBuuug",
        "outputId": "d672a2f8-1f2e-473d-cfb7-7332fb45f039",
        "colab": {
          "base_uri": "https://localhost:8080/"
        }
      },
      "source": [
        "print_status(prob, beta)"
      ],
      "execution_count": null,
      "outputs": [
        {
          "output_type": "stream",
          "text": [
            "Problem status: optimal\n",
            "Optimal value: 222.4346254921264\n",
            "Beta values:\n",
            "[[-1.00429183e-03]\n",
            " [ 4.12584027e-03]\n",
            " [ 1.27747863e-02]\n",
            " [-3.03544212e-03]\n",
            " [-7.35160715e-03]\n",
            " [ 5.09418662e-18]]\n"
          ],
          "name": "stdout"
        }
      ]
    },
    {
      "cell_type": "code",
      "metadata": {
        "id": "-sH7yCp-02Lc"
      },
      "source": [
        "Y_hat = cp.matmul(X, beta) # Estimates of Y."
      ],
      "execution_count": null,
      "outputs": []
    },
    {
      "cell_type": "code",
      "metadata": {
        "id": "Teo7pUXeuyLw",
        "outputId": "10acb97f-1fe3-4d30-877e-ea7f97404b6a",
        "colab": {
          "base_uri": "https://localhost:8080/"
        }
      },
      "source": [
        "errors = compute_error(X1, y, beta)"
      ],
      "execution_count": null,
      "outputs": [
        {
          "output_type": "stream",
          "text": [
            "Total sum of squares of error: [222.43462549]\n",
            "Root mean square of error: [0.01285711]\n"
          ],
          "name": "stdout"
        }
      ]
    },
    {
      "cell_type": "code",
      "metadata": {
        "id": "D_7iUsYJyS8x"
      },
      "source": [
        "model_summary = model_summary.append({'model_name': 'Weighted model - 1a', 'err_y1': errors[0], 'err_y2': None, 'err_y3': None, 'err_y4': None, 'err_y5': None}, ignore_index=True)"
      ],
      "execution_count": null,
      "outputs": []
    }
  ]
}