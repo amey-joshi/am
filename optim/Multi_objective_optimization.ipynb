{
  "nbformat": 4,
  "nbformat_minor": 0,
  "metadata": {
    "colab": {
      "name": "Multi-objective-optimization.ipynb",
      "provenance": [],
      "collapsed_sections": [
        "vRqufm0kTS-D"
      ],
      "authorship_tag": "ABX9TyNRYDtQY/C613asg83HyWCX",
      "include_colab_link": true
    },
    "kernelspec": {
      "name": "python3",
      "display_name": "Python 3"
    }
  },
  "cells": [
    {
      "cell_type": "markdown",
      "metadata": {
        "id": "view-in-github",
        "colab_type": "text"
      },
      "source": [
        "<a href=\"https://colab.research.google.com/github/amey-joshi/am/blob/master/optim/Multi_objective_optimization.ipynb\" target=\"_parent\"><img src=\"https://colab.research.google.com/assets/colab-badge.svg\" alt=\"Open In Colab\"/></a>"
      ]
    },
    {
      "cell_type": "code",
      "metadata": {
        "id": "lWeNDqW-e8pf"
      },
      "source": [
        "import numpy as np\n",
        "import pandas as pd\n",
        "import cvxpy as cp\n",
        "\n",
        "from sklearn.preprocessing import StandardScaler\n",
        "from scipy import optimize"
      ],
      "execution_count": 130,
      "outputs": []
    },
    {
      "cell_type": "markdown",
      "metadata": {
        "id": "S3VBxr1ITM4X"
      },
      "source": [
        "# Generate simulated data"
      ]
    },
    {
      "cell_type": "markdown",
      "metadata": {
        "id": "ogWmEU6HSIoD"
      },
      "source": [
        "We simulate data assuming that all the variables are normally distributed. The mean and the standard deviations of the variables are assumed to take the values in the variables <code>xmeans</code> and <code>xstds</code>."
      ]
    },
    {
      "cell_type": "code",
      "metadata": {
        "id": "6QEvZGPbfNAS"
      },
      "source": [
        "n_obs = 1160 # Number of observations\n",
        "xmeans = [0.15, 130.84, 85.73, 1046.68, 320.59]\n",
        "xstds  = [0.014, 14.29, 8.79, 114.32, 25.43]\n",
        "\n",
        "np.random.seed(11112020)\n",
        "x1 = np.random.normal(xmeans[0], xstds[0], n_obs)\n",
        "x2 = np.random.normal(xmeans[1], xstds[1], n_obs)\n",
        "x3 = np.random.normal(xmeans[2], xstds[2], n_obs)\n",
        "x4 = np.random.normal(xmeans[3], xstds[3], n_obs)\n",
        "x5 = np.random.normal(xmeans[4], xstds[4], n_obs)\n",
        "\n",
        "ymeans = [282.38, 107.12, 0.01, 0.38, 1.31]\n",
        "ystds  = [27.21, 23.57, 0.006, 0.07, 0.09]\n",
        "\n",
        "y1 = np.random.normal(ymeans[0], ystds[0], n_obs)\n",
        "y2 = np.random.normal(ymeans[1], ystds[1], n_obs)\n",
        "y3 = np.random.normal(ymeans[2], ystds[2], n_obs)\n",
        "y4 = np.random.normal(ymeans[3], ystds[3], n_obs)\n",
        "y5 = np.random.normal(ymeans[4], ystds[4], n_obs)\n",
        "\n",
        "data = pd.DataFrame({'x1': x1, 'x2': x2, 'x3': x3, 'x4': x4, 'x5': x5,\n",
        "                     'y1': y1, 'y2': y2, 'y3': y3, 'y4': y4, 'y5': y5,})"
      ],
      "execution_count": 131,
      "outputs": []
    },
    {
      "cell_type": "markdown",
      "metadata": {
        "id": "KQJ6XcERexnO"
      },
      "source": [
        "In the sections to follow, we will predict $y_i$ as functions of $x_1, \\ldots, x_5$ assuming a variety of functional forms of the dependency. We will start with the linear function and then try a few non-linear ones."
      ]
    },
    {
      "cell_type": "code",
      "metadata": {
        "colab": {
          "base_uri": "https://localhost:8080/",
          "height": 191
        },
        "id": "pPUmqrudG1cq",
        "outputId": "58ac12ad-8d92-4c58-eb58-fdcb2d9cd20b"
      },
      "source": [
        "data.head()"
      ],
      "execution_count": 132,
      "outputs": [
        {
          "output_type": "execute_result",
          "data": {
            "text/html": [
              "<div>\n",
              "<style scoped>\n",
              "    .dataframe tbody tr th:only-of-type {\n",
              "        vertical-align: middle;\n",
              "    }\n",
              "\n",
              "    .dataframe tbody tr th {\n",
              "        vertical-align: top;\n",
              "    }\n",
              "\n",
              "    .dataframe thead th {\n",
              "        text-align: right;\n",
              "    }\n",
              "</style>\n",
              "<table border=\"1\" class=\"dataframe\">\n",
              "  <thead>\n",
              "    <tr style=\"text-align: right;\">\n",
              "      <th></th>\n",
              "      <th>x1</th>\n",
              "      <th>x2</th>\n",
              "      <th>x3</th>\n",
              "      <th>x4</th>\n",
              "      <th>x5</th>\n",
              "      <th>y1</th>\n",
              "      <th>y2</th>\n",
              "      <th>y3</th>\n",
              "      <th>y4</th>\n",
              "      <th>y5</th>\n",
              "    </tr>\n",
              "  </thead>\n",
              "  <tbody>\n",
              "    <tr>\n",
              "      <th>0</th>\n",
              "      <td>0.147559</td>\n",
              "      <td>133.622875</td>\n",
              "      <td>94.997665</td>\n",
              "      <td>1019.485754</td>\n",
              "      <td>326.688804</td>\n",
              "      <td>281.546963</td>\n",
              "      <td>121.427647</td>\n",
              "      <td>0.007834</td>\n",
              "      <td>0.381522</td>\n",
              "      <td>1.327320</td>\n",
              "    </tr>\n",
              "    <tr>\n",
              "      <th>1</th>\n",
              "      <td>0.167399</td>\n",
              "      <td>162.109384</td>\n",
              "      <td>96.851700</td>\n",
              "      <td>1182.521642</td>\n",
              "      <td>289.111681</td>\n",
              "      <td>252.290334</td>\n",
              "      <td>107.480755</td>\n",
              "      <td>0.014776</td>\n",
              "      <td>0.374861</td>\n",
              "      <td>1.336146</td>\n",
              "    </tr>\n",
              "    <tr>\n",
              "      <th>2</th>\n",
              "      <td>0.139575</td>\n",
              "      <td>132.074400</td>\n",
              "      <td>94.824109</td>\n",
              "      <td>905.522131</td>\n",
              "      <td>342.808755</td>\n",
              "      <td>299.148819</td>\n",
              "      <td>99.305775</td>\n",
              "      <td>0.003770</td>\n",
              "      <td>0.353045</td>\n",
              "      <td>1.345665</td>\n",
              "    </tr>\n",
              "    <tr>\n",
              "      <th>3</th>\n",
              "      <td>0.160830</td>\n",
              "      <td>121.043438</td>\n",
              "      <td>73.329479</td>\n",
              "      <td>1090.703080</td>\n",
              "      <td>334.113073</td>\n",
              "      <td>256.046095</td>\n",
              "      <td>112.571144</td>\n",
              "      <td>0.012496</td>\n",
              "      <td>0.458908</td>\n",
              "      <td>1.208326</td>\n",
              "    </tr>\n",
              "    <tr>\n",
              "      <th>4</th>\n",
              "      <td>0.164814</td>\n",
              "      <td>147.996518</td>\n",
              "      <td>84.611238</td>\n",
              "      <td>1251.623422</td>\n",
              "      <td>304.861298</td>\n",
              "      <td>208.441233</td>\n",
              "      <td>87.748032</td>\n",
              "      <td>0.012011</td>\n",
              "      <td>0.429719</td>\n",
              "      <td>1.302457</td>\n",
              "    </tr>\n",
              "  </tbody>\n",
              "</table>\n",
              "</div>"
            ],
            "text/plain": [
              "         x1          x2         x3  ...        y3        y4        y5\n",
              "0  0.147559  133.622875  94.997665  ...  0.007834  0.381522  1.327320\n",
              "1  0.167399  162.109384  96.851700  ...  0.014776  0.374861  1.336146\n",
              "2  0.139575  132.074400  94.824109  ...  0.003770  0.353045  1.345665\n",
              "3  0.160830  121.043438  73.329479  ...  0.012496  0.458908  1.208326\n",
              "4  0.164814  147.996518  84.611238  ...  0.012011  0.429719  1.302457\n",
              "\n",
              "[5 rows x 10 columns]"
            ]
          },
          "metadata": {
            "tags": []
          },
          "execution_count": 132
        }
      ]
    },
    {
      "cell_type": "markdown",
      "metadata": {
        "id": "2_IdGy1bYGnT"
      },
      "source": [
        "# Common functions"
      ]
    },
    {
      "cell_type": "code",
      "metadata": {
        "id": "is8lGu_icNOb"
      },
      "source": [
        "def compute_error_orig(X, Y, beta, scaler, X1 = None):\n",
        "  \"\"\" Compute the error between unscaled variables. \n",
        "  \n",
        "  Some times, we run a model on scaled variables. In that case, we apply the\n",
        "  inverse transform on the results and compare them with the original data.\n",
        "  \"\"\"\n",
        "  if X1 is None:\n",
        "    Y_hat = cp.matmul(X, beta)\n",
        "  else:\n",
        "    Y_hat = cp.matmul(X1, beta)\n",
        "\n",
        "  Z = np.concatenate((X, Y_hat.value), axis=1)\n",
        "  results = pd.DataFrame(data = scaler.inverse_transform(Z))\n",
        "  results.columns = ['x1', 'x2', 'x3', 'x4', 'x5', 'y1', 'y2', 'y3', 'y4', 'y5']\n",
        "  error = (data - results)**2\n",
        "  total_errors = error.sum().to_numpy()[5:]\n",
        "  rms_error = np.sqrt(total_errors)/n_obs\n",
        "  print(rms_error)\n",
        "\n",
        "  return rms_error"
      ],
      "execution_count": 133,
      "outputs": []
    },
    {
      "cell_type": "code",
      "metadata": {
        "id": "ARQt1_CMC7B9"
      },
      "source": [
        "def get_unscaled_yhat(X, Y, beta, scaler, X1 = None):\n",
        "  if X1 is None:\n",
        "    Y_hat = cp.matmul(X, beta)\n",
        "  else:\n",
        "    Y_hat = cp.matmul(X1, beta)\n",
        "    \n",
        "  Z = np.concatenate((X, Y_hat.value), axis=1)\n",
        "  results = pd.DataFrame(data = scaler.inverse_transform(Z))\n",
        "  results.columns = ['x1', 'x2', 'x3', 'x4', 'x5', 'y1', 'y2', 'y3', 'y4', 'y5']\n",
        "\n",
        "  return results[['y1', 'y2', 'y3', 'y4', 'y5']]"
      ],
      "execution_count": 134,
      "outputs": []
    },
    {
      "cell_type": "code",
      "metadata": {
        "id": "XB_cf2glYZfc"
      },
      "source": [
        "def compute_error(X, Y, beta):\n",
        "  \"\"\"\n",
        "  Compute error between predicted and actual response. \n",
        "  \"\"\"\n",
        "  Y_hat = cp.matmul(X, beta)\n",
        "  error = Y - Y_hat\n",
        "  error_sq = np.square(error.value)\n",
        "  sse = np.sum(error_sq, axis=0)\n",
        "  rms = np.sqrt(sse)/n_obs\n",
        "  print(f'Total sum of squares of error: {sse}')\n",
        "  print(f'Root mean square of error: {rms}')\n",
        "\n",
        "  return rms"
      ],
      "execution_count": 135,
      "outputs": []
    },
    {
      "cell_type": "code",
      "metadata": {
        "id": "FOF-M1pzalWM"
      },
      "source": [
        "def print_status(prob, beta):\n",
        "  \"\"\" Prints the status of the optimizer. \"\"\"\n",
        "  print(f'Problem status: {prob.status}')\n",
        "  print(f'Optimal value: {prob.value}')\n",
        "  print('Beta values:')\n",
        "  print(beta.value)"
      ],
      "execution_count": 136,
      "outputs": []
    },
    {
      "cell_type": "markdown",
      "metadata": {
        "id": "M-paZGLbmxhP"
      },
      "source": [
        "This data frame will store the RMS errors of each model."
      ]
    },
    {
      "cell_type": "code",
      "metadata": {
        "id": "TEVxI1pTk2cN"
      },
      "source": [
        "column_names = ['model_name', 'err_y1', 'err_y2', 'err_y3', 'err_y4', 'err_y5']\n",
        "model_summary = pd.DataFrame(columns=column_names)"
      ],
      "execution_count": 137,
      "outputs": []
    },
    {
      "cell_type": "markdown",
      "metadata": {
        "id": "vRqufm0kTS-D"
      },
      "source": [
        "# Linear model - 1"
      ]
    },
    {
      "cell_type": "markdown",
      "metadata": {
        "id": "pv6_gsbwfK2m"
      },
      "source": [
        "We are fitting the model:\n",
        "\n",
        "\\begin{eqnarray}\n",
        "y_1 &=& \\beta_{11}x_1 + \\beta_{12}x_2 + \\beta_{13}x_3 + \\beta_{14}x_4 + \\beta_{15}x_5 \\\\\n",
        "y_2 &=& \\beta_{21}x_1 + \\beta_{22}x_2 + \\beta_{23}x_3 + \\beta_{24}x_4 + \\beta_{25}x_5 \\\\\n",
        "y_3 &=& \\beta_{31}x_1 + \\beta_{32}x_2 + \\beta_{33}x_3 + \\beta_{34}x_4 + \\beta_{35}x_5 \\\\\n",
        "y_4 &=& \\beta_{41}x_1 + \\beta_{42}x_2 + \\beta_{43}x_3 + \\beta_{44}x_4 + \\beta_{45}x_5 \\\\\n",
        "y_5 &=& \\beta_{51}x_1 + \\beta_{52}x_2 + \\beta_{53}x_3 + \\beta_{54}x_4 + \\beta_{55}x_5\n",
        "\\end{eqnarray}"
      ]
    },
    {
      "cell_type": "markdown",
      "metadata": {
        "id": "RDE6_L4ySh3g"
      },
      "source": [
        "Optimizers work best when the variables are scaled. We use the scikit-learn scaler to transform our data. "
      ]
    },
    {
      "cell_type": "code",
      "metadata": {
        "id": "cDIRVWSFfZMu"
      },
      "source": [
        "scaler = StandardScaler()\n",
        "scaler.fit(data)\n",
        "scaled_data = scaler.transform(data)"
      ],
      "execution_count": 138,
      "outputs": []
    },
    {
      "cell_type": "markdown",
      "metadata": {
        "id": "Bo8YMe0cSte_"
      },
      "source": [
        "We segregate the preditors into the matrix <code>X</code> and the responses into the matrix <code>Y</code>."
      ]
    },
    {
      "cell_type": "code",
      "metadata": {
        "id": "VFEctLsVgAm0"
      },
      "source": [
        "X = scaled_data[:, 0:5]\n",
        "Y = scaled_data[:, 5:10]"
      ],
      "execution_count": 139,
      "outputs": []
    },
    {
      "cell_type": "markdown",
      "metadata": {
        "id": "6tRpf1zxS84K"
      },
      "source": [
        "We now build a linear model and run it. The variable <code>beta</code> has the coeffifients of the linear model.\n",
        "\n",
        "**This step can take a few minutes.**"
      ]
    },
    {
      "cell_type": "code",
      "metadata": {
        "id": "rYzbOr6vgc3k",
        "colab": {
          "base_uri": "https://localhost:8080/"
        },
        "outputId": "40f6bca6-6b76-4513-fac8-fb810d58ae4e"
      },
      "source": [
        "beta = cp.Variable((5, 5))\n",
        "obj = cp.Minimize(cp.norm(Y - cp.matmul(X, beta)))\n",
        "prob = cp.Problem(obj)\n",
        "prob.solve()"
      ],
      "execution_count": 140,
      "outputs": [
        {
          "output_type": "execute_result",
          "data": {
            "text/plain": [
              "35.5324071011577"
            ]
          },
          "metadata": {
            "tags": []
          },
          "execution_count": 140
        }
      ]
    },
    {
      "cell_type": "code",
      "metadata": {
        "id": "TLXvZLq7kMLW",
        "colab": {
          "base_uri": "https://localhost:8080/"
        },
        "outputId": "423341ec-2ca7-49de-8958-da625b7cfaa0"
      },
      "source": [
        "print_status(prob, beta)"
      ],
      "execution_count": 141,
      "outputs": [
        {
          "output_type": "stream",
          "text": [
            "Problem status: optimal\n",
            "Optimal value: 35.5324071011577\n",
            "Beta values:\n",
            "[[ 0.0109488   0.02589171 -0.0442837   0.02470366 -0.02229602]\n",
            " [ 0.00994741 -0.03560378  0.02444012  0.01066956  0.0111661 ]\n",
            " [-0.0201376   0.02608267  0.02757303 -0.00720288  0.03756629]\n",
            " [ 0.03318335 -0.01143796 -0.01100121  0.02615937 -0.05206846]\n",
            " [ 0.03577049 -0.04468985  0.01498306 -0.02103517 -0.02175626]]\n"
          ],
          "name": "stdout"
        }
      ]
    },
    {
      "cell_type": "code",
      "metadata": {
        "id": "3KGgZuRGbKbW",
        "colab": {
          "base_uri": "https://localhost:8080/"
        },
        "outputId": "611b444d-1fdc-4396-f8d7-029371b614f0"
      },
      "source": [
        "compute_error(X, Y, beta)"
      ],
      "execution_count": 142,
      "outputs": [
        {
          "output_type": "stream",
          "text": [
            "Total sum of squares of error: [1156.61287274 1154.53861065 1155.74789072 1157.75610247 1154.04109214]\n",
            "Root mean square of error: [0.02931811 0.02929181 0.02930715 0.0293326  0.0292855 ]\n"
          ],
          "name": "stdout"
        },
        {
          "output_type": "execute_result",
          "data": {
            "text/plain": [
              "array([0.02931811, 0.02929181, 0.02930715, 0.0293326 , 0.0292855 ])"
            ]
          },
          "metadata": {
            "tags": []
          },
          "execution_count": 142
        }
      ]
    },
    {
      "cell_type": "code",
      "metadata": {
        "id": "wTTFgcOucltM",
        "colab": {
          "base_uri": "https://localhost:8080/"
        },
        "outputId": "2ce3e326-433f-466d-8bb3-1e9c117aad5c"
      },
      "source": [
        "errors = compute_error_orig(X, Y, beta, scaler)"
      ],
      "execution_count": 143,
      "outputs": [
        {
          "output_type": "stream",
          "text": [
            "[7.88313341e-01 6.92319500e-01 1.75097276e-04 2.01302848e-03\n",
            " 2.63304027e-03]\n"
          ],
          "name": "stdout"
        }
      ]
    },
    {
      "cell_type": "code",
      "metadata": {
        "id": "aiv1jWQ9-03v"
      },
      "source": [
        "y_hat_1 = get_unscaled_yhat(X, Y, beta, scaler)"
      ],
      "execution_count": 144,
      "outputs": []
    },
    {
      "cell_type": "code",
      "metadata": {
        "colab": {
          "base_uri": "https://localhost:8080/"
        },
        "id": "gPYK1oB8EMbq",
        "outputId": "05deabe6-e599-4c10-812c-388e9e11dcc8"
      },
      "source": [
        "print(y_hat_1[0:10]) # printing just a sample."
      ],
      "execution_count": 145,
      "outputs": [
        {
          "output_type": "stream",
          "text": [
            "           y1          y2        y3        y4        y5\n",
            "0  281.647849  106.400085  0.010226  0.380068  1.317398\n",
            "1  282.359469  106.796852  0.009970  0.388451  1.313624\n",
            "2  281.184061  105.748332  0.010475  0.376385  1.321727\n",
            "3  283.814755  105.774883  0.009432  0.382873  1.302990\n",
            "4  283.888586  105.898824  0.009658  0.388265  1.304366\n",
            "5  284.577330  104.384273  0.009725  0.382892  1.304497\n",
            "6  283.447690  105.120773  0.009710  0.383979  1.304408\n",
            "7  281.725487  106.984351  0.009871  0.381486  1.312981\n",
            "8  281.243676  107.309448  0.010033  0.380090  1.316658\n",
            "9  282.300454  106.220300  0.010221  0.379268  1.314925\n"
          ],
          "name": "stdout"
        }
      ]
    },
    {
      "cell_type": "code",
      "metadata": {
        "id": "p_5NgpsKmea2"
      },
      "source": [
        "model_summary = model_summary.append({'model_name': 'Linear model - 1', 'err_y1': errors[0], 'err_y2': errors[1], 'err_y3': errors[2], 'err_y4': errors[3], 'err_y5': errors[4]}, ignore_index=True)"
      ],
      "execution_count": 146,
      "outputs": []
    },
    {
      "cell_type": "markdown",
      "metadata": {
        "id": "A1KkgB0cg2pR"
      },
      "source": [
        "# Linear model - 2\n",
        "We will fit a linear model with an intercept.\n",
        "\n",
        "\\begin{eqnarray}\n",
        "y_1 &=& \\beta_{11}x_1 + \\beta_{12}x_2 + \\beta_{13}x_3 + \\beta_{14}x_4 + \\beta_{15}x_5 + \\beta_{10}\\\\\n",
        "y_2 &=& \\beta_{21}x_1 + \\beta_{22}x_2 + \\beta_{23}x_3 + \\beta_{24}x_4 + \\beta_{25}x_5 + \\beta_{20} \\\\\n",
        "y_3 &=& \\beta_{31}x_1 + \\beta_{32}x_2 + \\beta_{33}x_3 + \\beta_{34}x_4 + \\beta_{35}x_5 + \\beta_{30} \\\\\n",
        "y_4 &=& \\beta_{41}x_1 + \\beta_{42}x_2 + \\beta_{43}x_3 + \\beta_{44}x_4 + \\beta_{45}x_5 + \\beta_{40} \\\\\n",
        "y_5 &=& \\beta_{51}x_1 + \\beta_{52}x_2 + \\beta_{53}x_3 + \\beta_{54}x_4 + \\beta_{55}x_5 + \\beta_{50}\n",
        "\\end{eqnarray}"
      ]
    },
    {
      "cell_type": "code",
      "metadata": {
        "id": "DNgVNdIshPrQ",
        "colab": {
          "base_uri": "https://localhost:8080/"
        },
        "outputId": "ea1cad8d-cf03-448b-8663-6ea86200d7f4"
      },
      "source": [
        "X1 = np.hstack((X, np.ones((n_obs, 1))))\n",
        "beta = cp.Variable((6, 5))\n",
        "obj = cp.Minimize(cp.norm(Y - cp.matmul(X1, beta)))\n",
        "prob = cp.Problem(obj)\n",
        "prob.solve()"
      ],
      "execution_count": 147,
      "outputs": [
        {
          "output_type": "execute_result",
          "data": {
            "text/plain": [
              "35.535277027584655"
            ]
          },
          "metadata": {
            "tags": []
          },
          "execution_count": 147
        }
      ]
    },
    {
      "cell_type": "code",
      "metadata": {
        "id": "_ZfO4ADUiErs",
        "colab": {
          "base_uri": "https://localhost:8080/"
        },
        "outputId": "6da3a351-1316-4e04-9286-2908f38c81b8"
      },
      "source": [
        "print_status(prob, beta)"
      ],
      "execution_count": 148,
      "outputs": [
        {
          "output_type": "stream",
          "text": [
            "Problem status: optimal\n",
            "Optimal value: 35.535277027584655\n",
            "Beta values:\n",
            "[[ 1.09397889e-02  2.59220080e-02 -4.43067351e-02  2.48319614e-02\n",
            "  -2.21265280e-02]\n",
            " [ 1.00519081e-02 -3.56046136e-02  2.47613889e-02  1.09339153e-02\n",
            "   1.12205095e-02]\n",
            " [-2.02438936e-02  2.62953456e-02  2.76433063e-02 -7.35515989e-03\n",
            "   3.72673410e-02]\n",
            " [ 3.30284669e-02 -1.12285498e-02 -1.08815323e-02  2.60963434e-02\n",
            "  -5.23252671e-02]\n",
            " [ 3.59263790e-02 -4.47787525e-02  1.50764993e-02 -2.11889100e-02\n",
            "  -2.19615602e-02]\n",
            " [ 9.43465094e-05  6.67892246e-06  1.90589107e-04  1.46015662e-04\n",
            "   3.20768804e-05]]\n"
          ],
          "name": "stdout"
        }
      ]
    },
    {
      "cell_type": "code",
      "metadata": {
        "id": "jArztsiIiIHq",
        "colab": {
          "base_uri": "https://localhost:8080/"
        },
        "outputId": "98bdc585-87cf-4524-db3f-320d828fbdf0"
      },
      "source": [
        "compute_error(X1, Y, beta)"
      ],
      "execution_count": 149,
      "outputs": [
        {
          "output_type": "stream",
          "text": [
            "Total sum of squares of error: [1156.61297354 1154.53873561 1155.74810773 1157.75627625 1154.04137772]\n",
            "Root mean square of error: [0.02931811 0.02929181 0.02930715 0.0293326  0.0292855 ]\n"
          ],
          "name": "stdout"
        },
        {
          "output_type": "execute_result",
          "data": {
            "text/plain": [
              "array([0.02931811, 0.02929181, 0.02930715, 0.0293326 , 0.0292855 ])"
            ]
          },
          "metadata": {
            "tags": []
          },
          "execution_count": 149
        }
      ]
    },
    {
      "cell_type": "code",
      "metadata": {
        "id": "I2gbXOi-iL-m",
        "colab": {
          "base_uri": "https://localhost:8080/"
        },
        "outputId": "a35e03f8-07c8-4d9b-842b-ee1eb2b7f8b6"
      },
      "source": [
        "errors = compute_error_orig(X, Y, beta, scaler, X1)"
      ],
      "execution_count": 150,
      "outputs": [
        {
          "output_type": "stream",
          "text": [
            "[7.88313375e-01 6.92319537e-01 1.75097293e-04 2.01302863e-03\n",
            " 2.63304059e-03]\n"
          ],
          "name": "stdout"
        }
      ]
    },
    {
      "cell_type": "code",
      "metadata": {
        "id": "THQhyV6GFBKg"
      },
      "source": [
        "y_hat_2 = get_unscaled_yhat(X, Y, beta, scaler, X1)"
      ],
      "execution_count": 151,
      "outputs": []
    },
    {
      "cell_type": "code",
      "metadata": {
        "colab": {
          "base_uri": "https://localhost:8080/"
        },
        "id": "8iW1A4yJFHIQ",
        "outputId": "60f4a9ac-e6ef-4ed6-ab1e-9e4ea9a6e951"
      },
      "source": [
        "print(y_hat_2[0:10]) # print a sample of estimated Y."
      ],
      "execution_count": 152,
      "outputs": [
        {
          "output_type": "stream",
          "text": [
            "           y1          y2        y3        y4        y5\n",
            "0  281.649900  106.403730  0.010228  0.380068  1.317373\n",
            "1  282.354470  106.812487  0.009976  0.388508  1.313620\n",
            "2  281.192676  105.745318  0.010477  0.376376  1.321705\n",
            "3  283.819599  105.769458  0.009431  0.382885  1.303020\n",
            "4  283.884741  105.909133  0.009662  0.388307  1.304365\n",
            "5  284.587298  104.380090  0.009728  0.382917  1.304511\n",
            "6  283.448762  105.119022  0.009711  0.384002  1.304430\n",
            "7  281.724636  106.985929  0.009871  0.381488  1.312983\n",
            "8  281.243221  107.312474  0.010033  0.380083  1.316643\n",
            "9  282.301881  106.225362  0.010222  0.379249  1.314873\n"
          ],
          "name": "stdout"
        }
      ]
    },
    {
      "cell_type": "code",
      "metadata": {
        "id": "Nm3STmr1lcfC"
      },
      "source": [
        "model_summary = model_summary.append({'model_name': 'Linear model - 2', 'err_y1': errors[0], 'err_y2': errors[1], 'err_y3': errors[2], 'err_y4': errors[3], 'err_y5': errors[4]}, ignore_index=True)"
      ],
      "execution_count": 153,
      "outputs": []
    },
    {
      "cell_type": "markdown",
      "metadata": {
        "id": "yWz70uWnTjnb"
      },
      "source": [
        "# Nonlinear model - 1"
      ]
    },
    {
      "cell_type": "markdown",
      "metadata": {
        "id": "hym-UC4fU1ZV"
      },
      "source": [
        "We fit the model:\n",
        "\n",
        "\\begin{eqnarray}\n",
        "\\ln y_1 &=& \\beta_{11}x_1 + \\beta_{12}\\ln x_2 + \\beta_{13}\\ln x_3 + \\beta_{14}\\ln x_4 + \\beta_{15}\\ln x_5 \\\\\n",
        "\\ln y_2 &=& \\beta_{21}x_1 + \\beta_{22}\\ln x_2 + \\beta_{23}\\ln x_3 + \\beta_{24}\\ln x_4 + \\beta_{25}\\ln x_5 \\\\\n",
        "y_3 &=& \\beta_{31}x_1 + \\beta_{32}\\ln x_2 + \\beta_{33}\\ln x_3 + \\beta_{34}\\ln x_4 + \\beta_{35}\\ln x_5 \\\\\n",
        "y_4 &=& \\beta_{41}x_1 + \\beta_{42}\\ln x_2 + \\beta_{43}\\ln x_3 + \\beta_{44}\\ln x_4 + \\beta_{45}\\ln x_5 \\\\\n",
        "y_5 &=& \\beta_{51}x_1 + \\beta_{52}\\ln x_2 + \\beta_{53}\\ln x_3 + \\beta_{54}\\ln x_4 + \\beta_{55}\\ln x_5 \\\\\n",
        "\\end{eqnarray}"
      ]
    },
    {
      "cell_type": "code",
      "metadata": {
        "id": "aTF-0uUgUPUe"
      },
      "source": [
        "data_nm1 = data.copy()\n",
        "\n",
        "data_nm1['x2'] = np.log(data_nm1['x2'])\n",
        "data_nm1['x3'] = np.log(data_nm1['x3'])\n",
        "data_nm1['x4'] = np.log(data_nm1['x4'])\n",
        "data_nm1['x5'] = np.log(data_nm1['x5'])\n",
        "\n",
        "data_nm1['y1'] = np.log(data_nm1['y1'])\n",
        "data_nm1['y2'] = np.log(data_nm1['y2'])"
      ],
      "execution_count": 154,
      "outputs": []
    },
    {
      "cell_type": "markdown",
      "metadata": {
        "id": "sSlOYgwmZE_v"
      },
      "source": [
        "**This step can take a long time.**"
      ]
    },
    {
      "cell_type": "code",
      "metadata": {
        "id": "4ojgJK_4V4Fb",
        "colab": {
          "base_uri": "https://localhost:8080/"
        },
        "outputId": "bf42acb6-2b20-442c-cc94-4fd04920704e"
      },
      "source": [
        "X = data_nm1[['x1', 'x2', 'x3', 'x4', 'x5']].to_numpy(copy=True)\n",
        "Y = data_nm1[['y1', 'y2', 'y3', 'y4', 'y5']].to_numpy(copy=True)\n",
        "beta = cp.Variable((5, 5))\n",
        "obj = cp.Minimize(cp.norm(Y - cp.matmul(X, beta)))\n",
        "prob = cp.Problem(obj)\n",
        "prob.solve()"
      ],
      "execution_count": 155,
      "outputs": [
        {
          "output_type": "execute_result",
          "data": {
            "text/plain": [
              "8.305100187417185"
            ]
          },
          "metadata": {
            "tags": []
          },
          "execution_count": 155
        }
      ]
    },
    {
      "cell_type": "code",
      "metadata": {
        "id": "3zR0FZ3Za-q_",
        "colab": {
          "base_uri": "https://localhost:8080/"
        },
        "outputId": "8dc81b5f-4eb8-4149-ce24-d6f9e4743985"
      },
      "source": [
        "print_status(prob, beta)"
      ],
      "execution_count": 156,
      "outputs": [
        {
          "output_type": "stream",
          "text": [
            "Problem status: optimal\n",
            "Optimal value: 8.305100187417185\n",
            "Beta values:\n",
            "[[ 4.24407642e-01  9.19228230e-01 -1.83308583e-02  1.39424365e-01\n",
            "  -4.27318804e-02]\n",
            " [ 1.79095648e-01  8.50325176e-02  1.39617787e-03  1.83790729e-02\n",
            "   5.97255814e-02]\n",
            " [ 1.32647535e-01  2.30710221e-01  1.33360064e-03  6.37619860e-03\n",
            "   7.65496021e-02]\n",
            " [ 2.69589815e-01  2.45463165e-01 -7.88288533e-04  3.26207990e-02\n",
            "   3.19679261e-02]\n",
            " [ 3.88274684e-01  2.34984382e-01  9.42597893e-04  2.78823336e-03\n",
            "   8.07657252e-02]]\n"
          ],
          "name": "stdout"
        }
      ]
    },
    {
      "cell_type": "code",
      "metadata": {
        "id": "VCJZh_eTXU7L",
        "colab": {
          "base_uri": "https://localhost:8080/"
        },
        "outputId": "b0db1513-2f37-4cfc-ca1c-2a50749b9479"
      },
      "source": [
        "errors = compute_error_orig(X, Y, beta, scaler)"
      ],
      "execution_count": 157,
      "outputs": [
        {
          "output_type": "stream",
          "text": [
            "[4.52004980e+00 3.29259774e+00 1.75424015e-04 2.15626246e-03\n",
            " 4.35624627e-03]\n"
          ],
          "name": "stdout"
        }
      ]
    },
    {
      "cell_type": "code",
      "metadata": {
        "id": "XzqB0XpCGhTH"
      },
      "source": [
        "y_hat_3 = get_unscaled_yhat(X, Y, beta, scaler)"
      ],
      "execution_count": 158,
      "outputs": []
    },
    {
      "cell_type": "code",
      "metadata": {
        "colab": {
          "base_uri": "https://localhost:8080/"
        },
        "id": "5d57c0TWGpIi",
        "outputId": "4c900fc8-6d48-41d4-b7ca-f5341b01f8e3"
      },
      "source": [
        "print(y_hat_3[0:10]) # print a sample of estimated Y."
      ],
      "execution_count": 159,
      "outputs": [
        {
          "output_type": "stream",
          "text": [
            "           y1          y2        y3        y4        y5\n",
            "0  434.340306  216.398206  0.010015  0.407615  1.431778\n",
            "1  435.365908  217.505051  0.010013  0.408366  1.432412\n",
            "2  433.830094  215.771112  0.010017  0.407267  1.431742\n",
            "3  433.816325  215.592680  0.010011  0.407659  1.429771\n",
            "4  435.381340  217.153151  0.010012  0.408304  1.431551\n",
            "5  435.275632  216.551782  0.010012  0.407896  1.431321\n",
            "6  433.694468  215.296687  0.010012  0.407734  1.429839\n",
            "7  433.415170  215.700660  0.010013  0.407553  1.430478\n",
            "8  433.601798  215.994919  0.010014  0.407497  1.431018\n",
            "9  434.956868  216.913743  0.010015  0.407652  1.432120\n"
          ],
          "name": "stdout"
        }
      ]
    },
    {
      "cell_type": "code",
      "metadata": {
        "id": "GfGMZoqUml-r"
      },
      "source": [
        "model_summary = model_summary.append({'model_name': 'Nonlinear model - 1', 'err_y1': errors[0], 'err_y2': errors[1], 'err_y3': errors[2], 'err_y4': errors[3], 'err_y5': errors[4]}, ignore_index=True)"
      ],
      "execution_count": 160,
      "outputs": []
    },
    {
      "cell_type": "markdown",
      "metadata": {
        "id": "2jUul-RNqWWK"
      },
      "source": [
        "# Nonlinear model - 1a"
      ]
    },
    {
      "cell_type": "markdown",
      "metadata": {
        "id": "3PaQq9U6qex2"
      },
      "source": [
        "We fit the model:\n",
        "\n",
        "\\begin{eqnarray}\n",
        "\\ln y_1 &=& \\beta_{11}x_1 + \\beta_{12}\\ln x_2 + \\beta_{13}\\ln x_3 + \\beta_{14}\\ln x_4 + \\beta_{15}\\ln x_5 + \\beta_{10}\\\\\n",
        "\\ln y_2 &=& \\beta_{21}x_1 + \\beta_{22}\\ln x_2 + \\beta_{23}\\ln x_3 + \\beta_{24}\\ln x_4 + \\beta_{25}\\ln x_5 + \\beta_{20} \\\\\n",
        "y_3 &=& \\beta_{31}x_1 + \\beta_{32}\\ln x_2 + \\beta_{33}\\ln x_3 + \\beta_{34}\\ln x_4 + \\beta_{35}\\ln x_5 + \\beta_{30} \\\\\n",
        "y_4 &=& \\beta_{41}x_1 + \\beta_{42}\\ln x_2 + \\beta_{43}\\ln x_3 + \\beta_{44}\\ln x_4 + \\beta_{45}\\ln x_5 + \\beta_{40} \\\\\n",
        "y_5 &=& \\beta_{51}x_1 + \\beta_{52}\\ln x_2 + \\beta_{53}\\ln x_3 + \\beta_{54}\\ln x_4 + \\beta_{55}\\ln x_5 + \\beta_{50} \\\\\n",
        "\\end{eqnarray}"
      ]
    },
    {
      "cell_type": "code",
      "metadata": {
        "id": "pjuOqJfSqpNl",
        "colab": {
          "base_uri": "https://localhost:8080/"
        },
        "outputId": "8f849edd-9ee9-4cd8-e58a-cb77a2207d0a"
      },
      "source": [
        "data_nm1 = data.copy()\n",
        "\n",
        "data_nm1['x2'] = np.log(data_nm1['x2'])\n",
        "data_nm1['x3'] = np.log(data_nm1['x3'])\n",
        "data_nm1['x4'] = np.log(data_nm1['x4'])\n",
        "data_nm1['x5'] = np.log(data_nm1['x5'])\n",
        "\n",
        "data_nm1['y1'] = np.log(data_nm1['y1'])\n",
        "data_nm1['y2'] = np.log(data_nm1['y2'])\n",
        "\n",
        "X = data_nm1[['x1', 'x2', 'x3', 'x4', 'x5']].to_numpy(copy=True)\n",
        "Y = data_nm1[['y1', 'y2', 'y3', 'y4', 'y5']].to_numpy(copy=True)\n",
        "X1 = np.hstack((X, np.ones((n_obs, 1))))\n",
        "beta = cp.Variable((6, 5))\n",
        "obj = cp.Minimize(cp.norm(Y - cp.matmul(X1, beta)))\n",
        "prob = cp.Problem(obj)\n",
        "prob.solve()"
      ],
      "execution_count": 161,
      "outputs": [
        {
          "output_type": "execute_result",
          "data": {
            "text/plain": [
              "8.131718387558735"
            ]
          },
          "metadata": {
            "tags": []
          },
          "execution_count": 161
        }
      ]
    },
    {
      "cell_type": "code",
      "metadata": {
        "id": "-coSmZJpspig",
        "colab": {
          "base_uri": "https://localhost:8080/"
        },
        "outputId": "664a21d1-3ce7-4b1f-a4a5-35295e6c6d77"
      },
      "source": [
        "print_status(prob, beta)"
      ],
      "execution_count": 162,
      "outputs": [
        {
          "output_type": "stream",
          "text": [
            "Problem status: optimal\n",
            "Optimal value: 8.131718387558735\n",
            "Beta values:\n",
            "[[ 8.90788558e-02  5.74988290e-01 -9.50026868e-03  1.16636348e-01\n",
            "  -1.42652441e-01]\n",
            " [ 1.13444977e-02 -8.72357366e-02  1.85781502e-03  7.74110256e-03\n",
            "   8.80722709e-03]\n",
            " [-2.17434418e-02  7.21693077e-02 -5.44201275e-05 -3.12573944e-03\n",
            "   2.94501552e-02]\n",
            " [ 2.82224982e-02 -2.56561620e-03 -2.14124802e-03  1.77753164e-02\n",
            "  -4.20399104e-02]\n",
            " [ 4.09692015e-02 -1.22079097e-01  8.09385983e-04 -1.89398338e-02\n",
            "  -2.47706318e-02]\n",
            " [ 5.23364643e+00  5.37800571e+00  1.26805378e-02  3.25917593e-01\n",
            "   1.59519489e+00]]\n"
          ],
          "name": "stdout"
        }
      ]
    },
    {
      "cell_type": "code",
      "metadata": {
        "id": "ML1QCeHkswmQ",
        "colab": {
          "base_uri": "https://localhost:8080/"
        },
        "outputId": "5089b2c0-d93a-4b78-f89d-642ed254abbe"
      },
      "source": [
        "errors = compute_error_orig(X, Y, beta, scaler, X1)"
      ],
      "execution_count": 163,
      "outputs": [
        {
          "output_type": "stream",
          "text": [
            "[4.52037271e+00 3.29246071e+00 1.75425132e-04 2.15629645e-03\n",
            " 4.35568142e-03]\n"
          ],
          "name": "stdout"
        }
      ]
    },
    {
      "cell_type": "code",
      "metadata": {
        "id": "X7pBwaen0ZM4"
      },
      "source": [
        "y_hat_4 = get_unscaled_yhat(X, Y, beta, scaler, X1)"
      ],
      "execution_count": 164,
      "outputs": []
    },
    {
      "cell_type": "code",
      "metadata": {
        "colab": {
          "base_uri": "https://localhost:8080/"
        },
        "id": "j8dH6rL_IB65",
        "outputId": "229e4af1-dadf-451c-f6a7-f6d43dc93c0f"
      },
      "source": [
        "print(y_hat_4[0:10]) # Print a sample of estimates of y"
      ],
      "execution_count": 165,
      "outputs": [
        {
          "output_type": "stream",
          "text": [
            "           y1          y2        y3        y4        y5\n",
            "0  433.733381  215.850560  0.010014  0.407518  1.431159\n",
            "1  433.806517  216.098289  0.010012  0.408115  1.430820\n",
            "2  433.674873  215.631182  0.010016  0.407241  1.431588\n",
            "3  433.962362  215.724240  0.010011  0.407681  1.429919\n",
            "4  433.953064  215.863988  0.010011  0.408075  1.430090\n",
            "5  434.030702  215.427267  0.010013  0.407694  1.430056\n",
            "6  433.926865  215.506600  0.010012  0.407771  1.430068\n",
            "7  433.742817  215.996932  0.010012  0.407606  1.430808\n",
            "8  433.691470  216.076336  0.010013  0.407512  1.431108\n",
            "9  433.787656  215.857915  0.010013  0.407466  1.430927\n"
          ],
          "name": "stdout"
        }
      ]
    },
    {
      "cell_type": "code",
      "metadata": {
        "id": "_syjrLIytOB4"
      },
      "source": [
        "model_summary = model_summary.append({'model_name': 'Nonlinear model - 1a', 'err_y1': errors[0], 'err_y2': errors[1], 'err_y3': errors[2], 'err_y4': errors[3], 'err_y5': errors[4]}, ignore_index=True)"
      ],
      "execution_count": 166,
      "outputs": []
    },
    {
      "cell_type": "markdown",
      "metadata": {
        "id": "R9RzKeCeYvZB"
      },
      "source": [
        "# Nonlinear model - 2"
      ]
    },
    {
      "cell_type": "markdown",
      "metadata": {
        "id": "1fGBoOvIaDee"
      },
      "source": [
        "Transform the variables. We are fitting the model:\n",
        "\n",
        "\\begin{eqnarray}\n",
        "y_1 &=& \\beta_{11}x_1 + \\beta_{12}\\ln x_2 + \\beta_{13}\\ln x_3 + \\beta_{14}\\ln x_4 + \\beta_{15}\\ln x_5 \\\\\n",
        "y_2 &=& \\beta_{21}x_1 + \\beta_{22}\\ln x_2 + \\beta_{23}\\ln x_3 + \\beta_{24}\\ln x_4 + \\beta_{25}\\ln x_5 \\\\\n",
        "y_3 &=& \\beta_{31}x_1 + \\beta_{32}\\ln x_2 + \\beta_{33}\\ln x_3 + \\beta_{34}\\ln x_4 + \\beta_{35}\\ln x_5 \\\\\n",
        "y_4 &=& \\beta_{41}x_1 + \\beta_{42}\\ln x_2 + \\beta_{43}\\ln x_3 + \\beta_{44}\\ln x_4 + \\beta_{45}\\ln x_5 \\\\\n",
        "y_5 &=& \\beta_{51}x_1 + \\beta_{52}\\ln x_2 + \\beta_{53}\\ln x_3 + \\beta_{54}\\ln x_4 + \\beta_{55}\\ln x_5 \\\\\n",
        "\\end{eqnarray}"
      ]
    },
    {
      "cell_type": "code",
      "metadata": {
        "id": "eZslJfnfY0Xd"
      },
      "source": [
        "data_nm2 = data.copy()\n",
        "\n",
        "data_nm2['x2'] = np.log(data_nm2['x2'])\n",
        "data_nm2['x3'] = np.log(data_nm2['x3'])\n",
        "data_nm2['x4'] = np.log(data_nm2['x4'])\n",
        "data_nm2['x5'] = np.log(data_nm2['x5'])"
      ],
      "execution_count": 167,
      "outputs": []
    },
    {
      "cell_type": "markdown",
      "metadata": {
        "id": "ullisUuIa5Ku"
      },
      "source": [
        "**This step can take a few minutes.**"
      ]
    },
    {
      "cell_type": "code",
      "metadata": {
        "id": "LSZtf0MDY_QM",
        "colab": {
          "base_uri": "https://localhost:8080/"
        },
        "outputId": "997ab30c-bc75-4a7f-b695-9592360a3333"
      },
      "source": [
        "X = data_nm2[['x1', 'x2', 'x3', 'x4', 'x5']].to_numpy(copy=True)\n",
        "Y = data_nm2[['y1', 'y2', 'y3', 'y4', 'y5']].to_numpy(copy=True)\n",
        "beta = cp.Variable((5, 5))\n",
        "obj = cp.Minimize(cp.norm(Y - cp.matmul(X, beta)))\n",
        "prob = cp.Problem(obj)\n",
        "prob.solve()"
      ],
      "execution_count": 168,
      "outputs": [
        {
          "output_type": "execute_result",
          "data": {
            "text/plain": [
              "918.4829557994454"
            ]
          },
          "metadata": {
            "tags": []
          },
          "execution_count": 168
        }
      ]
    },
    {
      "cell_type": "code",
      "metadata": {
        "id": "1yeAJHhFayQY",
        "colab": {
          "base_uri": "https://localhost:8080/"
        },
        "outputId": "0540cab6-7091-47fe-920d-3c410bbacaad"
      },
      "source": [
        "print_status(prob, beta)"
      ],
      "execution_count": 169,
      "outputs": [
        {
          "output_type": "stream",
          "text": [
            "Problem status: optimal\n",
            "Optimal value: 918.4829557994454\n",
            "Beta values:\n",
            "[[ 3.25715798e+01  5.62077151e+01 -3.60577321e-01 -5.80506727e-01\n",
            "  -1.25713030e+00]\n",
            " [ 8.51565325e+00 -2.20178778e+00 -1.87710797e-01 -1.13926160e-01\n",
            "  -5.18954634e-03]\n",
            " [-1.26475186e+00  1.18470501e+01  1.30673201e-01  4.18812154e-02\n",
            "   2.99929555e-01]\n",
            " [ 1.55160765e+01  7.75954533e+00  1.75203901e-01  5.82633512e-02\n",
            "  -1.17186472e-01]\n",
            " [ 2.31772235e+01  3.30955793e-01 -1.41628782e-01  7.27569643e-02\n",
            "   1.71138948e-01]]\n"
          ],
          "name": "stdout"
        }
      ]
    },
    {
      "cell_type": "code",
      "metadata": {
        "id": "cUEabBnVZyyK",
        "colab": {
          "base_uri": "https://localhost:8080/"
        },
        "outputId": "adb3614c-6917-4a45-f1d9-98ef2e47fec2"
      },
      "source": [
        "errors = compute_error_orig(X, Y, beta, scaler)"
      ],
      "execution_count": 170,
      "outputs": [
        {
          "output_type": "stream",
          "text": [
            "[2.22786559e+02 7.36892307e+01 1.75582977e-04 2.14874247e-03\n",
            " 4.31356397e-03]\n"
          ],
          "name": "stdout"
        }
      ]
    },
    {
      "cell_type": "code",
      "metadata": {
        "id": "q0oom8x00S4z"
      },
      "source": [
        "y_hat_5 = get_unscaled_yhat(X, Y, beta, scaler)"
      ],
      "execution_count": 171,
      "outputs": []
    },
    {
      "cell_type": "code",
      "metadata": {
        "colab": {
          "base_uri": "https://localhost:8080/"
        },
        "id": "535pITx2I4ja",
        "outputId": "3881bb12-68c1-4aa2-901c-6f4c29c710c0"
      },
      "source": [
        "print(y_hat_5[0:10]) # print a sample of estimates."
      ],
      "execution_count": 172,
      "outputs": [
        {
          "output_type": "stream",
          "text": [
            "            y1           y2        y3        y4        y5\n",
            "0  7875.032281  2638.288941  0.010054  0.406962  1.432700\n",
            "1  7921.740174  2686.253305  0.010069  0.404700  1.427445\n",
            "2  7845.993239  2606.412784  0.009918  0.407133  1.435549\n",
            "3  7914.995404  2601.133040  0.009986  0.406845  1.423899\n",
            "4  7959.965942  2660.556233  0.010085  0.405618  1.424354\n",
            "5  7978.935180  2614.911961  0.009824  0.406057  1.426029\n",
            "6  7902.306809  2582.078092  0.010050  0.406723  1.423505\n",
            "7  7847.204149  2623.552049  0.010139  0.407162  1.429030\n",
            "8  7840.647869  2637.893333  0.010139  0.407333  1.431794\n",
            "9  7908.842996  2655.002807  0.010122  0.407801  1.433688\n"
          ],
          "name": "stdout"
        }
      ]
    },
    {
      "cell_type": "code",
      "metadata": {
        "id": "3HT6vitymrTd"
      },
      "source": [
        "model_summary = model_summary.append({'model_name': 'Nonlinear model - 2', 'err_y1': errors[0], 'err_y2': errors[1], 'err_y3': errors[2], 'err_y4': errors[3], 'err_y5': errors[4]}, ignore_index=True)"
      ],
      "execution_count": 173,
      "outputs": []
    },
    {
      "cell_type": "markdown",
      "metadata": {
        "id": "LXpxk0I-rzN2"
      },
      "source": [
        "# Linear model using Nelder-Mead algorithm"
      ]
    },
    {
      "cell_type": "markdown",
      "metadata": {
        "id": "iWsWN7iS0k24"
      },
      "source": [
        "We are fitting the model:\n",
        "\n",
        "\\begin{eqnarray}\n",
        "y_1 &=& \\beta_{11}x_1 + \\beta_{12}x_2 + \\beta_{13}x_3 + \\beta_{14}x_4 + \\beta_{15}x_5 \\\\\n",
        "y_2 &=& \\beta_{21}x_1 + \\beta_{22}x_2 + \\beta_{23}x_3 + \\beta_{24}x_4 + \\beta_{25}x_5 \\\\\n",
        "y_3 &=& \\beta_{31}x_1 + \\beta_{32}x_2 + \\beta_{33}x_3 + \\beta_{34}x_4 + \\beta_{35}x_5 \\\\\n",
        "y_4 &=& \\beta_{41}x_1 + \\beta_{42}x_2 + \\beta_{43}x_3 + \\beta_{44}x_4 + \\beta_{45}x_5 \\\\\n",
        "y_5 &=& \\beta_{51}x_1 + \\beta_{52}x_2 + \\beta_{53}x_3 + \\beta_{54}x_4 + \\beta_{55}x_5\n",
        "\\end{eqnarray}"
      ]
    },
    {
      "cell_type": "code",
      "metadata": {
        "id": "AMWmvc80xRUK"
      },
      "source": [
        "X = scaled_data[:, 0:5]\n",
        "Y = scaled_data[:, 5:10]\n",
        "\n",
        "def error_fn0(beta):\n",
        "  return np.linalg.norm(Y[:, 0] - X @ beta)\n",
        "\n",
        "def error_fn1(beta):\n",
        "  return np.linalg.norm(Y[:, 1] - X @ beta)\n",
        "\n",
        "def error_fn2(beta):\n",
        "  return np.linalg.norm(Y[:, 2] - X @ beta)\n",
        "\n",
        "def error_fn3(beta):\n",
        "  return np.linalg.norm(Y[:, 3] - X @ beta)\n",
        "\n",
        "def error_fn4(beta):\n",
        "  return np.linalg.norm(Y[:, 4] - X @ beta)\n",
        "\n",
        "beta = np.zeros((5, 5))\n",
        "\n",
        "def run_nelder_mead_solver(beta):\n",
        "  r0 = optimize.minimize(error_fn0, beta[0, :], method='nelder-mead')\n",
        "  r1 = optimize.minimize(error_fn1, beta[1, :], method='nelder-mead')\n",
        "  r2 = optimize.minimize(error_fn2, beta[2, :], method='nelder-mead')\n",
        "  r3 = optimize.minimize(error_fn3, beta[3, :], method='nelder-mead')\n",
        "  r4 = optimize.minimize(error_fn4, beta[4, :], method='nelder-mead')\n",
        "\n",
        "  beta[0, :] = r0.fun\n",
        "  beta[1, :] = r1.fun\n",
        "  beta[2, :] = r2.fun\n",
        "  beta[3, :] = r3.fun\n",
        "  beta[4, :] = r4.fun\n",
        "\n",
        "  return beta\n",
        "\n",
        "beta = run_nelder_mead_solver(beta)\n"
      ],
      "execution_count": 174,
      "outputs": []
    },
    {
      "cell_type": "code",
      "metadata": {
        "id": "MeL_GsuCzzjv",
        "colab": {
          "base_uri": "https://localhost:8080/"
        },
        "outputId": "0a6fc655-9ca3-4e2f-e4e2-4296616c3f32"
      },
      "source": [
        "errors = compute_error_orig(X, Y, beta, scaler)"
      ],
      "execution_count": 175,
      "outputs": [
        {
          "output_type": "stream",
          "text": [
            "[6.07828666e+01 5.34628055e+01 1.35100176e-02 1.55170923e-01\n",
            " 2.03375578e-01]\n"
          ],
          "name": "stdout"
        }
      ]
    },
    {
      "cell_type": "code",
      "metadata": {
        "id": "D1Ads7nuz3lG"
      },
      "source": [
        "y_hat_6 = get_unscaled_yhat(X, Y, beta, scaler)"
      ],
      "execution_count": 176,
      "outputs": []
    },
    {
      "cell_type": "code",
      "metadata": {
        "colab": {
          "base_uri": "https://localhost:8080/"
        },
        "id": "NgorMAgCJPqE",
        "outputId": "af8aaae3-83fc-44ff-86fa-cd5c2a22b0ed"
      },
      "source": [
        "print(y_hat_6[0:10])"
      ],
      "execution_count": 177,
      "outputs": [
        {
          "output_type": "stream",
          "text": [
            "            y1           y2        y3         y4         y5\n",
            "0  1266.572904   971.471389  0.228683   2.893885   4.604357\n",
            "1  4579.689845  3883.758801  0.964856  11.350046  15.682800\n",
            "2   301.324289   123.001069  0.014205   0.430253   1.376746\n",
            "3  -105.352502  -234.474903 -0.076158  -0.607719   0.016894\n",
            "4  3326.163667  2781.887489  0.686323   8.150636  11.491243\n",
            "5  2375.672409  1946.389143  0.475124   5.724670   8.312978\n",
            "6  -835.564224  -876.343707 -0.238411  -2.471459  -2.424797\n",
            "7  -419.444425  -510.567167 -0.145949  -1.409385  -1.033370\n",
            "8   177.907231    14.515328 -0.013218   0.115252   0.964062\n",
            "9  1964.020792  1584.540212  0.383656   4.674000   6.936492\n"
          ],
          "name": "stdout"
        }
      ]
    },
    {
      "cell_type": "code",
      "metadata": {
        "id": "iL_H8qUC0uSl"
      },
      "source": [
        "model_summary = model_summary.append({'model_name': 'Nelder-Mead', 'err_y1': errors[0], 'err_y2': errors[1], 'err_y3': errors[2], 'err_y4': errors[3], 'err_y5': errors[4]}, ignore_index=True)"
      ],
      "execution_count": 178,
      "outputs": []
    },
    {
      "cell_type": "markdown",
      "metadata": {
        "id": "CULffD2SdGnf"
      },
      "source": [
        "# Levenberg-Marquardt algorithm\n",
        "\n",
        "The <code>scipy</code> function <code>leastsq</code> used the Levenberg-Marquardt algorithm to find the values of the coefficients that minimize the squared error. Refer to the notes section of the [documentation](https://docs.scipy.org/doc/scipy/reference/generated/scipy.optimize.leastsq.html#scipy.optimize.leastsq) and the MINPACK documentation of [lmder](https://www.math.utah.edu/software/minpack/minpack/lmder.html) and [lmdif](https://www.math.utah.edu/software/minpack/minpack/lmdif.html).\n"
      ]
    },
    {
      "cell_type": "code",
      "metadata": {
        "id": "jQatyt-QdJvh"
      },
      "source": [
        "X = scaled_data[:, 0:5]\n",
        "Y = scaled_data[:, 5:10]\n",
        "\n",
        "def error_fn0(beta):\n",
        "  return (Y[:, 0] - X @ beta)\n",
        "\n",
        "def error_fn1(beta):\n",
        "  return (Y[:, 1] - X @ beta)\n",
        "\n",
        "def error_fn2(beta):\n",
        "  return (Y[:, 2] - X @ beta)\n",
        "\n",
        "def error_fn3(beta):\n",
        "  return (Y[:, 3] - X @ beta)\n",
        "\n",
        "def error_fn4(beta):\n",
        "  return (Y[:, 4] - X @ beta)\n",
        "\n",
        "beta = np.zeros((5, 5))\n",
        "\n",
        "def run_lm_solver(beta):\n",
        "  r0 = optimize.leastsq(error_fn0, beta[0, :])\n",
        "  r1 = optimize.leastsq(error_fn1, beta[1, :])\n",
        "  r2 = optimize.leastsq(error_fn2, beta[2, :])\n",
        "  r3 = optimize.leastsq(error_fn3, beta[3, :])\n",
        "  r4 = optimize.leastsq(error_fn4, beta[4, :])\n",
        "\n",
        "  beta[0, :] = r0[0]\n",
        "  beta[1, :] = r1[0]\n",
        "  beta[2, :] = r2[0]\n",
        "  beta[3, :] = r3[0]\n",
        "  beta[4, :] = r4[0]\n",
        "\n",
        "  return beta\n",
        "\n",
        "beta = run_lm_solver(beta)"
      ],
      "execution_count": 179,
      "outputs": []
    },
    {
      "cell_type": "code",
      "metadata": {
        "id": "BlXd1CZyfnxU",
        "colab": {
          "base_uri": "https://localhost:8080/"
        },
        "outputId": "bd04e137-c99c-409b-f4d6-b3ef0f1c9344"
      },
      "source": [
        "errors = compute_error_orig(X, Y, beta, scaler)"
      ],
      "execution_count": 180,
      "outputs": [
        {
          "output_type": "stream",
          "text": [
            "[7.90030729e-01 6.93673148e-01 1.75192641e-04 2.01462603e-03\n",
            " 2.64331028e-03]\n"
          ],
          "name": "stdout"
        }
      ]
    },
    {
      "cell_type": "code",
      "metadata": {
        "id": "efGFaQx70QKP"
      },
      "source": [
        "y_hat_7 = get_unscaled_yhat(X, Y, beta, scaler)"
      ],
      "execution_count": 181,
      "outputs": []
    },
    {
      "cell_type": "code",
      "metadata": {
        "colab": {
          "base_uri": "https://localhost:8080/"
        },
        "id": "DjTh35zWJfAt",
        "outputId": "dc73759a-0eb9-46d1-c23a-4cd7e87ce601"
      },
      "source": [
        "print(y_hat_7[0:10])"
      ],
      "execution_count": 182,
      "outputs": [
        {
          "output_type": "stream",
          "text": [
            "           y1          y2        y3        y4        y5\n",
            "0  280.761377  106.587177  0.010232  0.378947  1.312936\n",
            "1  284.159888  105.273293  0.010034  0.388038  1.309598\n",
            "2  279.517117  106.454459  0.010460  0.373791  1.312196\n",
            "3  283.526396  106.402410  0.009616  0.383704  1.314616\n",
            "4  285.058617  105.608888  0.009782  0.388365  1.308961\n",
            "5  283.457481  105.807219  0.010042  0.380224  1.309301\n",
            "6  284.835954  105.339897  0.009624  0.384939  1.308141\n",
            "7  281.940711  106.599228  0.009815  0.382945  1.315382\n",
            "8  280.622615  107.044601  0.010008  0.380843  1.316775\n",
            "9  279.948659  107.406021  0.010324  0.377461  1.313541\n"
          ],
          "name": "stdout"
        }
      ]
    },
    {
      "cell_type": "code",
      "metadata": {
        "id": "B3pW3JECfuDW"
      },
      "source": [
        "model_summary = model_summary.append({'model_name': 'Levenberg-Marquardt', 'err_y1': errors[0], 'err_y2': errors[1], 'err_y3': errors[2], 'err_y4': errors[3], 'err_y5': errors[4]}, ignore_index=True)"
      ],
      "execution_count": 183,
      "outputs": []
    },
    {
      "cell_type": "code",
      "metadata": {
        "id": "iKEc3cyA8uFO",
        "colab": {
          "base_uri": "https://localhost:8080/",
          "height": 248
        },
        "outputId": "90679d77-c687-4148-8f5a-63c106db3913"
      },
      "source": [
        "model_summary"
      ],
      "execution_count": 184,
      "outputs": [
        {
          "output_type": "execute_result",
          "data": {
            "text/html": [
              "<div>\n",
              "<style scoped>\n",
              "    .dataframe tbody tr th:only-of-type {\n",
              "        vertical-align: middle;\n",
              "    }\n",
              "\n",
              "    .dataframe tbody tr th {\n",
              "        vertical-align: top;\n",
              "    }\n",
              "\n",
              "    .dataframe thead th {\n",
              "        text-align: right;\n",
              "    }\n",
              "</style>\n",
              "<table border=\"1\" class=\"dataframe\">\n",
              "  <thead>\n",
              "    <tr style=\"text-align: right;\">\n",
              "      <th></th>\n",
              "      <th>model_name</th>\n",
              "      <th>err_y1</th>\n",
              "      <th>err_y2</th>\n",
              "      <th>err_y3</th>\n",
              "      <th>err_y4</th>\n",
              "      <th>err_y5</th>\n",
              "    </tr>\n",
              "  </thead>\n",
              "  <tbody>\n",
              "    <tr>\n",
              "      <th>0</th>\n",
              "      <td>Linear model - 1</td>\n",
              "      <td>0.788313</td>\n",
              "      <td>0.692319</td>\n",
              "      <td>0.000175</td>\n",
              "      <td>0.002013</td>\n",
              "      <td>0.002633</td>\n",
              "    </tr>\n",
              "    <tr>\n",
              "      <th>1</th>\n",
              "      <td>Linear model - 2</td>\n",
              "      <td>0.788313</td>\n",
              "      <td>0.692320</td>\n",
              "      <td>0.000175</td>\n",
              "      <td>0.002013</td>\n",
              "      <td>0.002633</td>\n",
              "    </tr>\n",
              "    <tr>\n",
              "      <th>2</th>\n",
              "      <td>Nonlinear model - 1</td>\n",
              "      <td>4.520050</td>\n",
              "      <td>3.292598</td>\n",
              "      <td>0.000175</td>\n",
              "      <td>0.002156</td>\n",
              "      <td>0.004356</td>\n",
              "    </tr>\n",
              "    <tr>\n",
              "      <th>3</th>\n",
              "      <td>Nonlinear model - 1a</td>\n",
              "      <td>4.520373</td>\n",
              "      <td>3.292461</td>\n",
              "      <td>0.000175</td>\n",
              "      <td>0.002156</td>\n",
              "      <td>0.004356</td>\n",
              "    </tr>\n",
              "    <tr>\n",
              "      <th>4</th>\n",
              "      <td>Nonlinear model - 2</td>\n",
              "      <td>222.786559</td>\n",
              "      <td>73.689231</td>\n",
              "      <td>0.000176</td>\n",
              "      <td>0.002149</td>\n",
              "      <td>0.004314</td>\n",
              "    </tr>\n",
              "    <tr>\n",
              "      <th>5</th>\n",
              "      <td>Nelder-Mead</td>\n",
              "      <td>60.782867</td>\n",
              "      <td>53.462805</td>\n",
              "      <td>0.013510</td>\n",
              "      <td>0.155171</td>\n",
              "      <td>0.203376</td>\n",
              "    </tr>\n",
              "    <tr>\n",
              "      <th>6</th>\n",
              "      <td>Levenberg-Marquardt</td>\n",
              "      <td>0.790031</td>\n",
              "      <td>0.693673</td>\n",
              "      <td>0.000175</td>\n",
              "      <td>0.002015</td>\n",
              "      <td>0.002643</td>\n",
              "    </tr>\n",
              "  </tbody>\n",
              "</table>\n",
              "</div>"
            ],
            "text/plain": [
              "             model_name      err_y1     err_y2    err_y3    err_y4    err_y5\n",
              "0      Linear model - 1    0.788313   0.692319  0.000175  0.002013  0.002633\n",
              "1      Linear model - 2    0.788313   0.692320  0.000175  0.002013  0.002633\n",
              "2   Nonlinear model - 1    4.520050   3.292598  0.000175  0.002156  0.004356\n",
              "3  Nonlinear model - 1a    4.520373   3.292461  0.000175  0.002156  0.004356\n",
              "4   Nonlinear model - 2  222.786559  73.689231  0.000176  0.002149  0.004314\n",
              "5           Nelder-Mead   60.782867  53.462805  0.013510  0.155171  0.203376\n",
              "6   Levenberg-Marquardt    0.790031   0.693673  0.000175  0.002015  0.002643"
            ]
          },
          "metadata": {
            "tags": []
          },
          "execution_count": 184
        }
      ]
    },
    {
      "cell_type": "markdown",
      "metadata": {
        "id": "QdR7HjnMEDSi"
      },
      "source": [
        "# Conclusion\n",
        "The model summary indicates that the non-linear model has given the best results on simulated data. The exercise needs to repeated on real data to get the best results."
      ]
    },
    {
      "cell_type": "markdown",
      "metadata": {
        "id": "UVblC_HFm_tD"
      },
      "source": [
        "# Weighted model - 1"
      ]
    },
    {
      "cell_type": "code",
      "metadata": {
        "id": "0z7EPuQAnCNT"
      },
      "source": [
        "weights = 0.2 * np.ones(5)\n",
        "X = scaled_data[:, 0:5]\n",
        "Y = scaled_data[:, 5:10]\n",
        "y = np.average(Y, axis=1, weights=weights)\n",
        "y = y.reshape((n_obs, 1))"
      ],
      "execution_count": 185,
      "outputs": []
    },
    {
      "cell_type": "code",
      "metadata": {
        "id": "0qeAhXFNo0g4",
        "colab": {
          "base_uri": "https://localhost:8080/"
        },
        "outputId": "79209d86-9369-4d5e-8e91-00777521a7dc"
      },
      "source": [
        "beta = cp.Variable((5, 1))\n",
        "obj = cp.Minimize(cp.sum_squares(y - X@beta))\n",
        "prob = cp.Problem(obj)\n",
        "prob.solve()"
      ],
      "execution_count": 186,
      "outputs": [
        {
          "output_type": "execute_result",
          "data": {
            "text/plain": [
              "222.43462549212643"
            ]
          },
          "metadata": {
            "tags": []
          },
          "execution_count": 186
        }
      ]
    },
    {
      "cell_type": "code",
      "metadata": {
        "id": "BwkZ6v7Vpcjm",
        "colab": {
          "base_uri": "https://localhost:8080/"
        },
        "outputId": "22f56f2d-2e68-42e3-e5b0-6b2e4ce2b96c"
      },
      "source": [
        "print_status(prob, beta)"
      ],
      "execution_count": 187,
      "outputs": [
        {
          "output_type": "stream",
          "text": [
            "Problem status: optimal\n",
            "Optimal value: 222.43462549212643\n",
            "Beta values:\n",
            "[[-0.00100429]\n",
            " [ 0.00412584]\n",
            " [ 0.01277479]\n",
            " [-0.00303544]\n",
            " [-0.00735161]]\n"
          ],
          "name": "stdout"
        }
      ]
    },
    {
      "cell_type": "code",
      "metadata": {
        "id": "AgnobfZB0upv"
      },
      "source": [
        "Y_hat = cp.matmul(X, beta) # Estimates of Y."
      ],
      "execution_count": 188,
      "outputs": []
    },
    {
      "cell_type": "code",
      "metadata": {
        "id": "dwOrskeLplrN",
        "colab": {
          "base_uri": "https://localhost:8080/"
        },
        "outputId": "3d352959-29b9-469f-f820-2560ffcb5973"
      },
      "source": [
        "errors = compute_error(X, y, beta)"
      ],
      "execution_count": 189,
      "outputs": [
        {
          "output_type": "stream",
          "text": [
            "Total sum of squares of error: [222.43462549]\n",
            "Root mean square of error: [0.01285711]\n"
          ],
          "name": "stdout"
        }
      ]
    },
    {
      "cell_type": "code",
      "metadata": {
        "id": "uS-lUu5ux3rR"
      },
      "source": [
        "model_summary = model_summary.append({'model_name': 'Weighted model - 1', 'err_y1': errors[0], 'err_y2': None, 'err_y3': None, 'err_y4': None, 'err_y5': None}, ignore_index=True)"
      ],
      "execution_count": 190,
      "outputs": []
    },
    {
      "cell_type": "markdown",
      "metadata": {
        "id": "5xvDnADNtXFM"
      },
      "source": [
        "# Weighted model - 1a"
      ]
    },
    {
      "cell_type": "code",
      "metadata": {
        "id": "DAWRm0_utpib"
      },
      "source": [
        "weights = np.ones(5)/5\n",
        "X = scaled_data[:, 0:5]\n",
        "Y = scaled_data[:, 5:10]\n",
        "y = np.average(Y, axis=1, weights=weights)\n",
        "y = y.reshape((n_obs, 1))"
      ],
      "execution_count": 191,
      "outputs": []
    },
    {
      "cell_type": "code",
      "metadata": {
        "id": "cLuGoYNzt7Ko",
        "colab": {
          "base_uri": "https://localhost:8080/"
        },
        "outputId": "ffbfb3e7-423b-451a-8be9-7323281d379c"
      },
      "source": [
        "X1 = np.hstack((X, np.ones((n_obs, 1))))\n",
        "beta = cp.Variable((6, 1))\n",
        "obj = cp.Minimize(cp.sum_squares(y - X1@beta))\n",
        "prob = cp.Problem(obj)\n",
        "prob.solve()"
      ],
      "execution_count": 192,
      "outputs": [
        {
          "output_type": "execute_result",
          "data": {
            "text/plain": [
              "222.4346254921264"
            ]
          },
          "metadata": {
            "tags": []
          },
          "execution_count": 192
        }
      ]
    },
    {
      "cell_type": "code",
      "metadata": {
        "id": "4FUz2BRBuuug",
        "colab": {
          "base_uri": "https://localhost:8080/"
        },
        "outputId": "06111933-6760-4fdc-a63b-248a5fa899ce"
      },
      "source": [
        "print_status(prob, beta)"
      ],
      "execution_count": 193,
      "outputs": [
        {
          "output_type": "stream",
          "text": [
            "Problem status: optimal\n",
            "Optimal value: 222.4346254921264\n",
            "Beta values:\n",
            "[[-1.00429183e-03]\n",
            " [ 4.12584027e-03]\n",
            " [ 1.27747863e-02]\n",
            " [-3.03544212e-03]\n",
            " [-7.35160715e-03]\n",
            " [ 5.09418662e-18]]\n"
          ],
          "name": "stdout"
        }
      ]
    },
    {
      "cell_type": "code",
      "metadata": {
        "id": "-sH7yCp-02Lc"
      },
      "source": [
        "Y_hat = cp.matmul(X1, beta) # Estimates of Y."
      ],
      "execution_count": 194,
      "outputs": []
    },
    {
      "cell_type": "code",
      "metadata": {
        "id": "Teo7pUXeuyLw",
        "colab": {
          "base_uri": "https://localhost:8080/"
        },
        "outputId": "05d68498-0bfb-4f44-f7a9-73594306ab3d"
      },
      "source": [
        "errors = compute_error(X1, y, beta)"
      ],
      "execution_count": 195,
      "outputs": [
        {
          "output_type": "stream",
          "text": [
            "Total sum of squares of error: [222.43462549]\n",
            "Root mean square of error: [0.01285711]\n"
          ],
          "name": "stdout"
        }
      ]
    },
    {
      "cell_type": "code",
      "metadata": {
        "id": "D_7iUsYJyS8x"
      },
      "source": [
        "model_summary = model_summary.append({'model_name': 'Weighted model - 1a', 'err_y1': errors[0], 'err_y2': None, 'err_y3': None, 'err_y4': None, 'err_y5': None}, ignore_index=True)"
      ],
      "execution_count": 196,
      "outputs": []
    }
  ]
}