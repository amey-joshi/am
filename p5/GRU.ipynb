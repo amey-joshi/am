{
 "cells": [
  {
   "cell_type": "code",
   "execution_count": 1,
   "metadata": {},
   "outputs": [],
   "source": [
    "import numpy as np\n",
    "import matplotlib.pyplot as plt\n",
    "from scipy.integrate import odeint\n",
    "import math"
   ]
  },
  {
   "cell_type": "code",
   "execution_count": 2,
   "metadata": {},
   "outputs": [],
   "source": [
    "def list_mul_2d(M, m):\n",
    "    \"\"\" M is a list of lists. Multiply each one of them by m.\"\"\"\n",
    "    return [[m * x for x in L] for L in M]\n",
    "\n",
    "def f(h, t, U, extra = 0):  \n",
    "    v = np.matmul(U, h)\n",
    "    v0 = v[0, 0]\n",
    "    v1 = v[0, 1]\n",
    "    [x, y] = h\n",
    "    \n",
    "    xdot = 0.5*(np.tanh(v0) - x)\n",
    "    ydot = 0.5*(np.tanh(v1) - y)\n",
    "    \n",
    "    return [xdot, ydot]\n",
    "\n",
    "def solve(U, x_init):    \n",
    "    times = np.linspace(0, 500, 2000)  \n",
    "    xs = odeint(f, x_init, times, args = (U, 0))\n",
    "    \n",
    "    return xs\n",
    "\n",
    "def eu_dist(x1, x2):\n",
    "    \"\"\"Euclidean distance between points x1 and x2 in R^n.\"\"\"   \n",
    "    return np.linalg.norm(x1 - x2)\n",
    "\n",
    "def get_distance(x_init, xs):\n",
    "    return [eu_dist(x_init, x) for x in xs]"
   ]
  },
  {
   "cell_type": "code",
   "execution_count": 3,
   "metadata": {},
   "outputs": [],
   "source": [
    "U = np.matrix([[0.1, -0.1],[-1, 0]])\n",
    "xs = solve(U, [0.5, 0.5])"
   ]
  },
  {
   "cell_type": "code",
   "execution_count": 4,
   "metadata": {},
   "outputs": [
    {
     "data": {
      "text/plain": [
       "[<matplotlib.lines.Line2D at 0x7f8f02a432e0>]"
      ]
     },
     "execution_count": 4,
     "metadata": {},
     "output_type": "execute_result"
    },
    {
     "data": {
      "image/png": "[encoded data removed]",
      "text/plain": [
       "<Figure size 432x288 with 1 Axes>"
      ]
     },
     "metadata": {
      "needs_background": "light"
     },
     "output_type": "display_data"
    }
   ],
   "source": [
    "plt.plot(xs[:,0], xs[:,1], '-', color = 'black') # path\n",
    "plt.plot([xs[0,0]], [xs[0,1]], 'o', markersize = 2) # start\n",
    "plt.plot([xs[-1,0]], [xs[-1,1]], 's', markersize = 4, color='blue') # end"
   ]
  },
  {
   "cell_type": "code",
   "execution_count": null,
   "metadata": {},
   "outputs": [],
   "source": []
  }
 ],
 "metadata": {
  "kernelspec": {
   "display_name": "Python 3",
   "language": "python",
   "name": "python3"
  },
  "language_info": {
   "codemirror_mode": {
    "name": "ipython",
    "version": 3
   },
   "file_extension": ".py",
   "mimetype": "text/x-python",
   "name": "python",
   "nbconvert_exporter": "python",
   "pygments_lexer": "ipython3",
   "version": "3.8.5"
  }
 },
 "nbformat": 4,
 "nbformat_minor": 4
}
