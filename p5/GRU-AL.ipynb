{
 "cells": [
  {
   "cell_type": "markdown",
   "metadata": {},
   "source": [
    "I will implement a gated recurrent unit with an attention layer. The architecture is as described by equations (10.1) to (10.4) in my note on stability."
   ]
  },
  {
   "cell_type": "code",
   "execution_count": 45,
   "metadata": {},
   "outputs": [],
   "source": [
    "import numpy as np\n",
    "import matplotlib.pyplot as plt\n",
    "from scipy.integrate import odeint\n",
    "import math\n",
    "import random"
   ]
  },
  {
   "cell_type": "code",
   "execution_count": 46,
   "metadata": {},
   "outputs": [],
   "source": [
    "# Helper functions\n",
    "def get_random_weights(n):\n",
    "    \"\"\"Generate n random numbers whose total is 1.\"\"\"\n",
    "    R = random.sample(range(1, 11), n)\n",
    "    return np.array([r/sum(R) for r in R])\n",
    "\n",
    "\n",
    "def get_random_points(radius, n):\n",
    "    \"\"\"Generate n random points on a circle of given radius centred at the origin.\"\"\"\n",
    "    W = get_random_weights(n)\n",
    "    points = [[radius*np.cos(2*np.pi*w), radius*np.sin(2*np.pi*w)] for w in W]\n",
    "    \n",
    "    return points\n",
    "\n",
    "def list_mul_2d(M, m):\n",
    "    \"\"\" M is a list of lists. Multiply each one of them by m.\"\"\"\n",
    "    return [[m * x for x in L] for L in M]\n",
    "\n",
    "def eu_dist(x1, x2):\n",
    "    \"\"\"Euclidean distance between points x1 and x2 in R^n.\"\"\"   \n",
    "    return np.linalg.norm(x1 - x2)\n",
    "\n",
    "def get_distance(x_init, xs):\n",
    "    return [eu_dist(x_init, x) for x in xs]\n"
   ]
  },
  {
   "cell_type": "code",
   "execution_count": 47,
   "metadata": {},
   "outputs": [],
   "source": [
    "Wh = np.array([get_random_weights(3)])\n",
    "AWv = np.array([get_random_weights(2)])\n",
    "# Initial points on a small circle of radius 0.01.\n",
    "r = 0.01\n",
    "N = 10\n",
    "x_inits = [[r*np.cos(2*n*np.pi/N), r*np.sin(2*n*np.pi/N)] for n in range(1, N + 1)]\n",
    "\n",
    "# Build 4 x 3 weight matrix\n",
    "w1 = get_random_weights(4)\n",
    "w2 = get_random_weights(4)\n",
    "w3 = get_random_weights(4)\n",
    "W = np.matrix([w1, w2, w3]).T"
   ]
  },
  {
   "cell_type": "code",
   "execution_count": 118,
   "metadata": {},
   "outputs": [],
   "source": [
    "def f(h, t, U, extra = 0):  \n",
    "    v = np.matmul(U, h)\n",
    "    v0 = v[0]\n",
    "    v1 = v[1]\n",
    "    [x, y] = h\n",
    "    \n",
    "    xdot = 0.5*(np.tanh(v0) - x)\n",
    "    ydot = 0.5*(np.tanh(v1) - y)\n",
    "    \n",
    "    return [xdot, ydot]\n",
    "\n",
    "def get_HW(x, Wh):\n",
    "    H = np.matrix([x, x, x]).T\n",
    "    return np.matmul(H, Wh.T)\n",
    "\n",
    "def get_Ml(x, Wh, AWv):\n",
    "    hw = np.array(get_HW(x, Wh))\n",
    "    X = np.concatenate((hw, AWv.T), axis=None)\n",
    "    return np.tanh(X)\n",
    "\n",
    "def get_a(W, Ml):\n",
    "    args = np.exp([np.matrix(Ml) @ W[:, i] for i in range(W.shape[1])])   \n",
    "    return args/np.sum(args)\n",
    "\n",
    "def get_y(x, Wh, AWv, W):\n",
    "    Ml = get_Ml(x, Wh, AWv)\n",
    "    a = get_a(W, Ml)\n",
    "    H = np.matrix([x, x, x])\n",
    "    return H.T @ a.flatten()"
   ]
  },
  {
   "cell_type": "code",
   "execution_count": 119,
   "metadata": {},
   "outputs": [],
   "source": [
    "def solve(U, x_init):    \n",
    "    times = np.linspace(0, 500, 2000)  \n",
    "    xs = odeint(f, x_init, times, args = (U, 0))\n",
    "    \n",
    "    return xs"
   ]
  },
  {
   "cell_type": "code",
   "execution_count": 122,
   "metadata": {},
   "outputs": [],
   "source": [
    "def aluint(x_init, times, U):\n",
    "    xs = odeint(f, x_init, times, args = (U, 0))  \n",
    "    ys = np.array([get_y(xs[i, :], Wh, AWv, W) for i in range(xs.shape[0])])\n",
    "    ys = np.concatenate(ys, axis=0)\n",
    "    \n",
    "    return (xs, ys)"
   ]
  },
  {
   "cell_type": "code",
   "execution_count": 125,
   "metadata": {},
   "outputs": [],
   "source": [
    "# U = 3 * np.eye(2)\n",
    "U = np.array([[0.1, -0.1],[-1, 0]])\n",
    "times = np.linspace(0, 500, 2000)\n",
    "xs = solve(U, [0.5, 0.5])\n",
    "ignore, ys = aluint([0.5, 0.5], times, U)"
   ]
  },
  {
   "cell_type": "code",
   "execution_count": 126,
   "metadata": {},
   "outputs": [
    {
     "data": {
      "text/plain": [
       "[<matplotlib.lines.Line2D at 0x7fdbd5f6be50>]"
      ]
     },
     "execution_count": 126,
     "metadata": {},
     "output_type": "execute_result"
    },
    {
     "data": {
      "image/png": "[encoded data removed]",
      "text/plain": [
       "<Figure size 432x288 with 1 Axes>"
      ]
     },
     "metadata": {
      "needs_background": "light"
     },
     "output_type": "display_data"
    }
   ],
   "source": [
    "plt.plot(xs[:,0], xs[:,1], '-', color = 'black')\n",
    "plt.plot(ys[:,0], ys[:,1], '-', color = 'red')"
   ]
  },
  {
   "cell_type": "code",
   "execution_count": 127,
   "metadata": {},
   "outputs": [
    {
     "data": {
      "text/plain": [
       "-2.489584123927085e-16"
      ]
     },
     "execution_count": 127,
     "metadata": {},
     "output_type": "execute_result"
    }
   ],
   "source": [
    "np.sum(xs - ys)"
   ]
  },
  {
   "cell_type": "code",
   "execution_count": null,
   "metadata": {},
   "outputs": [],
   "source": []
  }
 ],
 "metadata": {
  "kernelspec": {
   "display_name": "Python 3",
   "language": "python",
   "name": "python3"
  },
  "language_info": {
   "codemirror_mode": {
    "name": "ipython",
    "version": 3
   },
   "file_extension": ".py",
   "mimetype": "text/x-python",
   "name": "python",
   "nbconvert_exporter": "python",
   "pygments_lexer": "ipython3",
   "version": "3.8.5"
  }
 },
 "nbformat": 4,
 "nbformat_minor": 4
}
