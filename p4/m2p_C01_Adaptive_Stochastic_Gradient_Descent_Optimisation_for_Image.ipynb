{
  "nbformat": 4,
  "nbformat_minor": 0,
  "metadata": {
    "colab": {
      "name": "m2p_C01_Adaptive Stochastic Gradient Descent Optimisation for Image.ipynb",
      "provenance": [],
      "collapsed_sections": [],
      "authorship_tag": "ABX9TyM13k27NCYAAILkr8cj2ik+",
      "include_colab_link": true
    },
    "kernelspec": {
      "name": "python3",
      "display_name": "Python 3"
    }
  },
  "cells": [
    {
      "cell_type": "markdown",
      "metadata": {
        "id": "view-in-github",
        "colab_type": "text"
      },
      "source": [
        "<a href=\"https://colab.research.google.com/github/amey-joshi/am/blob/master/p4/m2p_C01_Adaptive_Stochastic_Gradient_Descent_Optimisation_for_Image.ipynb\" target=\"_parent\"><img src=\"https://colab.research.google.com/assets/colab-badge.svg\" alt=\"Open In Colab\"/></a>"
      ]
    },
    {
      "cell_type": "markdown",
      "metadata": {
        "id": "1WwW6g03iivj",
        "colab_type": "text"
      },
      "source": [
        "# Introduction\n",
        "**Image registration** consists of matching two images of the same object that are taken in different configurations, or at different times or using different cameras. An example of the first case is when we are trying to match an image of an object in motion with the same object at rest. An example of the second case is a satellite taking images of the same patch of earth's surface at different times. An example of the third case is when one is trying to match a CT image of a portion of a certain patient with an MR image of the same portion of the same patient. In each case, we want to transform one of the images into another in 'the best possible' way. The word 'best' indicates that mathematically, image registration is an optimization problem.\n",
        "\n",
        "In this tutorial, we will use the first case as an example of image registration. That is, we will try to match a moving image with a fixed one. Define the fixed image by the mapping $F: \\Omega_F \\subset \\mathbb{R}^D \\mapsto \\mathbb{R}$. Thus, the function $F$ maps a point $x$ in the subset $\\Omega_F$ of $D$-dimensional points to a real number. Similarly, let the moving image be defined by the mapping $M: \\Omega_M \\subset \\mathbb{R}^D \\mapsto \\mathbb{R}$. Consider the mapping $T: \\Omega_F \\times \\mathbb{R}^p \\mapsto \\Omega_M$, where $\\mathbb{R}^p$ is the space of parameters. If $\\mu \\in \\mathbb{R}^p$ then $T(x, \\mu) = y$ maps a point $x \\in \\Omega_F$, the domain of the fixed image and a certain values of parameters $\\mu$ to a point $y \\in \\Omega_M$. \n",
        "\n",
        "Before proceeding, let us spend some time understanding this mathematical notation. As a concrete example, let $D = 3$, that is $\\Omega_F$, the domain of the fixed image, is a subset of the three dimensional euclidean space. The transformation $T$ will typically have a certain number of parameters. For example, we may try to fit $ax + b$ to $y$. Thus, we want to find the 'best' $a$ and $b$ so that $ax + b$ is closest to $y$. In this case, the transformation space if two dimensional, or $p = 2$.\n",
        "\n",
        "The idea of a match is expressed in terms of a cost function $\\mathcal{C}$. A commonly used cost function is the root mean square error between the fixed and the moving images. Thus, we may define\n",
        "$$\n",
        "  \\mathcal{C}(F, M) = \\left(\\sum_{x \\in \\Omega_F}||x - T(x, \\mu)||^2\\right)^{1/2},\n",
        "$$\n",
        "where $F$ is the fixed image and $M$ is the moving image. Note that in order to compute $\\mathcal{C}(X, Y)$, we have to add $||x - T(x, \\mu)||^2$ over **all** points and then take the square root. A typical $512 \\times 512$ image will involve summing over $512^2 = 261144$ points. Thus, computation of $C$ is usually an expensive operation.\n",
        "\n",
        "The optimization problem is to find those parameters $\\mu \\in \\mathbb{R}^p$ that **minimize** the cost $\\mathcal{C}(F, M)$. Note the similarity between this problem and the simple case of fitting a line using least square method. The image registration problem can be mathematically expressed as\n",
        "$$\\tag{1}\n",
        "\\hat{\\mu} = \\mathrm{argmin}_{\\mu}\\;\\mathcal{C}(F, M \\circ T).\n",
        "$$\n",
        "Equation (1) says, $\\hat{\\mu}$ is that value of the parameters that minimizes $\\mathcal{C}(F, M \\circ T)$. Let us understand the $M \\circ T$ part. If $x$ is a point in the domain $\\Omega_F$ of the fixed image then $(M \\circ T)(x) = M(T(x, \\mu))$. For a certain value of the parameters $\\mu$, $T$ maps a point $x \\in \\Omega_F$ to a point, say $y$ in the domain $\\Omega_M$ of the moving image. Recall the definition of the transformation $T$ as a mapping $T: \\Omega_F \\times \\mathbb{R}^p \\mapsto \\Omega_M$. Thus $M(T(x, \\mu)) = M(y)$, a point in the moving image. Thus, the composite function $M \\circ T$ maps a point of the fixed image to a point in the moving image. The optimization problem consists in finding the set of parameters which minimize the cost function.\n"
      ]
    },
    {
      "cell_type": "markdown",
      "metadata": {
        "id": "ugaPGpiXsB5Y",
        "colab_type": "text"
      },
      "source": [
        "## Gradient descent\n",
        "\n",
        "This tutorial uses the **adaptive stochastic gradient descent algorithm** to solve the optimization problem defined by equation (1). We shall explain the algorithm by telling its evolution from **gradient descent** to **stochastic gradient descent** and finally to **adaptive stochastic gradient descent** by explaining the ideas using an example of a simple function defined over one variable. Consider the function shown below."
      ]
    },
    {
      "cell_type": "code",
      "metadata": {
        "id": "2nSUBDBAveVW",
        "colab_type": "code",
        "outputId": "d7b30697-8e42-46c2-bec4-71db837dba8b",
        "colab": {
          "base_uri": "https://localhost:8080/",
          "height": 296
        }
      },
      "source": [
        "import numpy as np\n",
        "import matplotlib.pyplot as plt\n",
        "\n",
        "x = np.linspace(0.1, 1.1, 100)\n",
        "y = np.divide(np.cos(3 * np.pi * x), x)\n",
        "\n",
        "def f(x):\n",
        "  return np.cos(3 * np.pi * x)/x\n",
        "\n",
        "plt.plot(x, y)\n",
        "plt.xlabel(r'$x$')\n",
        "plt.ylabel(r'$y$')\n",
        "plt.title(r'$y = \\cos(3\\pi x)/x$')\n",
        "plt.text(0.15, f(0.15), 'A')\n",
        "plt.text(0.5, f(0.5), 'B')\n",
        "plt.text(0.62, f(0.62), 'C')\n",
        "plt.text(0.7, f(0.7), 'D')\n",
        "plt.text(0.3, f(0.3), 'M1')\n",
        "plt.text(1, f(1), 'M2')\n",
        "plt.show()\n"
      ],
      "execution_count": 0,
      "outputs": [
        {
          "output_type": "display_data",
          "data": {
            "image/png": "[encoded data removed]",
            "text/plain": [
              "<Figure size 432x288 with 1 Axes>"
            ]
          },
          "metadata": {
            "tags": [],
            "needs_background": "light"
          }
        }
      ]
    },
    {
      "cell_type": "markdown",
      "metadata": {
        "id": "EXQZPkNlyolI",
        "colab_type": "text"
      },
      "source": [
        "The idea of 'gradient descent' is just what is described by its name - descend against the gradient. The gradient is the direction in which the function rises the most. In a gradient descent, we take the opposite direction, in which it the function falls the most. Thus, we start at the point A in the graph shown above, we will reach M1. We will reach M1 even if we start from the opposite side, from point B. Point C is an interesting position. One can start in either direction and keep descending. If we descend to the left we reach M1 otherwise we reach M2. Both are correct answers for a gradient descent promises us to take to a **local minimum**.\n",
        "\n",
        "There is no general algorithm that assures that we hit a **global minimum**. If the function is **convex** we have the happy situation of the local minimum is also the global minimum. However, few functions in the context of images are convex. We will illustrate the gradient descent algorithm with a simple example."
      ]
    },
    {
      "cell_type": "code",
      "metadata": {
        "id": "_kFBqJiS04jr",
        "colab_type": "code",
        "outputId": "d3e068a1-3a32-42e7-b71f-80287da6a468",
        "colab": {
          "base_uri": "https://localhost:8080/",
          "height": 34
        }
      },
      "source": [
        "import numpy as np\n",
        "import matplotlib.pyplot as plt\n",
        "\n",
        "def f(x):\n",
        "  return np.cos(3 * np.pi * x)/x\n",
        "  \n",
        "def grad_f(x):\n",
        "  y = 3*np.pi*x\n",
        "  return -(y*np.sin(y) + np.cos(y))/x**2\n",
        "\n",
        "EPSILON = 1e-4\n",
        "max_iter = 1000\n",
        "n = 0\n",
        "x = 0.15 # Starting point.\n",
        "curr = f(x)\n",
        "step_size = 0.0005\n",
        "found = False\n",
        "\n",
        "while n < max_iter:\n",
        "  n = n + 1\n",
        "  df = grad_f(x)\n",
        "\n",
        "  if df < 0:\n",
        "    x = x + step_size\n",
        "  else:\n",
        "    x = x - step_size\n",
        "\n",
        "  new = f(x)\n",
        "  if np.abs(new - curr) < EPSILON:    \n",
        "    found = True\n",
        "    break\n",
        "  else:\n",
        "    curr = new\n",
        "\n",
        "if found:\n",
        "  print(f'Minimum is {x}. Needed {n} iterations')\n",
        "else:\n",
        "  print('Could not find a minimum of the function.')\n",
        "    \n"
      ],
      "execution_count": 0,
      "outputs": [
        {
          "output_type": "stream",
          "text": [
            "Minimum is 0.2965000000000001. Needed 293 iterations\n"
          ],
          "name": "stdout"
        }
      ]
    },
    {
      "cell_type": "markdown",
      "metadata": {
        "id": "y2iY0VWi7Wq4",
        "colab_type": "text"
      },
      "source": [
        "The code in the previous cell is written only for sake of illustration. A general purpose optimization function has a far more complicated implementation. You can experiment by changing the values of  <code>EPSILON, step_size or max_iter.</code> . If the <code>step_size</code> is too large, one might miss the minimum M1 and land at M2. If <code>EPSIPLON</code> is too small one might not find the minimum in the number of iterations less than <code>max_iter</code>. If <code>max_iter</code> is too small than one might give up the search before reaching the minimum. These observations indicate that writing a general purpose optimization function is a challenging task."
      ]
    },
    {
      "cell_type": "markdown",
      "metadata": {
        "id": "-2k9rfeJ_XWb",
        "colab_type": "text"
      },
      "source": [
        "## Stochastic gradient descent\n",
        "\n",
        "In the simple example we considered, it was very easy to compute the gradient. But often times, computing the gradients of cost functions like the ones in equation (1) is quite expensive. Usually, computing the cost function or its gradient involves all data points. When the data size is large and the data are multi-dimensional, computation of the gradient of the cost function at each iteration becomes a significant bottleneck. The **stochastic gradient descent** algorithm approximates the computation of gradient of a function by using only a small sample of randomly chosen data points. For example, in the case of linear regression, the cost function is \n",
        "$$\\tag{2}\n",
        "C_{r} = \\sum_{i=1}^N||\\hat{y}_i - y_i||^2,\n",
        "$$\n",
        "where $y_i \\in \\mathbb{R}^n$ are the observed valuesand $\\hat{y}_i$ are the estimated values. The norm $||\\cdot||$ is the usual norm in $\\mathbb{R}^n$. Computation of this term needs $Nn$ multiplications and $N(n-1)$ additions. If $N$ is large then computation of $C_r$ is an expensive task. The stochastic gradient descent approximates equation (2) as\n",
        "$$\\tag{3}\n",
        "C_{r} \\approx \\sum_{i=1}^M||\\hat{y}_i - y_i||^2,\n",
        "$$\n",
        "where $M \\ll N$ and the points $y_i$ are chosen randomly at each iteration. Although approximation of equatino (3) appears quite drastic in practice it is quite effective. "
      ]
    },
    {
      "cell_type": "markdown",
      "metadata": {
        "id": "O5F8aZ13IN-V",
        "colab_type": "text"
      },
      "source": [
        "## Adaptive stochastic gradient descent (ASGD)\n",
        "\n",
        "The step size of in the stochastic gradient determines how much we will descend in each iteration of the algorithm. Sometimes, it is useful to have the step size vary. If the change in the value of the function is not too much we increase the step size. If it is too small, we reduce it. Recall the experiment suggested on the gradient descent algorithm. A large step size can easily miss the minimum M1 and can land at M2 instead. Thus, the algorithm is quite sensitive to the choice of step size. Adaptive stochastic gradient algorithm improves the stochastic gradient algorithm by selecting an appropriate step size at each iteration.\n",
        "\n",
        "The adaptive stochastic gradient algorithm described in this paper can be summarized in the equations\n",
        "$$\\tag{4}\n",
        "\\boldsymbol{\\mu}_{k+1} = \\boldsymbol{\\mu}_k - \\gamma_k \\tilde{\\boldsymbol{g}}_k,  k = 0, 1, \\ldots, K,\n",
        "$$\n",
        "where\n",
        "$$\\tag{5}\n",
        "\\tilde{\\boldsymbol{g}}_k = \\boldsymbol{g}_k + \\boldsymbol{\\epsilon}_k.\n",
        "$$\n",
        "The 'stochastic' nature comes from the fact that the true gradient $\\boldsymbol{g}_k$ is approximated by $\\tilde{\\boldsymbol{g}}_k$. The 'adaptive' nature follows from the fact that the step size $\\gamma_k$ changes for every iteration.\n",
        "\n",
        "The step size is chosen by computing the inner product of the gradient in the current step with gradient in the previous step. If the two gradients are in the same direction then we can afford to take a longer step. If they are not then the step size should be taken small. The rest of the tutorial explains the details underlying this idea."
      ]
    },
    {
      "cell_type": "markdown",
      "metadata": {
        "id": "RI2w3AVwEuOn",
        "colab_type": "text"
      },
      "source": [
        "# Method"
      ]
    },
    {
      "cell_type": "markdown",
      "metadata": {
        "id": "mN6xPAF_E4uE",
        "colab_type": "text"
      },
      "source": [
        "## Summary of ASGD\n",
        "\n",
        "The adaptive step size is determined as\n",
        "$$\\tag{6}\n",
        "\\gamma_k = \\gamma(t_k),\n",
        "$$\n",
        "where the **gain function** $\\gamma(\\cdot)$ is defined as\n",
        "$$\\tag{7}\n",
        "\\gamma(x) = \\frac{a}{(x + A)^\\alpha},\n",
        "$$\n",
        "$a, A, \\alpha$ are constants and \n",
        "$$\\tag{8}\n",
        "t_{k+1} = [t_k + f(-\\boldsymbol{g}_k^T\\boldsymbol{g}_{k-1})]^+.\n",
        "$$\n",
        "This paper chooses $$\\tag{9} \\alpha = 1$$\n",
        "\n",
        "Note that $\\boldsymbol{g}_k^T\\boldsymbol{g}_{k-1}$ is just the inner product of $\\boldsymbol{g}_k$ and $\\boldsymbol{g}_{k-1}$. $[x]^+ = \\max(0, x)$ and $f$ has the  characteristics of the [sigmoid function](https://en.wikipedia.org/wiki/Sigmoid_function),\n",
        "$$\\tag{10}\n",
        "f(x) = \\frac{1}{1 + e^{-x}}.\n",
        "$$\n",
        "We emphasize that $f$ is **not** the sigmoid function. It is defined as\n",
        "$$\\tag{11}\n",
        "f(x) = f_{MIN} + \\frac{f_{MAX} - f_{MIN}}{1 - (f_{MAX}/f_{MIN})e^{-x/\\omega}},\n",
        "$$\n",
        "where $f_{MAX} > 0$, $f_{MIN} < 0$ and $\\omega > 0$ are constants. We demonstrate the function for $f_{MAX} = 1, f_{MIN} = -0.5$  and several choices of $\\omega$.\n"
      ]
    },
    {
      "cell_type": "code",
      "metadata": {
        "id": "cX1g42vjK5Q6",
        "colab_type": "code",
        "outputId": "91b9f8b5-3472-4e4e-ef4a-c18d6f52e21f",
        "colab": {
          "base_uri": "https://localhost:8080/",
          "height": 312
        }
      },
      "source": [
        "import numpy as np\n",
        "import matplotlib.pyplot as plt\n",
        "\n",
        "f_min = -0.5\n",
        "f_max = 1.0\n",
        "\n",
        "def sigmoid_like(x, omega):\n",
        "  y = np.exp(-x/omega)\n",
        "  return f_min + (f_max - f_min)/(1 - (f_max/f_min) * y)\n",
        "\n",
        "x = np.linspace(-15, 15, 101)\n",
        "y = sigmoid_like(x, 0.1)\n",
        "\n",
        "plt.plot(x, sigmoid_like(x, 0.1), label = r'$\\omega = 0.1$')\n",
        "plt.plot(x, sigmoid_like(x, 0.5), label = r'$\\omega = 0.5$')\n",
        "plt.plot(x, sigmoid_like(x, 1), label = r'$\\omega = 1$')\n",
        "plt.plot(x, sigmoid_like(x, 5), label = r'$\\omega = 5$')\n",
        "plt.plot([-15, 15], [0, 0], '--', color = 'black')\n",
        "plt.plot([0, 0], [-0.6, 1.1], '--', color = 'black')\n",
        "plt.xlabel(r'$x$')\n",
        "plt.ylabel(r'$y$')\n",
        "plt.legend()\n",
        "plt.title('Examples of sigmoid-like functions')"
      ],
      "execution_count": 0,
      "outputs": [
        {
          "output_type": "execute_result",
          "data": {
            "text/plain": [
              "Text(0.5, 1.0, 'Examples of sigmoid-like functions')"
            ]
          },
          "metadata": {
            "tags": []
          },
          "execution_count": 24
        },
        {
          "output_type": "display_data",
          "data": {
            "image/png": "[encoded data removed]",
            "text/plain": [
              "<Figure size 432x288 with 1 Axes>"
            ]
          },
          "metadata": {
            "tags": [],
            "needs_background": "light"
          }
        }
      ]
    },
    {
      "cell_type": "markdown",
      "metadata": {
        "id": "7eL3ACu_cc7h",
        "colab_type": "text"
      },
      "source": [
        "## Application of ASGD\n",
        "\n",
        "Although equation (9) allowed us to fix $\\alpha$, we still have five more parameters to choose before we implement the algorithm. They are 1) $a$, 2) $A$, 3) $f_{MIN}$, 4) $f_{MAX}$ and 5) $\\omega$. The following assumptions will aid in selecting their values.\n",
        "\n",
        "\n",
        "\n",
        "*   **Assumption B1** The errors $\\boldsymbol{\\epsilon}_k$ in equation (5) are assumed to be independent and identically distributed with mean zero and a finite variance. This tutorial also assumes that they are normally distributed.\n",
        "*   **Assumption B2** The gain function $\\gamma$ is positive and monotone descreasing over $[0, \\infty)$. Thus, $\\gamma(0)$ is its minimum. It has two additional properties\n",
        "$$\n",
        "\\begin{eqnarray}\n",
        "\\int_0^\\infty \\gamma(t)dt &=& \\infty \\tag{12} \\\\\n",
        "\\int_0^\\infty \\gamma^2(t) dt &<& \\infty \\tag{13}\n",
        "\\end{eqnarray}\n",
        "$$\n",
        "*   **Assumption B3** The cost function $\\mathcal{C}$ has a unique minimum $\\hat{\\boldsymbol{\\mu}}$. That is $\\mathcal{C}$ is a **convex function**. $\\mathcal{C}$ is also assumed to be twice differentiable throughout its domain (differentiability guarantees continuity) and for all $\\boldsymbol{\\mu}$, the eigenvalues of the hessian\n",
        "$$\\tag{14}\n",
        "\\boldsymbol{H} = \\frac{\\partial^2\\mathcal{C}}{\\partial\\mu_i\\partial\\mu_j}\n",
        "$$\n",
        "are bounded by a positive constant $\\lambda$. The optimization problem then can be solved for all starting points $\\boldsymbol{\\mu}_0$ as long as $\\gamma_k < \\gamma(0)$ for all $k$. It is further assumed that there exists $R > 0$, $\\beta_0 > 0$ such that \n",
        "$$\\tag{15}\n",
        "||\\boldsymbol{g}(\\boldsymbol{\\mu})||^2 > \\frac{\\gamma(0)}{2}\\lambda(||\\boldsymbol{g}(\\boldsymbol{\\mu})||^2 + \\mathrm{tr}(\\boldsymbol{\\Sigma})) + \\beta_0,\n",
        "$$\n",
        "where $\\boldsymbol{\\Sigma}$ is the variance matrix of the errors $\\boldsymbol{\\epsilon}_k$ and $\\mathrm{tr}(\\cdot)$ stands for the trace operator. Equation (15) is true for all $\\boldsymbol{\\mu}$ that satisfy the relation $||\\boldsymbol{\\mu} - \\hat{\\boldsymbol{\\mu}}|| \\ge R$.\n",
        " \n",
        "*   **Assumption B4** The function $f$ is monotone increasing, continuous and bounded with $f_{MAX} > 0$ as the maximum and $f_{MIN}$ as the minimum. It is also assumed that \n",
        "$$\\tag{16}\n",
        "E_0 = \\mathbb{E}f(\\boldsymbol{\\epsilon}_k^T\\boldsymbol{\\epsilon}_{k-1}) > 0.\n",
        "$$\n",
        "*   **Assumption B5** These assumptions are necessary to prove asymptotic normality,\n",
        "$$\\tag{17}\n",
        "\\gamma(t) = \\frac{a}{t + A}.\n",
        "$$\n",
        "and the eigenvalues of the matrix \n",
        "$$\\tag{18}\n",
        "\\boldsymbol{W} = \\frac{\\boldsymbol{I}}{2} - \\frac{a}{E_0}\\boldsymbol{H}(\\hat{\\boldsymbol{\\mu}})\n",
        "$$\n",
        "are positive. Here $E_0$ is defined by equation (16)\n",
        "\n",
        "\n"
      ]
    },
    {
      "cell_type": "markdown",
      "metadata": {
        "id": "XyZ84iAto9fv",
        "colab_type": "text"
      },
      "source": [
        "## Distribution estimates\n",
        "\n",
        "We need some more assumptions about the distributions of the gradients in order to choose the correct values of the five parameters mentioned in the previous section. We mention them in this section.\n",
        "\n",
        "A general cost function is of the form\n",
        "$$\\tag{19}\n",
        "\\mathcal{C} = \\Psi\\left(\\frac{1}{|\\Omega^\\prime_F|}\\sum_{x_i \\in \\Omega^\\prime_F}\\xi(F(x_i), M(T(x_i, \\mu)))\\right),\n",
        "$$\n",
        "where $\\Psi: \\Xi \\mapsto \\mathbb{R}$ and $\\xi: \\mathbb{R} \\times \\mathbb{R} \\mapsto \\Xi$ are differentiable functions, $\\Omega^\\prime_F$ is the is a subset of pixels/voxels of the fixed image and $|\\Omega^\\prime_F|$ is its cardinality. Usually, $\\Xi = \\mathbb{R}$ but it can be a multi-dimensional set like $\\mathbb{R}^P$.\n",
        "\n",
        "An example of these functions and domains is $\\Xi = \\mathbb{R}$, $\\xi(u, v) = (u - v)^2)$ and $\\Psi(w) = w$. \n",
        "\n",
        "The ASGD algorithm requires the gradient of the cost function. It is\n",
        "$$\\tag{20}\n",
        "\\boldsymbol{g} = \\frac{\\partial\\mathcal{C}}{\\partial\\boldsymbol{\\mu}} = \n",
        "\\frac{1}{|\\Omega^\\prime_F|}\\sum_{x_i \\in \\Omega^\\prime_F}\\left(\\frac{\\partial T}{\\partial\\boldsymbol{\\mu}}\\right)^T\\frac{\\partial M}{\\partial\\boldsymbol{x}}\\frac{\\partial\\xi}{\\partial v}\\frac{\\partial\\Psi}{\\partial u}.\n",
        "$$\n",
        "\n",
        "In order to estimate the distribution of the gradients, we need two more assumptions.\n",
        "\n",
        "\n",
        "*   **Assumption A1** $\\left({\\partial T}/{\\partial\\boldsymbol{\\mu}}\\right)$  is independent of $\\boldsymbol{\\mu}$. That is, $T$ is a linear function of the parameters $\\boldsymbol{\\mu}$. Note the similarity of this assumption with that of linear models in statistics. We define\n",
        "$$\\tag{21}\n",
        "\\boldsymbol{J}_i = \\frac{\\partial T}{\\partial\\boldsymbol{\\mu}}(x_i, \\boldsymbol{\\mu}).\n",
        "$$\n",
        "*   **Assumption A2** If\n",
        "$$\\tag{22}\n",
        "z_i = \\frac{\\partial M}{\\partial\\boldsymbol{x}}\\frac{\\partial\\xi}{\\partial v}\\frac{\\partial\\Psi}{\\partial u}\n",
        "$$\n",
        "then $z_i$ are normally distributed with parameters $0$ and $\\sigma^2\\boldsymbol{I}$ for some constant $\\sigma$. \n",
        "\n",
        "With these assumptions the it can be shown that\n",
        "$$\n",
        "\\begin{eqnarray}\n",
        "\\boldsymbol{g} &\\sim& \\mathcal{N}(0, \\sigma_1^2 C) \\tag{23} \\\\\n",
        "\\tilde{\\boldsymbol{g}}_k &\\sim& \\mathcal{N}(0, \\sigma_1^2 C) \\tag{24} \\\\\n",
        "{\\boldsymbol{\\epsilon}}_k &\\sim& \\mathcal{N}(0, \\sigma_3^2 C), \\tag{25}\n",
        "\\end{eqnarray}\n",
        "$$\n",
        "where $\\sigma_1^2, \\sigma_2^2$ and $\\sigma_3^2$ are constants and\n",
        "$$\\tag{26}\n",
        "C = \\frac{1}{|\\Omega^\\prime_F|}\\sum_{x_i \\in \\Omega^\\prime_F}\\boldsymbol{J}_i^T\\boldsymbol{J}_i\n",
        "$$\n",
        "The quantity $\\boldsymbol{J}_i$ is defined in equation (21).\n",
        "We further define,\n",
        "$$\\tag{27}\n",
        "\\boldsymbol{\\Sigma} = \\sigma_3^2 C.\n",
        "$$\n",
        "\n"
      ]
    },
    {
      "cell_type": "markdown",
      "metadata": {
        "id": "WBOAmZqmClVx",
        "colab_type": "text"
      },
      "source": [
        "# Implementation of AGSD\n",
        "\n",
        "We will implement the algorithm on two binary images that we generate in the code snippet below."
      ]
    },
    {
      "cell_type": "code",
      "metadata": {
        "id": "k1jk7R4NDF12",
        "colab_type": "code",
        "outputId": "87895eeb-b4d1-4e07-ef0d-3c1a05aa24ec",
        "colab": {
          "base_uri": "https://localhost:8080/",
          "height": 262
        }
      },
      "source": [
        "import numpy as np\n",
        "import matplotlib.pyplot as plt\n",
        "from PIL import Image\n",
        "\n",
        "f = np.zeros(36)\n",
        "f[14] = f[15] = f[20] = f[21] =  f[35] = 128\n",
        "ref = Image.new('1', (6, 6))\n",
        "ref.putdata(f)\n",
        "\n",
        "m = np.zeros(36)\n",
        "m[7] = m[8] = m[13] = m[14] = m[28] = 128\n",
        "tst = Image.new('1', (6, 6))\n",
        "tst.putdata(m)\n",
        "\n",
        "plt.figure()\n",
        "plt.suptitle('Fixed and moving images')\n",
        "p1 = plt.subplot(121)\n",
        "p1.set_title('Fixed')\n",
        "plt.imshow(ref)\n",
        "\n",
        "p2 = plt.subplot(122)\n",
        "p2.set_title('Moving')\n",
        "plt.imshow(tst)\n",
        "\n",
        "plt.show()"
      ],
      "execution_count": 1,
      "outputs": [
        {
          "output_type": "display_data",
          "data": {
            "image/png": "[encoded data removed]",
            "text/plain": [
              "<Figure size 432x288 with 2 Axes>"
            ]
          },
          "metadata": {
            "tags": [],
            "needs_background": "light"
          }
        }
      ]
    },
    {
      "cell_type": "markdown",
      "metadata": {
        "id": "gGODrlXaDZDy",
        "colab_type": "text"
      },
      "source": [
        "## Estimation of parameters\n",
        "\n",
        "The five parameters mentioned in section <a href='Application of ASGD'>Application of ASGD</A> are estimated for a run of the algorithm. We do so in the steps below. Before we do so, we choose the user defined quantities."
      ]
    },
    {
      "cell_type": "markdown",
      "metadata": {
        "id": "Qu_wO1J5D6Ui",
        "colab_type": "text"
      },
      "source": [
        "### User-defined quantities\n",
        "\n",
        "1.   We work with linear transformations of the form $$\\tag{28}\n",
        "T(x) = \\mu_0 + \\mu_1 x\n",
        "$$ where $\\mu_0, \\mu_1$ are the parameters of $T$. Thus, the goal of the optimization is to find the best values of these parameters so that when we apply $T$ to the moving image we get as close to the fixed image as possible. With this choice, our parameter space becomes $\\mathbb{R}^2$ and our parameter vector becomes\n",
        "$$\\tag{29}\n",
        "\\boldsymbol{\\mu} = (\\mu_0, \\mu_1).\n",
        "$$\n",
        "2.   Choose\n",
        "$$\\tag{30}\n",
        "\\delta = 0.1.\n",
        "$$\n",
        "This quantity was not introduced before. It appears in the theory of estimation of probability distribution of the gradients. We will find it useful while estimating the parameters of the ASGD algorithm.\n",
        "\n"
      ]
    },
    {
      "cell_type": "markdown",
      "metadata": {
        "id": "JaDHwtiaFSxy",
        "colab_type": "text"
      },
      "source": [
        "### Estimation of parameters\n"
      ]
    },
    {
      "cell_type": "markdown",
      "metadata": {
        "id": "QK80IbK6FabR",
        "colab_type": "text"
      },
      "source": [
        "#### Computation of $C$.\n",
        "We use equation (26) to determine $C$. The set of all pixels of the fixed images has cardinality $36$. (Recall that we have generated $6 \\times 6$ binary images.) Therefore, $|\\Omega_F^\\prime| = 36$. From equation (28), the gradient of $T$ in the $\\mu$-space is \n",
        "$$\\tag{31}\n",
        "\\boldsymbol{J}_i = \\begin{pmatrix}1 & x_i\\end{pmatrix}\n",
        "$$\n",
        "so that\n",
        "$$\\tag{32}\n",
        "\\boldsymbol{J}_i^T \\boldsymbol{J}_i = \\begin{pmatrix}1 & x_i \\\\ x_i & x_i^2\\end{pmatrix}\n",
        "$$\n",
        "and\n",
        "$$\\tag{33}\n",
        "\\boldsymbol{C}(x_i) = \\sum_{x_i \\in \\Omega_F^\\prime} \\begin{pmatrix}1 & x_i \\\\ x_i & x_i^2\\end{pmatrix}.\n",
        "$$\n",
        "The code snippet below computes $C$."
      ]
    },
    {
      "cell_type": "code",
      "metadata": {
        "id": "jHM1fIEpGpFJ",
        "colab_type": "code",
        "outputId": "f62cfbfc-040a-4dbb-fb52-7344f1f4d888",
        "colab": {
          "base_uri": "https://localhost:8080/",
          "height": 52
        }
      },
      "source": [
        "# This code snippet cannot be run independently. Please run all the cells above \n",
        "# before getting here.\n",
        "\n",
        "x = f - m # This is the \"error\" between the images.\n",
        "C = np.array([[36, np.sum(x)], [np.sum(x), np.sum(x**2)]])/36\n",
        "print(f'C = {C}')"
      ],
      "execution_count": 2,
      "outputs": [
        {
          "output_type": "stream",
          "text": [
            "C = [[1.00000000e+00 0.00000000e+00]\n",
            " [0.00000000e+00 3.64088889e+03]]\n"
          ],
          "name": "stdout"
        }
      ]
    },
    {
      "cell_type": "markdown",
      "metadata": {
        "id": "i5IdLP3dJZOv",
        "colab_type": "text"
      },
      "source": [
        "#### Computation of $\\sigma_4$\n",
        "$\\sigma_4$ too has not been introduced before and like $\\delta$ it appears in the theory of distributions of the gradients. It is defined as\n",
        "$$\\tag{34}\n",
        "\\sigma_4^2 = \\min_{x_j \\in \\Omega_F^\\prime}\\frac{\\delta^2}{||\\boldsymbol{J}_j||_F^2 + 2\\sqrt{2}||\\boldsymbol{J}_j\\boldsymbol{J}_j^T||_F},\n",
        "$$\n",
        "where $||\\cdot||_F$ stands for [Frobenius norm](https://mathworld.wolfram.com/FrobeniusNorm.html). Recall that we have selected $\\delta = 0.1$ in equation (30). From equation (31) it is clear that\n",
        "$$\\tag{35}\n",
        "\\boldsymbol{J}_j\\boldsymbol{J}_j^T = 1 + x_j^2\n",
        "$$\n",
        "so that\n",
        "$$\\tag{36}\n",
        "||\\boldsymbol{J}_j\\boldsymbol{J}_j^T||_F = \\sqrt{(1 + x_j^2)^2} = 1 + x_j^2.\n",
        "$$\n",
        "Similarly\n",
        "$$\\tag{37}\n",
        "||\\boldsymbol{J}_i||_F = \\sqrt{1 + x_j^2}.\n",
        "$$\n",
        "Equation (34) now becomes\n",
        "$$\\tag{38}\n",
        "\\sigma_4^2 = \\min_{x_j \\in \\Omega_F^\\prime}\\frac{\\delta^2}{1 + x_j^2 + 2\\sqrt{2}(1 + x_j^2)} = \\frac{1}{(1 + 2\\sqrt{2})}\\min_{x_j \\in \\Omega_F^\\prime}\\frac{\\delta^2}{(1 + x_j^2)}\n",
        "$$\n",
        "We compute $\\sigma_4$ in the code snippet below."
      ]
    },
    {
      "cell_type": "code",
      "metadata": {
        "id": "vEsGw4L_OvFI",
        "colab_type": "code",
        "outputId": "2f471679-d11f-4831-ab17-fba6be39511c",
        "colab": {
          "base_uri": "https://localhost:8080/",
          "height": 34
        }
      },
      "source": [
        "# This code snippet cannot be run independently. Please run all the cells above \n",
        "# before getting here.\n",
        "\n",
        "DELTA = 0.1\n",
        "den_sigma_4 = np.zeros(len(x))\n",
        "delta_sq = DELTA**2\n",
        "\n",
        "for j in range(0, len(den_sigma_4)):\n",
        "  a = 1 + x[j]**2\n",
        "  den_sigma_4[j] = delta_sq/a\n",
        "\n",
        "sigma_4_sq = np.min(den_sigma_4)/(1 + 2 * np.sqrt(2))\n",
        "sigma_4 = np.sqrt(sigma_4_sq)\n",
        "print(f'\\sigma_4 = {sigma_4}')\n",
        "  "
      ],
      "execution_count": 3,
      "outputs": [
        {
          "output_type": "stream",
          "text": [
            "\\sigma_4 = 0.00039926991272375335\n"
          ],
          "name": "stdout"
        }
      ]
    },
    {
      "cell_type": "markdown",
      "metadata": {
        "id": "yoV6F5YIVSvy",
        "colab_type": "text"
      },
      "source": [
        "#### Computation of approximate error\n",
        "We generate $N = 20$ instances of $\\boldsymbol{\\mu}$ distributed as $\\mathcal{N}(0, \\sigma_4^2\\boldsymbol{I})$"
      ]
    },
    {
      "cell_type": "code",
      "metadata": {
        "id": "yoy0efeqVyZs",
        "colab_type": "code",
        "colab": {}
      },
      "source": [
        "# This code snippet cannot be run independently. Please run all the cells above \n",
        "# before getting here.\n",
        "from scipy import stats\n",
        "\n",
        "# This is our starting vector\n",
        "mu_0 = np.array([0, 0])\n",
        "cov = np.array([[sigma_4_sq, 0], [0, sigma_4_sq]])\n",
        "mu_samples = []\n",
        "N = 20 # number of samples\n",
        "\n",
        "frozen = stats.multivariate_normal(mu_0, cov)\n",
        "mu_samples = frozen.rvs(10)\n"
      ],
      "execution_count": 0,
      "outputs": []
    },
    {
      "cell_type": "markdown",
      "metadata": {
        "id": "Fk06ZE8wJR34",
        "colab_type": "text"
      },
      "source": [
        "For each randomly generated $\\boldsymbol{\\mu}$ compute the exact gradient $\\boldsymbol{g}$. Computation of gradient requires a knowledge of the cost function. Let us choose a commonly used cost function - sum of squares of error terms. Thus, \n",
        "$$\\tag{39}\n",
        "C(F, M) = \\sum_{i = 0}^{36} (F_i - M_i)^2,\n",
        "$$\n",
        "where $F_i = F[i]$ and so on. \n",
        "Note that this is true only for our choice of $6 \\times 6$ binary images. Further, since we chose $T(x) = mu_0 + \\mu_1 x$ in equation (28), <code>M[x_i] = mu[0] + mu[1] * F[x_i]</code>. Equation (39) thus becomes\n",
        "$$\\tag{40}\n",
        "C(F, M) = \\sum_{i=0}^{36} ((1 - \\mu_1)F_i - \\mu_0)^2\n",
        "$$\n",
        "and its gradient is\n",
        "$$\\tag{41}\n",
        "\\boldsymbol{g} = \\sum_{i=0}^{36} \\begin{pmatrix}-2((1 - \\mu_1)F_i - \\mu_0) \\\\ -2F_i((1 - \\mu_1)F_i - \\mu_0) \\end{pmatrix} = -2\\sum_{i=0}^{36} ((1 - \\mu_1)F_i - \\mu_0)\\begin{pmatrix}1 \\\\ F_i\\end{pmatrix}\n",
        "$$\n",
        "The approximate gradient is\n",
        "$$\\tag{42}\n",
        "\\tilde{\\boldsymbol{g}} = -2\\sum_{i \\in S} ((1 - \\mu_1)F_i - \\mu_0)\\begin{pmatrix}1 \\\\ F_i\\end{pmatrix},\n",
        "$$\n",
        "where $S$ is a small sample of the set $\\{0, \\ldots, 35\\}$. (We are counting from zero to make it easy for us to translate this theory into code.)\n",
        "\n"
      ]
    },
    {
      "cell_type": "code",
      "metadata": {
        "id": "-kb_Ge-1OkpC",
        "colab_type": "code",
        "colab": {}
      },
      "source": [
        "# This code snippet cannot be run independently. Please run all the cells above \n",
        "# before getting here.\n",
        "import random\n",
        "\n",
        "random.seed(12111842)\n",
        "\n",
        "exact_g = []\n",
        "apprx_g = []\n",
        "error_g = []\n",
        "\n",
        "for i in range(len(mu_samples)):\n",
        "  mu = mu_samples[i]\n",
        "  g = np.zeros(2)\n",
        "  for j in range(len(x)):\n",
        "    # Recall that the data for the fixed image is in the array x\n",
        "    X = np.array([1, x[j]]) \n",
        "    coeff = -2 * ((1 - mu[1]) * x[j] - mu[0])\n",
        "    g = g + coeff * X\n",
        "\n",
        "  exact_g.append(g)\n",
        "\n",
        "for i in range(len(mu_samples)):\n",
        "  mu = mu_samples[i]\n",
        "  g = np.zeros(2)\n",
        "  # Select a new set of pixels for computation of each approximate gradient\n",
        "  S = random.sample(range(0, 36), N)\n",
        "  for j in range(len(S)):\n",
        "    # Recall that the data for the fixed image is in the array x\n",
        "    X = np.array([1, x[j]]) \n",
        "    coeff = -2 * ((1 - mu[1]) * x[j] - mu[0])\n",
        "    g = g + coeff * X\n",
        "\n",
        "  apprx_g.append(g)\n",
        "\n",
        "for i in range(len(mu_samples)):\n",
        "  error_g.append(exact_g[i] - apprx_g[i])"
      ],
      "execution_count": 0,
      "outputs": []
    },
    {
      "cell_type": "markdown",
      "metadata": {
        "id": "87O259y5yNdy",
        "colab_type": "text"
      },
      "source": [
        ""
      ]
    },
    {
      "cell_type": "markdown",
      "metadata": {
        "id": "jKHbndEdV65E",
        "colab_type": "text"
      },
      "source": [
        "Compute $\\sigma_1^2$ as\n",
        "$$\\tag{43}\n",
        "\\sigma_1^2 = \\frac{1}{\\mathrm{tr}(\\boldsymbol{C})}\\frac{1}{N}\\sum_{n=1}^N||\\boldsymbol{g}_n||^2.\n",
        "$$\n",
        "Recall the definition of $\\boldsymbol{C}$ in equation (33). We compute $\\sigma_1^2$ in the cell below."
      ]
    },
    {
      "cell_type": "code",
      "metadata": {
        "id": "ZlENoFZXW479",
        "colab_type": "code",
        "outputId": "98744752-9a72-42fb-b40e-587580f858f5",
        "colab": {
          "base_uri": "https://localhost:8080/",
          "height": 34
        }
      },
      "source": [
        "# This code snippet cannot be run independently. Please run all the cells above \n",
        "# before getting here.\n",
        "\n",
        "trace_C = C[0, 0] + C[1, 1]\n",
        "\n",
        "s = 0 \n",
        "for i in range(len(exact_g)):\n",
        "  g_n = exact_g[i]\n",
        "  s = s + g_n[0]**2 + g_n[1]**2\n",
        "\n",
        "sigma_1_sq = 1/(N * trace_C)\n",
        "print(f'sigma_1_sq = {sigma_1_sq}')"
      ],
      "execution_count": 6,
      "outputs": [
        {
          "output_type": "stream",
          "text": [
            "sigma_1_sq = 1.3729139335509656e-05\n"
          ],
          "name": "stdout"
        }
      ]
    },
    {
      "cell_type": "markdown",
      "metadata": {
        "id": "a_UvzyryYRVU",
        "colab_type": "text"
      },
      "source": [
        "Compute $a_{MAX}$ using the relation\n",
        "$$\\tag{44}\n",
        "a_{MAX} = \\frac{A\\delta}{\\sigma_1}\\min_{x_j \\in \\Omega_F^\\prime}\\left[\\mathrm{tr}(\\boldsymbol{J}_j\\boldsymbol{C}\\boldsymbol{J}_j^T) + 2\\sqrt{2}||\\boldsymbol{J}_j\\boldsymbol{C}\\boldsymbol{J}_j^T||_F\\right]^{-1/2}\n",
        "$$\n",
        "Recall that we had chosen $\\delta = 0.1$ in equation (30). $A$ is another free parameter. Let us choose\n",
        "$$\\tag{45}\n",
        "A = 1.\n",
        "$$\n",
        "We computed the matrix $\\boldsymbol{C}$ in equation (33) and $\\boldsymbol{J}_j$ in equation (30). Based on these we can calculate\n",
        "$$\\tag{46}\n",
        "\\boldsymbol{J}_j\\boldsymbol{C}\\boldsymbol{J}_j^T = 1 + 3.64 \\times 10^3 \\times x_j^4\n",
        "$$\n",
        "Since this is just a number, it is the same as its trace and Frobenius norm. Equation (44) then becomes\n",
        "$$\\tag{47}\n",
        "a_{MAX} = \\frac{A\\delta}{\\sigma_1}\\min_{x_j \\in \\Omega_F^\\prime}\\frac{1}{\\sqrt{(1 + 2\\sqrt{2})(1 + 3.64 \\times 10^3 \\times x_j^4)}}\n",
        "$$\n",
        "The code snippet below computes $a_{MAX}$."
      ]
    },
    {
      "cell_type": "code",
      "metadata": {
        "id": "H0epd1BYmCXW",
        "colab_type": "code",
        "outputId": "dedea741-a8d1-4de7-e4fe-7e36c28b32d3",
        "colab": {
          "base_uri": "https://localhost:8080/",
          "height": 34
        }
      },
      "source": [
        "# This code snippet cannot be run independently. Please run all the cells above \n",
        "# before getting here.\n",
        "\n",
        "all_a = np.zeros(len(x))\n",
        "sigma_1 = np.sqrt(sigma_1_sq)\n",
        "coeff = 0.1 / sigma_1\n",
        "\n",
        "for i in range(len(x)):\n",
        "  a = (1 + 2 * np.sqrt(2)) * (1 + 3.64 * 1E3 * x[i]**4)\n",
        "  all_a[i] = coeff/np.sqrt(a)\n",
        "\n",
        "a_max = np.min(all_a)\n",
        "print(f'a_max = {a_max}')"
      ],
      "execution_count": 7,
      "outputs": [
        {
          "output_type": "stream",
          "text": [
            "a_max = 1.3953961495741212e-05\n"
          ],
          "name": "stdout"
        }
      ]
    },
    {
      "cell_type": "markdown",
      "metadata": {
        "id": "_nkoDETOnfZE",
        "colab_type": "text"
      },
      "source": [
        "Compute $\\eta$ and $a$ using the equations\n",
        "$$\\tag{48}\n",
        "\\eta = \\frac{\\mathbb{E}||\\boldsymbol{g}||^2}{\\mathbb{E}||\\boldsymbol{g}||^2 + \\mathbb{E}||\\tilde{\\boldsymbol{g}}||^2}\n",
        "$$\n",
        "and\n",
        "$$\\tag{48}\n",
        "a = a_{MAX} \\cdot \\eta.\n",
        "$$\n",
        "Also\n",
        "$$\\tag{49}\n",
        "f_{min} = \\eta - 1.\n",
        "$$\n",
        "We compute these quantities now."
      ]
    },
    {
      "cell_type": "code",
      "metadata": {
        "id": "mu-N053roePs",
        "colab_type": "code",
        "outputId": "6773a492-0e0a-4fa8-fa96-6bfa9bf33831",
        "colab": {
          "base_uri": "https://localhost:8080/",
          "height": 70
        }
      },
      "source": [
        "# This code snippet cannot be run independently. Please run all the cells above \n",
        "# before getting here.\n",
        "s1 = 0\n",
        "s2 = 0\n",
        "for i in range(len(exact_g)):\n",
        "  g = exact_g[i]\n",
        "  h = apprx_g[i]\n",
        "\n",
        "  s1 = s1 + (g[0]**2 + g[1]**2)\n",
        "  s2 = s2 + (h[0]**2 + h[1]**2)\n",
        "\n",
        "eta = s1/(s1 + s2)\n",
        "a = a_max * eta\n",
        "f_min = eta - 1\n",
        "\n",
        "print(f'eta = {eta}')\n",
        "print(f'a = {a}')\n",
        "print(f'f_min = {f_min}')\n"
      ],
      "execution_count": 8,
      "outputs": [
        {
          "output_type": "stream",
          "text": [
            "eta = 0.7999973773111878\n",
            "a = 1.1163132599694269e-05\n",
            "f_min = -0.2000026226888122\n"
          ],
          "name": "stdout"
        }
      ]
    },
    {
      "cell_type": "markdown",
      "metadata": {
        "id": "qLzM64Bst052",
        "colab_type": "text"
      },
      "source": [
        "The quantity $\\omega$ is computed as\n",
        "$$\\tag{50}\n",
        "\\omega = \\zeta \\sqrt{\\mathrm{Var}(\\boldsymbol{\\epsilon}_k\\boldsymbol{\\epsilon}_{k-1})}.\n",
        "$$\n",
        "We compute it in the cell below."
      ]
    },
    {
      "cell_type": "code",
      "metadata": {
        "id": "kUvRIWubuPWQ",
        "colab_type": "code",
        "outputId": "491c405f-86e8-46a5-d5d9-cdcb30ad1bf7",
        "colab": {
          "base_uri": "https://localhost:8080/",
          "height": 87
        }
      },
      "source": [
        "# This code snippet cannot be run independently. Please run all the cells above \n",
        "# before getting here.\n",
        "\n",
        "err_prod = np.zeros(len(error_g) - 1)\n",
        "zeta = 0.1\n",
        "\n",
        "for i in range(1, len(error_g)):\n",
        "  e1 = error_g[i]\n",
        "  e2 = error_g[i - 1]\n",
        "  err_prod[i - 1] = np.dot(e1, e2)\n",
        "\n",
        "print(err_prod)\n",
        "\n",
        "omega = zeta * np.std(err_prod)\n",
        "print(f'omega = {omega}')\n"
      ],
      "execution_count": 9,
      "outputs": [
        {
          "output_type": "stream",
          "text": [
            "[1.71862149e+10 1.71959182e+10 1.71800672e+10 1.71756754e+10\n",
            " 1.71758954e+10 1.71807175e+10 1.71735969e+10 1.71727391e+10\n",
            " 1.71883437e+10]\n",
            "omega = 731878.7214182274\n"
          ],
          "name": "stdout"
        }
      ]
    },
    {
      "cell_type": "markdown",
      "metadata": {
        "id": "NqdvLU2wyQPW",
        "colab_type": "text"
      },
      "source": [
        "We are now in a position to compute the function $f$ defined by equation (11). We also can write\n",
        "$$\\tag{51}\n",
        "\\gamma(x) = \\frac{a}{x + 1}\n",
        "$$\n",
        "because of our choice of $A = 1$ and $\\alpha = 1$. We now have all the information needed to run the algorithm described by equations (4), (5) and (6).\n",
        "This allows us to implement the algorithm in then ext cell."
      ]
    },
    {
      "cell_type": "code",
      "metadata": {
        "id": "jEJXUtAy8xo_",
        "colab_type": "code",
        "colab": {
          "base_uri": "https://localhost:8080/",
          "height": 34
        },
        "outputId": "40853149-4e0e-4e15-d44a-b71d0542cf9e"
      },
      "source": [
        "def our_sigmoid(x):\n",
        "  # Recall that f_max = 1\n",
        "  return f_min + (1 - f_min)/(1 - np.exp(-x/omega)/f_min)\n",
        "\n",
        "def calc_t(prev_t, g_curr, g_prev):\n",
        "  arg = prev_t + our_sigmoid(np.dot(g_curr, g_prev))\n",
        "  if arg > 0:\n",
        "    return arg\n",
        "  else:\n",
        "    return 0\n",
        "\n",
        "# We re-initialize the image data\n",
        "f = np.zeros(36)\n",
        "f[14] = f[15] = f[20] = f[21] =  f[35] = 128\n",
        "m = np.zeros(36)\n",
        "m[7] = m[8] = m[13] = m[14] = m[28] = 128\n",
        "# 'Difference' between fixed and moving images.\n",
        "x = f - m\n",
        "\n",
        "# Parameters of the algorithm\n",
        "MAX_ITER = 100 # Maximum number of iterations.\n",
        "n_iter = 0     # Current iteration.\n",
        "\n",
        "# Temporary variables\n",
        "g_prev = np.array([1, 1]) # previous gradient\n",
        "mu_prev = np.zeros(2)     # previous parameters\n",
        "prev_t = 0                # previous 'time'\n",
        "\n",
        "while n_iter < MAX_ITER:\n",
        "  n_iter = n_iter + 1\n",
        "  m = mu_prev[0] + mu_prev[1] * f\n",
        "  \n",
        "  # Select a new set of pixels for computation of each approximate gradient\n",
        "  S = random.sample(range(0, 36), 15)\n",
        "  g = np.zeros(2)\n",
        "  for j in range(len(S)):\n",
        "    # Recall that the data for the fixed image is in the array x\n",
        "    X = np.array([1, x[j]]) \n",
        "    coeff = -2 * ((1 - mu[1]) * x[j] - mu[0])    \n",
        "    g = g + coeff * X\n",
        "  \n",
        "  curr_t = calc_t(prev_t, g, g_prev)  \n",
        "  gamma = a_max/(curr_t + 1) # Recall that A = 1, alpha = 1\n",
        "\n",
        "  mu_prev = mu_prev + gamma * g\n",
        "  g_prev = g\n",
        "  prev_t = curr_t\n",
        "  \n",
        "print(f'mu = {mu_prev}')\n"
      ],
      "execution_count": 23,
      "outputs": [
        {
          "output_type": "stream",
          "text": [
            "mu = [  0.1049243 -13.4303987]\n"
          ],
          "name": "stdout"
        }
      ]
    }
  ]
}