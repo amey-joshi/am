{
  "nbformat": 4,
  "nbformat_minor": 0,
  "metadata": {
    "colab": {
      "name": "Optimization of Mutual Information for Multiresolution Image Registration.ipynb",
      "provenance": [],
      "toc_visible": true,
      "authorship_tag": "ABX9TyMNORJ1yA9ZfARstrVUbGNh",
      "include_colab_link": true
    },
    "kernelspec": {
      "name": "python3",
      "display_name": "Python 3"
    }
  },
  "cells": [
    {
      "cell_type": "markdown",
      "metadata": {
        "id": "view-in-github",
        "colab_type": "text"
      },
      "source": [
        "<a href=\"https://colab.research.google.com/github/amey-joshi/am/blob/master/p4/paper4.ipynb\" target=\"_parent\"><img src=\"https://colab.research.google.com/assets/colab-badge.svg\" alt=\"Open In Colab\"/></a>"
      ]
    },
    {
      "cell_type": "markdown",
      "metadata": {
        "id": "pk3_vLDqETUJ",
        "colab_type": "text"
      },
      "source": [
        "# Introduction\n",
        "**Image registration** is finding a geometrical transformation mapping one image to another. One of the images in the image registration problem is called the **reference image** or the **model**. The other one is called the **test image**. There are several situations in which image registration is needed.\n",
        "\n",
        "- Suppose we want to track a person in a video. We are given his photograph. Then image registration allows us to map the photgraph with a sequence of moving pictures of the same person in the video. Note that it is not necessary that one maps the entire reference image to the test image. One may just want to map the face of the person.\n",
        "- A satellite has taken photographs of a certain area on the earth's surface. It takes similar photographs at different times or seasons. They photographs may not be, and usually will not be, identical. Image registration helps us map one to the other.\n",
        "- A certain portion of a patient's body is scanned by Ultrasound and Magnetic Resonance Imaging. Mapping one image to another involves image registration.\n",
        "\n",
        "From the description of the image registration problem it appears that the only way to find a transformation between the reference and the test images is to extract the features of both and build a mapping between them. While this is definitely one way to do it, there are other techniques as well. This tutorial is based on the paper [Optimization of Mutual Information for Multiresolution Image Registration](https://infoscience.epfl.ch/record/63070/files/thevenaz0003.pdf) by Philippe Thévenaz and Michael Unser. It describes an algorithm to register images based on their information content.\n",
        "\n"
      ]
    },
    {
      "cell_type": "markdown",
      "metadata": {
        "id": "NgQoaMbV8dCk",
        "colab_type": "text"
      },
      "source": [
        "# Mutual information\n",
        "\n",
        "We begin with introducing a few terms from probability theory and information theory. We will illustrate them by applying them to simple, binary images."
      ]
    },
    {
      "cell_type": "markdown",
      "metadata": {
        "id": "1im_EphI8ZAU",
        "colab_type": "text"
      },
      "source": [
        "## A. Definitions"
      ]
    },
    {
      "cell_type": "markdown",
      "metadata": {
        "id": "wmaMsN25LBpf",
        "colab_type": "text"
      },
      "source": [
        "### Parzen window\n",
        "Often times one has to infer the probability distribution of a population from a sample drawn from it. The population may not be following one of the standard distributions, all of which are described in terms of a (small) finite number of **parameters**. For example, the binomial distribution is described by a single parameter, the probability of success or a gaussian (normal) distribution is described by its mean and variance. When it is no longer possible to fit any of these 'standard distributions' to the data, we take recourse to finding distribution without using parameters. This is also called non-parametric estimation of probability density function or **kernel density estimation**.\n",
        "\n",
        "Suppose that we are given a sample $x_1, \\ldots, x_N$ from a population with an unknown density $f$. We can estimate $f$ using the expression\n",
        "$$\\tag{1}\n",
        "\\hat{f}_h(x) = \\frac{1}{nh}\\sum_{i=1}^N w\\left(\\frac{x - x_i}{h}\\right),\n",
        "$$\n",
        "where $w$ is a function, called the **kernel**, such that $w(x) \\ge 0$ for all $x \\in \\mathbb{R}$. The parameter $h$ is called the **smoothing paramters** or **bandwidth**. We will explain its role with the particular example we next consider. The function $f$ is also called the **Parzen window** or the **Parzen estimate** of the density $f$. Usually $h$ depends on the sample size and is written as $\\varepsilon(N)$. Equation (1) then becomes,\n",
        "$$\\tag{2}\n",
        "\\hat{f}_h(x) = \\frac{1}{n}\\sum_{i=1}^N \\frac{1}{\\varepsilon(N)}w\\left(\\frac{x - x_i}{\\varepsilon(N)}\\right).\n",
        "$$\n",
        "We may also assume that\n",
        "$$\\tag{3}\n",
        "\\int_{-\\infty}^\\infty w(x)dx = 1.\n",
        "$$\n",
        "Before discussing more about Parzen windows, we first construct one such.\n",
        "\n"
      ]
    },
    {
      "cell_type": "code",
      "metadata": {
        "id": "1h8GoA3LXVDE",
        "colab_type": "code",
        "outputId": "5609ea5a-2baf-415f-e4f0-095de25d7922",
        "colab": {
          "base_uri": "https://localhost:8080/",
          "height": 281
        }
      },
      "source": [
        "import numpy as np\n",
        "import matplotlib.pyplot as plt\n",
        "from scipy import stats\n",
        "\n",
        "# A sample from a population with unknown density\n",
        "X = np.array([-2, -1, -0.5, 2.1, 4.9, 5.6])\n",
        "# Number of data points\n",
        "N = len(X)\n",
        "# Let us assume a width of 1. \n",
        "h = 1\n",
        "\n",
        "def draw_window(x):\n",
        "  u = np.linspace(x - 1, x + 1, 30)\n",
        "  v = np.exp(-0.5 * ((u - x)/h)**2)/np.sqrt(2 * np.pi) # standard normal density\n",
        "  plt.plot(u, v/(N*h), linestyle = 'dashed', label = f'centre={x}')\n",
        "\n",
        "for x in X:\n",
        "  draw_window(x)\n",
        "\n",
        "kde = stats.gaussian_kde(X)\n",
        "xeval = np.linspace(-10, 10, num = 200)\n",
        "yeval = np.zeros(len(xeval))\n",
        "\n",
        "for x in X:\n",
        "  yeval = yeval + np.exp(-0.5 * ((xeval - x)/h)**2)/np.sqrt(2 * np.pi)\n",
        "\n",
        "plt.plot(xeval, yeval/(N*h), linestyle = '-.', color = 'blue', label = 'estimate')\n",
        "plt.title('Parzen windows fitted on data')\n",
        "plt.legend()\n",
        "plt.show()\n"
      ],
      "execution_count": 0,
      "outputs": [
        {
          "output_type": "display_data",
          "data": {
            "image/png": "[encoded data removed]",
            "text/plain": [
              "<Figure size 432x288 with 1 Axes>"
            ]
          },
          "metadata": {
            "tags": [],
            "needs_background": "light"
          }
        }
      ]
    },
    {
      "cell_type": "markdown",
      "metadata": {
        "id": "UZz8M8E-wO-O",
        "colab_type": "text"
      },
      "source": [
        "From the figure above, it is quite clear that $\\hat{f}_h(x)$ has a peak at $x$. Wherever the peaks are close by the final estimate shown in blue tends to rise higher. \n",
        "\n",
        "When we have a large number of data points, that is, when $N$ is large, we can select a relatively smaller $\\varepsilon(N)$ because we can get information from a small enough neighbourhood of $x$. The opposite is true when $N$ is small."
      ]
    },
    {
      "cell_type": "markdown",
      "metadata": {
        "id": "9UXxZSukxt-7",
        "colab_type": "text"
      },
      "source": [
        "### Histogram estimation\n",
        "Let an image be defined over a domain $V^c$ in $\\mathbb{R}^n$. By a domain we just mean a subset of $\\mathbb{R}^n$. The superscript $^c$ indicates that the domain is continuous. Let $V$ be a discrete set of samples of $V^c$. Then a digital image is defined over $V$ while its continuous representation is defined over $V^c$.\n",
        "\n",
        "If $x \\in V^c$, let $f_R(x)$ denote the *reference image* and $f_T(x)$ denote the *test image*. The goal of image registration is to align $f_T$ along $f_R$. Let $g(x; \\mu_1, \\mu_2, \\ldots)$ be a geometric transformation, where $\\mu_1, \\mu_2, \\ldots$ are some parameters. An example of such a transformation is $g(x; a, b) = ax + b$. \n",
        "\n",
        "We want to find out how close is $f_T(g(x; \\mu_1, \\mu_2, \\ldots)$ to $f_R(x)$. Let $L_R$ and $L_T$ be the discrete set of image intensities associated with $f_R$ and $f_T$. Then we define the joint Parzen histogram as\n",
        "$$\\tag{1}\n",
        "h(\\iota, \\kappa; \\mu) = \\frac{1}{\\varepsilon_T\\varepsilon_R}\\sum_{x_i \\in V}w\\left(\\frac{\\iota - f_T(g(x_i, \\mu))}{\\varepsilon_T}\\right)\\cdot w\\left(\\frac{\\kappa - f_R(x_i)}{\\varepsilon_R}\\right).\n",
        "$$\n",
        "Let us understand this equation. It is a product of two Parzen windows. One of them is centred at $f_R(x_i)$ and has width $\\varepsilon_R$. The other is centred at $f_T(g(x;\\mu))$ and has width $\\varepsilon_T$. $\\mu$ is the vector $(\\mu_1, \\mu_2, \\ldots)$. $h(\\iota, \\kappa; \\mu)$ will have a large value when both the terms on the right have a large value. That will happen only when the intensity of the reference image at $x_i$ is similar to the intensity of the test image at $g(x_i; \\mu)$. \n",
        "\n",
        "Why is $h(\\iota, \\kappa; \\mu)$ called a histogram? It is because the values of the functions $f_R$ and $f_T$, which vary continuously, are now distributed over several discrete bins $(\\iota, \\kappa)$. The binning is done by a single function $w$.\n",
        "\n",
        "We know that histograms are a reflection of the underlying probability density. Therefore, it comes as no surprise that $h(\\iota, \\kappa; \\mu)$ is proportional to the discrete probability function $p(\\iota, \\kappa; \\mu)$. In fact, we can always write\n",
        "$$\\tag{2}\n",
        "p(\\iota, \\kappa; \\mu) = \\alpha(\\mu)h(\\iota, \\kappa; \\mu),\n",
        "$$\n",
        "where\n",
        "$$\\tag{3}\n",
        "\\alpha(\\mu) = \\left(\\sum_{\\iota, \\kappa}h(\\iota, \\kappa; \\mu)\\right)^{-1}\n",
        "$$\n",
        "is just the normalization constant.\n"
      ]
    },
    {
      "cell_type": "markdown",
      "metadata": {
        "id": "0GKQfzUr3yub",
        "colab_type": "text"
      },
      "source": [
        "### Mutual information\n",
        "Once we have the discrete probabilities the mutual information between the test and the reference images is\n",
        "$$\\tag{1}\n",
        "S(\\mu) = \\sum_{\\iota \\in L_T}\\sum_{\\kappa \\in L_R}p(\\iota, \\kappa; \\mu)\\log_2 p(\\iota, \\kappa; \\mu)\n",
        "$$\n",
        "The code snippet below computes the mutual information for the example we are working with.\n"
      ]
    },
    {
      "cell_type": "markdown",
      "metadata": {
        "id": "r9wfgazw7BEq",
        "colab_type": "text"
      },
      "source": [
        "## B. Illustration\n",
        "\n",
        "We will demonstrate the definitions introduced in the previous subsection by using them on a set of two small binary images. We will first create the two images."
      ]
    },
    {
      "cell_type": "code",
      "metadata": {
        "id": "uuqJl4ZZ3EwN",
        "colab_type": "code",
        "outputId": "7fd13e76-1876-4599-8a26-61cc7a1e9559",
        "colab": {
          "base_uri": "https://localhost:8080/",
          "height": 262
        }
      },
      "source": [
        "import numpy as np\n",
        "import matplotlib.pyplot as plt\n",
        "from PIL import Image\n",
        "\n",
        "x = np.zeros(36)\n",
        "x[14] = x[15] = x[20] = x[21] =  x[35] = 128\n",
        "ref = Image.new('1', (6, 6))\n",
        "ref.putdata(x)\n",
        "\n",
        "y = np.zeros(36)\n",
        "y[7] = y[8] = y[13] = y[14] = y[28] = 128\n",
        "tst = Image.new('1', (6, 6))\n",
        "tst.putdata(y)\n",
        "\n",
        "plt.figure()\n",
        "plt.suptitle('Reference and test images')\n",
        "p1 = plt.subplot(121)\n",
        "p1.set_title('Reference')\n",
        "plt.imshow(ref)\n",
        "\n",
        "p2 = plt.subplot(122)\n",
        "p2.set_title('Test')\n",
        "plt.imshow(tst)\n",
        "\n",
        "plt.show()"
      ],
      "execution_count": 0,
      "outputs": [
        {
          "output_type": "display_data",
          "data": {
            "image/png": "[encoded data removed]",
            "text/plain": [
              "<Figure size 432x288 with 2 Axes>"
            ]
          },
          "metadata": {
            "tags": [],
            "needs_background": "light"
          }
        }
      ]
    },
    {
      "cell_type": "markdown",
      "metadata": {
        "id": "YfHSNmBh8oil",
        "colab_type": "text"
      },
      "source": [
        "We next select the square pulse as a Parzen window. That is\n",
        "$$\\tag{4}\n",
        "w(\\iota, \\kappa) = \\begin{cases}\n",
        "1 & \\;\\text{if}\\; |\\iota| < 1/2 \\;\\text{and}\\; |\\kappa| < 1/2 \\\\\n",
        "0 & \\;\\text{otherwise.}\n",
        "\\end{cases}\n",
        "$$"
      ]
    },
    {
      "cell_type": "code",
      "metadata": {
        "id": "2nuhtUkD9GtQ",
        "colab_type": "code",
        "colab": {}
      },
      "source": [
        "def sq_pulse(x):\n",
        "  if np.abs(x) < 0.5:\n",
        "    return 1\n",
        "  else:\n",
        "    return 0\n"
      ],
      "execution_count": 0,
      "outputs": []
    },
    {
      "cell_type": "markdown",
      "metadata": {
        "id": "0HBz4i5M9hgV",
        "colab_type": "text"
      },
      "source": [
        "For the moment we will not perform any geometrical transformation. We will just \n",
        "illustrate the joint histogram. That is, $g(x; \\mu) = x$. Further, we note that there are only two levels in the images, $0$ and $128$. Therefore, there are only four bins $(0, 0), (128, 0), (0, 128)$ and $(128, 128)$. The image itself is stored as a binary. Therefore, these levels are $(0, 0), (1, 0), (0, 1)$ and $(1, 1)$ respectively. For each of these values, we must compute the joint Parzen histogram."
      ]
    },
    {
      "cell_type": "code",
      "metadata": {
        "id": "8ZF6h-V29t0T",
        "colab_type": "code",
        "outputId": "68b5d559-4150-4e4a-838c-5d2a5b3a996b",
        "colab": {
          "base_uri": "https://localhost:8080/",
          "height": 173
        }
      },
      "source": [
        "h = np.zeros((2, 2), dtype = np.float)\n",
        "\n",
        "rd = np.asarray(ref)\n",
        "td = np.asarray(tst)\n",
        "\n",
        "# Compute h[0, 0] corresponding to bin (0, 0)\n",
        "for i in range(6):\n",
        "  for j in range(6):\n",
        "    h[0, 0] = h[0, 0] + sq_pulse(0 - rd[i, j]) * sq_pulse(0 - td[i, j])\n",
        "\n",
        "# Compute h[1, 0] corresponding to bin (1, 0)\n",
        "for i in range(6):\n",
        "  for j in range(6):\n",
        "    h[1, 0] = h[1, 0] + sq_pulse(1 - rd[i, j]) * sq_pulse(0 - td[i, j])\n",
        "\n",
        "# Compute h[0, 1] corresponding to bin (0, 1)\n",
        "for i in range(6):\n",
        "  for j in range(6):\n",
        "    h[0, 1] = h[0, 1] + sq_pulse(0 - rd[i, j]) * sq_pulse(1 - td[i, j])\n",
        "\n",
        "# Compute h[1, 1] corresponding to bin (1, 1)\n",
        "for i in range(6):\n",
        "  for j in range(6):\n",
        "    h[1, 1] = h[1, 1] + sq_pulse(1 - rd[i, j]) * sq_pulse(1 - td[i, j])\n",
        "\n",
        "print('The joint histograms is:')\n",
        "print(h)\n",
        "\n",
        "# The sum of all elements in the histogram is\n",
        "total = sum(sum(h))\n",
        "# It comes as no surprise that it is 36. It is now easy to compute the discrete\n",
        "# probabilities.\n",
        "dp = h/total\n",
        "print('----------------------------------------------------------------')\n",
        "print('The discrete probabilities are:')\n",
        "print(dp)\n",
        "print('----------------------------------------------------------------')\n",
        "mi = -sum(sum(np.multiply(dp, np.log2(dp))))\n",
        "print(f'The mutual information is {mi}.')"
      ],
      "execution_count": 0,
      "outputs": [
        {
          "output_type": "stream",
          "text": [
            "The joint histograms is:\n",
            "[[27.  4.]\n",
            " [ 4.  1.]]\n",
            "----------------------------------------------------------------\n",
            "The discrete probabilities are:\n",
            "[[0.75       0.11111111]\n",
            " [0.11111111 0.02777778]]\n",
            "----------------------------------------------------------------\n",
            "The mutual information is 1.1593149303752663.\n"
          ],
          "name": "stdout"
        }
      ]
    },
    {
      "cell_type": "markdown",
      "metadata": {
        "id": "Vpmn6xMQ9Inm",
        "colab_type": "text"
      },
      "source": [
        "## C. Partition of Unity\n",
        "From the discrete Parzen probability introduced in the section <a href=\"Histogram estimation\">Histogram estimation</a> we can readily compute the two marginal probabilities,\n",
        "$$\n",
        "\\begin{eqnarray}\n",
        "p_T(\\iota; \\mu) &=& \\sum_{\\kappa \\in L_R}p(\\iota, \\kappa; \\mu) \\tag{1} \\\\\n",
        "p_R(\\kappa; \\mu) &=& \\sum_{\\iota \\in L_T}p(\\iota, \\kappa; \\mu). \\tag{2}\n",
        "\\end{eqnarray}\n",
        "$$\n",
        "An unfortunate consequence of this method is that the marginal probability $p_R$ for the reference image also depends on the parameters $\\mu$ of the geometric transformation $g(x; \\mu)$. Let us find out if we can avoid the dependency. From equation (2)in the section <a href=\"Histogram estimation\">Histogram estimation</a> we get\n",
        "$$\\tag{3}\n",
        "p_R(\\kappa;\\mu) = \\alpha(\\mu)\\sum_{\\iota \\in L_T}h(\\iota, \\kappa; \\mu).\n",
        "$$\n",
        "Using the definition of $h$ from equation (1) in the section <a href=\"Histogram estimation\">Histogram estimation</a>,\n",
        "$$\\tag{4}\n",
        "p_R(\\kappa;\\mu) = \\alpha(\\mu)\\sum_{\\iota \\in L_T}\\frac{1}{\\varepsilon_T\\varepsilon_R}\\sum_{x_i \\in V}w\\left(\\frac{\\iota - f_T(g(x_i, \\mu))}{\\varepsilon_T}\\right)\\cdot w\\left(\\frac{\\kappa - f_R(x_i)}{\\varepsilon_R}\\right).\n",
        "$$\n",
        "Interchanging the sums,\n",
        "$$\\tag{5}\n",
        "p_R(\\kappa;\\mu) = \\frac{\\alpha(\\mu)}{\\varepsilon_T\\varepsilon_R}\\sum_{x_i \\in V}\\sum_{\\iota \\in L_T}w\\left(\\frac{\\iota - f_T(g(x_i, \\mu))}{\\varepsilon_T}\\right)\\cdot w\\left(\\frac{\\kappa - f_R(x_i)}{\\varepsilon_R}\\right).\n",
        "$$\n",
        "The left hand side will not depend on $\\mu$ if we insist that\n",
        "$$\\tag{6}\n",
        "\\sum_{\\iota \\in L_T}w\\left(\\frac{\\iota - f_T(g(x_i, \\mu))}{\\varepsilon_T}\\right) = 1\n",
        "$$\n",
        "**for all** window functions $w$. In that case,\n",
        "$$\\tag{7}\n",
        "p_R(\\kappa;\\mu) = \\frac{\\alpha(\\mu)}{\\varepsilon_T\\varepsilon_R}\\sum_{x_i \\in V}w\\left(\\frac{\\kappa - f_R(x_i)}{\\varepsilon_R}\\right).\n",
        "$$\n",
        "It is easy to see that\n",
        "$$\\tag{8}\n",
        "\\frac{1}{\\alpha(\\mu)} = \\frac{1}{\\varepsilon_T\\varepsilon_R}\\sum_{x_i \\in V}\\left\\{\\sum_{\\iota \\in L_T}w\\left(\\frac{\\iota - f_T(g(x_i, \\mu))}{\\varepsilon_T}\\right)\\cdot \\sum_{\\kappa \\in L_R}w\\left(\\frac{\\kappa - f_R(x_i)}{\\varepsilon_R}\\right)\\right\\}\n",
        "$$\n",
        "Using the condition (6), we get\n",
        "$$\\tag{9}\n",
        "\\frac{1}{\\alpha(\\mu)} = \\frac{1}{\\varepsilon_T\\varepsilon_R}\\sum_{x_i \\in V} 1.\n",
        "$$\n",
        "The sum is equal to the number of elements in $V$, also called its **cardinality** and denoted by $\\text{card}(V)$. Therefore,\n",
        "$$\\tag{10}\n",
        "\\alpha = \\frac{\\varepsilon_T\\varepsilon_R}{\\text{card}(V)}.\n",
        "$$\n",
        "Thus, the normalization constant $\\alpha$ too is independent of $\\mu$, which is the reason we dropped showing it in equation (10). From equation (7) and (10), we have\n",
        "$$\\tag{11}\n",
        "p_R(\\kappa) = \\frac{1}{\\text{card}(V)}\\sum_{x_i \\in V}w\\left(\\frac{\\kappa - f_R(x_i)}{\\varepsilon_R}\\right).\n",
        "$$\n",
        "Condition (6) on the window functions is called **partition of unity**.\n"
      ]
    },
    {
      "cell_type": "markdown",
      "metadata": {
        "id": "L7DayedcDpgB",
        "colab_type": "text"
      },
      "source": [
        "## D. Partial overlap\n",
        "\n",
        "We will use the idea of partial overlap only when we get to computation of gradients. The reader may want to return to this section when the need arises.\n",
        "\n",
        "In order to find mutual information between two images there should be at least some overlap between their domains. Recall the notation $V^c_R$ and $V^c_T$ for domains of the reference and test images in the section <a href=\"Histogram estimation\">Histogram estimation.</a> Also recall that the geometric transformation $g(x;\\mu)$ attempts to align $V_T$ along $V_R$. An overlap between the domains of the reference and test images is thus,\n",
        "$$\\tag{1}\n",
        "V^c = V_R^c \\cap g^{-1}\\left(V_T^x; \\mu\\right).\n",
        "$$\n",
        "Clearly, $V^c$ can at most be as large as $V_R^c$. In order to compute the discrete Parzen histogram we sample the continuous domain $V^c$ to a discrete set $V$ of values. Because $V$ is discrete,\n",
        "$$\\tag{2}\n",
        "\\frac{dV}{d\\mu} = 0, \\;\\text{almost everywhere.}\n",
        "$$\n",
        "The term 'almost everywhere' comes from a branch of mathematics called **measure theory**. It is analogous to the idea of an event having probability zero.\n"
      ]
    },
    {
      "cell_type": "markdown",
      "metadata": {
        "id": "9DS1PzjtDsEF",
        "colab_type": "text"
      },
      "source": [
        "## E. B-splines\n",
        "\n",
        "We will use B-splines as window functions. They are guaranteed for form partition of unity as one can confirm on page 10 of [de Boor's paper.](https://www.cs.unc.edu/~dm/UNC/COMP258/Papers/bsplbasic.pdf) They are defined recursively as\n",
        "$$\n",
        "\\begin{eqnarray}\n",
        "\\beta^n(x) &=& (\\beta^{n-1} \\star \\beta^{0})(x) \\tag{1} \\\\\n",
        "\\beta^0(x) &=& \\frac{1}{2}\\left(\\text{sgn}\\left(x + \\frac{1}{2}\\right)\\text{sgn}\\left(x - \\frac{1}{2}\\right)\\right), \\tag{2} \\\\\n",
        "\\end{eqnarray}\n",
        "$$\n",
        "where\n",
        "$$\\tag{3}\n",
        "\\text{sgn}(x) = \\begin{cases}\n",
        "-1 & \\;\\text{if}\\; x < 0 \\\\\n",
        " 0 & \\;\\text{if}\\; x = 0 \\\\\n",
        "+1 & \\;\\text{if}\\; x > 0 \n",
        "\\end{cases}\n",
        "$$\n",
        "We will also use B-splines to represent a discrete image as a continuous function. \n",
        "\n",
        "<font color=\"blue\">Attention Ibraheem: Please insert the link to tutorial 1 after you finalize its location.</font>"
      ]
    },
    {
      "cell_type": "markdown",
      "metadata": {
        "id": "fjIOIYrWI8fq",
        "colab_type": "text"
      },
      "source": [
        "# Multi-resolution"
      ]
    },
    {
      "cell_type": "markdown",
      "metadata": {
        "id": "asg5_i3nJAFP",
        "colab_type": "text"
      },
      "source": [
        "## A. Image model\n",
        "\n",
        "We insist on the following characteristics of an image model.\n",
        "\n",
        "1. It should allow us to build a continuous function from the discrete samples.\n",
        "2. Given a continuous representation of an image, we should be able to sample it in such a way that reconstructing the continuous representation should give us a function that is close to the one we started with.\n",
        "\n",
        "This tutorial uses the B-spline model. In particular, we express the continuous image function $f$ as\n",
        "$$\\tag{1}\n",
        "f(x) = \\sum_{x_i \\in V}c(x_i)\\beta^n(x - x_i),\n",
        "$$\n",
        "where the coefficients $c(x_i)$ depend on the discrete samples $f_i$ of the image and $\\beta^n$ are B-splines of order $n$. If $x = (x_1, \\ldots, x_m) \\in \\mathbb{R}^m$ then the separability of splines ensures that\n",
        "$$\\tag{2}\n",
        "\\beta^n(x) = \\beta^n(x_1) \\cdots \\beta^n(x_m)\n",
        "$$"
      ]
    },
    {
      "cell_type": "markdown",
      "metadata": {
        "id": "Q484IDh7JDvM",
        "colab_type": "text"
      },
      "source": [
        "## B. Model degree\n",
        "\n",
        "By model degree we mean the degree of the spline polynomials. Very low degree causes blocking while very high degree causes ringing. A compromise between the extremes is the choice $n = 3$, which corresponds to the cubic splines."
      ]
    },
    {
      "cell_type": "markdown",
      "metadata": {
        "id": "DsSZlHbnJGgZ",
        "colab_type": "text"
      },
      "source": [
        "## C. Grey cone\n",
        "\n",
        "Multi-resolution analysis means processing an image at multiple levels of increasingly finer (or coarser) resolutions. At each stage of resolution we find the mutual information between images. The geometric multi-resolution is called **image pyramid** while the gray-level multi-resolution is called the **grey cone**. At very coarse levels, there could be fewer data points as compared to the number of grey levels. On the other hand, at finer levels we may have too few gray levels for the available data points. To balance these extreme as constant ratio between the two is suggested.\n"
      ]
    },
    {
      "cell_type": "markdown",
      "metadata": {
        "id": "un1lJa5gJJfy",
        "colab_type": "text"
      },
      "source": [
        "## D. Underlying assumptions\n",
        "\n",
        "The [paper](https://infoscience.epfl.ch/record/63070/files/thevenaz0003.pdf) assumes that most of the image signal is concentrated in the lower spatial frequencies which are preserved across resolutions. Therefore, its proposed algorithm first carries out registration at coarser resolution and as it goes to finer resolution the results are only adjusted slightly towards the final registration.\n",
        "\n",
        "The pseudo-quantization mentioned in the [paper](https://infoscience.epfl.ch/record/63070/files/thevenaz0003.pdf) means a paucity of grey-levels at a certain geometrical resolution level. In such a situation, a conventional histogram puts all data points in a single bin. The image registration algorithm performs very poorly in such a situation. This is where the idea of using Parzen histogram becomes useful. Using cubic splines are Parzen window distributes data across bins.\n",
        "\n",
        "The choice of cubic splines allows also ensures that\n",
        "\n",
        "1. Empirical average computed over bins is identical with empirical average over data.\n",
        "2. If $L$ is the discrete set of grey levels and $\\sigma_L^2$ is the variance measured over bins, the variance over the set $V$ of values is $\\sigma_V^2 = \\varepsilon - \\varepsilon^2/3$ where $\n",
        "\\varepsilon = \\sigma_L^2$."
      ]
    },
    {
      "cell_type": "markdown",
      "metadata": {
        "id": "NIBU65vd-0G1",
        "colab_type": "text"
      },
      "source": [
        "# Optimization\n",
        "\n",
        "The reference and the test images are optimally aligned with each other when the mutual information between them is the least. This suggests that must develop an algorithm that selects a geometric transformation that minimizes the mutual information. This is where optimization comes into the picture. It proposes to carry out optimization at successively finer levels of resolution. This is where 'multi-resolution' comes into the picture.\n",
        "\n",
        "Optimization always involves finding extrema of functions. In order to find them, we need to evaluate their derivatives. In this section, we will develop expressions for derivatives of mutual information $S$ and their simplification for sake of computations."
      ]
    },
    {
      "cell_type": "markdown",
      "metadata": {
        "id": "z1VBsLLPCJy7",
        "colab_type": "text"
      },
      "source": [
        "## A. Criterion model\n",
        "We first express the mutual information $S$, defined by equation (1) in the section <a href=\"Mutual information\">Mutual information</a> as a Taylor series,\n",
        "$$\\tag{1}\n",
        "S(\\mu) = S(\\nu) + \\sum_{i=1}^m\\frac{\\partial S}{\\partial\\mu_i}(\\nu)(\\mu_i - \\nu_i) + \\frac{1}{2}\\sum_{i,j=1}^m\\frac{\\partial^2 S}{\\partial\\mu_i\\partial\\mu_j}(\\nu)(\\mu_i - \\nu_i)(\\mu_j - \\nu_j) + \\cdots.\n",
        "$$\n",
        "Recall that $\\mu, \\nu$ are the vectors of the parameters of the geometric transformations. We assume that there are $m$ such parameters and therefore $\\mu, \\nu \\in \\mathbb{R}^m$.\n",
        "\n",
        "We shall simplify the Taylor expansion by assuming that terms of $O(||\\mu - \\nu||^3)$ can be ignored."
      ]
    },
    {
      "cell_type": "markdown",
      "metadata": {
        "id": "PnNJwNRGCNw8",
        "colab_type": "text"
      },
      "source": [
        "## B. Gradient\n",
        "The second term in the Taylor expansion of the mutual information is a product of gradient of $S$ and the vector $\\mu - \\nu$. We now consider an expression for the gradient.\n",
        "\n",
        "$$\\tag{1}\n",
        "\\nabla S = \\frac{\\partial S}{\\partial\\mu} = \\left(\\frac{\\partial S}{\\partial\\mu_1}, \\ldots, \\frac{\\partial S}{\\partial\\mu_m}\\right).\n",
        "$$\n",
        "We can simplify the expression for $\\nabla S$ if we take into account the following assumptions:\n",
        "\n",
        "1. Parzen windows satisfy partition of unity, as a result of which,\n",
        "2. $\\alpha$ is independent of $\\mu$ and \n",
        "3. \n",
        "$$\\tag{2}\n",
        "h_R(\\kappa; \\mu) = \\sum_{\\iota \\in L_T} h(\\iota, \\kappa; \\mu).\n",
        "$$\n",
        "We then get\n",
        "$$\\tag{3}\n",
        "\\nabla S = -\\sum_{\\iota \\in L_T}{\\kappa \\in L_R} \\nabla p \\cdot\n",
        "\\log_2\\left(\\frac{p(\\iota, \\kappa; \\mu)}{p_T(\\iota; \\mu)}\\right).\n",
        "$$\n",
        "From equations (1) and (2) in the section <a href=\"Histogram estimation\">Histogram estimation</a> we get\n",
        "$$\\tag{4}\n",
        "\\nabla p = \\frac{1}{\\text{card}(V)}\\sum_{x_i \\in V}\\left(\\beta^m\\left(\\frac{\\kappa - f_R(x_i)}{\\varepsilon_R}\\right)\\frac{\\partial\\beta^m}{\\partial\\xi}\\Big|_{\\xi_0}\\times\\frac{1}{\\epsilon_T}(-\\nabla f_T(t_0)\\cdot\\nabla g\\right),\n",
        "$$\n",
        "where\n",
        "$$\\tag{5}\n",
        "\\xi_0 = \\frac{\\iota - f_T(g(x;\\mu))}{\\varepsilon_T}\n",
        "$$\n",
        "and\n",
        "$$\\tag{6}\n",
        "t_0 = g(x_i; \\mu)\n",
        "$$\n",
        "We can use the properties of B-splines to write\n",
        "$$\\tag{7}\n",
        "\\frac{\\partial\\beta^m}{\\partial\\xi} = \\beta^{m-1}\\left(\\xi + \\frac{1}{2}\\right) - \\beta^{m-1}\\left(\\xi - \\frac{1}{2}\\right)\n",
        "$$\n",
        "The gradient of the test image is\n",
        "$$\\tag{8}\n",
        "\\frac{df_T}{dt} = \\sum_{x_i \\in V}c_{x_i}\\frac{d\\beta^n}{du}\\Big|_{u = t - x_i}.\n",
        "$$\n",
        "Finally,\n",
        "$$\\tag{9}\n",
        "\\nabla p_T = \\frac{1}{\\text{card}(V)}\\sum_{x_i \\in V}\\left(\\frac{\\partial\\beta^m}{\\partial\\xi}\\Big|_{\\xi_0}\\times\\frac{1}{\\epsilon_T}(-\\nabla f_T(t_0)\\cdot\\nabla g\\right)\n",
        "$$"
      ]
    },
    {
      "cell_type": "markdown",
      "metadata": {
        "id": "j4JLhS6ZCP69",
        "colab_type": "text"
      },
      "source": [
        "## C. Hessian\n",
        "The hessian of $S$ is defined as the matrix $\\nabla^2S$ whose general term is\n",
        "$$\\tag{1}\n",
        "\\left(\\nabla^2S\\right)_{ij} = \\frac{\\partial^2S}{\\partial\\mu_i\\partial\\mu_j},\n",
        "$$\n",
        "where $1 \\le i, j \\le m$. Its simplified form is\n",
        "$$\\tag{2}\n",
        "\\frac{\\partial^2S}{\\partial\\mu_i\\partial\\mu_j} \\approx \\frac{1}{\\ln 2}\\left\\{\\sum_{\\iota \\in L_T}\\frac{\\partial p_T}{\\partial\\mu_i}\\frac{\\partial p_T}{\\partial\\mu_j}\\frac{1}{p_T(\\iota;\\mu)} - \\sum_{\\iota \\in L_T}\\sum_{\\kappa \\in L_R}\\frac{\\partial p}{\\partial\\mu_i}\\frac{\\partial p}{\\partial\\mu_j}\\frac{1}{p(\\iota, \\kappa;\\mu)}\\right\\}\n",
        "$$\n",
        "Essentially, we have expressed the hessian in terms of first derivatives alone. We computed the first derivatives while computing the gradient.\n"
      ]
    },
    {
      "cell_type": "markdown",
      "metadata": {
        "id": "f2bGV9NLCT9C",
        "colab_type": "text"
      },
      "source": [
        "## D. Standard optimizers\n",
        "Some of the common methods of finding extrema of functions are discussed in this section.\n",
        "\n",
        "Each technique is illustrated with a snippet of the code. It is written in the simplest possible way and it is in no way a substitute to well-tested and well-writted FORTRAN/C code available in the python module scipy.optimize."
      ]
    },
    {
      "cell_type": "markdown",
      "metadata": {
        "id": "SjLlJVKiAAVg",
        "colab_type": "text"
      },
      "source": [
        "### Gradient descent\n",
        "It is a very old method, proposed in 1847 by the French mathematician Augustin-Louis Cauchy. It searches a local extremum by proceeding along the direction where the gradient is the most."
      ]
    },
    {
      "cell_type": "code",
      "metadata": {
        "id": "A3DTBnJJCyUz",
        "colab_type": "code",
        "outputId": "9c4a00a3-19f5-4a72-f5b0-cd875b985f94",
        "colab": {
          "base_uri": "https://localhost:8080/",
          "height": 351
        }
      },
      "source": [
        "import numpy as np\n",
        "import matplotlib.pyplot as plt\n",
        "\n",
        "# Plot the function f(x, y) = x^2 + xy + y^2.\n",
        "x = np.linspace(-10, 10, 200)\n",
        "y = np.linspace(-10, 10, 200)\n",
        "xs, ys = np.meshgrid(x, y, sparse = True)\n",
        "z = xs**2 + xs*ys + ys**2\n",
        "plt.contourf(x, y, z)\n",
        "plt.xlabel(r'$x$')\n",
        "plt.ylabel(r'$y$')\n",
        "plt.title(r'$z = x^2 + xy + y^2$')\n",
        "plt.show()\n",
        "\n",
        "# Find its local minimum. Since f is a convex function the local\n",
        "# minimum is also the global minimum.\n",
        "def gradz_dot_dh(r, dh):\n",
        "    # gradient of f is (2x + y, x + 2y)\n",
        "    gradz = [2*r[0] + r[1], r[0] + 2*r[1]]\n",
        "\n",
        "    return np.dot(gradz, dh)\n",
        "\n",
        "def euclidean_dist(r1, r2):\n",
        "    return np.sqrt((r1[0] - r2[0])**2 + (r1[1] - r2[1])**2)\n",
        "\n",
        "threshold = 0.000001\n",
        "max_iter = 10000\n",
        "step = [0.01, 0.01]\n",
        "\n",
        "prev = [0.1, 0.1]\n",
        "n = 0\n",
        "while n < max_iter:\n",
        "    n = n + 1\n",
        "    curr = prev - gradz_dot_dh(prev, step)\n",
        "    if euclidean_dist(prev, curr) < threshold:\n",
        "        print('Found an extremum.')\n",
        "        break\n",
        "    else:\n",
        "        prev = curr\n",
        "\n",
        "print(f'Number of iterations = {n}')\n",
        "print(f'Optimum points = {curr}')\n"
      ],
      "execution_count": 0,
      "outputs": [
        {
          "output_type": "display_data",
          "data": {
            "image/png": "[encoded data removed]",
            "text/plain": [
              "<Figure size 432x288 with 1 Axes>"
            ]
          },
          "metadata": {
            "tags": [],
            "needs_background": "light"
          }
        },
        {
          "output_type": "stream",
          "text": [
            "Found an extremum.\n",
            "Number of iterations = 148\n",
            "Optimum points = [1.05419835e-05 1.05419835e-05]\n"
          ],
          "name": "stdout"
        }
      ]
    },
    {
      "cell_type": "markdown",
      "metadata": {
        "id": "5cpfKEpWYKF5",
        "colab_type": "text"
      },
      "source": [
        "### Newton's method.\n",
        "Newton's method is similar to the gradient descent except that the gradient is scaled by the Hessian determinant of the function evaluated at the point at which we are exploring the function's landscape."
      ]
    },
    {
      "cell_type": "code",
      "metadata": {
        "id": "9_rV49OoYoJ5",
        "colab_type": "code",
        "outputId": "774ae7e1-eb5f-484c-bb8d-333f5203b3cb",
        "colab": {
          "base_uri": "https://localhost:8080/",
          "height": 69
        }
      },
      "source": [
        "import numpy as np\n",
        "\n",
        "def gradz_dot_dh(r, dh):\n",
        "    # gradient of f is (2x + y, x + 2y)\n",
        "    gradz = [2*r[0] + r[1], r[0] + 2*r[1]]\n",
        "\n",
        "    return np.dot(gradz, dh)\n",
        "\n",
        "def hessian(r):\n",
        "  # In the case of this example, the Hessian is a constant.\n",
        "  return 3\n",
        "\n",
        "def euclidean_dist(r1, r2):\n",
        "    return np.sqrt((r1[0] - r2[0])**2 + (r1[1] - r2[1])**2)\n",
        "\n",
        "threshold = 0.000001\n",
        "max_iter = 10000\n",
        "step = [0.01, 0.01]\n",
        "\n",
        "prev = [0.1, 0.1]\n",
        "n = 0\n",
        "while n < max_iter:\n",
        "    n = n + 1\n",
        "    curr = prev - gradz_dot_dh(prev, step)/hessian(prev)\n",
        "    if euclidean_dist(prev, curr) < threshold:\n",
        "        print('Found an extremum.')\n",
        "        break\n",
        "    else:\n",
        "        prev = curr\n",
        "\n",
        "print(f'Number of iterations = {n}')\n",
        "print(f'Optimum points = {curr}')"
      ],
      "execution_count": 0,
      "outputs": [
        {
          "output_type": "stream",
          "text": [
            "Found an extremum.\n",
            "Number of iterations = 395\n",
            "Optimum points = [3.42215675e-05 3.42215675e-05]\n"
          ],
          "name": "stdout"
        }
      ]
    },
    {
      "cell_type": "markdown",
      "metadata": {
        "id": "OBAm-o9baUGw",
        "colab_type": "text"
      },
      "source": [
        "Gradient descent is known to converge to a local extremum although the rate of convergence may be quite slow. On the other hand, although Newton's method can be very fast if we are close to the extremum it sometimes does not converge to a local extremum. In the worst case it is known to diverge away from the extremum or settle at a saddle point."
      ]
    },
    {
      "cell_type": "markdown",
      "metadata": {
        "id": "2YZXTGFtCW2G",
        "colab_type": "text"
      },
      "source": [
        "## E. Marquardt–Levenberg strategy\n",
        "Marquardt and Levenberg proposed an optimization algorithm that combines the certainty of gradient descent with the efficiency of Newton's method. The scaling by Hessian in Newton's method is replaced by scaling with the quantity\n",
        "$$\\tag{1}\n",
        "H^\\prime_{ij} = H_{ij}(1 + \\lambda\\delta_{ij}),\n",
        "$$\n",
        "where $\\lambda$ is a (usually adaptive) constant and $\\delta_{ij}$ is the Kronecker delta.\n",
        "\n",
        "The code snippet in the next cell demonstrates a simplified version of this algorithm. It seeks to find the extrema of the function\n",
        "$$\n",
        "f(x, y) = x^4 + xy + y^4.\n",
        "$$\n",
        "$f$ has two minima $(0.5, -0.5)$ and $(-0.5, 0.5)$. We first plot the function and then find one of the minima. The algorithm does not select a different $\\lambda$ for each iteration. We have kept it equal to $2$ all through out."
      ]
    },
    {
      "cell_type": "code",
      "metadata": {
        "id": "WFO-Qo6XmaVs",
        "colab_type": "code",
        "outputId": "1b9c1611-7873-46ec-8152-a00f940099c3",
        "colab": {
          "base_uri": "https://localhost:8080/",
          "height": 351
        }
      },
      "source": [
        "import numpy as np\n",
        "import matplotlib.pyplot as plt\n",
        "\n",
        "# Plot the function f(x, y) = x^4 + xy + y^4.\n",
        "L = 2\n",
        "x = np.linspace(-L, L, 200)\n",
        "y = np.linspace(-L, L, 200)\n",
        "xs, ys = np.meshgrid(x, y, sparse = True)\n",
        "z = xs**4 + xs*ys + ys**4\n",
        "plt.contourf(x, y, z)\n",
        "plt.xlabel(r'$x$')\n",
        "plt.ylabel(r'$y$')\n",
        "plt.title(r'$z = x^4 + xy + y^4$')\n",
        "plt.show()\n",
        "\n",
        "\n",
        "def gradz_dot_dh(r, dh):\n",
        "    gradz = [4 * r[0]**3 + r[1], r[0] + 4 * r[1]**3]\n",
        "\n",
        "    return np.array([gradz[0] * dh[0], gradz[1] * dh[1]])\n",
        "    \n",
        "def hessian(r, lmbd):\n",
        "    return (1 - lmbd) * 12 * r[0]**2 * r[1]**2 - 1\n",
        "\n",
        "def euclidean_dist(r1, r2):\n",
        "    return np.sqrt((r1[0] - r2[0])**2 + (r1[1] - r2[1])**2)\n",
        "\n",
        "threshold = 0.00001\n",
        "max_iter = 10000\n",
        "step = [0.01, 0.01]\n",
        "\n",
        "prev = [2, 1]\n",
        "n = 0\n",
        "lmbd = 2\n",
        "\n",
        "while n < max_iter:\n",
        "    n = n + 1\n",
        "    hp = hessian(prev, lmbd)\n",
        "    delta = gradz_dot_dh(prev, step)\n",
        "    curr = prev + delta/hp\n",
        "    if euclidean_dist(prev, curr) < threshold:\n",
        "        print('Found an extremum.')\n",
        "        break\n",
        "    else:\n",
        "        prev = curr\n",
        "\n",
        "print(f'Number of iterations = {n}')\n",
        "print(f'Optimum points = {curr}')\n"
      ],
      "execution_count": 0,
      "outputs": [
        {
          "output_type": "display_data",
          "data": {
            "image/png": "[encoded data removed]",
            "text/plain": [
              "<Figure size 432x288 with 1 Axes>"
            ]
          },
          "metadata": {
            "tags": [],
            "needs_background": "light"
          }
        },
        {
          "output_type": "stream",
          "text": [
            "Found an extremum.\n",
            "Number of iterations = 1003\n",
            "Optimum points = [ 0.49939256 -0.49939236]\n"
          ],
          "name": "stdout"
        }
      ]
    },
    {
      "cell_type": "markdown",
      "metadata": {
        "id": "Olix4W5NCfVc",
        "colab_type": "text"
      },
      "source": [
        "# Experiments\n",
        "In this section, we will build a number of code snippets that will be useful while constructing the final algorithm. Implementing the full algorithm is quite challenging for several reasons:\n",
        "1. Ideally, the algorithm should infer a geometric transformation that aligns the test image to the reference image. However, the space of such functions is very large and the paper throws no light on how we can narrow it. In order to illustrate the algorithm, we have assumed a linear transformation.\n",
        "2. The simple optimization algorithm know the closed form of the function they are optimizing. They also know their gradient. The implementation is more challenging when we not only do not know $g$ but neither do we know its derivative/gradient. $\\nabla g$ is a factor in equations (4) and (9) in the section <a href=\"Gradient\">Gradient</a>."
      ]
    },
    {
      "cell_type": "markdown",
      "metadata": {
        "id": "SI5mUre7bB2K",
        "colab_type": "text"
      },
      "source": [
        "## 1. Generate the image model\n",
        "Refer to the section <a href=\"Image model\">Image model</a> for the meaning of the term 'image model'. It just means building the B-spline transform of the image. The code snippet in the next cell shows how to apply the cubic B-spline filter to the binary images we will use for our experiment.\n"
      ]
    },
    {
      "cell_type": "code",
      "metadata": {
        "id": "k2MqROXfcYaR",
        "colab_type": "code",
        "outputId": "c31839d8-7d60-4173-9f4c-c6e6a0769bee",
        "colab": {
          "base_uri": "https://localhost:8080/",
          "height": 523
        }
      },
      "source": [
        "import numpy as np\n",
        "import matplotlib.pyplot as plt\n",
        "from scipy import signal, misc\n",
        "from PIL import Image\n",
        "import math\n",
        "\n",
        "# The cubic B-spline filter.\n",
        "b_1_3 = [1/6, 2/3, 1/6]\n",
        "csf = np.outer(b_1_3, b_1_3)\n",
        "\n",
        "x = np.zeros(36)\n",
        "x[14] = x[15] = x[20] = x[21] = x[35] = 128\n",
        "ref = Image.new('1', (6, 6))\n",
        "ref.putdata(x)\n",
        "\n",
        "y = np.zeros(36)\n",
        "y[7] = y[8] = y[13] = y[14] = y[28] = 128\n",
        "tst = Image.new('1', (6, 6))\n",
        "tst.putdata(y)\n",
        "\n",
        "x1 = signal.convolve2d(ref, csf, mode = 'same', boundary = 'symm')\n",
        "ref1 = Image.new('1', (6, 6))\n",
        "ref1.putdata(x1)\n",
        "\n",
        "y1 = signal.convolve2d(tst, csf, mode = 'same', boundary = 'symm')\n",
        "tst1 = Image.new('1', (6, 6))\n",
        "tst1.putdata(y1)\n",
        "\n",
        "plt.figure()\n",
        "plt.suptitle('Reference and test images')\n",
        "p1 = plt.subplot(121)\n",
        "p1.set_title('Reference')\n",
        "plt.imshow(ref1)\n",
        "\n",
        "p2 = plt.subplot(122)\n",
        "p2.set_title('Test')\n",
        "plt.imshow(tst1)\n",
        "\n",
        "plt.show()\n",
        "\n",
        "print('Although the images appear black, the data is not all zeros.')\n",
        "print(\"Reference image's data: \")\n",
        "print(x1)\n",
        "print(\"Transformed image's data: \")\n",
        "print(y1)\n"
      ],
      "execution_count": 0,
      "outputs": [
        {
          "output_type": "display_data",
          "data": {
            "image/png": "[encoded data removed]",
            "text/plain": [
              "<Figure size 432x288 with 2 Axes>"
            ]
          },
          "metadata": {
            "tags": [],
            "needs_background": "light"
          }
        },
        {
          "output_type": "stream",
          "text": [
            "Although the images appear black, the data is not all zeros.\n",
            "Reference image's data: \n",
            "[[0.         0.         0.         0.         0.         0.        ]\n",
            " [0.         0.02777778 0.13888889 0.13888889 0.02777778 0.        ]\n",
            " [0.         0.13888889 0.69444444 0.69444444 0.13888889 0.        ]\n",
            " [0.         0.13888889 0.69444444 0.69444444 0.13888889 0.        ]\n",
            " [0.         0.02777778 0.13888889 0.13888889 0.05555556 0.13888889]\n",
            " [0.         0.         0.         0.         0.13888889 0.69444444]]\n",
            "Transformed image's data: \n",
            "[[0.02777778 0.13888889 0.13888889 0.02777778 0.         0.        ]\n",
            " [0.13888889 0.69444444 0.69444444 0.13888889 0.         0.        ]\n",
            " [0.13888889 0.69444444 0.69444444 0.13888889 0.         0.        ]\n",
            " [0.02777778 0.13888889 0.13888889 0.05555556 0.11111111 0.02777778]\n",
            " [0.         0.         0.         0.11111111 0.44444444 0.11111111]\n",
            " [0.         0.         0.         0.02777778 0.11111111 0.02777778]]\n"
          ],
          "name": "stdout"
        }
      ]
    },
    {
      "cell_type": "markdown",
      "metadata": {
        "id": "9odDiZcGfhCl",
        "colab_type": "text"
      },
      "source": [
        "## 2. Decimation of images\n",
        "In order to build a multi-resolution pyramid, we must decimate the images successively. We are working with rather small images. Therefore, we will carry out only one level of decimation."
      ]
    },
    {
      "cell_type": "code",
      "metadata": {
        "id": "1F9WCzNvgAIq",
        "colab_type": "code",
        "outputId": "5ebb3293-129b-4f84-ca20-c2c81f61fb43",
        "colab": {
          "base_uri": "https://localhost:8080/",
          "height": 34
        }
      },
      "source": [
        "# Do not run this code in isolation. Run the previous cell before running this \n",
        "# one.\n",
        "print(x1.size)\n",
        "\n",
        "rd = np.zeros((3, 3))\n",
        "td = np.zeros((3, 3))\n",
        "\n",
        "x1.reshape((6, 6))\n",
        "y1.reshape((6, 6))\n",
        "\n",
        "# Decimating the image 'by hand'. The decimate function in the package signal\n",
        "# doesn't seem to work on small images.\n",
        "for i in range(3):\n",
        "  for j in range(3):\n",
        "    rd[i, j] = x1[2*i, 2*j]\n",
        "    td[i, j] = y1[2*i, 2*j]\n"
      ],
      "execution_count": 0,
      "outputs": [
        {
          "output_type": "stream",
          "text": [
            "36\n"
          ],
          "name": "stdout"
        }
      ]
    },
    {
      "cell_type": "markdown",
      "metadata": {
        "id": "rGoUg9ZJg3NF",
        "colab_type": "text"
      },
      "source": [
        "## 3. Build Parzen window\n",
        "We built a Parzen window previously. But it was based on a square pulse. Now we will build it based on cubic B-splines."
      ]
    },
    {
      "cell_type": "code",
      "metadata": {
        "id": "kzcvInJBQojf",
        "colab_type": "code",
        "colab": {}
      },
      "source": [
        "def mu(x):\n",
        "    if x < 0:\n",
        "      return 0\n",
        "    else:\n",
        "      return 1\n",
        "\n",
        "def beta3(x):\n",
        "    b_0 = np.multiply(pow(x + 2, 3), mu(x + 2))/6\n",
        "    b_1 = -2/3 * np.multiply(pow(x + 1, 3), mu(x + 1))\n",
        "    b_2 = np.multiply(pow(x, 3), mu(x))\n",
        "    b_3 = -2/3 * np.multiply(pow(x - 1, 3), mu(x - 1))\n",
        "    b_4 = np.multiply(pow(x - 2, 3), mu(x - 2))/6\n",
        "\n",
        "    return b_0 + b_1 + b_2 + b_3 + b_4\n",
        "\n",
        "alpha = np.sqrt(3) - 2\n",
        "\n",
        "def eta(x):\n",
        "    sum = 0\n",
        "    for k in range(-5, 6):\n",
        "        sum = sum + math.pow(alpha, abs(k)) * beta3(x - k)\n",
        "\n",
        "    return sum\n"
      ],
      "execution_count": 0,
      "outputs": []
    },
    {
      "cell_type": "markdown",
      "metadata": {
        "id": "LorVh0AyhTro",
        "colab_type": "text"
      },
      "source": [
        "## 4. Compute joint Parzen histogram\n",
        "\n",
        "It is evident from the output of step 1 'Generate the image model' that there are four distinct values of pixel in the spline transform of the image, $0, 0.02777778, 0.13888889$ and $0.69444444$. Let us, therefore, choose the bins of the histogram to be defined by the boundaries $0, 0.1, 0.2, 0.7$. Thus the join histogram will have sixteen levels."
      ]
    },
    {
      "cell_type": "code",
      "metadata": {
        "id": "EkMkQnd_d3GH",
        "colab_type": "code",
        "outputId": "04b14350-6c46-4775-a415-8832c7852677",
        "colab": {
          "base_uri": "https://localhost:8080/",
          "height": 243
        }
      },
      "source": [
        "h = np.zeros((4, 4), dtype = np.float)\n",
        "\n",
        "###############################################################################\n",
        "# Compute h[0, 0] corresponding to bin (0, 0)\n",
        "for i in range(3):\n",
        "  for j in range(3):\n",
        "    h[0, 0] = h[0, 0] + eta(0 - rd[i, j]) * eta(0 - td[i, j])\n",
        "\n",
        "# Compute h[1, 0] corresponding to bin (0.1, 0)\n",
        "for i in range(3):\n",
        "  for j in range(3):\n",
        "    h[1, 0] = h[1, 0] + eta(0.1 - rd[i, j]) * eta(0 - td[i, j])\n",
        "\n",
        "# Compute h[2, 0] corresponding to bin (0.2, 0)\n",
        "for i in range(3):\n",
        "  for j in range(3):\n",
        "    h[2, 0] = h[2, 0] + eta(0.2 - rd[i, j]) * eta(0 - td[i, j])\n",
        "\n",
        "# Compute h[3, 0] corresponding to bin (0.7, 0)\n",
        "for i in range(3):\n",
        "  for j in range(3):\n",
        "    h[3, 0] = h[3, 0] + eta(0.7 - rd[i, j]) * eta(0 - td[i, j])\n",
        "\n",
        "###############################################################################\n",
        "# Compute h[0, 1] corresponding to bin (0, 0.1)\n",
        "for i in range(3):\n",
        "  for j in range(3):\n",
        "    h[0, 1] = h[0, 1] + eta(0 - rd[i, j]) * eta(0.1 - td[i, j])\n",
        "\n",
        "# Compute h[1, 1] corresponding to bin (0.1, 0.1)\n",
        "for i in range(3):\n",
        "  for j in range(3):\n",
        "    h[1, 1] = h[1, 1] + eta(0.1 - rd[i, j]) * eta(0.1 - td[i, j])\n",
        "\n",
        "# Compute h[2, 1] corresponding to bin (0.2, 0.1)\n",
        "for i in range(3):\n",
        "  for j in range(3):\n",
        "    h[2, 1] = h[2, 1] + eta(0.2 - rd[i, j]) * eta(0.1 - td[i, j])\n",
        "\n",
        "# Compute h[3, 1] corresponding to bin (0.7, 0.1)\n",
        "for i in range(3):\n",
        "  for j in range(3):\n",
        "    h[3, 1] = h[3, 1] + eta(0.7 - rd[i, j]) * eta(0.1 - td[i, j])    \n",
        "\n",
        "###############################################################################\n",
        "# Compute h[0, 2] corresponding to bin (0, 0.2)\n",
        "for i in range(3):\n",
        "  for j in range(3):\n",
        "    h[0, 2] = h[0, 2] + eta(0 - rd[i, j]) * eta(0.2 - td[i, j])\n",
        "\n",
        "# Compute h[1, 2] corresponding to bin (0.1, 0.2)\n",
        "for i in range(3):\n",
        "  for j in range(3):\n",
        "    h[1, 2] = h[1, 2] + eta(0.1 - rd[i, j]) * eta(0.2 - td[i, j])\n",
        "\n",
        "# Compute h[2, 2] corresponding to bin (0.2, 0.2)\n",
        "for i in range(3):\n",
        "  for j in range(3):\n",
        "    h[2, 2] = h[2, 2] + eta(0.2 - rd[i, j]) * eta(0.2 - td[i, j])\n",
        "\n",
        "# Compute h[3, 2] corresponding to bin (0.7, 0.2)\n",
        "for i in range(3):\n",
        "  for j in range(3):\n",
        "    h[3, 2] = h[3, 2] + eta(0.7 - rd[i, j]) * eta(0.2 - td[i, j])        \n",
        "\n",
        "###############################################################################\n",
        "# Compute h[0, 3] corresponding to bin (0, 0.7)\n",
        "for i in range(3):\n",
        "  for j in range(3):\n",
        "    h[0, 3] = h[0, 3] + eta(0 - rd[i, j]) * eta(0.7 - td[i, j])\n",
        "\n",
        "# Compute h[1, 3] corresponding to bin (0.1, 0.7)\n",
        "for i in range(3):\n",
        "  for j in range(3):\n",
        "    h[1, 3] = h[1, 3] + eta(0.1 - rd[i, j]) * eta(0.7 - td[i, j])\n",
        "\n",
        "# Compute h[2, 3] corresponding to bin (0.2, 0.7)\n",
        "for i in range(3):\n",
        "  for j in range(3):\n",
        "    h[2, 3] = h[2, 3] + eta(0.2 - rd[i, j]) * eta(0.7 - td[i, j])\n",
        "\n",
        "# Compute h[3, 3] corresponding to bin (0.7, 0.7)\n",
        "for i in range(3):\n",
        "  for j in range(3):\n",
        "    h[3, 3] = h[3, 3] + eta(0.7 - rd[i, j]) * eta(0.7 - td[i, j])\n",
        "\n",
        "print('The joint histograms is:')\n",
        "print(h)\n",
        "\n",
        "# The sum of all elements in the histogram is\n",
        "total = sum(sum(h))\n",
        "# It comes as no surprise that it is 36. It is now easy to compute the discrete\n",
        "# probabilities.\n",
        "dp = h/total\n",
        "print('----------------------------------------------------------------')\n",
        "print('The discrete probabilities are:')\n",
        "print(dp)\n",
        "print('----------------------------------------------------------------')\n",
        "mi = -sum(sum(np.multiply(dp, np.log2(dp))))\n",
        "print(f'The mutual information is {mi}.')"
      ],
      "execution_count": 0,
      "outputs": [
        {
          "output_type": "stream",
          "text": [
            "The joint histograms is:\n",
            "[[2.54169993 2.589388   2.54258477 1.31113708]\n",
            " [2.54732935 2.6004278  2.55942248 1.35000315]\n",
            " [2.45647246 2.51365612 2.48074475 1.34216074]\n",
            " [1.09973013 1.15537111 1.17370739 0.79990769]]\n",
            "----------------------------------------------------------------\n",
            "The discrete probabilities are:\n",
            "[[0.08182208 0.08335724 0.08185056 0.04220796]\n",
            " [0.0820033  0.08371264 0.0823926  0.04345913]\n",
            " [0.07907844 0.08091929 0.07985981 0.04320667]\n",
            " [0.03540237 0.03719356 0.03778384 0.02575052]]\n",
            "----------------------------------------------------------------\n",
            "The mutual information is 3.9031696967392007.\n"
          ],
          "name": "stdout"
        }
      ]
    },
    {
      "cell_type": "markdown",
      "metadata": {
        "id": "1H69Pt3UhZlt",
        "colab_type": "text"
      },
      "source": [
        "## 5. Compute the mutual information after translation\n",
        "Let us now translate the image along the line $x + 1$. Note that the translation is applied to the test image, not the reference image. We observe that the translation does decrease the mutual information."
      ]
    },
    {
      "cell_type": "code",
      "metadata": {
        "id": "uQ-NcDJ7LhEi",
        "colab_type": "code",
        "outputId": "f9a944a3-108b-41a7-c357-bf4c433fdf52",
        "colab": {
          "base_uri": "https://localhost:8080/",
          "height": 243
        }
      },
      "source": [
        "tdt = np.zeros((3, 3)) # tdt stands from test image which is translated.\n",
        "for i in range(3):\n",
        "  for j in range(3):\n",
        "    i1 = i - 1\n",
        "    j1 = j - 1\n",
        "    if i1 >= 0 and j1 >= 0:\n",
        "      tdt[i, j] = td[i1, j1]\n",
        "    else:\n",
        "      tdt[i, j] = 0\n",
        "\n",
        "# We now repeat the computation of the mutual information.\n",
        "ht = np.zeros((4, 4), dtype = np.float)\n",
        "\n",
        "###############################################################################\n",
        "# Compute ht[0, 0] corresponding to bin (0, 0)\n",
        "for i in range(3):\n",
        "  for j in range(3):\n",
        "    ht[0, 0] = ht[0, 0] + eta(0 - rd[i, j]) * eta(0 - tdt[i, j])\n",
        "\n",
        "# Compute ht[1, 0] corresponding to bin (0.1, 0)\n",
        "for i in range(3):\n",
        "  for j in range(3):\n",
        "    ht[1, 0] = ht[1, 0] + eta(0.1 - rd[i, j]) * eta(0 - tdt[i, j])\n",
        "\n",
        "# Compute ht[2, 0] corresponding to bin (0.2, 0)\n",
        "for i in range(3):\n",
        "  for j in range(3):\n",
        "    ht[2, 0] = ht[2, 0] + eta(0.2 - rd[i, j]) * eta(0 - tdt[i, j])\n",
        "\n",
        "# Compute ht[3, 0] corresponding to bin (0.7, 0)\n",
        "for i in range(3):\n",
        "  for j in range(3):\n",
        "    ht[3, 0] = ht[3, 0] + eta(0.7 - rd[i, j]) * eta(0 - tdt[i, j])\n",
        "\n",
        "###############################################################################\n",
        "# Compute ht[0, 1] corresponding to bin (0, 0.1)\n",
        "for i in range(3):\n",
        "  for j in range(3):\n",
        "    ht[0, 1] = ht[0, 1] + eta(0 - rd[i, j]) * eta(0.1 - tdt[i, j])\n",
        "\n",
        "# Compute ht[1, 1] corresponding to bin (0.1, 0.1)\n",
        "for i in range(3):\n",
        "  for j in range(3):\n",
        "    ht[1, 1] = ht[1, 1] + eta(0.1 - rd[i, j]) * eta(0.1 - tdt[i, j])\n",
        "\n",
        "# Compute ht[2, 1] corresponding to bin (0.2, 0.1)\n",
        "for i in range(3):\n",
        "  for j in range(3):\n",
        "    ht[2, 1] = ht[2, 1] + eta(0.2 - rd[i, j]) * eta(0.1 - tdt[i, j])\n",
        "\n",
        "# Compute ht[3, 1] corresponding to bin (0.7, 0.1)\n",
        "for i in range(3):\n",
        "  for j in range(3):\n",
        "    ht[3, 1] = ht[3, 1] + eta(0.7 - rd[i, j]) * eta(0.1 - tdt[i, j])    \n",
        "\n",
        "###############################################################################\n",
        "# Compute ht[0, 2] corresponding to bin (0, 0.2)\n",
        "for i in range(3):\n",
        "  for j in range(3):\n",
        "    ht[0, 2] = ht[0, 2] + eta(0 - rd[i, j]) * eta(0.2 - tdt[i, j])\n",
        "\n",
        "# Compute ht[1, 2] corresponding to bin (0.1, 0.2)\n",
        "for i in range(3):\n",
        "  for j in range(3):\n",
        "    ht[1, 2] = ht[1, 2] + eta(0.1 - rd[i, j]) * eta(0.2 - tdt[i, j])\n",
        "\n",
        "# Compute ht[2, 2] corresponding to bin (0.2, 0.2)\n",
        "for i in range(3):\n",
        "  for j in range(3):\n",
        "    ht[2, 2] = ht[2, 2] + eta(0.2 - rd[i, j]) * eta(0.2 - tdt[i, j])\n",
        "\n",
        "# Compute ht[3, 2] corresponding to bin (0.7, 0.2)\n",
        "for i in range(3):\n",
        "  for j in range(3):\n",
        "    ht[3, 2] = ht[3, 2] + eta(0.7 - rd[i, j]) * eta(0.2 - tdt[i, j])        \n",
        "\n",
        "###############################################################################\n",
        "# Compute ht[0, 3] corresponding to bin (0, 0.7)\n",
        "for i in range(3):\n",
        "  for j in range(3):\n",
        "    ht[0, 3] = ht[0, 3] + eta(0 - rd[i, j]) * eta(0.7 - tdt[i, j])\n",
        "\n",
        "# Compute ht[1, 3] corresponding to bin (0.1, 0.7)\n",
        "for i in range(3):\n",
        "  for j in range(3):\n",
        "    ht[1, 3] = ht[1, 3] + eta(0.1 - rd[i, j]) * eta(0.7 - tdt[i, j])\n",
        "\n",
        "# Compute ht[2, 3] corresponding to bin (0.2, 0.7)\n",
        "for i in range(3):\n",
        "  for j in range(3):\n",
        "    ht[2, 3] = ht[2, 3] + eta(0.2 - rd[i, j]) * eta(0.7 - tdt[i, j])\n",
        "\n",
        "# Compute ht[3, 3] corresponding to bin (0.7, 0.7)\n",
        "for i in range(3):\n",
        "  for j in range(3):\n",
        "    ht[3, 3] = ht[3, 3] + eta(0.7 - rd[i, j]) * eta(0.7 - tdt[i, j])\n",
        "\n",
        "print('The joint htistograms is:')\n",
        "print(ht)\n",
        "\n",
        "# Thte sum of all elements in thte htistogram is\n",
        "total = sum(sum(ht))\n",
        "# It comes as no surprise thtat it is 36. It is now easy to compute thte discrete\n",
        "# probabilities.\n",
        "dp = ht/total\n",
        "print('----------------------------------------------------------------')\n",
        "print('Thte discrete probabilities are:')\n",
        "print(dp)\n",
        "print('----------------------------------------------------------------')\n",
        "mi = -sum(sum(np.multiply(dp, np.log2(dp))))\n",
        "print(f'The mutual information is {mi}.')"
      ],
      "execution_count": 0,
      "outputs": [
        {
          "output_type": "stream",
          "text": [
            "The joint htistograms is:\n",
            "[[2.50886349 2.54047661 2.48002716 1.26329354]\n",
            " [2.54202427 2.57490383 2.5142954  1.28148887]\n",
            " [2.48293434 2.51558696 2.45670799 1.25155651]\n",
            " [1.26915289 1.28511098 1.25347064 0.62593744]]\n",
            "----------------------------------------------------------------\n",
            "Thte discrete probabilities are:\n",
            "[[0.08133558 0.08236045 0.08040072 0.04095508]\n",
            " [0.08241063 0.08347656 0.08151168 0.04154496]\n",
            " [0.08049497 0.08155355 0.07964473 0.04057458]\n",
            " [0.04114504 0.04166239 0.04063663 0.02029245]]\n",
            "----------------------------------------------------------------\n",
            "The mutual information is 3.9016862416307485.\n"
          ],
          "name": "stdout"
        }
      ]
    },
    {
      "cell_type": "markdown",
      "metadata": {
        "id": "sRPoJOAEPF9S",
        "colab_type": "text"
      },
      "source": [
        "Let us now conduct another experiment in which we translate the image in a different direction and see what happens to the mutual information. We expect it to rise.\n"
      ]
    },
    {
      "cell_type": "code",
      "metadata": {
        "id": "Qshmf6uiP6LV",
        "colab_type": "code",
        "outputId": "fb974795-65a1-496d-b171-03dc5915847b",
        "colab": {
          "base_uri": "https://localhost:8080/",
          "height": 243
        }
      },
      "source": [
        "tdt1 = np.zeros((3, 3)) # tdt1 stands from test image which is translated.\n",
        "\n",
        "def adjust_ij(i, j):\n",
        "  if i > 3:\n",
        "    i = 0\n",
        "\n",
        "  if j > 3:\n",
        "    j = 0\n",
        "\n",
        "  return i, j\n",
        "\n",
        "for i in range(3):\n",
        "  for j in range(3):\n",
        "    i1 = i + 1\n",
        "    j1 = j + 1\n",
        "    if i1 < 3 and j1 < 3:\n",
        "      tdt1[i, j] = td[i1, j1]\n",
        "    else:\n",
        "      i1, j1 = adjust_ij(i, j)\n",
        "      tdt1[i, j] = td[i1, j1]\n",
        "\n",
        "# We now repeat the computation of the mutual information.\n",
        "ht1 = np.zeros((4, 4), dtype = np.float)\n",
        "\n",
        "###############################################################################\n",
        "# Compute ht1[0, 0] corresponding to bin (0, 0)\n",
        "for i in range(3):\n",
        "  for j in range(3):\n",
        "    ht1[0, 0] = ht1[0, 0] + eta(0 - rd[i, j]) * eta(0 - tdt1[i, j])\n",
        "\n",
        "# Compute ht1[1, 0] corresponding to bin (0.1, 0)\n",
        "for i in range(3):\n",
        "  for j in range(3):\n",
        "    ht1[1, 0] = ht1[1, 0] + eta(0.1 - rd[i, j]) * eta(0 - tdt1[i, j])\n",
        "\n",
        "# Compute ht1[2, 0] corresponding to bin (0.2, 0)\n",
        "for i in range(3):\n",
        "  for j in range(3):\n",
        "    ht1[2, 0] = ht1[2, 0] + eta(0.2 - rd[i, j]) * eta(0 - tdt1[i, j])\n",
        "\n",
        "# Compute ht1[3, 0] corresponding to bin (0.7, 0)\n",
        "for i in range(3):\n",
        "  for j in range(3):\n",
        "    ht1[3, 0] = ht1[3, 0] + eta(0.7 - rd[i, j]) * eta(0 - tdt1[i, j])\n",
        "\n",
        "###############################################################################\n",
        "# Compute ht1[0, 1] corresponding to bin (0, 0.1)\n",
        "for i in range(3):\n",
        "  for j in range(3):\n",
        "    ht1[0, 1] = ht1[0, 1] + eta(0 - rd[i, j]) * eta(0.1 - tdt1[i, j])\n",
        "\n",
        "# Compute ht1[1, 1] corresponding to bin (0.1, 0.1)\n",
        "for i in range(3):\n",
        "  for j in range(3):\n",
        "    ht1[1, 1] = ht1[1, 1] + eta(0.1 - rd[i, j]) * eta(0.1 - tdt1[i, j])\n",
        "\n",
        "# Compute ht1[2, 1] corresponding to bin (0.2, 0.1)\n",
        "for i in range(3):\n",
        "  for j in range(3):\n",
        "    ht1[2, 1] = ht1[2, 1] + eta(0.2 - rd[i, j]) * eta(0.1 - tdt1[i, j])\n",
        "\n",
        "# Compute ht1[3, 1] corresponding to bin (0.7, 0.1)\n",
        "for i in range(3):\n",
        "  for j in range(3):\n",
        "    ht1[3, 1] = ht1[3, 1] + eta(0.7 - rd[i, j]) * eta(0.1 - tdt1[i, j])    \n",
        "\n",
        "###############################################################################\n",
        "# Compute ht1[0, 2] corresponding to bin (0, 0.2)\n",
        "for i in range(3):\n",
        "  for j in range(3):\n",
        "    ht1[0, 2] = ht1[0, 2] + eta(0 - rd[i, j]) * eta(0.2 - tdt1[i, j])\n",
        "\n",
        "# Compute ht1[1, 2] corresponding to bin (0.1, 0.2)\n",
        "for i in range(3):\n",
        "  for j in range(3):\n",
        "    ht1[1, 2] = ht1[1, 2] + eta(0.1 - rd[i, j]) * eta(0.2 - tdt1[i, j])\n",
        "\n",
        "# Compute ht1[2, 2] corresponding to bin (0.2, 0.2)\n",
        "for i in range(3):\n",
        "  for j in range(3):\n",
        "    ht1[2, 2] = ht1[2, 2] + eta(0.2 - rd[i, j]) * eta(0.2 - tdt1[i, j])\n",
        "\n",
        "# Compute ht1[3, 2] corresponding to bin (0.7, 0.2)\n",
        "for i in range(3):\n",
        "  for j in range(3):\n",
        "    ht1[3, 2] = ht1[3, 2] + eta(0.7 - rd[i, j]) * eta(0.2 - tdt1[i, j])        \n",
        "\n",
        "###############################################################################\n",
        "# Compute ht1[0, 3] corresponding to bin (0, 0.7)\n",
        "for i in range(3):\n",
        "  for j in range(3):\n",
        "    ht1[0, 3] = ht1[0, 3] + eta(0 - rd[i, j]) * eta(0.7 - tdt1[i, j])\n",
        "\n",
        "# Compute ht1[1, 3] corresponding to bin (0.1, 0.7)\n",
        "for i in range(3):\n",
        "  for j in range(3):\n",
        "    ht1[1, 3] = ht1[1, 3] + eta(0.1 - rd[i, j]) * eta(0.7 - tdt1[i, j])\n",
        "\n",
        "# Compute ht1[2, 3] corresponding to bin (0.2, 0.7)\n",
        "for i in range(3):\n",
        "  for j in range(3):\n",
        "    ht1[2, 3] = ht1[2, 3] + eta(0.2 - rd[i, j]) * eta(0.7 - tdt1[i, j])\n",
        "\n",
        "# Compute ht1[3, 3] corresponding to bin (0.7, 0.7)\n",
        "for i in range(3):\n",
        "  for j in range(3):\n",
        "    ht1[3, 3] = ht1[3, 3] + eta(0.7 - rd[i, j]) * eta(0.7 - tdt1[i, j])\n",
        "\n",
        "print('The joint ht1istograms is:')\n",
        "print(ht1)\n",
        "\n",
        "# Tht1e sum of all elements in tht1e ht1istogram is\n",
        "total = sum(sum(ht1))\n",
        "# It comes as no surprise tht1at it is 36. It is now easy to compute tht1e discrete\n",
        "# probabilities.\n",
        "dp = ht1/total\n",
        "print('----------------------------------------------------------------')\n",
        "print('Tht1e discrete probabilities are:')\n",
        "print(dp)\n",
        "print('----------------------------------------------------------------')\n",
        "mi = -sum(sum(np.multiply(dp, np.log2(dp))))\n",
        "print(f'The mutual information is {mi}.')"
      ],
      "execution_count": 0,
      "outputs": [
        {
          "output_type": "stream",
          "text": [
            "The joint ht1istograms is:\n",
            "[[2.38638975 2.44209312 2.41629884 1.38295177]\n",
            " [2.41072113 2.47088889 2.44883449 1.41453436]\n",
            " [2.34551386 2.40846382 2.39154336 1.39630525]\n",
            " [1.14518715 1.19860285 1.213758   0.78747007]]\n",
            "----------------------------------------------------------------\n",
            "Tht1e discrete probabilities are:\n",
            "[[0.078864   0.08070485 0.07985242 0.04570298]\n",
            " [0.07966809 0.08165648 0.08092764 0.0467467 ]\n",
            " [0.07751316 0.07959349 0.07903432 0.04614427]\n",
            " [0.03784547 0.03961072 0.04011156 0.02602385]]\n",
            "----------------------------------------------------------------\n",
            "The mutual information is 3.9198262142949623.\n"
          ],
          "name": "stdout"
        }
      ]
    },
    {
      "cell_type": "markdown",
      "metadata": {
        "id": "RZzAwYcAheBJ",
        "colab_type": "text"
      },
      "source": [
        "## 6. Find optimal parameters of $g$.\n",
        "\n",
        "The above experiment suggests that translating the image downward, along the main diagonal, improves the mutual information. We will now check if the same works for the fuller image."
      ]
    },
    {
      "cell_type": "markdown",
      "metadata": {
        "id": "cQneRxePhu6B",
        "colab_type": "text"
      },
      "source": [
        "## 7. Repeat the exercise for the next finer resolution\n",
        "\n",
        "In our case of a $6 \\times 6$ image, this is the entire image."
      ]
    },
    {
      "cell_type": "code",
      "metadata": {
        "id": "FuXeE_dAt2nU",
        "colab_type": "code",
        "outputId": "89e85c0b-9440-45c6-e320-d8472de619b6",
        "colab": {
          "base_uri": "https://localhost:8080/",
          "height": 503
        }
      },
      "source": [
        "# The vector x1 has the reference image's data and the vector y1 has the \n",
        "# test image's data. We first carry out the geometric transformation of the\n",
        "# test image.\n",
        "y1t = np.zeros((6, 6)) # y1t stands for 'y1 translated'.\n",
        "for i in range(6):\n",
        "  for j in range(6):\n",
        "    i1 = i - 1\n",
        "    j1 = j - 1\n",
        "    if i1 >= 0 and j1 >= 0:\n",
        "      y1t[i, j] = y1[i1, j1]\n",
        "    else:\n",
        "      y1t[i, j] = 0\n",
        "\n",
        "print('Finding the mutual information between:')\n",
        "print('Reference image:')\n",
        "print(x1)\n",
        "print('Test image:')\n",
        "print(y1t)\n",
        "# We now repeat the computation of the mutual information.\n",
        "ht = np.zeros((4, 4), dtype = np.float)\n",
        "\n",
        "###############################################################################\n",
        "# Compute ht[0, 0] corresponding to bin (0, 0)\n",
        "for i in range(6):\n",
        "  for j in range(6):\n",
        "    ht[0, 0] = ht[0, 0] + eta(0 - x1[i, j]) * eta(0 - y1t[i, j])\n",
        "\n",
        "# Compute ht[1, 0] corresponding to bin (0.1, 0)\n",
        "for i in range(6):\n",
        "  for j in range(6):\n",
        "    ht[1, 0] = ht[1, 0] + eta(0.1 - x1[i, j]) * eta(0 - y1t[i, j])\n",
        "\n",
        "# Compute ht[2, 0] corresponding to bin (0.2, 0)\n",
        "for i in range(6):\n",
        "  for j in range(6):\n",
        "    ht[2, 0] = ht[2, 0] + eta(0.2 - x1[i, j]) * eta(0 - y1t[i, j])\n",
        "\n",
        "# Compute ht[3, 0] corresponding to bin (0.7, 0)\n",
        "for i in range(6):\n",
        "  for j in range(6):\n",
        "    ht[3, 0] = ht[3, 0] + eta(0.7 - x1[i, j]) * eta(0 - y1t[i, j])\n",
        "\n",
        "###############################################################################\n",
        "# Compute ht[0, 1] corresponding to bin (0, 0.1)\n",
        "for i in range(6):\n",
        "  for j in range(6):\n",
        "    ht[0, 1] = ht[0, 1] + eta(0 - x1[i, j]) * eta(0.1 - y1t[i, j])\n",
        "\n",
        "# Compute ht[1, 1] corresponding to bin (0.1, 0.1)\n",
        "for i in range(6):\n",
        "  for j in range(6):\n",
        "    ht[1, 1] = ht[1, 1] + eta(0.1 - x1[i, j]) * eta(0.1 - y1t[i, j])\n",
        "\n",
        "# Compute ht[2, 1] corresponding to bin (0.2, 0.1)\n",
        "for i in range(6):\n",
        "  for j in range(6):\n",
        "    ht[2, 1] = ht[2, 1] + eta(0.2 - x1[i, j]) * eta(0.1 - y1t[i, j])\n",
        "\n",
        "# Compute ht[3, 1] corresponding to bin (0.7, 0.1)\n",
        "for i in range(6):\n",
        "  for j in range(6):\n",
        "    ht[3, 1] = ht[3, 1] + eta(0.7 - x1[i, j]) * eta(0.1 - y1t[i, j])    \n",
        "\n",
        "###############################################################################\n",
        "# Compute ht[0, 2] corresponding to bin (0, 0.2)\n",
        "for i in range(6):\n",
        "  for j in range(6):\n",
        "    ht[0, 2] = ht[0, 2] + eta(0 - x1[i, j]) * eta(0.2 - y1t[i, j])\n",
        "\n",
        "# Compute ht[1, 2] corresponding to bin (0.1, 0.2)\n",
        "for i in range(6):\n",
        "  for j in range(6):\n",
        "    ht[1, 2] = ht[1, 2] + eta(0.1 - x1[i, j]) * eta(0.2 - y1t[i, j])\n",
        "\n",
        "# Compute ht[2, 2] corresponding to bin (0.2, 0.2)\n",
        "for i in range(6):\n",
        "  for j in range(6):\n",
        "    ht[2, 2] = ht[2, 2] + eta(0.2 - x1[i, j]) * eta(0.2 - y1t[i, j])\n",
        "\n",
        "# Compute ht[3, 2] corresponding to bin (0.7, 0.2)\n",
        "for i in range(6):\n",
        "  for j in range(6):\n",
        "    ht[3, 2] = ht[3, 2] + eta(0.7 - x1[i, j]) * eta(0.2 - y1t[i, j])        \n",
        "\n",
        "###############################################################################\n",
        "# Compute ht[0, 3] corresponding to bin (0, 0.7)\n",
        "for i in range(6):\n",
        "  for j in range(6):\n",
        "    ht[0, 3] = ht[0, 3] + eta(0 - x1[i, j]) * eta(0.7 - y1t[i, j])\n",
        "\n",
        "# Compute ht[1, 3] corresponding to bin (0.1, 0.7)\n",
        "for i in range(6):\n",
        "  for j in range(6):\n",
        "    ht[1, 3] = ht[1, 3] + eta(0.1 - x1[i, j]) * eta(0.7 - y1t[i, j])\n",
        "\n",
        "# Compute ht[2, 3] corresponding to bin (0.2, 0.7)\n",
        "for i in range(6):\n",
        "  for j in range(6):\n",
        "    ht[2, 3] = ht[2, 3] + eta(0.2 - x1[i, j]) * eta(0.7 - y1t[i, j])\n",
        "\n",
        "# Compute ht[3, 3] corresponding to bin (0.7, 0.7)\n",
        "for i in range(6):\n",
        "  for j in range(6):\n",
        "    ht[3, 3] = ht[3, 3] + eta(0.7 - x1[i, j]) * eta(0.7 - y1t[i, j])\n",
        "\n",
        "print('The joint htistograms is:')\n",
        "print(ht)\n",
        "\n",
        "# Thte sum of all elements in thte htistogram is\n",
        "total = sum(sum(ht))\n",
        "# It comes as no surprise thtat it is 36. It is now easy to compute thte discrete\n",
        "# probabilities.\n",
        "dp = ht/total\n",
        "print('----------------------------------------------------------------')\n",
        "print('Thte discrete probabilities are:')\n",
        "print(dp)\n",
        "print('----------------------------------------------------------------')\n",
        "mi = -sum(sum(np.multiply(dp, np.log2(dp))))\n",
        "print(f'The mutual information is {mi}.')"
      ],
      "execution_count": 0,
      "outputs": [
        {
          "output_type": "stream",
          "text": [
            "Finding the mutual information between:\n",
            "Reference image:\n",
            "[[0.         0.         0.         0.         0.         0.        ]\n",
            " [0.         0.02777778 0.13888889 0.13888889 0.02777778 0.        ]\n",
            " [0.         0.13888889 0.69444444 0.69444444 0.13888889 0.        ]\n",
            " [0.         0.13888889 0.69444444 0.69444444 0.13888889 0.        ]\n",
            " [0.         0.02777778 0.13888889 0.13888889 0.05555556 0.13888889]\n",
            " [0.         0.         0.         0.         0.13888889 0.69444444]]\n",
            "Test image:\n",
            "[[0.         0.         0.         0.         0.         0.        ]\n",
            " [0.         0.02777778 0.13888889 0.13888889 0.02777778 0.        ]\n",
            " [0.         0.13888889 0.69444444 0.69444444 0.13888889 0.        ]\n",
            " [0.         0.13888889 0.69444444 0.69444444 0.13888889 0.        ]\n",
            " [0.         0.02777778 0.13888889 0.13888889 0.05555556 0.11111111]\n",
            " [0.         0.         0.         0.         0.11111111 0.44444444]]\n",
            "The joint htistograms is:\n",
            "[[10.31033511 10.36649003 10.0291411   4.59532887]\n",
            " [10.39026325 10.48205777 10.1790429   4.83156346]\n",
            " [10.07877153 10.20601713  9.95236237  4.90700592]\n",
            " [ 4.74784039  4.9812201   5.04647132  3.33917908]]\n",
            "----------------------------------------------------------------\n",
            "Thte discrete probabilities are:\n",
            "[[0.08285181 0.08330306 0.08059219 0.03692715]\n",
            " [0.0834941  0.08423174 0.08179677 0.03882549]\n",
            " [0.08099101 0.08201353 0.07997521 0.03943173]\n",
            " [0.0381527  0.0400281  0.04055244 0.02683298]]\n",
            "----------------------------------------------------------------\n",
            "The mutual information is 3.9002787265966417.\n"
          ],
          "name": "stdout"
        }
      ]
    },
    {
      "cell_type": "markdown",
      "metadata": {
        "id": "w-Cjv_DiwueA",
        "colab_type": "text"
      },
      "source": [
        "Is this mutual information lesser than that between the untranslated reference image? Let us check if it in the code snippet below.\n"
      ]
    },
    {
      "cell_type": "code",
      "metadata": {
        "id": "jEmba73pxHtQ",
        "colab_type": "code",
        "outputId": "b5d2aa09-d93b-469e-9ea9-eb5bc83090cf",
        "colab": {
          "base_uri": "https://localhost:8080/",
          "height": 243
        }
      },
      "source": [
        "# We now repeat the computation of the mutual information.\n",
        "ht = np.zeros((4, 4), dtype = np.float)\n",
        "\n",
        "###############################################################################\n",
        "# Compute ht[0, 0] corresponding to bin (0, 0)\n",
        "for i in range(6):\n",
        "  for j in range(6):\n",
        "    ht[0, 0] = ht[0, 0] + eta(0 - x1[i, j]) * eta(0 - y1[i, j])\n",
        "\n",
        "# Compute ht[1, 0] corresponding to bin (0.1, 0)\n",
        "for i in range(6):\n",
        "  for j in range(6):\n",
        "    ht[1, 0] = ht[1, 0] + eta(0.1 - x1[i, j]) * eta(0 - y1[i, j])\n",
        "\n",
        "# Compute ht[2, 0] corresponding to bin (0.2, 0)\n",
        "for i in range(6):\n",
        "  for j in range(6):\n",
        "    ht[2, 0] = ht[2, 0] + eta(0.2 - x1[i, j]) * eta(0 - y1[i, j])\n",
        "\n",
        "# Compute ht[3, 0] corresponding to bin (0.7, 0)\n",
        "for i in range(6):\n",
        "  for j in range(6):\n",
        "    ht[3, 0] = ht[3, 0] + eta(0.7 - x1[i, j]) * eta(0 - y1[i, j])\n",
        "\n",
        "###############################################################################\n",
        "# Compute ht[0, 1] corresponding to bin (0, 0.1)\n",
        "for i in range(6):\n",
        "  for j in range(6):\n",
        "    ht[0, 1] = ht[0, 1] + eta(0 - x1[i, j]) * eta(0.1 - y1[i, j])\n",
        "\n",
        "# Compute ht[1, 1] corresponding to bin (0.1, 0.1)\n",
        "for i in range(6):\n",
        "  for j in range(6):\n",
        "    ht[1, 1] = ht[1, 1] + eta(0.1 - x1[i, j]) * eta(0.1 - y1[i, j])\n",
        "\n",
        "# Compute ht[2, 1] corresponding to bin (0.2, 0.1)\n",
        "for i in range(6):\n",
        "  for j in range(6):\n",
        "    ht[2, 1] = ht[2, 1] + eta(0.2 - x1[i, j]) * eta(0.1 - y1[i, j])\n",
        "\n",
        "# Compute ht[3, 1] corresponding to bin (0.7, 0.1)\n",
        "for i in range(6):\n",
        "  for j in range(6):\n",
        "    ht[3, 1] = ht[3, 1] + eta(0.7 - x1[i, j]) * eta(0.1 - y1[i, j])    \n",
        "\n",
        "###############################################################################\n",
        "# Compute ht[0, 2] corresponding to bin (0, 0.2)\n",
        "for i in range(6):\n",
        "  for j in range(6):\n",
        "    ht[0, 2] = ht[0, 2] + eta(0 - x1[i, j]) * eta(0.2 - y1[i, j])\n",
        "\n",
        "# Compute ht[1, 2] corresponding to bin (0.1, 0.2)\n",
        "for i in range(6):\n",
        "  for j in range(6):\n",
        "    ht[1, 2] = ht[1, 2] + eta(0.1 - x1[i, j]) * eta(0.2 - y1[i, j])\n",
        "\n",
        "# Compute ht[2, 2] corresponding to bin (0.2, 0.2)\n",
        "for i in range(6):\n",
        "  for j in range(6):\n",
        "    ht[2, 2] = ht[2, 2] + eta(0.2 - x1[i, j]) * eta(0.2 - y1[i, j])\n",
        "\n",
        "# Compute ht[3, 2] corresponding to bin (0.7, 0.2)\n",
        "for i in range(6):\n",
        "  for j in range(6):\n",
        "    ht[3, 2] = ht[3, 2] + eta(0.7 - x1[i, j]) * eta(0.2 - y1[i, j])        \n",
        "\n",
        "###############################################################################\n",
        "# Compute ht[0, 3] corresponding to bin (0, 0.7)\n",
        "for i in range(6):\n",
        "  for j in range(6):\n",
        "    ht[0, 3] = ht[0, 3] + eta(0 - x1[i, j]) * eta(0.7 - y1[i, j])\n",
        "\n",
        "# Compute ht[1, 3] corresponding to bin (0.1, 0.7)\n",
        "for i in range(6):\n",
        "  for j in range(6):\n",
        "    ht[1, 3] = ht[1, 3] + eta(0.1 - x1[i, j]) * eta(0.7 - y1[i, j])\n",
        "\n",
        "# Compute ht[2, 3] corresponding to bin (0.2, 0.7)\n",
        "for i in range(6):\n",
        "  for j in range(6):\n",
        "    ht[2, 3] = ht[2, 3] + eta(0.2 - x1[i, j]) * eta(0.7 - y1[i, j])\n",
        "\n",
        "# Compute ht[3, 3] corresponding to bin (0.7, 0.7)\n",
        "for i in range(6):\n",
        "  for j in range(6):\n",
        "    ht[3, 3] = ht[3, 3] + eta(0.7 - x1[i, j]) * eta(0.7 - y1[i, j])\n",
        "\n",
        "print('The joint htistograms is:')\n",
        "print(ht)\n",
        "\n",
        "# Thte sum of all elements in thte htistogram is\n",
        "total = sum(sum(ht))\n",
        "# It comes as no surprise thtat it is 36. It is now easy to compute thte discrete\n",
        "# probabilities.\n",
        "dp = ht/total\n",
        "print('----------------------------------------------------------------')\n",
        "print('Thte discrete probabilities are:')\n",
        "print(dp)\n",
        "print('----------------------------------------------------------------')\n",
        "mi = -sum(sum(np.multiply(dp, np.log2(dp))))\n",
        "print(f'The mutual information is {mi}.')"
      ],
      "execution_count": 0,
      "outputs": [
        {
          "output_type": "stream",
          "text": [
            "The joint htistograms is:\n",
            "[[ 9.82073364 10.01739279  9.84441522  5.17471679]\n",
            " [ 9.98888456 10.19944803 10.03402758  5.31761051]\n",
            " [ 9.79479165 10.01186809  9.86023134  5.26880744]\n",
            " [ 5.14769779  5.30256834  5.26343098  2.97811653]]\n",
            "----------------------------------------------------------------\n",
            "Thte discrete probabilities are:\n",
            "[[0.07918367 0.08076931 0.07937461 0.04172326]\n",
            " [0.08053945 0.0822372  0.08090343 0.0428754 ]\n",
            " [0.0789745  0.08072476 0.07950213 0.04248191]\n",
            " [0.04150541 0.04275412 0.04243856 0.02401228]]\n",
            "----------------------------------------------------------------\n",
            "The mutual information is 3.9155876330648773.\n"
          ],
          "name": "stdout"
        }
      ]
    },
    {
      "cell_type": "markdown",
      "metadata": {
        "id": "EU8FzG0wxji6",
        "colab_type": "text"
      },
      "source": [
        "It is indeed more than when the images are aligned."
      ]
    },
    {
      "cell_type": "markdown",
      "metadata": {
        "id": "lwRWrLLSzZrZ",
        "colab_type": "text"
      },
      "source": [
        "# Mathematical appendix"
      ]
    },
    {
      "cell_type": "markdown",
      "metadata": {
        "id": "XFIchzv_zdvm",
        "colab_type": "text"
      },
      "source": [
        "## Maxima and minima of functions\n",
        "\n",
        "If $f$ is a real-valued function of a single variable, say $x$, then the condition for $f$ to have a stationary value is\n",
        "$$\\tag{1}\n",
        "f^\\prime(x) = \\frac{df}{dx} = 0.\n",
        "$$\n",
        "Suppose that the derivative is zero at a point $x = a$. That is, $f^\\prime(x = a) = 0$. Then\n",
        "\n",
        "- $x = a$ is a maximum if $f^{\\prime\\prime}(a) < 0$.\n",
        "- $x = a$ is a minimum if $f^{\\prime\\prime}(a) > 0$.\n",
        "- $x = a$ is a saddle point if $f^{\\prime\\prime}(a) = 0$.\n",
        "\n",
        "A **saddle point** of a **point of inflection** of a curve is where the sign of the derivative changes and the tangent to the curve is parallel to the $x$-axis. Thus, the nature of the stationary point is determined by the second derivative of the function although the stationary point is itself identified by its first derivative.\n",
        "\n",
        "The code snippet below shows examples of each kind of stationary point. All curves have a stationary point at $x = 0$."
      ]
    },
    {
      "cell_type": "code",
      "metadata": {
        "id": "MSjq9F2Bocj4",
        "colab_type": "code",
        "outputId": "3607ae3a-c58a-4c96-e4a7-a219f9a6866b",
        "colab": {
          "base_uri": "https://localhost:8080/",
          "height": 281
        }
      },
      "source": [
        "import numpy as np\n",
        "import matplotlib.pyplot as plt\n",
        "\n",
        "x = np.linspace(-1, 1, 101)\n",
        "y1 = np.power(x, 2) + 1\n",
        "y2 = np.power(x, 3)\n",
        "y3 = -np.power(x, 2) + 3/2\n",
        "\n",
        "plt.plot(x, y1, label = r'$y = x^2 + 1$')\n",
        "plt.plot(x, y2, label = r'$y = x^3$')\n",
        "plt.plot(x, y3, label = r'y = -x^2 + 3/2')\n",
        "plt.plot([-1, 1], [0, 0], color = 'black', linestyle = '--')\n",
        "plt.plot([0, 0], [-1, 2], color = 'black', linestyle = '--')\n",
        "plt.legend()\n",
        "plt.title('Stationary points of a function of one variable')\n",
        "plt.show()"
      ],
      "execution_count": 0,
      "outputs": [
        {
          "output_type": "display_data",
          "data": {
            "image/png": "[encoded data removed]",
            "text/plain": [
              "<Figure size 432x288 with 1 Axes>"
            ]
          },
          "metadata": {
            "tags": [],
            "needs_background": "light"
          }
        }
      ]
    },
    {
      "cell_type": "markdown",
      "metadata": {
        "id": "XP00w2egqls-",
        "colab_type": "text"
      },
      "source": [
        "The stationary points of functions of more than one variables are found in a similar way. If $f$ is a function of $x$ and $y$ then the stationary point of $f$ is *found* using the equations\n",
        "$$\n",
        "\\begin{eqnarray}\n",
        "\\frac{\\partial f}{\\partial x} &=& 0 \\tag{2} \\\\\n",
        "\\frac{\\partial f}{\\partial y} &=& 0 \\tag{3}\n",
        "\\end{eqnarray}\n",
        "$$\n",
        "The nature of the stationary point is determined using the **Hessian matrix**\n",
        "$$\\tag{4}\n",
        "H = \\begin{pmatrix}\n",
        "\\frac{\\partial^2 f}{\\partial x^2} & \\frac{\\partial^2 f}{\\partial xy} \\\\ \n",
        "\\frac{\\partial^2 f}{\\partial yx} & \\frac{\\partial^2 f}{\\partial y^2}\n",
        "\\end{pmatrix}.\n",
        "$$\n",
        "If the solution to the equations (2) and (3) is $(a, b)$ then the\n",
        "Hessian matrix is also computed at the same point. We then compute its determinant. If $D = \\mathrm{det}(H(a,b))$ then\n",
        "\n",
        "- If $D > 0$ and $\\partial^2 f/\\partial x^2$ computed at $(a, b)$ is positive then $(a, b)$ is a minimum.\n",
        "- If $D > 0$ and $\\partial^2 f/\\partial x^2$ computed at $(a, b)$ is negative then $(a, b)$ is a maximum.\n",
        "- If $D < 0$ then $(a, b)$ is a saddle point.\n",
        "- If $D = 0$ then we cannot ascertain the nature of $(a, b)$ using this test.\n",
        "\n",
        "If $f$ is a function of $n$ variables $x_1, \\ldots, x_n$ then the stationary points are identified using the equations\n",
        "$$\\tag{5}\n",
        "\\frac{\\partial f}{\\partial x_i} = 0 \\;\\;\\mathrm{for}\\;i=1, \\ldots, n\n",
        "$$\n",
        "The Hessian matrix is defined using\n",
        "$$\\tag{5}\n",
        "H_{ij} = \\frac{\\partial^2f}{\\partial x_i \\partial x_j}.\n",
        "$$\n",
        "The nature of the stationary point is determined as:\n",
        "\n",
        "- If $H$ is positive definite then $(a_1, \\ldots, a_n)$ is a minimum.\n",
        "- If $H$ is negative definite then $(a_1, \\ldots, a_n)$ is a maximum.\n",
        "- If $H$ has both positive and negative eigenvalues then $(a_1, \\ldots, a_n)$ is a saddle point.\n",
        "- If any eigenvalue of $H$ is zero then we cannot determine the nature of $(a_1, \\ldots, a_n)$ using this rule. Refer to the [Wikipedia](https://en.wikipedia.org/wiki/Second_partial_derivative_test) page for an example of a maximum, a minimum and a saddle point."
      ]
    }
  ]
}