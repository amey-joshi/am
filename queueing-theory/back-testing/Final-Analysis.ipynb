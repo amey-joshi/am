{
 "cells": [
  {
   "cell_type": "markdown",
   "metadata": {},
   "source": [
    "This file is **very similar** to Preliminary-analysis-1."
   ]
  },
  {
   "cell_type": "code",
   "execution_count": 226,
   "metadata": {},
   "outputs": [],
   "source": [
    "import math\n",
    "import numpy as np\n",
    "import pandas as pd\n",
    "import matplotlib.pyplot as plt"
   ]
  },
  {
   "cell_type": "code",
   "execution_count": 227,
   "metadata": {},
   "outputs": [],
   "source": [
    "data = pd.read_csv('consolidated-1.csv')"
   ]
  },
  {
   "cell_type": "code",
   "execution_count": 228,
   "metadata": {},
   "outputs": [],
   "source": [
    "time_window = '3min' # This is the time window over which we will average call arrivals.\n",
    "time_window_size = int(time_window[0])"
   ]
  },
  {
   "cell_type": "code",
   "execution_count": 229,
   "metadata": {},
   "outputs": [],
   "source": [
    "# This is the time in seconds taken to complete a call(included post-processing).\n",
    "data['Avg-time'] = data['Avg-time'].fillna(0) "
   ]
  },
  {
   "cell_type": "markdown",
   "metadata": {},
   "source": [
    "$\\lambda$ is the number of calls arriving in an interval equal to the <code>time_window_size</code>."
   ]
  },
  {
   "cell_type": "code",
   "execution_count": 230,
   "metadata": {},
   "outputs": [],
   "source": [
    "data['lambda'] = data['ncalls'].rolling(window=time_window_size).mean() # Number of calls per 3 minutes.\n",
    "# The rolling window size has nothing to do with the time window."
   ]
  },
  {
   "cell_type": "code",
   "execution_count": 231,
   "metadata": {},
   "outputs": [],
   "source": [
    "data.set_index('Create-time', inplace=True)"
   ]
  },
  {
   "cell_type": "markdown",
   "metadata": {},
   "source": [
    "$\\mu$ is the average time to answer a call. The unit is '<code>time_window</code>'."
   ]
  },
  {
   "cell_type": "code",
   "execution_count": 232,
   "metadata": {},
   "outputs": [],
   "source": [
    "data['mu'] = data['Avg-time']/(60 * time_window_size) # The term lambda/mu must be unit-less."
   ]
  },
  {
   "cell_type": "markdown",
   "metadata": {},
   "source": [
    "The traffic intensity $E$ is in Erlangs."
   ]
  },
  {
   "cell_type": "code",
   "execution_count": 233,
   "metadata": {},
   "outputs": [],
   "source": [
    "data['E'] = data['lambda']*data['mu']"
   ]
  },
  {
   "cell_type": "code",
   "execution_count": 234,
   "metadata": {},
   "outputs": [],
   "source": [
    "def prob_of_wait(E, m):\n",
    "    \"\"\"\n",
    "    E:      traffic\n",
    "    m:      # agents.\n",
    "    Reference: https://en.wikipedia.org/wiki/Erlang_(unit)\n",
    "    \"\"\" \n",
    "    p = 1\n",
    "               \n",
    "    if m > E:   \n",
    "        try:\n",
    "            numerator = E**m/math.factorial(m) * m/(m - E)\n",
    "            denominator = 0\n",
    "\n",
    "            for i in range(m):\n",
    "                denominator += E**i/math.factorial(i)\n",
    "\n",
    "            denominator += numerator\n",
    "\n",
    "            p = numerator/denominator\n",
    "        except OverflowError:\n",
    "            print(f'Overflow due to E = {E}, m = {m}')\n",
    "        \n",
    "    return p\n",
    "\n",
    "def calculate_ASA(wait_prob, mu, nagents, E, avg_time):   \n",
    "    if nagents > E:\n",
    "        return wait_prob * mu/(nagents - E)\n",
    "    else:\n",
    "        return avg_time/(60 * time_window_size)\n",
    "    \n",
    "def find_nagents(E, m):\n",
    "    start = m\n",
    "\n",
    "    if math.isnan(E):\n",
    "        return start\n",
    "    \n",
    "    if E > m:\n",
    "        threshold = 0.8\n",
    "        #start = int(E)\n",
    "        while (prob_of_wait(E, start) > threshold) and (start <= E):\n",
    "            start += 1            \n",
    "        \n",
    "    return start\n",
    "\n",
    "def find_nagents_1(E, m, threshold_asa, mu, avg_time):\n",
    "    start = m\n",
    "             \n",
    "    if not math.isnan(E):        \n",
    "        wait_prob = prob_of_wait(E, m)        \n",
    "        while calculate_ASA(wait_prob, mu, start, E, avg_time) > threshold_asa:\n",
    "            start += 1\n",
    "            \n",
    "    return start\n"
   ]
  },
  {
   "cell_type": "code",
   "execution_count": 235,
   "metadata": {},
   "outputs": [],
   "source": [
    "data['wait-prob'] = data.apply(lambda r: prob_of_wait(r['E'], r['nagents']), axis=1)"
   ]
  },
  {
   "cell_type": "markdown",
   "metadata": {},
   "source": [
    "Refer to [point 15](https://www.callcentrehelper.com/erlang-c-formula-example-121281.htm) for the formula to compute ASA"
   ]
  },
  {
   "cell_type": "code",
   "execution_count": 236,
   "metadata": {},
   "outputs": [],
   "source": [
    "data['asa'] = data.apply(lambda r: calculate_ASA(r['wait-prob'], r['mu'], r['nagents'], r['E'], r['Avg-time']), axis=1)"
   ]
  },
  {
   "cell_type": "code",
   "execution_count": 237,
   "metadata": {},
   "outputs": [
    {
     "data": {
      "text/html": [
       "<div>\n",
       "<style scoped>\n",
       "    .dataframe tbody tr th:only-of-type {\n",
       "        vertical-align: middle;\n",
       "    }\n",
       "\n",
       "    .dataframe tbody tr th {\n",
       "        vertical-align: top;\n",
       "    }\n",
       "\n",
       "    .dataframe thead th {\n",
       "        text-align: right;\n",
       "    }\n",
       "</style>\n",
       "<table border=\"1\" class=\"dataframe\">\n",
       "  <thead>\n",
       "    <tr style=\"text-align: right;\">\n",
       "      <th></th>\n",
       "      <th>ncalls</th>\n",
       "      <th>Avg-time</th>\n",
       "      <th>Period</th>\n",
       "      <th>nagents</th>\n",
       "      <th>office-hour</th>\n",
       "      <th>Avg-calls</th>\n",
       "      <th>iso_day_of_week</th>\n",
       "      <th>lambda</th>\n",
       "      <th>mu</th>\n",
       "      <th>E</th>\n",
       "      <th>wait-prob</th>\n",
       "      <th>asa</th>\n",
       "    </tr>\n",
       "    <tr>\n",
       "      <th>Create-time</th>\n",
       "      <th></th>\n",
       "      <th></th>\n",
       "      <th></th>\n",
       "      <th></th>\n",
       "      <th></th>\n",
       "      <th></th>\n",
       "      <th></th>\n",
       "      <th></th>\n",
       "      <th></th>\n",
       "      <th></th>\n",
       "      <th></th>\n",
       "      <th></th>\n",
       "    </tr>\n",
       "  </thead>\n",
       "  <tbody>\n",
       "    <tr>\n",
       "      <th>2020-11-23 09:03:00</th>\n",
       "      <td>46</td>\n",
       "      <td>691.500000</td>\n",
       "      <td>2020-11-23</td>\n",
       "      <td>52</td>\n",
       "      <td>True</td>\n",
       "      <td>NaN</td>\n",
       "      <td>1</td>\n",
       "      <td>NaN</td>\n",
       "      <td>3.841667</td>\n",
       "      <td>NaN</td>\n",
       "      <td>1.0</td>\n",
       "      <td>3.841667</td>\n",
       "    </tr>\n",
       "    <tr>\n",
       "      <th>2020-11-23 09:06:00</th>\n",
       "      <td>46</td>\n",
       "      <td>614.285714</td>\n",
       "      <td>2020-11-23</td>\n",
       "      <td>52</td>\n",
       "      <td>True</td>\n",
       "      <td>11.333333</td>\n",
       "      <td>1</td>\n",
       "      <td>NaN</td>\n",
       "      <td>3.412698</td>\n",
       "      <td>NaN</td>\n",
       "      <td>1.0</td>\n",
       "      <td>3.412698</td>\n",
       "    </tr>\n",
       "    <tr>\n",
       "      <th>2020-11-23 09:09:00</th>\n",
       "      <td>46</td>\n",
       "      <td>766.769231</td>\n",
       "      <td>2020-11-23</td>\n",
       "      <td>52</td>\n",
       "      <td>True</td>\n",
       "      <td>12.000000</td>\n",
       "      <td>1</td>\n",
       "      <td>46.0</td>\n",
       "      <td>4.259829</td>\n",
       "      <td>195.952137</td>\n",
       "      <td>1.0</td>\n",
       "      <td>4.259829</td>\n",
       "    </tr>\n",
       "    <tr>\n",
       "      <th>2020-11-23 09:12:00</th>\n",
       "      <td>46</td>\n",
       "      <td>608.800000</td>\n",
       "      <td>2020-11-23</td>\n",
       "      <td>52</td>\n",
       "      <td>True</td>\n",
       "      <td>8.333333</td>\n",
       "      <td>1</td>\n",
       "      <td>46.0</td>\n",
       "      <td>3.382222</td>\n",
       "      <td>155.582222</td>\n",
       "      <td>1.0</td>\n",
       "      <td>3.382222</td>\n",
       "    </tr>\n",
       "    <tr>\n",
       "      <th>2020-11-23 09:15:00</th>\n",
       "      <td>46</td>\n",
       "      <td>640.333333</td>\n",
       "      <td>2020-11-23</td>\n",
       "      <td>52</td>\n",
       "      <td>True</td>\n",
       "      <td>8.000000</td>\n",
       "      <td>1</td>\n",
       "      <td>46.0</td>\n",
       "      <td>3.557407</td>\n",
       "      <td>163.640741</td>\n",
       "      <td>1.0</td>\n",
       "      <td>3.557407</td>\n",
       "    </tr>\n",
       "  </tbody>\n",
       "</table>\n",
       "</div>"
      ],
      "text/plain": [
       "                     ncalls    Avg-time      Period  nagents  office-hour  \\\n",
       "Create-time                                                                 \n",
       "2020-11-23 09:03:00      46  691.500000  2020-11-23       52         True   \n",
       "2020-11-23 09:06:00      46  614.285714  2020-11-23       52         True   \n",
       "2020-11-23 09:09:00      46  766.769231  2020-11-23       52         True   \n",
       "2020-11-23 09:12:00      46  608.800000  2020-11-23       52         True   \n",
       "2020-11-23 09:15:00      46  640.333333  2020-11-23       52         True   \n",
       "\n",
       "                     Avg-calls  iso_day_of_week  lambda        mu           E  \\\n",
       "Create-time                                                                     \n",
       "2020-11-23 09:03:00        NaN                1     NaN  3.841667         NaN   \n",
       "2020-11-23 09:06:00  11.333333                1     NaN  3.412698         NaN   \n",
       "2020-11-23 09:09:00  12.000000                1    46.0  4.259829  195.952137   \n",
       "2020-11-23 09:12:00   8.333333                1    46.0  3.382222  155.582222   \n",
       "2020-11-23 09:15:00   8.000000                1    46.0  3.557407  163.640741   \n",
       "\n",
       "                     wait-prob       asa  \n",
       "Create-time                               \n",
       "2020-11-23 09:03:00        1.0  3.841667  \n",
       "2020-11-23 09:06:00        1.0  3.412698  \n",
       "2020-11-23 09:09:00        1.0  4.259829  \n",
       "2020-11-23 09:12:00        1.0  3.382222  \n",
       "2020-11-23 09:15:00        1.0  3.557407  "
      ]
     },
     "execution_count": 237,
     "metadata": {},
     "output_type": "execute_result"
    }
   ],
   "source": [
    "data.head()"
   ]
  },
  {
   "cell_type": "code",
   "execution_count": 238,
   "metadata": {},
   "outputs": [],
   "source": [
    "data.reset_index(level=0, inplace=True)"
   ]
  },
  {
   "cell_type": "code",
   "execution_count": 239,
   "metadata": {},
   "outputs": [],
   "source": [
    "X = data.apply(lambda r: find_nagents_1(r['E'], r['nagents'], 4, r['mu'], r['Avg-time']), axis = 1)\n",
    "Y = X.rolling(window=5).median()\n",
    "Y.reset_index(drop=True, inplace=True)\n",
    "data['additional_nagents_4m'] = Y - data['nagents']\n",
    "data['additional_nagents_4m'] = data['additional_nagents_4m'].clip(lower=0, axis=0)"
   ]
  },
  {
   "cell_type": "code",
   "execution_count": 240,
   "metadata": {},
   "outputs": [],
   "source": [
    "X = data.apply(lambda r: find_nagents_1(r['E'], r['nagents'], 2, r['mu'], r['Avg-time']), axis = 1)\n",
    "Y = X.rolling(window=5).median()\n",
    "Y.reset_index(drop=True, inplace=True)\n",
    "data['additional_nagents_2m'] = Y - data['nagents']\n",
    "data['additional_nagents_2m'] = data['additional_nagents_2m'].clip(lower=0, axis=0)"
   ]
  },
  {
   "cell_type": "code",
   "execution_count": 241,
   "metadata": {},
   "outputs": [],
   "source": [
    "data['additional_nagents_4m_pct'] = data['additional_nagents_4m']/data['nagents'] * 100\n",
    "data['additional_nagents_2m_pct'] = data['additional_nagents_2m']/data['nagents'] * 100"
   ]
  },
  {
   "cell_type": "code",
   "execution_count": 242,
   "metadata": {},
   "outputs": [],
   "source": [
    "data.to_csv('wait_prob_1.csv', index=False, float_format = '%.3f')"
   ]
  },
  {
   "cell_type": "markdown",
   "metadata": {},
   "source": [
    "The next step is to build a time-series model for $E$."
   ]
  },
  {
   "cell_type": "code",
   "execution_count": 243,
   "metadata": {},
   "outputs": [],
   "source": [
    "data['cum-mu'] = data['mu'].expanding(min_periods=5).mean()\n",
    "data['cum-E'] = data['E'].expanding(min_periods=5).mean()\n",
    "data['cum-Avg-time'] = data['Avg-time'].expanding(min_periods=5).mean()\n",
    "data['cum-wait-prob'] = data.apply(lambda r: prob_of_wait(r['cum-E'], r['nagents']), axis=1)\n",
    "data['cum-asa'] = data.apply(lambda r: calculate_ASA(r['cum-wait-prob'], r['cum-mu'], \\\n",
    "                                                     r['nagents'], r['cum-E'], r['cum-Avg-time']), axis=1)"
   ]
  },
  {
   "cell_type": "code",
   "execution_count": 244,
   "metadata": {},
   "outputs": [],
   "source": [
    "X = data.apply(lambda r: find_nagents_1(r['cum-E'], r['nagents'], 2, r['cum-mu'], r['cum-Avg-time']), axis = 1)\n",
    "Y = X.rolling(window=5).median()\n",
    "Y.reset_index(drop=True, inplace=True)\n",
    "data['cum_additional_nagents_2m'] = Y - data['nagents']\n",
    "data['cum_additional_nagents_2m'] = data['additional_nagents_2m'].clip(lower=0, axis=0)"
   ]
  },
  {
   "cell_type": "code",
   "execution_count": 245,
   "metadata": {},
   "outputs": [],
   "source": [
    "def convert_to_mmss(time):\n",
    "    if math.isnan(time):\n",
    "        return ''\n",
    "    else:\n",
    "        minute = int(time)\n",
    "        frac = time - minute\n",
    "        s = 0\n",
    "        if frac > 0:\n",
    "            s = 60.0 * frac\n",
    "            \n",
    "        s = int(s)\n",
    "        sec = str(s).zfill(2)\n",
    "\n",
    "        return f'{minute}:{sec}'\n",
    "        "
   ]
  },
  {
   "cell_type": "code",
   "execution_count": 246,
   "metadata": {},
   "outputs": [],
   "source": [
    "data['asa'] = data['asa'].apply(lambda r: convert_to_mmss(r))\n",
    "data['cum-asa'] = data['cum-asa'].apply(lambda r: convert_to_mmss(r))"
   ]
  },
  {
   "cell_type": "code",
   "execution_count": 247,
   "metadata": {},
   "outputs": [],
   "source": [
    "data.to_csv('wait_prob_2.csv', index=False, float_format = '%.3f')"
   ]
  },
  {
   "cell_type": "code",
   "execution_count": 248,
   "metadata": {},
   "outputs": [
    {
     "data": {
      "text/plain": [
       "0    3:50\n",
       "1    3:24\n",
       "2    4:15\n",
       "3    3:22\n",
       "4    3:33\n",
       "Name: asa, dtype: object"
      ]
     },
     "execution_count": 248,
     "metadata": {},
     "output_type": "execute_result"
    }
   ],
   "source": [
    "data['asa'].head()"
   ]
  }
 ],
 "metadata": {
  "kernelspec": {
   "display_name": "Python 3",
   "language": "python",
   "name": "python3"
  },
  "language_info": {
   "codemirror_mode": {
    "name": "ipython",
    "version": 3
   },
   "file_extension": ".py",
   "mimetype": "text/x-python",
   "name": "python",
   "nbconvert_exporter": "python",
   "pygments_lexer": "ipython3",
   "version": "3.9.0"
  }
 },
 "nbformat": 4,
 "nbformat_minor": 4
}
