{
 "cells": [
  {
   "cell_type": "markdown",
   "metadata": {},
   "source": [
    "This notebook is **almost** the same as 'Data-Munging-2.ipynb' except that I have dropped a few snippets that show data and the code to convert 'Total-time' to seconds is much easier."
   ]
  },
  {
   "cell_type": "code",
   "execution_count": 47,
   "metadata": {},
   "outputs": [],
   "source": [
    "import numpy as np\n",
    "import pandas as pd\n",
    "import matplotlib.pyplot as plt"
   ]
  },
  {
   "cell_type": "code",
   "execution_count": 48,
   "metadata": {},
   "outputs": [],
   "source": [
    "time_window = '3min' # This is the time window over which we will average call arrivals.\n",
    "time_window_size = int(time_window[0])"
   ]
  },
  {
   "cell_type": "code",
   "execution_count": 49,
   "metadata": {},
   "outputs": [],
   "source": [
    "ss = pd.read_csv('call-data.csv')"
   ]
  },
  {
   "cell_type": "code",
   "execution_count": 50,
   "metadata": {},
   "outputs": [],
   "source": [
    "def was_abandoned(row):\n",
    "    if pd.isnull(row['Abandon-time']):\n",
    "        return False\n",
    "    else:\n",
    "        return True\n",
    "    \n",
    "ss['Abandoned'] = ss.apply(lambda r: was_abandoned(r), axis=1)"
   ]
  },
  {
   "cell_type": "code",
   "execution_count": 51,
   "metadata": {},
   "outputs": [],
   "source": [
    "ss['Create time'] = pd.to_datetime(ss['Create time'], format='%m/%d/%Y %H:%M:%S', errors='ignore')\n",
    "ss['Accept time'] = pd.to_datetime(ss['Accept time'], format='%m/%d/%Y %H:%M:%S', errors='ignore')\n",
    "ss['Abandon-time'] = pd.to_datetime(ss['Abandon-time'], format='%m/%d/%Y %H:%M:%S', errors='ignore')\n",
    "ss['Period'] = pd.to_datetime(ss['Period'], format='%m/%d/%Y', errors='ignore')"
   ]
  },
  {
   "cell_type": "code",
   "execution_count": 52,
   "metadata": {},
   "outputs": [],
   "source": [
    "ss['Total-time'] = ss['Total-time'].apply(lambda x: pd.to_timedelta(x, errors='ignore'))"
   ]
  },
  {
   "cell_type": "code",
   "execution_count": 53,
   "metadata": {},
   "outputs": [
    {
     "data": {
      "text/html": [
       "<div>\n",
       "<style scoped>\n",
       "    .dataframe tbody tr th:only-of-type {\n",
       "        vertical-align: middle;\n",
       "    }\n",
       "\n",
       "    .dataframe tbody tr th {\n",
       "        vertical-align: top;\n",
       "    }\n",
       "\n",
       "    .dataframe thead th {\n",
       "        text-align: right;\n",
       "    }\n",
       "</style>\n",
       "<table border=\"1\" class=\"dataframe\">\n",
       "  <thead>\n",
       "    <tr style=\"text-align: right;\">\n",
       "      <th></th>\n",
       "      <th>Period</th>\n",
       "      <th>Media</th>\n",
       "      <th>Channel</th>\n",
       "      <th>Queue</th>\n",
       "      <th>Transaction</th>\n",
       "      <th>Origination</th>\n",
       "      <th>Customer</th>\n",
       "      <th>Case Number</th>\n",
       "      <th>Web Callback</th>\n",
       "      <th>Create time</th>\n",
       "      <th>...</th>\n",
       "      <th>Voice mail left</th>\n",
       "      <th>IVR-Treatment-Time</th>\n",
       "      <th>Hold-max</th>\n",
       "      <th>Hold-Count</th>\n",
       "      <th>Hold-Total</th>\n",
       "      <th>PDD-Leg1</th>\n",
       "      <th>PDD-Leg2</th>\n",
       "      <th>AT-Leg1</th>\n",
       "      <th>AT-Leg2</th>\n",
       "      <th>Abandoned</th>\n",
       "    </tr>\n",
       "  </thead>\n",
       "  <tbody>\n",
       "    <tr>\n",
       "      <th>0</th>\n",
       "      <td>2020-11-23</td>\n",
       "      <td>Phone</td>\n",
       "      <td>441312855510</td>\n",
       "      <td>Customer Service Calls</td>\n",
       "      <td>311481</td>\n",
       "      <td>447723054957</td>\n",
       "      <td>NaN</td>\n",
       "      <td>NaN</td>\n",
       "      <td>NaN</td>\n",
       "      <td>2020-11-23 09:01:04</td>\n",
       "      <td>...</td>\n",
       "      <td>NaN</td>\n",
       "      <td>0:01:00</td>\n",
       "      <td>0:00:00</td>\n",
       "      <td>0</td>\n",
       "      <td>0:00:00</td>\n",
       "      <td>0:00:00</td>\n",
       "      <td>0:00:00</td>\n",
       "      <td>0:00:00</td>\n",
       "      <td>0:00:04</td>\n",
       "      <td>False</td>\n",
       "    </tr>\n",
       "    <tr>\n",
       "      <th>1</th>\n",
       "      <td>2020-11-23</td>\n",
       "      <td>Phone</td>\n",
       "      <td>441312855510</td>\n",
       "      <td>Customer Service Calls</td>\n",
       "      <td>311505</td>\n",
       "      <td>447989913726</td>\n",
       "      <td>NaN</td>\n",
       "      <td>NaN</td>\n",
       "      <td>NaN</td>\n",
       "      <td>2020-11-23 09:01:38</td>\n",
       "      <td>...</td>\n",
       "      <td>NaN</td>\n",
       "      <td>0:01:00</td>\n",
       "      <td>0:00:00</td>\n",
       "      <td>0</td>\n",
       "      <td>0:00:00</td>\n",
       "      <td>0:00:00</td>\n",
       "      <td>0:00:00</td>\n",
       "      <td>0:00:00</td>\n",
       "      <td>0:00:07</td>\n",
       "      <td>False</td>\n",
       "    </tr>\n",
       "    <tr>\n",
       "      <th>2</th>\n",
       "      <td>2020-11-23</td>\n",
       "      <td>Phone</td>\n",
       "      <td>441312855510</td>\n",
       "      <td>Customer Service Calls</td>\n",
       "      <td>311508</td>\n",
       "      <td>447775901409</td>\n",
       "      <td>NaN</td>\n",
       "      <td>NaN</td>\n",
       "      <td>NaN</td>\n",
       "      <td>2020-11-23 09:01:42</td>\n",
       "      <td>...</td>\n",
       "      <td>NaN</td>\n",
       "      <td>0:01:00</td>\n",
       "      <td>0:01:37</td>\n",
       "      <td>1</td>\n",
       "      <td>0:01:37</td>\n",
       "      <td>0:00:00</td>\n",
       "      <td>0:00:00</td>\n",
       "      <td>0:00:00</td>\n",
       "      <td>0:00:06</td>\n",
       "      <td>False</td>\n",
       "    </tr>\n",
       "    <tr>\n",
       "      <th>3</th>\n",
       "      <td>2020-11-23</td>\n",
       "      <td>Phone</td>\n",
       "      <td>441312855510</td>\n",
       "      <td>Customer Service Calls</td>\n",
       "      <td>311512</td>\n",
       "      <td>447917605569</td>\n",
       "      <td>NaN</td>\n",
       "      <td>NaN</td>\n",
       "      <td>NaN</td>\n",
       "      <td>2020-11-23 09:01:47</td>\n",
       "      <td>...</td>\n",
       "      <td>NaN</td>\n",
       "      <td>0:01:00</td>\n",
       "      <td>0:00:00</td>\n",
       "      <td>0</td>\n",
       "      <td>0:00:00</td>\n",
       "      <td>0:00:00</td>\n",
       "      <td>0:00:00</td>\n",
       "      <td>0:00:00</td>\n",
       "      <td>0:00:05</td>\n",
       "      <td>False</td>\n",
       "    </tr>\n",
       "    <tr>\n",
       "      <th>4</th>\n",
       "      <td>2020-11-23</td>\n",
       "      <td>Phone</td>\n",
       "      <td>441312855510</td>\n",
       "      <td>Customer Service Calls</td>\n",
       "      <td>311517</td>\n",
       "      <td>441604494860</td>\n",
       "      <td>NaN</td>\n",
       "      <td>NaN</td>\n",
       "      <td>NaN</td>\n",
       "      <td>2020-11-23 09:01:50</td>\n",
       "      <td>...</td>\n",
       "      <td>NaN</td>\n",
       "      <td>0:01:00</td>\n",
       "      <td>0:00:00</td>\n",
       "      <td>0</td>\n",
       "      <td>0:00:00</td>\n",
       "      <td>0:00:00</td>\n",
       "      <td>0:00:00</td>\n",
       "      <td>0:00:00</td>\n",
       "      <td>0:00:08</td>\n",
       "      <td>False</td>\n",
       "    </tr>\n",
       "  </tbody>\n",
       "</table>\n",
       "<p>5 rows × 26 columns</p>\n",
       "</div>"
      ],
      "text/plain": [
       "      Period  Media       Channel                   Queue  Transaction  \\\n",
       "0 2020-11-23  Phone  441312855510  Customer Service Calls       311481   \n",
       "1 2020-11-23  Phone  441312855510  Customer Service Calls       311505   \n",
       "2 2020-11-23  Phone  441312855510  Customer Service Calls       311508   \n",
       "3 2020-11-23  Phone  441312855510  Customer Service Calls       311512   \n",
       "4 2020-11-23  Phone  441312855510  Customer Service Calls       311517   \n",
       "\n",
       "    Origination  Customer  Case Number  Web Callback         Create time  ...  \\\n",
       "0  447723054957       NaN          NaN           NaN 2020-11-23 09:01:04  ...   \n",
       "1  447989913726       NaN          NaN           NaN 2020-11-23 09:01:38  ...   \n",
       "2  447775901409       NaN          NaN           NaN 2020-11-23 09:01:42  ...   \n",
       "3  447917605569       NaN          NaN           NaN 2020-11-23 09:01:47  ...   \n",
       "4  441604494860       NaN          NaN           NaN 2020-11-23 09:01:50  ...   \n",
       "\n",
       "  Voice mail left IVR-Treatment-Time Hold-max Hold-Count Hold-Total PDD-Leg1  \\\n",
       "0             NaN            0:01:00  0:00:00          0    0:00:00  0:00:00   \n",
       "1             NaN            0:01:00  0:00:00          0    0:00:00  0:00:00   \n",
       "2             NaN            0:01:00  0:01:37          1    0:01:37  0:00:00   \n",
       "3             NaN            0:01:00  0:00:00          0    0:00:00  0:00:00   \n",
       "4             NaN            0:01:00  0:00:00          0    0:00:00  0:00:00   \n",
       "\n",
       "   PDD-Leg2  AT-Leg1  AT-Leg2  Abandoned  \n",
       "0   0:00:00  0:00:00  0:00:04      False  \n",
       "1   0:00:00  0:00:00  0:00:07      False  \n",
       "2   0:00:00  0:00:00  0:00:06      False  \n",
       "3   0:00:00  0:00:00  0:00:05      False  \n",
       "4   0:00:00  0:00:00  0:00:08      False  \n",
       "\n",
       "[5 rows x 26 columns]"
      ]
     },
     "execution_count": 53,
     "metadata": {},
     "output_type": "execute_result"
    }
   ],
   "source": [
    "ss.loc[~ss['Total-time'].isnull()].head()"
   ]
  },
  {
   "cell_type": "code",
   "execution_count": 54,
   "metadata": {},
   "outputs": [],
   "source": [
    "def calc_abandon_time(row):\n",
    "    if row['Abandoned']:\n",
    "        return row['Abandon-time'] - row['Create time']      \n",
    "    else:\n",
    "        return None\n",
    "\n",
    "ss['Abandoned-after'] = ss[['Create time', 'Abandon-time', 'Abandoned']].apply(lambda r: calc_abandon_time(r), axis=1)"
   ]
  },
  {
   "cell_type": "code",
   "execution_count": 55,
   "metadata": {},
   "outputs": [],
   "source": [
    "ss.rename(columns={'Create time': 'Create-time', 'Accept time': 'Accept-time'}, inplace=True)"
   ]
  },
  {
   "cell_type": "code",
   "execution_count": 56,
   "metadata": {},
   "outputs": [],
   "source": [
    "attrs_of_interest = ['Period', 'Create-time', 'Agent', 'Accept-time', 'Total-time', 'Abandon-time', 'Abandoned', 'Abandoned-after']\n",
    "data = ss.loc[:, attrs_of_interest]"
   ]
  },
  {
   "cell_type": "code",
   "execution_count": 57,
   "metadata": {},
   "outputs": [],
   "source": [
    "data['time-to-accept'] = data.apply(lambda r: r['Accept-time'] - r['Create-time'], axis=1)"
   ]
  },
  {
   "cell_type": "code",
   "execution_count": 58,
   "metadata": {},
   "outputs": [],
   "source": [
    "inflow = data[['Create-time', 'Agent']].groupby(pd.Grouper(key='Create-time', freq=time_window)).count()\n",
    "inflow.reset_index(inplace=True)"
   ]
  },
  {
   "cell_type": "code",
   "execution_count": 59,
   "metadata": {},
   "outputs": [
    {
     "data": {
      "image/png": "[encoded data removed]",
      "text/plain": [
       "<Figure size 432x288 with 1 Axes>"
      ]
     },
     "metadata": {
      "needs_background": "light"
     },
     "output_type": "display_data"
    }
   ],
   "source": [
    "ignore = inflow.loc[inflow['Agent'] > 0].plot.scatter(x='Create-time', y='Agent')"
   ]
  },
  {
   "cell_type": "code",
   "execution_count": 60,
   "metadata": {},
   "outputs": [
    {
     "data": {
      "text/plain": [
       "Create-time    2020-11-23 09:03:00\n",
       "Agent                           16\n",
       "Name: 1, dtype: object"
      ]
     },
     "execution_count": 60,
     "metadata": {},
     "output_type": "execute_result"
    }
   ],
   "source": [
    "inflow.iloc[inflow['Agent'].idxmax()]"
   ]
  },
  {
   "cell_type": "code",
   "execution_count": 61,
   "metadata": {},
   "outputs": [
    {
     "data": {
      "text/html": [
       "<div>\n",
       "<style scoped>\n",
       "    .dataframe tbody tr th:only-of-type {\n",
       "        vertical-align: middle;\n",
       "    }\n",
       "\n",
       "    .dataframe tbody tr th {\n",
       "        vertical-align: top;\n",
       "    }\n",
       "\n",
       "    .dataframe thead th {\n",
       "        text-align: right;\n",
       "    }\n",
       "</style>\n",
       "<table border=\"1\" class=\"dataframe\">\n",
       "  <thead>\n",
       "    <tr style=\"text-align: right;\">\n",
       "      <th></th>\n",
       "      <th>Create-time</th>\n",
       "      <th>Agent</th>\n",
       "    </tr>\n",
       "  </thead>\n",
       "  <tbody>\n",
       "    <tr>\n",
       "      <th>0</th>\n",
       "      <td>2020-11-23 09:00:00</td>\n",
       "      <td>11</td>\n",
       "    </tr>\n",
       "    <tr>\n",
       "      <th>1</th>\n",
       "      <td>2020-11-23 09:03:00</td>\n",
       "      <td>16</td>\n",
       "    </tr>\n",
       "    <tr>\n",
       "      <th>2</th>\n",
       "      <td>2020-11-23 09:06:00</td>\n",
       "      <td>7</td>\n",
       "    </tr>\n",
       "    <tr>\n",
       "      <th>3</th>\n",
       "      <td>2020-11-23 09:09:00</td>\n",
       "      <td>13</td>\n",
       "    </tr>\n",
       "    <tr>\n",
       "      <th>4</th>\n",
       "      <td>2020-11-23 09:12:00</td>\n",
       "      <td>5</td>\n",
       "    </tr>\n",
       "  </tbody>\n",
       "</table>\n",
       "</div>"
      ],
      "text/plain": [
       "          Create-time  Agent\n",
       "0 2020-11-23 09:00:00     11\n",
       "1 2020-11-23 09:03:00     16\n",
       "2 2020-11-23 09:06:00      7\n",
       "3 2020-11-23 09:09:00     13\n",
       "4 2020-11-23 09:12:00      5"
      ]
     },
     "execution_count": 61,
     "metadata": {},
     "output_type": "execute_result"
    }
   ],
   "source": [
    "inflow.head()"
   ]
  },
  {
   "cell_type": "code",
   "execution_count": 62,
   "metadata": {},
   "outputs": [],
   "source": [
    "inflow.rename(columns = {'Agent': 'ncalls'}, inplace=True)"
   ]
  },
  {
   "cell_type": "code",
   "execution_count": 63,
   "metadata": {},
   "outputs": [
    {
     "data": {
      "text/html": [
       "<div>\n",
       "<style scoped>\n",
       "    .dataframe tbody tr th:only-of-type {\n",
       "        vertical-align: middle;\n",
       "    }\n",
       "\n",
       "    .dataframe tbody tr th {\n",
       "        vertical-align: top;\n",
       "    }\n",
       "\n",
       "    .dataframe thead th {\n",
       "        text-align: right;\n",
       "    }\n",
       "</style>\n",
       "<table border=\"1\" class=\"dataframe\">\n",
       "  <thead>\n",
       "    <tr style=\"text-align: right;\">\n",
       "      <th></th>\n",
       "      <th>Create-time</th>\n",
       "      <th>ncalls</th>\n",
       "    </tr>\n",
       "  </thead>\n",
       "  <tbody>\n",
       "    <tr>\n",
       "      <th>0</th>\n",
       "      <td>2020-11-23 09:00:00</td>\n",
       "      <td>11</td>\n",
       "    </tr>\n",
       "    <tr>\n",
       "      <th>1</th>\n",
       "      <td>2020-11-23 09:03:00</td>\n",
       "      <td>16</td>\n",
       "    </tr>\n",
       "    <tr>\n",
       "      <th>2</th>\n",
       "      <td>2020-11-23 09:06:00</td>\n",
       "      <td>7</td>\n",
       "    </tr>\n",
       "    <tr>\n",
       "      <th>3</th>\n",
       "      <td>2020-11-23 09:09:00</td>\n",
       "      <td>13</td>\n",
       "    </tr>\n",
       "    <tr>\n",
       "      <th>4</th>\n",
       "      <td>2020-11-23 09:12:00</td>\n",
       "      <td>5</td>\n",
       "    </tr>\n",
       "  </tbody>\n",
       "</table>\n",
       "</div>"
      ],
      "text/plain": [
       "          Create-time  ncalls\n",
       "0 2020-11-23 09:00:00      11\n",
       "1 2020-11-23 09:03:00      16\n",
       "2 2020-11-23 09:06:00       7\n",
       "3 2020-11-23 09:09:00      13\n",
       "4 2020-11-23 09:12:00       5"
      ]
     },
     "execution_count": 63,
     "metadata": {},
     "output_type": "execute_result"
    }
   ],
   "source": [
    "inflow.head()"
   ]
  },
  {
   "cell_type": "code",
   "execution_count": 64,
   "metadata": {},
   "outputs": [],
   "source": [
    "inflow.to_csv('full-inflow-1.csv', index=False)"
   ]
  },
  {
   "cell_type": "code",
   "execution_count": 65,
   "metadata": {},
   "outputs": [
    {
     "data": {
      "text/html": [
       "<div>\n",
       "<style scoped>\n",
       "    .dataframe tbody tr th:only-of-type {\n",
       "        vertical-align: middle;\n",
       "    }\n",
       "\n",
       "    .dataframe tbody tr th {\n",
       "        vertical-align: top;\n",
       "    }\n",
       "\n",
       "    .dataframe thead th {\n",
       "        text-align: right;\n",
       "    }\n",
       "</style>\n",
       "<table border=\"1\" class=\"dataframe\">\n",
       "  <thead>\n",
       "    <tr style=\"text-align: right;\">\n",
       "      <th></th>\n",
       "      <th>Create-time</th>\n",
       "      <th>Avg-time</th>\n",
       "    </tr>\n",
       "  </thead>\n",
       "  <tbody>\n",
       "    <tr>\n",
       "      <th>0</th>\n",
       "      <td>2020-11-23 09:00:00</td>\n",
       "      <td>728.000000</td>\n",
       "    </tr>\n",
       "    <tr>\n",
       "      <th>1</th>\n",
       "      <td>2020-11-23 09:03:00</td>\n",
       "      <td>691.500000</td>\n",
       "    </tr>\n",
       "    <tr>\n",
       "      <th>2</th>\n",
       "      <td>2020-11-23 09:06:00</td>\n",
       "      <td>614.285714</td>\n",
       "    </tr>\n",
       "    <tr>\n",
       "      <th>3</th>\n",
       "      <td>2020-11-23 09:09:00</td>\n",
       "      <td>766.769231</td>\n",
       "    </tr>\n",
       "    <tr>\n",
       "      <th>4</th>\n",
       "      <td>2020-11-23 09:12:00</td>\n",
       "      <td>608.800000</td>\n",
       "    </tr>\n",
       "  </tbody>\n",
       "</table>\n",
       "</div>"
      ],
      "text/plain": [
       "          Create-time    Avg-time\n",
       "0 2020-11-23 09:00:00  728.000000\n",
       "1 2020-11-23 09:03:00  691.500000\n",
       "2 2020-11-23 09:06:00  614.285714\n",
       "3 2020-11-23 09:09:00  766.769231\n",
       "4 2020-11-23 09:12:00  608.800000"
      ]
     },
     "execution_count": 65,
     "metadata": {},
     "output_type": "execute_result"
    }
   ],
   "source": [
    "data['Total-time'] = data['Total-time'].apply(lambda r: r.seconds)\n",
    "total_time = data[['Create-time', 'Total-time']].groupby(pd.Grouper(key='Create-time', freq=time_window)).mean()\n",
    "total_time.reset_index(inplace=True)\n",
    "total_time.rename(columns={'Total-time': 'Avg-time'}, inplace=True)\n",
    "total_time.head()"
   ]
  },
  {
   "cell_type": "code",
   "execution_count": 66,
   "metadata": {},
   "outputs": [
    {
     "data": {
      "text/html": [
       "<div>\n",
       "<style scoped>\n",
       "    .dataframe tbody tr th:only-of-type {\n",
       "        vertical-align: middle;\n",
       "    }\n",
       "\n",
       "    .dataframe tbody tr th {\n",
       "        vertical-align: top;\n",
       "    }\n",
       "\n",
       "    .dataframe thead th {\n",
       "        text-align: right;\n",
       "    }\n",
       "</style>\n",
       "<table border=\"1\" class=\"dataframe\">\n",
       "  <thead>\n",
       "    <tr style=\"text-align: right;\">\n",
       "      <th></th>\n",
       "      <th>Create-time</th>\n",
       "      <th>Avg-time</th>\n",
       "    </tr>\n",
       "  </thead>\n",
       "  <tbody>\n",
       "    <tr>\n",
       "      <th>0</th>\n",
       "      <td>2020-11-23 09:00:00</td>\n",
       "      <td>728.000000</td>\n",
       "    </tr>\n",
       "    <tr>\n",
       "      <th>1</th>\n",
       "      <td>2020-11-23 09:03:00</td>\n",
       "      <td>691.500000</td>\n",
       "    </tr>\n",
       "    <tr>\n",
       "      <th>2</th>\n",
       "      <td>2020-11-23 09:06:00</td>\n",
       "      <td>614.285714</td>\n",
       "    </tr>\n",
       "    <tr>\n",
       "      <th>3</th>\n",
       "      <td>2020-11-23 09:09:00</td>\n",
       "      <td>766.769231</td>\n",
       "    </tr>\n",
       "    <tr>\n",
       "      <th>4</th>\n",
       "      <td>2020-11-23 09:12:00</td>\n",
       "      <td>608.800000</td>\n",
       "    </tr>\n",
       "  </tbody>\n",
       "</table>\n",
       "</div>"
      ],
      "text/plain": [
       "          Create-time    Avg-time\n",
       "0 2020-11-23 09:00:00  728.000000\n",
       "1 2020-11-23 09:03:00  691.500000\n",
       "2 2020-11-23 09:06:00  614.285714\n",
       "3 2020-11-23 09:09:00  766.769231\n",
       "4 2020-11-23 09:12:00  608.800000"
      ]
     },
     "execution_count": 66,
     "metadata": {},
     "output_type": "execute_result"
    }
   ],
   "source": [
    "total_time.loc[~total_time['Avg-time'].isnull()].head()"
   ]
  },
  {
   "cell_type": "code",
   "execution_count": 67,
   "metadata": {},
   "outputs": [],
   "source": [
    "total_time.to_csv('total_time_1.csv', index=False)"
   ]
  },
  {
   "cell_type": "code",
   "execution_count": 68,
   "metadata": {},
   "outputs": [],
   "source": [
    "consolidated = pd.merge(left=inflow, right=total_time, on='Create-time')"
   ]
  },
  {
   "cell_type": "code",
   "execution_count": 69,
   "metadata": {},
   "outputs": [
    {
     "data": {
      "text/html": [
       "<div>\n",
       "<style scoped>\n",
       "    .dataframe tbody tr th:only-of-type {\n",
       "        vertical-align: middle;\n",
       "    }\n",
       "\n",
       "    .dataframe tbody tr th {\n",
       "        vertical-align: top;\n",
       "    }\n",
       "\n",
       "    .dataframe thead th {\n",
       "        text-align: right;\n",
       "    }\n",
       "</style>\n",
       "<table border=\"1\" class=\"dataframe\">\n",
       "  <thead>\n",
       "    <tr style=\"text-align: right;\">\n",
       "      <th></th>\n",
       "      <th>Create-time</th>\n",
       "      <th>ncalls</th>\n",
       "      <th>Avg-time</th>\n",
       "    </tr>\n",
       "  </thead>\n",
       "  <tbody>\n",
       "    <tr>\n",
       "      <th>0</th>\n",
       "      <td>2020-11-23 09:00:00</td>\n",
       "      <td>11</td>\n",
       "      <td>728.000000</td>\n",
       "    </tr>\n",
       "    <tr>\n",
       "      <th>1</th>\n",
       "      <td>2020-11-23 09:03:00</td>\n",
       "      <td>16</td>\n",
       "      <td>691.500000</td>\n",
       "    </tr>\n",
       "    <tr>\n",
       "      <th>2</th>\n",
       "      <td>2020-11-23 09:06:00</td>\n",
       "      <td>7</td>\n",
       "      <td>614.285714</td>\n",
       "    </tr>\n",
       "    <tr>\n",
       "      <th>3</th>\n",
       "      <td>2020-11-23 09:09:00</td>\n",
       "      <td>13</td>\n",
       "      <td>766.769231</td>\n",
       "    </tr>\n",
       "    <tr>\n",
       "      <th>4</th>\n",
       "      <td>2020-11-23 09:12:00</td>\n",
       "      <td>5</td>\n",
       "      <td>608.800000</td>\n",
       "    </tr>\n",
       "  </tbody>\n",
       "</table>\n",
       "</div>"
      ],
      "text/plain": [
       "          Create-time  ncalls    Avg-time\n",
       "0 2020-11-23 09:00:00      11  728.000000\n",
       "1 2020-11-23 09:03:00      16  691.500000\n",
       "2 2020-11-23 09:06:00       7  614.285714\n",
       "3 2020-11-23 09:09:00      13  766.769231\n",
       "4 2020-11-23 09:12:00       5  608.800000"
      ]
     },
     "execution_count": 69,
     "metadata": {},
     "output_type": "execute_result"
    }
   ],
   "source": [
    "consolidated.head()"
   ]
  },
  {
   "cell_type": "code",
   "execution_count": 70,
   "metadata": {},
   "outputs": [],
   "source": [
    "def extract_period(dt):\n",
    "    return str(dt)[0:10]    \n",
    "\n",
    "consolidated['Period'] = consolidated.apply(lambda r: extract_period(r['Create-time']), axis=1)"
   ]
  },
  {
   "cell_type": "code",
   "execution_count": 71,
   "metadata": {},
   "outputs": [],
   "source": [
    "nagents = ss[['Period', 'Agent']].groupby('Period').nunique()\n",
    "nagents.reset_index(inplace=True)"
   ]
  },
  {
   "cell_type": "code",
   "execution_count": 82,
   "metadata": {},
   "outputs": [
    {
     "data": {
      "text/html": [
       "<div>\n",
       "<style scoped>\n",
       "    .dataframe tbody tr th:only-of-type {\n",
       "        vertical-align: middle;\n",
       "    }\n",
       "\n",
       "    .dataframe tbody tr th {\n",
       "        vertical-align: top;\n",
       "    }\n",
       "\n",
       "    .dataframe thead th {\n",
       "        text-align: right;\n",
       "    }\n",
       "</style>\n",
       "<table border=\"1\" class=\"dataframe\">\n",
       "  <thead>\n",
       "    <tr style=\"text-align: right;\">\n",
       "      <th></th>\n",
       "      <th>Period</th>\n",
       "      <th>Agent</th>\n",
       "    </tr>\n",
       "  </thead>\n",
       "  <tbody>\n",
       "    <tr>\n",
       "      <th>0</th>\n",
       "      <td>2020-11-23</td>\n",
       "      <td>52</td>\n",
       "    </tr>\n",
       "    <tr>\n",
       "      <th>1</th>\n",
       "      <td>2020-11-24</td>\n",
       "      <td>65</td>\n",
       "    </tr>\n",
       "    <tr>\n",
       "      <th>2</th>\n",
       "      <td>2020-11-25</td>\n",
       "      <td>66</td>\n",
       "    </tr>\n",
       "    <tr>\n",
       "      <th>3</th>\n",
       "      <td>2020-11-26</td>\n",
       "      <td>59</td>\n",
       "    </tr>\n",
       "    <tr>\n",
       "      <th>4</th>\n",
       "      <td>2020-11-27</td>\n",
       "      <td>50</td>\n",
       "    </tr>\n",
       "  </tbody>\n",
       "</table>\n",
       "</div>"
      ],
      "text/plain": [
       "       Period  Agent\n",
       "0  2020-11-23     52\n",
       "1  2020-11-24     65\n",
       "2  2020-11-25     66\n",
       "3  2020-11-26     59\n",
       "4  2020-11-27     50"
      ]
     },
     "execution_count": 82,
     "metadata": {},
     "output_type": "execute_result"
    }
   ],
   "source": [
    "nagents.head()"
   ]
  },
  {
   "cell_type": "code",
   "execution_count": 76,
   "metadata": {},
   "outputs": [
    {
     "data": {
      "text/plain": [
       "Period    datetime64[ns]\n",
       "Agent              int64\n",
       "dtype: object"
      ]
     },
     "execution_count": 76,
     "metadata": {},
     "output_type": "execute_result"
    }
   ],
   "source": [
    "nagents.dtypes"
   ]
  },
  {
   "cell_type": "code",
   "execution_count": 77,
   "metadata": {},
   "outputs": [
    {
     "data": {
      "text/plain": [
       "Create-time    datetime64[ns]\n",
       "ncalls                  int64\n",
       "Avg-time              float64\n",
       "Period                 object\n",
       "dtype: object"
      ]
     },
     "execution_count": 77,
     "metadata": {},
     "output_type": "execute_result"
    }
   ],
   "source": [
    "consolidated.dtypes"
   ]
  },
  {
   "cell_type": "code",
   "execution_count": 80,
   "metadata": {},
   "outputs": [],
   "source": [
    "def convert(d):\n",
    "    yr = d.year\n",
    "    mn = d.month\n",
    "    dy = d.day\n",
    "    \n",
    "    return str(yr) + '-' + str(mn) + '-' + str(dy)"
   ]
  },
  {
   "cell_type": "code",
   "execution_count": 81,
   "metadata": {},
   "outputs": [],
   "source": [
    "nagents['Period'] = nagents.apply(lambda r: convert(r['Period']), axis=1)"
   ]
  },
  {
   "cell_type": "code",
   "execution_count": 83,
   "metadata": {},
   "outputs": [],
   "source": [
    "consolidated = pd.merge(left=consolidated, right=nagents, on='Period')"
   ]
  },
  {
   "cell_type": "code",
   "execution_count": 84,
   "metadata": {},
   "outputs": [],
   "source": [
    "consolidated.rename(columns={'Agent': 'nagents'}, inplace=True)"
   ]
  },
  {
   "cell_type": "code",
   "execution_count": 85,
   "metadata": {},
   "outputs": [
    {
     "data": {
      "text/html": [
       "<div>\n",
       "<style scoped>\n",
       "    .dataframe tbody tr th:only-of-type {\n",
       "        vertical-align: middle;\n",
       "    }\n",
       "\n",
       "    .dataframe tbody tr th {\n",
       "        vertical-align: top;\n",
       "    }\n",
       "\n",
       "    .dataframe thead th {\n",
       "        text-align: right;\n",
       "    }\n",
       "</style>\n",
       "<table border=\"1\" class=\"dataframe\">\n",
       "  <thead>\n",
       "    <tr style=\"text-align: right;\">\n",
       "      <th></th>\n",
       "      <th>Create-time</th>\n",
       "      <th>ncalls</th>\n",
       "      <th>Avg-time</th>\n",
       "      <th>Period</th>\n",
       "      <th>nagents</th>\n",
       "    </tr>\n",
       "  </thead>\n",
       "  <tbody>\n",
       "    <tr>\n",
       "      <th>0</th>\n",
       "      <td>2020-11-23 09:00:00</td>\n",
       "      <td>11</td>\n",
       "      <td>728.000000</td>\n",
       "      <td>2020-11-23</td>\n",
       "      <td>52</td>\n",
       "    </tr>\n",
       "    <tr>\n",
       "      <th>1</th>\n",
       "      <td>2020-11-23 09:03:00</td>\n",
       "      <td>16</td>\n",
       "      <td>691.500000</td>\n",
       "      <td>2020-11-23</td>\n",
       "      <td>52</td>\n",
       "    </tr>\n",
       "    <tr>\n",
       "      <th>2</th>\n",
       "      <td>2020-11-23 09:06:00</td>\n",
       "      <td>7</td>\n",
       "      <td>614.285714</td>\n",
       "      <td>2020-11-23</td>\n",
       "      <td>52</td>\n",
       "    </tr>\n",
       "    <tr>\n",
       "      <th>3</th>\n",
       "      <td>2020-11-23 09:09:00</td>\n",
       "      <td>13</td>\n",
       "      <td>766.769231</td>\n",
       "      <td>2020-11-23</td>\n",
       "      <td>52</td>\n",
       "    </tr>\n",
       "    <tr>\n",
       "      <th>4</th>\n",
       "      <td>2020-11-23 09:12:00</td>\n",
       "      <td>5</td>\n",
       "      <td>608.800000</td>\n",
       "      <td>2020-11-23</td>\n",
       "      <td>52</td>\n",
       "    </tr>\n",
       "  </tbody>\n",
       "</table>\n",
       "</div>"
      ],
      "text/plain": [
       "          Create-time  ncalls    Avg-time      Period  nagents\n",
       "0 2020-11-23 09:00:00      11  728.000000  2020-11-23       52\n",
       "1 2020-11-23 09:03:00      16  691.500000  2020-11-23       52\n",
       "2 2020-11-23 09:06:00       7  614.285714  2020-11-23       52\n",
       "3 2020-11-23 09:09:00      13  766.769231  2020-11-23       52\n",
       "4 2020-11-23 09:12:00       5  608.800000  2020-11-23       52"
      ]
     },
     "execution_count": 85,
     "metadata": {},
     "output_type": "execute_result"
    }
   ],
   "source": [
    "consolidated.head()"
   ]
  },
  {
   "cell_type": "code",
   "execution_count": 86,
   "metadata": {},
   "outputs": [
    {
     "data": {
      "text/plain": [
       "(2132, 5)"
      ]
     },
     "execution_count": 86,
     "metadata": {},
     "output_type": "execute_result"
    }
   ],
   "source": [
    "consolidated.shape"
   ]
  },
  {
   "cell_type": "code",
   "execution_count": 87,
   "metadata": {},
   "outputs": [
    {
     "data": {
      "text/plain": [
       "Create-time    datetime64[ns]\n",
       "ncalls                  int64\n",
       "Avg-time              float64\n",
       "Period                 object\n",
       "nagents                 int64\n",
       "dtype: object"
      ]
     },
     "execution_count": 87,
     "metadata": {},
     "output_type": "execute_result"
    }
   ],
   "source": [
    "consolidated.dtypes"
   ]
  },
  {
   "cell_type": "code",
   "execution_count": 88,
   "metadata": {},
   "outputs": [],
   "source": [
    "import datetime"
   ]
  },
  {
   "cell_type": "code",
   "execution_count": 89,
   "metadata": {},
   "outputs": [
    {
     "data": {
      "text/plain": [
       "False"
      ]
     },
     "execution_count": 89,
     "metadata": {},
     "output_type": "execute_result"
    }
   ],
   "source": [
    "consolidated.iloc[0, :][0].time() > datetime.time(9, 0)"
   ]
  },
  {
   "cell_type": "code",
   "execution_count": 90,
   "metadata": {},
   "outputs": [],
   "source": [
    "def is_office_hour(dt):\n",
    "    return dt.time() > datetime.time(9, 0) and dt.time() < datetime.time(17, 1)\n",
    "\n",
    "consolidated['office-hour'] = consolidated.apply(lambda r: is_office_hour(r['Create-time']), axis=1)"
   ]
  },
  {
   "cell_type": "code",
   "execution_count": 91,
   "metadata": {},
   "outputs": [
    {
     "data": {
      "text/html": [
       "<div>\n",
       "<style scoped>\n",
       "    .dataframe tbody tr th:only-of-type {\n",
       "        vertical-align: middle;\n",
       "    }\n",
       "\n",
       "    .dataframe tbody tr th {\n",
       "        vertical-align: top;\n",
       "    }\n",
       "\n",
       "    .dataframe thead th {\n",
       "        text-align: right;\n",
       "    }\n",
       "</style>\n",
       "<table border=\"1\" class=\"dataframe\">\n",
       "  <thead>\n",
       "    <tr style=\"text-align: right;\">\n",
       "      <th></th>\n",
       "      <th>Create-time</th>\n",
       "      <th>ncalls</th>\n",
       "      <th>Avg-time</th>\n",
       "      <th>Period</th>\n",
       "      <th>nagents</th>\n",
       "      <th>office-hour</th>\n",
       "    </tr>\n",
       "  </thead>\n",
       "  <tbody>\n",
       "    <tr>\n",
       "      <th>0</th>\n",
       "      <td>2020-11-23 09:00:00</td>\n",
       "      <td>11</td>\n",
       "      <td>728.000000</td>\n",
       "      <td>2020-11-23</td>\n",
       "      <td>52</td>\n",
       "      <td>False</td>\n",
       "    </tr>\n",
       "    <tr>\n",
       "      <th>1</th>\n",
       "      <td>2020-11-23 09:03:00</td>\n",
       "      <td>16</td>\n",
       "      <td>691.500000</td>\n",
       "      <td>2020-11-23</td>\n",
       "      <td>52</td>\n",
       "      <td>True</td>\n",
       "    </tr>\n",
       "    <tr>\n",
       "      <th>2</th>\n",
       "      <td>2020-11-23 09:06:00</td>\n",
       "      <td>7</td>\n",
       "      <td>614.285714</td>\n",
       "      <td>2020-11-23</td>\n",
       "      <td>52</td>\n",
       "      <td>True</td>\n",
       "    </tr>\n",
       "    <tr>\n",
       "      <th>3</th>\n",
       "      <td>2020-11-23 09:09:00</td>\n",
       "      <td>13</td>\n",
       "      <td>766.769231</td>\n",
       "      <td>2020-11-23</td>\n",
       "      <td>52</td>\n",
       "      <td>True</td>\n",
       "    </tr>\n",
       "    <tr>\n",
       "      <th>4</th>\n",
       "      <td>2020-11-23 09:12:00</td>\n",
       "      <td>5</td>\n",
       "      <td>608.800000</td>\n",
       "      <td>2020-11-23</td>\n",
       "      <td>52</td>\n",
       "      <td>True</td>\n",
       "    </tr>\n",
       "  </tbody>\n",
       "</table>\n",
       "</div>"
      ],
      "text/plain": [
       "          Create-time  ncalls    Avg-time      Period  nagents  office-hour\n",
       "0 2020-11-23 09:00:00      11  728.000000  2020-11-23       52        False\n",
       "1 2020-11-23 09:03:00      16  691.500000  2020-11-23       52         True\n",
       "2 2020-11-23 09:06:00       7  614.285714  2020-11-23       52         True\n",
       "3 2020-11-23 09:09:00      13  766.769231  2020-11-23       52         True\n",
       "4 2020-11-23 09:12:00       5  608.800000  2020-11-23       52         True"
      ]
     },
     "execution_count": 91,
     "metadata": {},
     "output_type": "execute_result"
    }
   ],
   "source": [
    "consolidated.head()"
   ]
  },
  {
   "cell_type": "code",
   "execution_count": 92,
   "metadata": {},
   "outputs": [],
   "source": [
    "consolidated['Avg-calls'] = consolidated['ncalls'].rolling(window=time_window_size).mean()"
   ]
  },
  {
   "cell_type": "code",
   "execution_count": 93,
   "metadata": {},
   "outputs": [],
   "source": [
    "consolidated['iso_day_of_week'] = consolidated['Create-time'].apply(lambda r: r.isoweekday())"
   ]
  },
  {
   "cell_type": "code",
   "execution_count": 94,
   "metadata": {},
   "outputs": [
    {
     "data": {
      "text/html": [
       "<div>\n",
       "<style scoped>\n",
       "    .dataframe tbody tr th:only-of-type {\n",
       "        vertical-align: middle;\n",
       "    }\n",
       "\n",
       "    .dataframe tbody tr th {\n",
       "        vertical-align: top;\n",
       "    }\n",
       "\n",
       "    .dataframe thead th {\n",
       "        text-align: right;\n",
       "    }\n",
       "</style>\n",
       "<table border=\"1\" class=\"dataframe\">\n",
       "  <thead>\n",
       "    <tr style=\"text-align: right;\">\n",
       "      <th></th>\n",
       "      <th>Create-time</th>\n",
       "      <th>ncalls</th>\n",
       "      <th>Avg-time</th>\n",
       "      <th>Period</th>\n",
       "      <th>nagents</th>\n",
       "      <th>office-hour</th>\n",
       "      <th>Avg-calls</th>\n",
       "      <th>iso_day_of_week</th>\n",
       "    </tr>\n",
       "  </thead>\n",
       "  <tbody>\n",
       "    <tr>\n",
       "      <th>0</th>\n",
       "      <td>2020-11-23 09:00:00</td>\n",
       "      <td>11</td>\n",
       "      <td>728.000000</td>\n",
       "      <td>2020-11-23</td>\n",
       "      <td>52</td>\n",
       "      <td>False</td>\n",
       "      <td>NaN</td>\n",
       "      <td>1</td>\n",
       "    </tr>\n",
       "    <tr>\n",
       "      <th>1</th>\n",
       "      <td>2020-11-23 09:03:00</td>\n",
       "      <td>16</td>\n",
       "      <td>691.500000</td>\n",
       "      <td>2020-11-23</td>\n",
       "      <td>52</td>\n",
       "      <td>True</td>\n",
       "      <td>NaN</td>\n",
       "      <td>1</td>\n",
       "    </tr>\n",
       "    <tr>\n",
       "      <th>2</th>\n",
       "      <td>2020-11-23 09:06:00</td>\n",
       "      <td>7</td>\n",
       "      <td>614.285714</td>\n",
       "      <td>2020-11-23</td>\n",
       "      <td>52</td>\n",
       "      <td>True</td>\n",
       "      <td>11.333333</td>\n",
       "      <td>1</td>\n",
       "    </tr>\n",
       "    <tr>\n",
       "      <th>3</th>\n",
       "      <td>2020-11-23 09:09:00</td>\n",
       "      <td>13</td>\n",
       "      <td>766.769231</td>\n",
       "      <td>2020-11-23</td>\n",
       "      <td>52</td>\n",
       "      <td>True</td>\n",
       "      <td>12.000000</td>\n",
       "      <td>1</td>\n",
       "    </tr>\n",
       "    <tr>\n",
       "      <th>4</th>\n",
       "      <td>2020-11-23 09:12:00</td>\n",
       "      <td>5</td>\n",
       "      <td>608.800000</td>\n",
       "      <td>2020-11-23</td>\n",
       "      <td>52</td>\n",
       "      <td>True</td>\n",
       "      <td>8.333333</td>\n",
       "      <td>1</td>\n",
       "    </tr>\n",
       "    <tr>\n",
       "      <th>5</th>\n",
       "      <td>2020-11-23 09:15:00</td>\n",
       "      <td>6</td>\n",
       "      <td>640.333333</td>\n",
       "      <td>2020-11-23</td>\n",
       "      <td>52</td>\n",
       "      <td>True</td>\n",
       "      <td>8.000000</td>\n",
       "      <td>1</td>\n",
       "    </tr>\n",
       "    <tr>\n",
       "      <th>6</th>\n",
       "      <td>2020-11-23 09:18:00</td>\n",
       "      <td>9</td>\n",
       "      <td>734.111111</td>\n",
       "      <td>2020-11-23</td>\n",
       "      <td>52</td>\n",
       "      <td>True</td>\n",
       "      <td>6.666667</td>\n",
       "      <td>1</td>\n",
       "    </tr>\n",
       "    <tr>\n",
       "      <th>7</th>\n",
       "      <td>2020-11-23 09:21:00</td>\n",
       "      <td>2</td>\n",
       "      <td>402.500000</td>\n",
       "      <td>2020-11-23</td>\n",
       "      <td>52</td>\n",
       "      <td>True</td>\n",
       "      <td>5.666667</td>\n",
       "      <td>1</td>\n",
       "    </tr>\n",
       "    <tr>\n",
       "      <th>8</th>\n",
       "      <td>2020-11-23 09:24:00</td>\n",
       "      <td>4</td>\n",
       "      <td>478.000000</td>\n",
       "      <td>2020-11-23</td>\n",
       "      <td>52</td>\n",
       "      <td>True</td>\n",
       "      <td>5.000000</td>\n",
       "      <td>1</td>\n",
       "    </tr>\n",
       "    <tr>\n",
       "      <th>9</th>\n",
       "      <td>2020-11-23 09:27:00</td>\n",
       "      <td>9</td>\n",
       "      <td>750.666667</td>\n",
       "      <td>2020-11-23</td>\n",
       "      <td>52</td>\n",
       "      <td>True</td>\n",
       "      <td>5.000000</td>\n",
       "      <td>1</td>\n",
       "    </tr>\n",
       "  </tbody>\n",
       "</table>\n",
       "</div>"
      ],
      "text/plain": [
       "          Create-time  ncalls    Avg-time      Period  nagents  office-hour  \\\n",
       "0 2020-11-23 09:00:00      11  728.000000  2020-11-23       52        False   \n",
       "1 2020-11-23 09:03:00      16  691.500000  2020-11-23       52         True   \n",
       "2 2020-11-23 09:06:00       7  614.285714  2020-11-23       52         True   \n",
       "3 2020-11-23 09:09:00      13  766.769231  2020-11-23       52         True   \n",
       "4 2020-11-23 09:12:00       5  608.800000  2020-11-23       52         True   \n",
       "5 2020-11-23 09:15:00       6  640.333333  2020-11-23       52         True   \n",
       "6 2020-11-23 09:18:00       9  734.111111  2020-11-23       52         True   \n",
       "7 2020-11-23 09:21:00       2  402.500000  2020-11-23       52         True   \n",
       "8 2020-11-23 09:24:00       4  478.000000  2020-11-23       52         True   \n",
       "9 2020-11-23 09:27:00       9  750.666667  2020-11-23       52         True   \n",
       "\n",
       "   Avg-calls  iso_day_of_week  \n",
       "0        NaN                1  \n",
       "1        NaN                1  \n",
       "2  11.333333                1  \n",
       "3  12.000000                1  \n",
       "4   8.333333                1  \n",
       "5   8.000000                1  \n",
       "6   6.666667                1  \n",
       "7   5.666667                1  \n",
       "8   5.000000                1  \n",
       "9   5.000000                1  "
      ]
     },
     "execution_count": 94,
     "metadata": {},
     "output_type": "execute_result"
    }
   ],
   "source": [
    "consolidated.head(10)"
   ]
  },
  {
   "cell_type": "code",
   "execution_count": 95,
   "metadata": {},
   "outputs": [],
   "source": [
    "C = consolidated[(consolidated['office-hour'] == True) & (consolidated['iso_day_of_week'] < 6)]"
   ]
  },
  {
   "cell_type": "code",
   "execution_count": 96,
   "metadata": {},
   "outputs": [
    {
     "data": {
      "text/html": [
       "<div>\n",
       "<style scoped>\n",
       "    .dataframe tbody tr th:only-of-type {\n",
       "        vertical-align: middle;\n",
       "    }\n",
       "\n",
       "    .dataframe tbody tr th {\n",
       "        vertical-align: top;\n",
       "    }\n",
       "\n",
       "    .dataframe thead th {\n",
       "        text-align: right;\n",
       "    }\n",
       "</style>\n",
       "<table border=\"1\" class=\"dataframe\">\n",
       "  <thead>\n",
       "    <tr style=\"text-align: right;\">\n",
       "      <th></th>\n",
       "      <th>Create-time</th>\n",
       "      <th>ncalls</th>\n",
       "      <th>Avg-time</th>\n",
       "      <th>Period</th>\n",
       "      <th>nagents</th>\n",
       "      <th>office-hour</th>\n",
       "      <th>Avg-calls</th>\n",
       "      <th>iso_day_of_week</th>\n",
       "    </tr>\n",
       "  </thead>\n",
       "  <tbody>\n",
       "    <tr>\n",
       "      <th>1</th>\n",
       "      <td>2020-11-23 09:03:00</td>\n",
       "      <td>16</td>\n",
       "      <td>691.500000</td>\n",
       "      <td>2020-11-23</td>\n",
       "      <td>52</td>\n",
       "      <td>True</td>\n",
       "      <td>NaN</td>\n",
       "      <td>1</td>\n",
       "    </tr>\n",
       "    <tr>\n",
       "      <th>2</th>\n",
       "      <td>2020-11-23 09:06:00</td>\n",
       "      <td>7</td>\n",
       "      <td>614.285714</td>\n",
       "      <td>2020-11-23</td>\n",
       "      <td>52</td>\n",
       "      <td>True</td>\n",
       "      <td>11.333333</td>\n",
       "      <td>1</td>\n",
       "    </tr>\n",
       "    <tr>\n",
       "      <th>3</th>\n",
       "      <td>2020-11-23 09:09:00</td>\n",
       "      <td>13</td>\n",
       "      <td>766.769231</td>\n",
       "      <td>2020-11-23</td>\n",
       "      <td>52</td>\n",
       "      <td>True</td>\n",
       "      <td>12.000000</td>\n",
       "      <td>1</td>\n",
       "    </tr>\n",
       "    <tr>\n",
       "      <th>4</th>\n",
       "      <td>2020-11-23 09:12:00</td>\n",
       "      <td>5</td>\n",
       "      <td>608.800000</td>\n",
       "      <td>2020-11-23</td>\n",
       "      <td>52</td>\n",
       "      <td>True</td>\n",
       "      <td>8.333333</td>\n",
       "      <td>1</td>\n",
       "    </tr>\n",
       "    <tr>\n",
       "      <th>5</th>\n",
       "      <td>2020-11-23 09:15:00</td>\n",
       "      <td>6</td>\n",
       "      <td>640.333333</td>\n",
       "      <td>2020-11-23</td>\n",
       "      <td>52</td>\n",
       "      <td>True</td>\n",
       "      <td>8.000000</td>\n",
       "      <td>1</td>\n",
       "    </tr>\n",
       "    <tr>\n",
       "      <th>6</th>\n",
       "      <td>2020-11-23 09:18:00</td>\n",
       "      <td>9</td>\n",
       "      <td>734.111111</td>\n",
       "      <td>2020-11-23</td>\n",
       "      <td>52</td>\n",
       "      <td>True</td>\n",
       "      <td>6.666667</td>\n",
       "      <td>1</td>\n",
       "    </tr>\n",
       "    <tr>\n",
       "      <th>7</th>\n",
       "      <td>2020-11-23 09:21:00</td>\n",
       "      <td>2</td>\n",
       "      <td>402.500000</td>\n",
       "      <td>2020-11-23</td>\n",
       "      <td>52</td>\n",
       "      <td>True</td>\n",
       "      <td>5.666667</td>\n",
       "      <td>1</td>\n",
       "    </tr>\n",
       "    <tr>\n",
       "      <th>8</th>\n",
       "      <td>2020-11-23 09:24:00</td>\n",
       "      <td>4</td>\n",
       "      <td>478.000000</td>\n",
       "      <td>2020-11-23</td>\n",
       "      <td>52</td>\n",
       "      <td>True</td>\n",
       "      <td>5.000000</td>\n",
       "      <td>1</td>\n",
       "    </tr>\n",
       "    <tr>\n",
       "      <th>9</th>\n",
       "      <td>2020-11-23 09:27:00</td>\n",
       "      <td>9</td>\n",
       "      <td>750.666667</td>\n",
       "      <td>2020-11-23</td>\n",
       "      <td>52</td>\n",
       "      <td>True</td>\n",
       "      <td>5.000000</td>\n",
       "      <td>1</td>\n",
       "    </tr>\n",
       "    <tr>\n",
       "      <th>10</th>\n",
       "      <td>2020-11-23 09:30:00</td>\n",
       "      <td>11</td>\n",
       "      <td>527.909091</td>\n",
       "      <td>2020-11-23</td>\n",
       "      <td>52</td>\n",
       "      <td>True</td>\n",
       "      <td>8.000000</td>\n",
       "      <td>1</td>\n",
       "    </tr>\n",
       "  </tbody>\n",
       "</table>\n",
       "</div>"
      ],
      "text/plain": [
       "           Create-time  ncalls    Avg-time      Period  nagents  office-hour  \\\n",
       "1  2020-11-23 09:03:00      16  691.500000  2020-11-23       52         True   \n",
       "2  2020-11-23 09:06:00       7  614.285714  2020-11-23       52         True   \n",
       "3  2020-11-23 09:09:00      13  766.769231  2020-11-23       52         True   \n",
       "4  2020-11-23 09:12:00       5  608.800000  2020-11-23       52         True   \n",
       "5  2020-11-23 09:15:00       6  640.333333  2020-11-23       52         True   \n",
       "6  2020-11-23 09:18:00       9  734.111111  2020-11-23       52         True   \n",
       "7  2020-11-23 09:21:00       2  402.500000  2020-11-23       52         True   \n",
       "8  2020-11-23 09:24:00       4  478.000000  2020-11-23       52         True   \n",
       "9  2020-11-23 09:27:00       9  750.666667  2020-11-23       52         True   \n",
       "10 2020-11-23 09:30:00      11  527.909091  2020-11-23       52         True   \n",
       "\n",
       "    Avg-calls  iso_day_of_week  \n",
       "1         NaN                1  \n",
       "2   11.333333                1  \n",
       "3   12.000000                1  \n",
       "4    8.333333                1  \n",
       "5    8.000000                1  \n",
       "6    6.666667                1  \n",
       "7    5.666667                1  \n",
       "8    5.000000                1  \n",
       "9    5.000000                1  \n",
       "10   8.000000                1  "
      ]
     },
     "execution_count": 96,
     "metadata": {},
     "output_type": "execute_result"
    }
   ],
   "source": [
    "C.head(10)"
   ]
  },
  {
   "cell_type": "code",
   "execution_count": 97,
   "metadata": {},
   "outputs": [],
   "source": [
    "C.to_csv('consolidated-1.csv', index=False)"
   ]
  },
  {
   "cell_type": "code",
   "execution_count": null,
   "metadata": {},
   "outputs": [],
   "source": []
  }
 ],
 "metadata": {
  "kernelspec": {
   "display_name": "Python 3",
   "language": "python",
   "name": "python3"
  },
  "language_info": {
   "codemirror_mode": {
    "name": "ipython",
    "version": 3
   },
   "file_extension": ".py",
   "mimetype": "text/x-python",
   "name": "python",
   "nbconvert_exporter": "python",
   "pygments_lexer": "ipython3",
   "version": "3.9.0"
  }
 },
 "nbformat": 4,
 "nbformat_minor": 4
}
