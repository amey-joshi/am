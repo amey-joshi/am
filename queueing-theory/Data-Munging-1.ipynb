{
 "cells": [
  {
   "cell_type": "markdown",
   "metadata": {},
   "source": [
    "Manipulation of <code>Call-receive-data.xlsx</code>."
   ]
  },
  {
   "cell_type": "code",
   "execution_count": 60,
   "metadata": {},
   "outputs": [],
   "source": [
    "import numpy as np\n",
    "import pandas as pd\n",
    "import matplotlib.pyplot as plt"
   ]
  },
  {
   "cell_type": "code",
   "execution_count": 83,
   "metadata": {},
   "outputs": [],
   "source": [
    "ss = pd.read_csv('small-sample.csv')"
   ]
  },
  {
   "cell_type": "code",
   "execution_count": 84,
   "metadata": {},
   "outputs": [
    {
     "data": {
      "text/plain": [
       "Period                   object\n",
       "Media                    object\n",
       "Channel                  object\n",
       "Queue                    object\n",
       "Transaction               int64\n",
       "Origination              object\n",
       "Customer                 object\n",
       "Case Number             float64\n",
       "Web Callback            float64\n",
       "Create time              object\n",
       "Agent                    object\n",
       "Accept time              object\n",
       "Transaction-Time         object\n",
       "Post-processing-time     object\n",
       "Total-time               object\n",
       "Abandon-time             object\n",
       "Voice mail left         float64\n",
       "IVR-Treatment-Time       object\n",
       "Hold-Max                 object\n",
       "Hold-Count                int64\n",
       "Hold-Total               object\n",
       "PDD-Leg 1                object\n",
       "PDD-Leg 2                object\n",
       "AT-Leg 1                 object\n",
       "AT-Leg 2                 object\n",
       "dtype: object"
      ]
     },
     "execution_count": 84,
     "metadata": {},
     "output_type": "execute_result"
    }
   ],
   "source": [
    "ss.dtypes"
   ]
  },
  {
   "cell_type": "code",
   "execution_count": 85,
   "metadata": {},
   "outputs": [
    {
     "data": {
      "text/html": [
       "<div>\n",
       "<style scoped>\n",
       "    .dataframe tbody tr th:only-of-type {\n",
       "        vertical-align: middle;\n",
       "    }\n",
       "\n",
       "    .dataframe tbody tr th {\n",
       "        vertical-align: top;\n",
       "    }\n",
       "\n",
       "    .dataframe thead th {\n",
       "        text-align: right;\n",
       "    }\n",
       "</style>\n",
       "<table border=\"1\" class=\"dataframe\">\n",
       "  <thead>\n",
       "    <tr style=\"text-align: right;\">\n",
       "      <th></th>\n",
       "      <th>Period</th>\n",
       "      <th>Media</th>\n",
       "      <th>Channel</th>\n",
       "      <th>Queue</th>\n",
       "      <th>Transaction</th>\n",
       "      <th>Origination</th>\n",
       "      <th>Customer</th>\n",
       "      <th>Case Number</th>\n",
       "      <th>Web Callback</th>\n",
       "      <th>Create time</th>\n",
       "      <th>...</th>\n",
       "      <th>Abandon-time</th>\n",
       "      <th>Voice mail left</th>\n",
       "      <th>IVR-Treatment-Time</th>\n",
       "      <th>Hold-Max</th>\n",
       "      <th>Hold-Count</th>\n",
       "      <th>Hold-Total</th>\n",
       "      <th>PDD-Leg 1</th>\n",
       "      <th>PDD-Leg 2</th>\n",
       "      <th>AT-Leg 1</th>\n",
       "      <th>AT-Leg 2</th>\n",
       "    </tr>\n",
       "  </thead>\n",
       "  <tbody>\n",
       "    <tr>\n",
       "      <th>0</th>\n",
       "      <td>18/07/2020</td>\n",
       "      <td>Email</td>\n",
       "      <td>customerservices@peoplesenergy.co.uk</td>\n",
       "      <td>Cancellations (2h)</td>\n",
       "      <td>657601</td>\n",
       "      <td>keith.m.rowling@gmail.com</td>\n",
       "      <td>(last name not available), Switchcraft</td>\n",
       "      <td>169337.2</td>\n",
       "      <td>NaN</td>\n",
       "      <td>18/07/2020 07:06:07</td>\n",
       "      <td>...</td>\n",
       "      <td>NaN</td>\n",
       "      <td>NaN</td>\n",
       "      <td>0:00:00</td>\n",
       "      <td>0:00:00</td>\n",
       "      <td>0</td>\n",
       "      <td>0:00:00</td>\n",
       "      <td>0:00:00</td>\n",
       "      <td>0:00:00</td>\n",
       "      <td>0:00:00</td>\n",
       "      <td>0:00:00</td>\n",
       "    </tr>\n",
       "    <tr>\n",
       "      <th>1</th>\n",
       "      <td>18/07/2020</td>\n",
       "      <td>Email</td>\n",
       "      <td>customerservices@peoplesenergy.co.uk</td>\n",
       "      <td>Cancellations (2h)</td>\n",
       "      <td>657686</td>\n",
       "      <td>kay.upcott@icloud.com</td>\n",
       "      <td>Upcott, Kay</td>\n",
       "      <td>168705.2</td>\n",
       "      <td>NaN</td>\n",
       "      <td>18/07/2020 07:56:51</td>\n",
       "      <td>...</td>\n",
       "      <td>NaN</td>\n",
       "      <td>NaN</td>\n",
       "      <td>0:00:00</td>\n",
       "      <td>0:00:00</td>\n",
       "      <td>0</td>\n",
       "      <td>0:00:00</td>\n",
       "      <td>0:00:00</td>\n",
       "      <td>0:00:00</td>\n",
       "      <td>0:00:00</td>\n",
       "      <td>0:00:00</td>\n",
       "    </tr>\n",
       "    <tr>\n",
       "      <th>2</th>\n",
       "      <td>18/07/2020</td>\n",
       "      <td>Email</td>\n",
       "      <td>customerservices@peoplesenergy.co.uk</td>\n",
       "      <td>Cancellations (2h)</td>\n",
       "      <td>657705</td>\n",
       "      <td>kezp1@hotmail.co.uk</td>\n",
       "      <td>PRICE, KELLY</td>\n",
       "      <td>170233.0</td>\n",
       "      <td>NaN</td>\n",
       "      <td>18/07/2020 08:02:12</td>\n",
       "      <td>...</td>\n",
       "      <td>NaN</td>\n",
       "      <td>NaN</td>\n",
       "      <td>0:00:00</td>\n",
       "      <td>0:00:00</td>\n",
       "      <td>0</td>\n",
       "      <td>0:00:00</td>\n",
       "      <td>0:00:00</td>\n",
       "      <td>0:00:00</td>\n",
       "      <td>0:00:00</td>\n",
       "      <td>0:00:00</td>\n",
       "    </tr>\n",
       "    <tr>\n",
       "      <th>3</th>\n",
       "      <td>18/07/2020</td>\n",
       "      <td>Email</td>\n",
       "      <td>customerservices@peoplesenergy.co.uk</td>\n",
       "      <td>Cancellations (2h)</td>\n",
       "      <td>657732</td>\n",
       "      <td>cazsheru63@hotmail.co.uk</td>\n",
       "      <td>kelly, caroline</td>\n",
       "      <td>170245.0</td>\n",
       "      <td>NaN</td>\n",
       "      <td>18/07/2020 08:11:37</td>\n",
       "      <td>...</td>\n",
       "      <td>NaN</td>\n",
       "      <td>NaN</td>\n",
       "      <td>0:00:00</td>\n",
       "      <td>0:00:00</td>\n",
       "      <td>0</td>\n",
       "      <td>0:00:00</td>\n",
       "      <td>0:00:00</td>\n",
       "      <td>0:00:00</td>\n",
       "      <td>0:00:00</td>\n",
       "      <td>0:00:00</td>\n",
       "    </tr>\n",
       "    <tr>\n",
       "      <th>4</th>\n",
       "      <td>18/07/2020</td>\n",
       "      <td>Email</td>\n",
       "      <td>customerservices@peoplesenergy.co.uk</td>\n",
       "      <td>Cancellations (2h)</td>\n",
       "      <td>657758</td>\n",
       "      <td>collisaugustine1303@gmail.com</td>\n",
       "      <td>Augustine, Collis</td>\n",
       "      <td>170263.0</td>\n",
       "      <td>NaN</td>\n",
       "      <td>18/07/2020 08:19:44</td>\n",
       "      <td>...</td>\n",
       "      <td>18/07/2020 09:38:37</td>\n",
       "      <td>NaN</td>\n",
       "      <td>0:00:00</td>\n",
       "      <td>0:00:00</td>\n",
       "      <td>0</td>\n",
       "      <td>0:00:00</td>\n",
       "      <td>0:00:00</td>\n",
       "      <td>0:00:00</td>\n",
       "      <td>0:00:00</td>\n",
       "      <td>0:00:00</td>\n",
       "    </tr>\n",
       "  </tbody>\n",
       "</table>\n",
       "<p>5 rows × 25 columns</p>\n",
       "</div>"
      ],
      "text/plain": [
       "       Period  Media                               Channel  \\\n",
       "0  18/07/2020  Email  customerservices@peoplesenergy.co.uk   \n",
       "1  18/07/2020  Email  customerservices@peoplesenergy.co.uk   \n",
       "2  18/07/2020  Email  customerservices@peoplesenergy.co.uk   \n",
       "3  18/07/2020  Email  customerservices@peoplesenergy.co.uk   \n",
       "4  18/07/2020  Email  customerservices@peoplesenergy.co.uk   \n",
       "\n",
       "                Queue  Transaction                    Origination  \\\n",
       "0  Cancellations (2h)       657601      keith.m.rowling@gmail.com   \n",
       "1  Cancellations (2h)       657686          kay.upcott@icloud.com   \n",
       "2  Cancellations (2h)       657705            kezp1@hotmail.co.uk   \n",
       "3  Cancellations (2h)       657732       cazsheru63@hotmail.co.uk   \n",
       "4  Cancellations (2h)       657758  collisaugustine1303@gmail.com   \n",
       "\n",
       "                                 Customer  Case Number  Web Callback  \\\n",
       "0  (last name not available), Switchcraft     169337.2           NaN   \n",
       "1                             Upcott, Kay     168705.2           NaN   \n",
       "2                            PRICE, KELLY     170233.0           NaN   \n",
       "3                         kelly, caroline     170245.0           NaN   \n",
       "4                       Augustine, Collis     170263.0           NaN   \n",
       "\n",
       "           Create time  ...         Abandon-time Voice mail left  \\\n",
       "0  18/07/2020 07:06:07  ...                  NaN             NaN   \n",
       "1  18/07/2020 07:56:51  ...                  NaN             NaN   \n",
       "2  18/07/2020 08:02:12  ...                  NaN             NaN   \n",
       "3  18/07/2020 08:11:37  ...                  NaN             NaN   \n",
       "4  18/07/2020 08:19:44  ...  18/07/2020 09:38:37             NaN   \n",
       "\n",
       "  IVR-Treatment-Time Hold-Max Hold-Count Hold-Total  PDD-Leg 1 PDD-Leg 2  \\\n",
       "0            0:00:00  0:00:00          0    0:00:00    0:00:00   0:00:00   \n",
       "1            0:00:00  0:00:00          0    0:00:00    0:00:00   0:00:00   \n",
       "2            0:00:00  0:00:00          0    0:00:00    0:00:00   0:00:00   \n",
       "3            0:00:00  0:00:00          0    0:00:00    0:00:00   0:00:00   \n",
       "4            0:00:00  0:00:00          0    0:00:00    0:00:00   0:00:00   \n",
       "\n",
       "  AT-Leg 1  AT-Leg 2  \n",
       "0  0:00:00   0:00:00  \n",
       "1  0:00:00   0:00:00  \n",
       "2  0:00:00   0:00:00  \n",
       "3  0:00:00   0:00:00  \n",
       "4  0:00:00   0:00:00  \n",
       "\n",
       "[5 rows x 25 columns]"
      ]
     },
     "execution_count": 85,
     "metadata": {},
     "output_type": "execute_result"
    }
   ],
   "source": [
    "ss.head()"
   ]
  },
  {
   "cell_type": "code",
   "execution_count": 86,
   "metadata": {},
   "outputs": [],
   "source": [
    "def was_abandoned(row):\n",
    "    if pd.isnull(row['Abandon-time']):\n",
    "        return False\n",
    "    else:\n",
    "        return True\n",
    "    \n",
    "ss['Abandoned'] = ss.apply(lambda r: was_abandoned(r), axis=1)"
   ]
  },
  {
   "cell_type": "code",
   "execution_count": 88,
   "metadata": {},
   "outputs": [],
   "source": [
    "ss['Create time'] = pd.to_datetime(ss['Create time'], format='%d/%m/%Y %H:%M:%S', errors='ignore')\n",
    "ss['Accept time'] = pd.to_datetime(ss['Accept time'], format='%d/%m/%Y %H:%M:%S', errors='ignore')\n",
    "ss['Total-time'] = pd.to_timedelta(ss['Total-time'])\n",
    "ss['Abandon-time'] = pd.to_datetime(ss['Abandon-time'], format='%d/%m/%Y %H:%M:%S', errors='ignore')"
   ]
  },
  {
   "cell_type": "code",
   "execution_count": 89,
   "metadata": {},
   "outputs": [
    {
     "data": {
      "text/plain": [
       "Period                           object\n",
       "Media                            object\n",
       "Channel                          object\n",
       "Queue                            object\n",
       "Transaction                       int64\n",
       "Origination                      object\n",
       "Customer                         object\n",
       "Case Number                     float64\n",
       "Web Callback                    float64\n",
       "Create time              datetime64[ns]\n",
       "Agent                            object\n",
       "Accept time              datetime64[ns]\n",
       "Transaction-Time                 object\n",
       "Post-processing-time             object\n",
       "Total-time              timedelta64[ns]\n",
       "Abandon-time             datetime64[ns]\n",
       "Voice mail left                 float64\n",
       "IVR-Treatment-Time               object\n",
       "Hold-Max                         object\n",
       "Hold-Count                        int64\n",
       "Hold-Total                       object\n",
       "PDD-Leg 1                        object\n",
       "PDD-Leg 2                        object\n",
       "AT-Leg 1                         object\n",
       "AT-Leg 2                         object\n",
       "Abandoned                          bool\n",
       "dtype: object"
      ]
     },
     "execution_count": 89,
     "metadata": {},
     "output_type": "execute_result"
    }
   ],
   "source": [
    "ss.dtypes"
   ]
  },
  {
   "cell_type": "code",
   "execution_count": 90,
   "metadata": {},
   "outputs": [],
   "source": [
    "def calc_abandon_time(row):\n",
    "    if row['Abandoned']:\n",
    "        return row['Abandon-time'] - row['Create time']      \n",
    "    else:\n",
    "        return None\n",
    "\n",
    "ss['Abandoned-after'] = ss[['Create time', 'Abandon-time', 'Abandoned']].apply(lambda r: calc_abandon_time(r), axis=1)"
   ]
  },
  {
   "cell_type": "code",
   "execution_count": 91,
   "metadata": {},
   "outputs": [
    {
     "data": {
      "text/plain": [
       "Index(['Period', 'Media', 'Channel', 'Queue', 'Transaction', 'Origination',\n",
       "       'Customer', 'Case Number', 'Web Callback', 'Create time', 'Agent',\n",
       "       'Accept time', 'Transaction-Time', 'Post-processing-time', 'Total-time',\n",
       "       'Abandon-time', 'Voice mail left', 'IVR-Treatment-Time', 'Hold-Max',\n",
       "       'Hold-Count', 'Hold-Total', 'PDD-Leg 1', 'PDD-Leg 2', 'AT-Leg 1',\n",
       "       'AT-Leg 2', 'Abandoned', 'Abandoned-after'],\n",
       "      dtype='object')"
      ]
     },
     "execution_count": 91,
     "metadata": {},
     "output_type": "execute_result"
    }
   ],
   "source": [
    "ss.columns"
   ]
  },
  {
   "cell_type": "code",
   "execution_count": 92,
   "metadata": {},
   "outputs": [],
   "source": [
    "ss.rename(columns={'Create time': 'Create-time', 'Accept time': 'Accept-time'}, inplace=True)"
   ]
  },
  {
   "cell_type": "markdown",
   "metadata": {},
   "source": [
    "We want to create a fresh dataframe not a view of <code>ss</code>."
   ]
  },
  {
   "cell_type": "code",
   "execution_count": 93,
   "metadata": {},
   "outputs": [],
   "source": [
    "data = ss.loc[:, ['Create-time', 'Agent', 'Accept-time', 'Total-time', 'Abandon-time', 'Abandoned', 'Abandoned-after']]"
   ]
  },
  {
   "cell_type": "code",
   "execution_count": 94,
   "metadata": {},
   "outputs": [
    {
     "data": {
      "text/html": [
       "<div>\n",
       "<style scoped>\n",
       "    .dataframe tbody tr th:only-of-type {\n",
       "        vertical-align: middle;\n",
       "    }\n",
       "\n",
       "    .dataframe tbody tr th {\n",
       "        vertical-align: top;\n",
       "    }\n",
       "\n",
       "    .dataframe thead th {\n",
       "        text-align: right;\n",
       "    }\n",
       "</style>\n",
       "<table border=\"1\" class=\"dataframe\">\n",
       "  <thead>\n",
       "    <tr style=\"text-align: right;\">\n",
       "      <th></th>\n",
       "      <th>Create-time</th>\n",
       "      <th>Agent</th>\n",
       "      <th>Accept-time</th>\n",
       "      <th>Total-time</th>\n",
       "      <th>Abandon-time</th>\n",
       "      <th>Abandoned</th>\n",
       "      <th>Abandoned-after</th>\n",
       "    </tr>\n",
       "  </thead>\n",
       "  <tbody>\n",
       "    <tr>\n",
       "      <th>0</th>\n",
       "      <td>2020-07-18 07:06:07</td>\n",
       "      <td>Sam Rogers (agwmMVWB5aRSGmsXedTzQdcQ)</td>\n",
       "      <td>2020-07-18 10:58:07</td>\n",
       "      <td>0 days 00:03:06</td>\n",
       "      <td>NaT</td>\n",
       "      <td>False</td>\n",
       "      <td>NaT</td>\n",
       "    </tr>\n",
       "    <tr>\n",
       "      <th>1</th>\n",
       "      <td>2020-07-18 07:56:51</td>\n",
       "      <td>Leanne Martin (agSZxR7TcsSqiS6AXQfrBTfA)</td>\n",
       "      <td>2020-07-18 10:58:23</td>\n",
       "      <td>0 days 00:04:26</td>\n",
       "      <td>NaT</td>\n",
       "      <td>False</td>\n",
       "      <td>NaT</td>\n",
       "    </tr>\n",
       "    <tr>\n",
       "      <th>2</th>\n",
       "      <td>2020-07-18 08:02:12</td>\n",
       "      <td>Sam Rogers (agwmMVWB5aRSGmsXedTzQdcQ)</td>\n",
       "      <td>2020-07-18 11:01:14</td>\n",
       "      <td>0 days 00:07:10</td>\n",
       "      <td>NaT</td>\n",
       "      <td>False</td>\n",
       "      <td>NaT</td>\n",
       "    </tr>\n",
       "    <tr>\n",
       "      <th>3</th>\n",
       "      <td>2020-07-18 08:11:37</td>\n",
       "      <td>Leanne Martin (agSZxR7TcsSqiS6AXQfrBTfA)</td>\n",
       "      <td>2020-07-18 11:02:50</td>\n",
       "      <td>0 days 00:05:44</td>\n",
       "      <td>NaT</td>\n",
       "      <td>False</td>\n",
       "      <td>NaT</td>\n",
       "    </tr>\n",
       "    <tr>\n",
       "      <th>4</th>\n",
       "      <td>2020-07-18 08:19:44</td>\n",
       "      <td>NaN</td>\n",
       "      <td>NaT</td>\n",
       "      <td>NaT</td>\n",
       "      <td>2020-07-18 09:38:37</td>\n",
       "      <td>True</td>\n",
       "      <td>0 days 01:18:53</td>\n",
       "    </tr>\n",
       "  </tbody>\n",
       "</table>\n",
       "</div>"
      ],
      "text/plain": [
       "          Create-time                                     Agent  \\\n",
       "0 2020-07-18 07:06:07     Sam Rogers (agwmMVWB5aRSGmsXedTzQdcQ)   \n",
       "1 2020-07-18 07:56:51  Leanne Martin (agSZxR7TcsSqiS6AXQfrBTfA)   \n",
       "2 2020-07-18 08:02:12     Sam Rogers (agwmMVWB5aRSGmsXedTzQdcQ)   \n",
       "3 2020-07-18 08:11:37  Leanne Martin (agSZxR7TcsSqiS6AXQfrBTfA)   \n",
       "4 2020-07-18 08:19:44                                       NaN   \n",
       "\n",
       "          Accept-time      Total-time        Abandon-time  Abandoned  \\\n",
       "0 2020-07-18 10:58:07 0 days 00:03:06                 NaT      False   \n",
       "1 2020-07-18 10:58:23 0 days 00:04:26                 NaT      False   \n",
       "2 2020-07-18 11:01:14 0 days 00:07:10                 NaT      False   \n",
       "3 2020-07-18 11:02:50 0 days 00:05:44                 NaT      False   \n",
       "4                 NaT             NaT 2020-07-18 09:38:37       True   \n",
       "\n",
       "  Abandoned-after  \n",
       "0             NaT  \n",
       "1             NaT  \n",
       "2             NaT  \n",
       "3             NaT  \n",
       "4 0 days 01:18:53  "
      ]
     },
     "execution_count": 94,
     "metadata": {},
     "output_type": "execute_result"
    }
   ],
   "source": [
    "data.head()"
   ]
  },
  {
   "cell_type": "code",
   "execution_count": 95,
   "metadata": {},
   "outputs": [],
   "source": [
    "data['time-to-accept'] = data.apply(lambda r: r['Accept-time'] - r['Create-time'], axis=1)"
   ]
  },
  {
   "cell_type": "code",
   "execution_count": 96,
   "metadata": {},
   "outputs": [
    {
     "data": {
      "text/plain": [
       "Create-time         datetime64[ns]\n",
       "Agent                       object\n",
       "Accept-time         datetime64[ns]\n",
       "Total-time         timedelta64[ns]\n",
       "Abandon-time        datetime64[ns]\n",
       "Abandoned                     bool\n",
       "Abandoned-after    timedelta64[ns]\n",
       "time-to-accept     timedelta64[ns]\n",
       "dtype: object"
      ]
     },
     "execution_count": 96,
     "metadata": {},
     "output_type": "execute_result"
    }
   ],
   "source": [
    "data.dtypes"
   ]
  },
  {
   "cell_type": "code",
   "execution_count": 97,
   "metadata": {},
   "outputs": [
    {
     "data": {
      "text/plain": [
       "Timestamp('2020-07-21 10:08:25')"
      ]
     },
     "execution_count": 97,
     "metadata": {},
     "output_type": "execute_result"
    }
   ],
   "source": [
    "max(data['Accept-time'])"
   ]
  },
  {
   "cell_type": "code",
   "execution_count": 98,
   "metadata": {},
   "outputs": [
    {
     "data": {
      "text/plain": [
       "Timestamp('2020-07-18 10:58:07')"
      ]
     },
     "execution_count": 98,
     "metadata": {},
     "output_type": "execute_result"
    }
   ],
   "source": [
    "min(data['Accept-time'])"
   ]
  },
  {
   "cell_type": "code",
   "execution_count": 99,
   "metadata": {},
   "outputs": [
    {
     "name": "stdout",
     "output_type": "stream",
     "text": [
      "2 days 23:10:18\n"
     ]
    }
   ],
   "source": [
    "duration = max(data['Accept-time']) - min(data['Accept-time'])\n",
    "print(duration)"
   ]
  },
  {
   "cell_type": "code",
   "execution_count": 100,
   "metadata": {},
   "outputs": [
    {
     "name": "stdout",
     "output_type": "stream",
     "text": [
      "minutes in duration = 4270, number of bins = 854\n"
     ]
    }
   ],
   "source": [
    "def minutes_in_duration(d):\n",
    "    ndays = d.days\n",
    "    \n",
    "    return ndays * 24 * 60 + d.seconds//60\n",
    "\n",
    "def nbins(minutes, width=5):\n",
    "    return int(np.ceil(minutes/width))\n",
    "\n",
    "mid = minutes_in_duration(duration)\n",
    "\n",
    "print(f'minutes in duration = {mid}, number of bins = {nbins(mid)}')"
   ]
  },
  {
   "cell_type": "markdown",
   "metadata": {},
   "source": [
    "This is an **important** step. We group all calls in an interval of $5$ minutes."
   ]
  },
  {
   "cell_type": "code",
   "execution_count": 101,
   "metadata": {},
   "outputs": [],
   "source": [
    "inflow = data[['Create-time', 'Agent']].groupby(pd.Grouper(key='Create-time', freq='5min')).count()\n",
    "inflow.reset_index(inplace=True)"
   ]
  },
  {
   "cell_type": "code",
   "execution_count": 102,
   "metadata": {},
   "outputs": [
    {
     "data": {
      "text/plain": [
       "Create-time         datetime64[ns]\n",
       "Agent                       object\n",
       "Accept-time         datetime64[ns]\n",
       "Total-time         timedelta64[ns]\n",
       "Abandon-time        datetime64[ns]\n",
       "Abandoned                     bool\n",
       "Abandoned-after    timedelta64[ns]\n",
       "time-to-accept     timedelta64[ns]\n",
       "dtype: object"
      ]
     },
     "execution_count": 102,
     "metadata": {},
     "output_type": "execute_result"
    }
   ],
   "source": [
    "data.dtypes"
   ]
  },
  {
   "cell_type": "code",
   "execution_count": 110,
   "metadata": {},
   "outputs": [
    {
     "data": {
      "text/html": [
       "<div>\n",
       "<style scoped>\n",
       "    .dataframe tbody tr th:only-of-type {\n",
       "        vertical-align: middle;\n",
       "    }\n",
       "\n",
       "    .dataframe tbody tr th {\n",
       "        vertical-align: top;\n",
       "    }\n",
       "\n",
       "    .dataframe thead th {\n",
       "        text-align: right;\n",
       "    }\n",
       "</style>\n",
       "<table border=\"1\" class=\"dataframe\">\n",
       "  <thead>\n",
       "    <tr style=\"text-align: right;\">\n",
       "      <th></th>\n",
       "      <th>Create-time</th>\n",
       "      <th>Agent</th>\n",
       "    </tr>\n",
       "  </thead>\n",
       "  <tbody>\n",
       "    <tr>\n",
       "      <th>0</th>\n",
       "      <td>2020-07-18 00:10:00</td>\n",
       "      <td>1</td>\n",
       "    </tr>\n",
       "    <tr>\n",
       "      <th>1</th>\n",
       "      <td>2020-07-18 00:15:00</td>\n",
       "      <td>0</td>\n",
       "    </tr>\n",
       "    <tr>\n",
       "      <th>2</th>\n",
       "      <td>2020-07-18 00:20:00</td>\n",
       "      <td>0</td>\n",
       "    </tr>\n",
       "    <tr>\n",
       "      <th>3</th>\n",
       "      <td>2020-07-18 00:25:00</td>\n",
       "      <td>0</td>\n",
       "    </tr>\n",
       "    <tr>\n",
       "      <th>4</th>\n",
       "      <td>2020-07-18 00:30:00</td>\n",
       "      <td>0</td>\n",
       "    </tr>\n",
       "    <tr>\n",
       "      <th>...</th>\n",
       "      <td>...</td>\n",
       "      <td>...</td>\n",
       "    </tr>\n",
       "    <tr>\n",
       "      <th>268</th>\n",
       "      <td>2020-07-18 22:30:00</td>\n",
       "      <td>0</td>\n",
       "    </tr>\n",
       "    <tr>\n",
       "      <th>269</th>\n",
       "      <td>2020-07-18 22:35:00</td>\n",
       "      <td>0</td>\n",
       "    </tr>\n",
       "    <tr>\n",
       "      <th>270</th>\n",
       "      <td>2020-07-18 22:40:00</td>\n",
       "      <td>0</td>\n",
       "    </tr>\n",
       "    <tr>\n",
       "      <th>271</th>\n",
       "      <td>2020-07-18 22:45:00</td>\n",
       "      <td>0</td>\n",
       "    </tr>\n",
       "    <tr>\n",
       "      <th>272</th>\n",
       "      <td>2020-07-18 22:50:00</td>\n",
       "      <td>1</td>\n",
       "    </tr>\n",
       "  </tbody>\n",
       "</table>\n",
       "<p>273 rows × 2 columns</p>\n",
       "</div>"
      ],
      "text/plain": [
       "            Create-time  Agent\n",
       "0   2020-07-18 00:10:00      1\n",
       "1   2020-07-18 00:15:00      0\n",
       "2   2020-07-18 00:20:00      0\n",
       "3   2020-07-18 00:25:00      0\n",
       "4   2020-07-18 00:30:00      0\n",
       "..                  ...    ...\n",
       "268 2020-07-18 22:30:00      0\n",
       "269 2020-07-18 22:35:00      0\n",
       "270 2020-07-18 22:40:00      0\n",
       "271 2020-07-18 22:45:00      0\n",
       "272 2020-07-18 22:50:00      1\n",
       "\n",
       "[273 rows x 2 columns]"
      ]
     },
     "execution_count": 110,
     "metadata": {},
     "output_type": "execute_result"
    }
   ],
   "source": [
    "inflow"
   ]
  },
  {
   "cell_type": "code",
   "execution_count": 95,
   "metadata": {},
   "outputs": [
    {
     "data": {
      "text/plain": [
       "<AxesSubplot:xlabel='Create-time', ylabel='Agent'>"
      ]
     },
     "execution_count": 95,
     "metadata": {},
     "output_type": "execute_result"
    },
    {
     "data": {
      "image/png": "[encoded data removed]",
      "text/plain": [
       "<Figure size 432x288 with 1 Axes>"
      ]
     },
     "metadata": {
      "needs_background": "light"
     },
     "output_type": "display_data"
    }
   ],
   "source": [
    "inflow.loc[inflow['Agent'] > 0].plot.scatter(x='Create-time', y='Agent')"
   ]
  },
  {
   "cell_type": "code",
   "execution_count": 96,
   "metadata": {},
   "outputs": [
    {
     "data": {
      "text/plain": [
       "Create-time    2020-07-18 08:10:00\n",
       "Agent                            5\n",
       "Name: 96, dtype: object"
      ]
     },
     "execution_count": 96,
     "metadata": {},
     "output_type": "execute_result"
    }
   ],
   "source": [
    "inflow.iloc[inflow['Agent'].idxmax()]"
   ]
  },
  {
   "cell_type": "code",
   "execution_count": 97,
   "metadata": {},
   "outputs": [],
   "source": [
    "inflow.to_csv('small-sample-inflow.csv', index=False)"
   ]
  },
  {
   "cell_type": "code",
   "execution_count": 107,
   "metadata": {},
   "outputs": [],
   "source": [
    "data['Total-time'] = data['Total-time'].apply(lambda r: r.total_seconds())"
   ]
  },
  {
   "cell_type": "code",
   "execution_count": 112,
   "metadata": {},
   "outputs": [],
   "source": [
    "total_time = data[['Create-time', 'Total-time']].groupby(pd.Grouper(key='Create-time', freq='5min')).mean()"
   ]
  },
  {
   "cell_type": "code",
   "execution_count": 113,
   "metadata": {},
   "outputs": [
    {
     "data": {
      "text/plain": [
       "numpy.float64"
      ]
     },
     "execution_count": 113,
     "metadata": {},
     "output_type": "execute_result"
    }
   ],
   "source": [
    "type(data['Total-time'][0])"
   ]
  },
  {
   "cell_type": "code",
   "execution_count": 114,
   "metadata": {},
   "outputs": [
    {
     "data": {
      "text/html": [
       "<div>\n",
       "<style scoped>\n",
       "    .dataframe tbody tr th:only-of-type {\n",
       "        vertical-align: middle;\n",
       "    }\n",
       "\n",
       "    .dataframe tbody tr th {\n",
       "        vertical-align: top;\n",
       "    }\n",
       "\n",
       "    .dataframe thead th {\n",
       "        text-align: right;\n",
       "    }\n",
       "</style>\n",
       "<table border=\"1\" class=\"dataframe\">\n",
       "  <thead>\n",
       "    <tr style=\"text-align: right;\">\n",
       "      <th></th>\n",
       "      <th>Total-time</th>\n",
       "    </tr>\n",
       "    <tr>\n",
       "      <th>Create-time</th>\n",
       "      <th></th>\n",
       "    </tr>\n",
       "  </thead>\n",
       "  <tbody>\n",
       "    <tr>\n",
       "      <th>2020-07-18 00:10:00</th>\n",
       "      <td>13.0</td>\n",
       "    </tr>\n",
       "    <tr>\n",
       "      <th>2020-07-18 00:15:00</th>\n",
       "      <td>NaN</td>\n",
       "    </tr>\n",
       "    <tr>\n",
       "      <th>2020-07-18 00:20:00</th>\n",
       "      <td>NaN</td>\n",
       "    </tr>\n",
       "    <tr>\n",
       "      <th>2020-07-18 00:25:00</th>\n",
       "      <td>NaN</td>\n",
       "    </tr>\n",
       "    <tr>\n",
       "      <th>2020-07-18 00:30:00</th>\n",
       "      <td>NaN</td>\n",
       "    </tr>\n",
       "  </tbody>\n",
       "</table>\n",
       "</div>"
      ],
      "text/plain": [
       "                     Total-time\n",
       "Create-time                    \n",
       "2020-07-18 00:10:00        13.0\n",
       "2020-07-18 00:15:00         NaN\n",
       "2020-07-18 00:20:00         NaN\n",
       "2020-07-18 00:25:00         NaN\n",
       "2020-07-18 00:30:00         NaN"
      ]
     },
     "execution_count": 114,
     "metadata": {},
     "output_type": "execute_result"
    }
   ],
   "source": [
    "total_time.head()"
   ]
  },
  {
   "cell_type": "code",
   "execution_count": 116,
   "metadata": {},
   "outputs": [
    {
     "data": {
      "text/html": [
       "<div>\n",
       "<style scoped>\n",
       "    .dataframe tbody tr th:only-of-type {\n",
       "        vertical-align: middle;\n",
       "    }\n",
       "\n",
       "    .dataframe tbody tr th {\n",
       "        vertical-align: top;\n",
       "    }\n",
       "\n",
       "    .dataframe thead th {\n",
       "        text-align: right;\n",
       "    }\n",
       "</style>\n",
       "<table border=\"1\" class=\"dataframe\">\n",
       "  <thead>\n",
       "    <tr style=\"text-align: right;\">\n",
       "      <th></th>\n",
       "      <th>Total-time</th>\n",
       "    </tr>\n",
       "    <tr>\n",
       "      <th>Create-time</th>\n",
       "      <th></th>\n",
       "    </tr>\n",
       "  </thead>\n",
       "  <tbody>\n",
       "    <tr>\n",
       "      <th>2020-07-18 00:10:00</th>\n",
       "      <td>13.0</td>\n",
       "    </tr>\n",
       "    <tr>\n",
       "      <th>2020-07-18 01:00:00</th>\n",
       "      <td>245.0</td>\n",
       "    </tr>\n",
       "    <tr>\n",
       "      <th>2020-07-18 01:15:00</th>\n",
       "      <td>16.0</td>\n",
       "    </tr>\n",
       "    <tr>\n",
       "      <th>2020-07-18 02:05:00</th>\n",
       "      <td>11.0</td>\n",
       "    </tr>\n",
       "    <tr>\n",
       "      <th>2020-07-18 03:00:00</th>\n",
       "      <td>184.0</td>\n",
       "    </tr>\n",
       "  </tbody>\n",
       "</table>\n",
       "</div>"
      ],
      "text/plain": [
       "                     Total-time\n",
       "Create-time                    \n",
       "2020-07-18 00:10:00        13.0\n",
       "2020-07-18 01:00:00       245.0\n",
       "2020-07-18 01:15:00        16.0\n",
       "2020-07-18 02:05:00        11.0\n",
       "2020-07-18 03:00:00       184.0"
      ]
     },
     "execution_count": 116,
     "metadata": {},
     "output_type": "execute_result"
    }
   ],
   "source": [
    "total_time.loc[~total_time['Total-time'].isnull()].head()"
   ]
  },
  {
   "cell_type": "code",
   "execution_count": 117,
   "metadata": {},
   "outputs": [],
   "source": [
    "total_time.reset_index(inplace=True)"
   ]
  },
  {
   "cell_type": "code",
   "execution_count": 118,
   "metadata": {},
   "outputs": [
    {
     "data": {
      "text/html": [
       "<div>\n",
       "<style scoped>\n",
       "    .dataframe tbody tr th:only-of-type {\n",
       "        vertical-align: middle;\n",
       "    }\n",
       "\n",
       "    .dataframe tbody tr th {\n",
       "        vertical-align: top;\n",
       "    }\n",
       "\n",
       "    .dataframe thead th {\n",
       "        text-align: right;\n",
       "    }\n",
       "</style>\n",
       "<table border=\"1\" class=\"dataframe\">\n",
       "  <thead>\n",
       "    <tr style=\"text-align: right;\">\n",
       "      <th></th>\n",
       "      <th>Create-time</th>\n",
       "      <th>Total-time</th>\n",
       "    </tr>\n",
       "  </thead>\n",
       "  <tbody>\n",
       "    <tr>\n",
       "      <th>0</th>\n",
       "      <td>2020-07-18 00:10:00</td>\n",
       "      <td>13.0</td>\n",
       "    </tr>\n",
       "    <tr>\n",
       "      <th>1</th>\n",
       "      <td>2020-07-18 00:15:00</td>\n",
       "      <td>NaN</td>\n",
       "    </tr>\n",
       "    <tr>\n",
       "      <th>2</th>\n",
       "      <td>2020-07-18 00:20:00</td>\n",
       "      <td>NaN</td>\n",
       "    </tr>\n",
       "    <tr>\n",
       "      <th>3</th>\n",
       "      <td>2020-07-18 00:25:00</td>\n",
       "      <td>NaN</td>\n",
       "    </tr>\n",
       "    <tr>\n",
       "      <th>4</th>\n",
       "      <td>2020-07-18 00:30:00</td>\n",
       "      <td>NaN</td>\n",
       "    </tr>\n",
       "  </tbody>\n",
       "</table>\n",
       "</div>"
      ],
      "text/plain": [
       "          Create-time  Total-time\n",
       "0 2020-07-18 00:10:00        13.0\n",
       "1 2020-07-18 00:15:00         NaN\n",
       "2 2020-07-18 00:20:00         NaN\n",
       "3 2020-07-18 00:25:00         NaN\n",
       "4 2020-07-18 00:30:00         NaN"
      ]
     },
     "execution_count": 118,
     "metadata": {},
     "output_type": "execute_result"
    }
   ],
   "source": [
    "total_time.head()"
   ]
  },
  {
   "cell_type": "code",
   "execution_count": 119,
   "metadata": {},
   "outputs": [],
   "source": [
    "total_time.to_csv('small-sample-total-time.csv', index=False)"
   ]
  }
 ],
 "metadata": {
  "kernelspec": {
   "display_name": "Python 3",
   "language": "python",
   "name": "python3"
  },
  "language_info": {
   "codemirror_mode": {
    "name": "ipython",
    "version": 3
   },
   "file_extension": ".py",
   "mimetype": "text/x-python",
   "name": "python",
   "nbconvert_exporter": "python",
   "pygments_lexer": "ipython3",
   "version": "3.8.6"
  }
 },
 "nbformat": 4,
 "nbformat_minor": 4
}
