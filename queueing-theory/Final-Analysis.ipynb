{
 "cells": [
  {
   "cell_type": "markdown",
   "metadata": {},
   "source": [
    "This file is **very similar** to Preliminary-analysis-1."
   ]
  },
  {
   "cell_type": "code",
   "execution_count": 1,
   "metadata": {},
   "outputs": [],
   "source": [
    "import numpy as np\n",
    "import pandas as pd\n",
    "import matplotlib.pyplot as plt"
   ]
  },
  {
   "cell_type": "code",
   "execution_count": 2,
   "metadata": {},
   "outputs": [],
   "source": [
    "data = pd.read_csv('consolidated-2.csv')"
   ]
  },
  {
   "cell_type": "code",
   "execution_count": 3,
   "metadata": {},
   "outputs": [],
   "source": [
    "# This is the time in seconds taken to complete a call(included post-processing).\n",
    "data['Avg-time'] = data['Avg-time'].fillna(0) "
   ]
  },
  {
   "cell_type": "code",
   "execution_count": 4,
   "metadata": {},
   "outputs": [],
   "source": [
    "data['lambda'] = data['ncalls'].rolling(window=6).mean() # Number of calls per 5 minutes."
   ]
  },
  {
   "cell_type": "code",
   "execution_count": 5,
   "metadata": {},
   "outputs": [],
   "source": [
    "data.set_index('Create-time', inplace=True)"
   ]
  },
  {
   "cell_type": "code",
   "execution_count": 6,
   "metadata": {},
   "outputs": [],
   "source": [
    "data['mu'] = data['Avg-time']/300 # The term lambda/mu must be unit less."
   ]
  },
  {
   "cell_type": "code",
   "execution_count": 7,
   "metadata": {},
   "outputs": [],
   "source": [
    "data['E'] = data['lambda']*data['mu'] # Ordered traffic in erlangs"
   ]
  },
  {
   "cell_type": "code",
   "execution_count": 10,
   "metadata": {},
   "outputs": [],
   "source": [
    "def factorial(n):\n",
    "    if n == 0:\n",
    "        return 1.0\n",
    "    else:\n",
    "        f = 1.0\n",
    "        for m in range(1, n+1):\n",
    "            f = f * m\n",
    "        \n",
    "        return f\n",
    "    \n",
    "def prob_of_wait(ncalls, E, m):\n",
    "    \"\"\"\n",
    "    ncalls: number of calls in an interval of 5 minutes.\n",
    "    E:      traffic\n",
    "    m:      # agents.\n",
    "    drop:   a variable that corrects the number of people on the floor. \n",
    "    Reference: https://en.wikipedia.org/wiki/Erlang_(unit)\n",
    "    \"\"\"\n",
    "    if ncalls == 0:\n",
    "        return 0\n",
    "    \n",
    "    if m == 0:\n",
    "        m = 1\n",
    "        \n",
    "    x = m - E\n",
    "    if np.abs(x) < 1e-6:\n",
    "        x = 0.01\n",
    "           \n",
    "    numerator = E**m/factorial(m) * m/x\n",
    "    denominator = 0\n",
    "        \n",
    "    for i in range(m):\n",
    "        denominator += E**i/factorial(i)\n",
    "        \n",
    "    denominator += numerator\n",
    "    \n",
    "    p = numerator/denominator\n",
    "    \n",
    "    # TODO: Find out when p exceeds 1. Which assumptions of Erlang C formula are violated?\n",
    "    if p > 1:\n",
    "        p = 1\n",
    "        \n",
    "    return p\n",
    "\n",
    "def calculate_ASA(wait_prob, N, mu, rho):\n",
    "    return wait_prob/(N * mu * rho)"
   ]
  },
  {
   "cell_type": "code",
   "execution_count": 11,
   "metadata": {},
   "outputs": [],
   "source": [
    "data['wait-prob'] = data.apply(lambda r: prob_of_wait(r['ncalls'], r['E'], r['nagents']), axis=1)"
   ]
  },
  {
   "cell_type": "code",
   "execution_count": 13,
   "metadata": {},
   "outputs": [],
   "source": [
    "data['asa'] = data['wait-prob'] * data['mu']/(data['nagents'] - data['E']) * 5 # Convert to minutes'"
   ]
  },
  {
   "cell_type": "code",
   "execution_count": 14,
   "metadata": {},
   "outputs": [],
   "source": [
    "data.reset_index(level=0, inplace=True)"
   ]
  },
  {
   "cell_type": "code",
   "execution_count": 15,
   "metadata": {},
   "outputs": [],
   "source": [
    "data.to_csv('wait_prob_1.csv', index=False)"
   ]
  },
  {
   "cell_type": "markdown",
   "metadata": {},
   "source": [
    "The next step is to build a time-series model for $E$."
   ]
  }
 ],
 "metadata": {
  "kernelspec": {
   "display_name": "Python 3",
   "language": "python",
   "name": "python3"
  },
  "language_info": {
   "codemirror_mode": {
    "name": "ipython",
    "version": 3
   },
   "file_extension": ".py",
   "mimetype": "text/x-python",
   "name": "python",
   "nbconvert_exporter": "python",
   "pygments_lexer": "ipython3",
   "version": "3.8.6"
  }
 },
 "nbformat": 4,
 "nbformat_minor": 4
}
