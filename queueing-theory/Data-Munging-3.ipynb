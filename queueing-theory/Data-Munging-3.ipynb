{
 "cells": [
  {
   "cell_type": "markdown",
   "metadata": {},
   "source": [
    "This notebook is **almost** the same as 'Data-Munging-2.ipynb' except that I have dropped a few snippets that show data and the code to convert 'Total-time' to seconds is much easier."
   ]
  },
  {
   "cell_type": "code",
   "execution_count": 1,
   "metadata": {},
   "outputs": [],
   "source": [
    "import numpy as np\n",
    "import pandas as pd\n",
    "import matplotlib.pyplot as plt"
   ]
  },
  {
   "cell_type": "code",
   "execution_count": 3,
   "metadata": {},
   "outputs": [],
   "source": [
    "ss = pd.read_csv('Call-data.csv')"
   ]
  },
  {
   "cell_type": "code",
   "execution_count": 4,
   "metadata": {},
   "outputs": [],
   "source": [
    "def was_abandoned(row):\n",
    "    if pd.isnull(row['Abandon-time']):\n",
    "        return False\n",
    "    else:\n",
    "        return True\n",
    "    \n",
    "ss['Abandoned'] = ss.apply(lambda r: was_abandoned(r), axis=1)"
   ]
  },
  {
   "cell_type": "code",
   "execution_count": 5,
   "metadata": {},
   "outputs": [],
   "source": [
    "ss['Create time'] = pd.to_datetime(ss['Create time'], format='%d/%m/%Y %H:%M:%S', errors='ignore')\n",
    "ss['Accept time'] = pd.to_datetime(ss['Accept time'], format='%d/%m/%Y %H:%M:%S', errors='ignore')\n",
    "ss['Abandon-time'] = pd.to_datetime(ss['Abandon-time'], format='%d/%m/%Y %H:%M:%S', errors='ignore')"
   ]
  },
  {
   "cell_type": "code",
   "execution_count": 6,
   "metadata": {},
   "outputs": [],
   "source": [
    "ss['Total-time'] = ss['Total-time'].apply(lambda x: pd.to_timedelta(x, errors='ignore'))"
   ]
  },
  {
   "cell_type": "code",
   "execution_count": 7,
   "metadata": {},
   "outputs": [
    {
     "data": {
      "text/html": [
       "<div>\n",
       "<style scoped>\n",
       "    .dataframe tbody tr th:only-of-type {\n",
       "        vertical-align: middle;\n",
       "    }\n",
       "\n",
       "    .dataframe tbody tr th {\n",
       "        vertical-align: top;\n",
       "    }\n",
       "\n",
       "    .dataframe thead th {\n",
       "        text-align: right;\n",
       "    }\n",
       "</style>\n",
       "<table border=\"1\" class=\"dataframe\">\n",
       "  <thead>\n",
       "    <tr style=\"text-align: right;\">\n",
       "      <th></th>\n",
       "      <th>Period</th>\n",
       "      <th>Media</th>\n",
       "      <th>Channel</th>\n",
       "      <th>Queue</th>\n",
       "      <th>Transaction</th>\n",
       "      <th>Origination</th>\n",
       "      <th>Customer</th>\n",
       "      <th>Case Number</th>\n",
       "      <th>Web Callback</th>\n",
       "      <th>Create time</th>\n",
       "      <th>...</th>\n",
       "      <th>Voice mail left</th>\n",
       "      <th>IVR-Treatment-Time</th>\n",
       "      <th>Hold-max</th>\n",
       "      <th>Hold-Count</th>\n",
       "      <th>Hold-Total</th>\n",
       "      <th>PDD-Leg1</th>\n",
       "      <th>PDD-Leg2</th>\n",
       "      <th>AT-Leg1</th>\n",
       "      <th>AT-Leg2</th>\n",
       "      <th>Abandoned</th>\n",
       "    </tr>\n",
       "  </thead>\n",
       "  <tbody>\n",
       "    <tr>\n",
       "      <th>0</th>\n",
       "      <td>21/09/2020</td>\n",
       "      <td>Phone</td>\n",
       "      <td>441135121333</td>\n",
       "      <td>Customer Service Calls</td>\n",
       "      <td>45767.0</td>\n",
       "      <td>447929833073</td>\n",
       "      <td>NaN</td>\n",
       "      <td>NaN</td>\n",
       "      <td>NaN</td>\n",
       "      <td>2020-09-21 14:18:45</td>\n",
       "      <td>...</td>\n",
       "      <td>NaN</td>\n",
       "      <td>0:01:35</td>\n",
       "      <td>0:00:00</td>\n",
       "      <td>0.0</td>\n",
       "      <td>0:00:00</td>\n",
       "      <td>0:00:01</td>\n",
       "      <td>0:00:01</td>\n",
       "      <td>0:00:00</td>\n",
       "      <td>0:00:01</td>\n",
       "      <td>False</td>\n",
       "    </tr>\n",
       "    <tr>\n",
       "      <th>1</th>\n",
       "      <td>21/09/2020</td>\n",
       "      <td>Phone</td>\n",
       "      <td>441135121333</td>\n",
       "      <td>Customer Service Calls</td>\n",
       "      <td>46109.0</td>\n",
       "      <td>447443295687</td>\n",
       "      <td>NaN</td>\n",
       "      <td>NaN</td>\n",
       "      <td>NaN</td>\n",
       "      <td>2020-09-21 14:53:41</td>\n",
       "      <td>...</td>\n",
       "      <td>NaN</td>\n",
       "      <td>0:01:36</td>\n",
       "      <td>0:04:59</td>\n",
       "      <td>1.0</td>\n",
       "      <td>0:04:59</td>\n",
       "      <td>0:00:00</td>\n",
       "      <td>0:00:01</td>\n",
       "      <td>0:00:00</td>\n",
       "      <td>0:00:02</td>\n",
       "      <td>False</td>\n",
       "    </tr>\n",
       "    <tr>\n",
       "      <th>2</th>\n",
       "      <td>21/09/2020</td>\n",
       "      <td>Phone</td>\n",
       "      <td>441312855510</td>\n",
       "      <td>Customer Service Calls</td>\n",
       "      <td>42436.0</td>\n",
       "      <td>447804160003</td>\n",
       "      <td>NaN</td>\n",
       "      <td>NaN</td>\n",
       "      <td>NaN</td>\n",
       "      <td>2020-09-21 09:11:35</td>\n",
       "      <td>...</td>\n",
       "      <td>NaN</td>\n",
       "      <td>0:01:31</td>\n",
       "      <td>0:03:53</td>\n",
       "      <td>1.0</td>\n",
       "      <td>0:03:53</td>\n",
       "      <td>0:00:00</td>\n",
       "      <td>0:00:00</td>\n",
       "      <td>0:00:00</td>\n",
       "      <td>0:00:15</td>\n",
       "      <td>False</td>\n",
       "    </tr>\n",
       "    <tr>\n",
       "      <th>3</th>\n",
       "      <td>21/09/2020</td>\n",
       "      <td>Phone</td>\n",
       "      <td>441312855510</td>\n",
       "      <td>Customer Service Calls</td>\n",
       "      <td>42438.0</td>\n",
       "      <td>447747118790</td>\n",
       "      <td>NaN</td>\n",
       "      <td>NaN</td>\n",
       "      <td>NaN</td>\n",
       "      <td>2020-09-21 09:11:44</td>\n",
       "      <td>...</td>\n",
       "      <td>NaN</td>\n",
       "      <td>0:01:32</td>\n",
       "      <td>0:00:00</td>\n",
       "      <td>0.0</td>\n",
       "      <td>0:00:00</td>\n",
       "      <td>0:00:00</td>\n",
       "      <td>0:00:00</td>\n",
       "      <td>0:00:00</td>\n",
       "      <td>0:00:00</td>\n",
       "      <td>False</td>\n",
       "    </tr>\n",
       "    <tr>\n",
       "      <th>4</th>\n",
       "      <td>21/09/2020</td>\n",
       "      <td>Phone</td>\n",
       "      <td>441312855510</td>\n",
       "      <td>Customer Service Calls</td>\n",
       "      <td>42442.0</td>\n",
       "      <td>447903775955</td>\n",
       "      <td>NaN</td>\n",
       "      <td>NaN</td>\n",
       "      <td>NaN</td>\n",
       "      <td>2020-09-21 09:12:05</td>\n",
       "      <td>...</td>\n",
       "      <td>NaN</td>\n",
       "      <td>0:01:33</td>\n",
       "      <td>0:00:00</td>\n",
       "      <td>0.0</td>\n",
       "      <td>0:00:00</td>\n",
       "      <td>0:00:00</td>\n",
       "      <td>0:00:01</td>\n",
       "      <td>0:00:00</td>\n",
       "      <td>0:00:03</td>\n",
       "      <td>False</td>\n",
       "    </tr>\n",
       "  </tbody>\n",
       "</table>\n",
       "<p>5 rows × 26 columns</p>\n",
       "</div>"
      ],
      "text/plain": [
       "       Period  Media       Channel                   Queue  Transaction  \\\n",
       "0  21/09/2020  Phone  441135121333  Customer Service Calls      45767.0   \n",
       "1  21/09/2020  Phone  441135121333  Customer Service Calls      46109.0   \n",
       "2  21/09/2020  Phone  441312855510  Customer Service Calls      42436.0   \n",
       "3  21/09/2020  Phone  441312855510  Customer Service Calls      42438.0   \n",
       "4  21/09/2020  Phone  441312855510  Customer Service Calls      42442.0   \n",
       "\n",
       "    Origination  Customer  Case Number Web Callback         Create time  ...  \\\n",
       "0  447929833073       NaN          NaN          NaN 2020-09-21 14:18:45  ...   \n",
       "1  447443295687       NaN          NaN          NaN 2020-09-21 14:53:41  ...   \n",
       "2  447804160003       NaN          NaN          NaN 2020-09-21 09:11:35  ...   \n",
       "3  447747118790       NaN          NaN          NaN 2020-09-21 09:11:44  ...   \n",
       "4  447903775955       NaN          NaN          NaN 2020-09-21 09:12:05  ...   \n",
       "\n",
       "  Voice mail left IVR-Treatment-Time Hold-max Hold-Count Hold-Total PDD-Leg1  \\\n",
       "0             NaN            0:01:35  0:00:00        0.0    0:00:00  0:00:01   \n",
       "1             NaN            0:01:36  0:04:59        1.0    0:04:59  0:00:00   \n",
       "2             NaN            0:01:31  0:03:53        1.0    0:03:53  0:00:00   \n",
       "3             NaN            0:01:32  0:00:00        0.0    0:00:00  0:00:00   \n",
       "4             NaN            0:01:33  0:00:00        0.0    0:00:00  0:00:00   \n",
       "\n",
       "   PDD-Leg2  AT-Leg1  AT-Leg2  Abandoned  \n",
       "0   0:00:01  0:00:00  0:00:01      False  \n",
       "1   0:00:01  0:00:00  0:00:02      False  \n",
       "2   0:00:00  0:00:00  0:00:15      False  \n",
       "3   0:00:00  0:00:00  0:00:00      False  \n",
       "4   0:00:01  0:00:00  0:00:03      False  \n",
       "\n",
       "[5 rows x 26 columns]"
      ]
     },
     "execution_count": 7,
     "metadata": {},
     "output_type": "execute_result"
    }
   ],
   "source": [
    "ss.loc[~ss['Total-time'].isnull()].head()"
   ]
  },
  {
   "cell_type": "code",
   "execution_count": 8,
   "metadata": {},
   "outputs": [],
   "source": [
    "def calc_abandon_time(row):\n",
    "    if row['Abandoned']:\n",
    "        return row['Abandon-time'] - row['Create time']      \n",
    "    else:\n",
    "        return None\n",
    "\n",
    "ss['Abandoned-after'] = ss[['Create time', 'Abandon-time', 'Abandoned']].apply(lambda r: calc_abandon_time(r), axis=1)"
   ]
  },
  {
   "cell_type": "code",
   "execution_count": 9,
   "metadata": {},
   "outputs": [],
   "source": [
    "ss.rename(columns={'Create time': 'Create-time', 'Accept time': 'Accept-time'}, inplace=True)"
   ]
  },
  {
   "cell_type": "code",
   "execution_count": 10,
   "metadata": {},
   "outputs": [],
   "source": [
    "attrs_of_interest = ['Period', 'Create-time', 'Agent', 'Accept-time', 'Total-time', 'Abandon-time', 'Abandoned', 'Abandoned-after']\n",
    "data = ss.loc[:, attrs_of_interest]"
   ]
  },
  {
   "cell_type": "code",
   "execution_count": 11,
   "metadata": {},
   "outputs": [],
   "source": [
    "data['time-to-accept'] = data.apply(lambda r: r['Accept-time'] - r['Create-time'], axis=1)"
   ]
  },
  {
   "cell_type": "code",
   "execution_count": 12,
   "metadata": {},
   "outputs": [],
   "source": [
    "inflow = data[['Create-time', 'Agent']].groupby(pd.Grouper(key='Create-time', freq='5min')).count()\n",
    "inflow.reset_index(inplace=True)"
   ]
  },
  {
   "cell_type": "code",
   "execution_count": 13,
   "metadata": {},
   "outputs": [
    {
     "data": {
      "image/png": "[encoded data removed]",
      "text/plain": [
       "<Figure size 432x288 with 1 Axes>"
      ]
     },
     "metadata": {
      "needs_background": "light"
     },
     "output_type": "display_data"
    }
   ],
   "source": [
    "ignore = inflow.loc[inflow['Agent'] > 0].plot.scatter(x='Create-time', y='Agent')"
   ]
  },
  {
   "cell_type": "code",
   "execution_count": 14,
   "metadata": {},
   "outputs": [
    {
     "data": {
      "text/plain": [
       "Create-time    2020-10-01 09:10:00\n",
       "Agent                           33\n",
       "Name: 2881, dtype: object"
      ]
     },
     "execution_count": 14,
     "metadata": {},
     "output_type": "execute_result"
    }
   ],
   "source": [
    "inflow.iloc[inflow['Agent'].idxmax()]"
   ]
  },
  {
   "cell_type": "code",
   "execution_count": 15,
   "metadata": {},
   "outputs": [
    {
     "data": {
      "text/html": [
       "<div>\n",
       "<style scoped>\n",
       "    .dataframe tbody tr th:only-of-type {\n",
       "        vertical-align: middle;\n",
       "    }\n",
       "\n",
       "    .dataframe tbody tr th {\n",
       "        vertical-align: top;\n",
       "    }\n",
       "\n",
       "    .dataframe thead th {\n",
       "        text-align: right;\n",
       "    }\n",
       "</style>\n",
       "<table border=\"1\" class=\"dataframe\">\n",
       "  <thead>\n",
       "    <tr style=\"text-align: right;\">\n",
       "      <th></th>\n",
       "      <th>Create-time</th>\n",
       "      <th>Agent</th>\n",
       "    </tr>\n",
       "  </thead>\n",
       "  <tbody>\n",
       "    <tr>\n",
       "      <th>0</th>\n",
       "      <td>2020-09-21 09:05:00</td>\n",
       "      <td>1</td>\n",
       "    </tr>\n",
       "    <tr>\n",
       "      <th>1</th>\n",
       "      <td>2020-09-21 09:10:00</td>\n",
       "      <td>22</td>\n",
       "    </tr>\n",
       "    <tr>\n",
       "      <th>2</th>\n",
       "      <td>2020-09-21 09:15:00</td>\n",
       "      <td>25</td>\n",
       "    </tr>\n",
       "    <tr>\n",
       "      <th>3</th>\n",
       "      <td>2020-09-21 09:20:00</td>\n",
       "      <td>19</td>\n",
       "    </tr>\n",
       "    <tr>\n",
       "      <th>4</th>\n",
       "      <td>2020-09-21 09:25:00</td>\n",
       "      <td>16</td>\n",
       "    </tr>\n",
       "  </tbody>\n",
       "</table>\n",
       "</div>"
      ],
      "text/plain": [
       "          Create-time  Agent\n",
       "0 2020-09-21 09:05:00      1\n",
       "1 2020-09-21 09:10:00     22\n",
       "2 2020-09-21 09:15:00     25\n",
       "3 2020-09-21 09:20:00     19\n",
       "4 2020-09-21 09:25:00     16"
      ]
     },
     "execution_count": 15,
     "metadata": {},
     "output_type": "execute_result"
    }
   ],
   "source": [
    "inflow.head()"
   ]
  },
  {
   "cell_type": "code",
   "execution_count": 16,
   "metadata": {},
   "outputs": [],
   "source": [
    "inflow.rename(columns = {'Agent': 'ncalls'}, inplace=True)"
   ]
  },
  {
   "cell_type": "code",
   "execution_count": 17,
   "metadata": {},
   "outputs": [
    {
     "data": {
      "text/html": [
       "<div>\n",
       "<style scoped>\n",
       "    .dataframe tbody tr th:only-of-type {\n",
       "        vertical-align: middle;\n",
       "    }\n",
       "\n",
       "    .dataframe tbody tr th {\n",
       "        vertical-align: top;\n",
       "    }\n",
       "\n",
       "    .dataframe thead th {\n",
       "        text-align: right;\n",
       "    }\n",
       "</style>\n",
       "<table border=\"1\" class=\"dataframe\">\n",
       "  <thead>\n",
       "    <tr style=\"text-align: right;\">\n",
       "      <th></th>\n",
       "      <th>Create-time</th>\n",
       "      <th>ncalls</th>\n",
       "    </tr>\n",
       "  </thead>\n",
       "  <tbody>\n",
       "    <tr>\n",
       "      <th>0</th>\n",
       "      <td>2020-09-21 09:05:00</td>\n",
       "      <td>1</td>\n",
       "    </tr>\n",
       "    <tr>\n",
       "      <th>1</th>\n",
       "      <td>2020-09-21 09:10:00</td>\n",
       "      <td>22</td>\n",
       "    </tr>\n",
       "    <tr>\n",
       "      <th>2</th>\n",
       "      <td>2020-09-21 09:15:00</td>\n",
       "      <td>25</td>\n",
       "    </tr>\n",
       "    <tr>\n",
       "      <th>3</th>\n",
       "      <td>2020-09-21 09:20:00</td>\n",
       "      <td>19</td>\n",
       "    </tr>\n",
       "    <tr>\n",
       "      <th>4</th>\n",
       "      <td>2020-09-21 09:25:00</td>\n",
       "      <td>16</td>\n",
       "    </tr>\n",
       "  </tbody>\n",
       "</table>\n",
       "</div>"
      ],
      "text/plain": [
       "          Create-time  ncalls\n",
       "0 2020-09-21 09:05:00       1\n",
       "1 2020-09-21 09:10:00      22\n",
       "2 2020-09-21 09:15:00      25\n",
       "3 2020-09-21 09:20:00      19\n",
       "4 2020-09-21 09:25:00      16"
      ]
     },
     "execution_count": 17,
     "metadata": {},
     "output_type": "execute_result"
    }
   ],
   "source": [
    "inflow.head()"
   ]
  },
  {
   "cell_type": "code",
   "execution_count": 18,
   "metadata": {},
   "outputs": [],
   "source": [
    "inflow.to_csv('full-inflow-1.csv', index=False)"
   ]
  },
  {
   "cell_type": "code",
   "execution_count": 22,
   "metadata": {},
   "outputs": [
    {
     "data": {
      "text/html": [
       "<div>\n",
       "<style scoped>\n",
       "    .dataframe tbody tr th:only-of-type {\n",
       "        vertical-align: middle;\n",
       "    }\n",
       "\n",
       "    .dataframe tbody tr th {\n",
       "        vertical-align: top;\n",
       "    }\n",
       "\n",
       "    .dataframe thead th {\n",
       "        text-align: right;\n",
       "    }\n",
       "</style>\n",
       "<table border=\"1\" class=\"dataframe\">\n",
       "  <thead>\n",
       "    <tr style=\"text-align: right;\">\n",
       "      <th></th>\n",
       "      <th>Create-time</th>\n",
       "      <th>Avg-time</th>\n",
       "    </tr>\n",
       "  </thead>\n",
       "  <tbody>\n",
       "    <tr>\n",
       "      <th>0</th>\n",
       "      <td>2020-09-21 09:05:00</td>\n",
       "      <td>79.000000</td>\n",
       "    </tr>\n",
       "    <tr>\n",
       "      <th>1</th>\n",
       "      <td>2020-09-21 09:10:00</td>\n",
       "      <td>517.045455</td>\n",
       "    </tr>\n",
       "    <tr>\n",
       "      <th>2</th>\n",
       "      <td>2020-09-21 09:15:00</td>\n",
       "      <td>630.840000</td>\n",
       "    </tr>\n",
       "    <tr>\n",
       "      <th>3</th>\n",
       "      <td>2020-09-21 09:20:00</td>\n",
       "      <td>604.473684</td>\n",
       "    </tr>\n",
       "    <tr>\n",
       "      <th>4</th>\n",
       "      <td>2020-09-21 09:25:00</td>\n",
       "      <td>333.437500</td>\n",
       "    </tr>\n",
       "  </tbody>\n",
       "</table>\n",
       "</div>"
      ],
      "text/plain": [
       "          Create-time    Avg-time\n",
       "0 2020-09-21 09:05:00   79.000000\n",
       "1 2020-09-21 09:10:00  517.045455\n",
       "2 2020-09-21 09:15:00  630.840000\n",
       "3 2020-09-21 09:20:00  604.473684\n",
       "4 2020-09-21 09:25:00  333.437500"
      ]
     },
     "execution_count": 22,
     "metadata": {},
     "output_type": "execute_result"
    }
   ],
   "source": [
    "data['Total-time'] = data['Total-time'].apply(lambda r: r.seconds)\n",
    "total_time = data[['Create-time', 'Total-time']].groupby(pd.Grouper(key='Create-time', freq='5min')).mean()\n",
    "total_time.reset_index(inplace=True)\n",
    "total_time.rename(columns={'Total-time': 'Avg-time'}, inplace=True)\n",
    "total_time.head()"
   ]
  },
  {
   "cell_type": "code",
   "execution_count": 23,
   "metadata": {},
   "outputs": [
    {
     "data": {
      "text/html": [
       "<div>\n",
       "<style scoped>\n",
       "    .dataframe tbody tr th:only-of-type {\n",
       "        vertical-align: middle;\n",
       "    }\n",
       "\n",
       "    .dataframe tbody tr th {\n",
       "        vertical-align: top;\n",
       "    }\n",
       "\n",
       "    .dataframe thead th {\n",
       "        text-align: right;\n",
       "    }\n",
       "</style>\n",
       "<table border=\"1\" class=\"dataframe\">\n",
       "  <thead>\n",
       "    <tr style=\"text-align: right;\">\n",
       "      <th></th>\n",
       "      <th>Create-time</th>\n",
       "      <th>Avg-time</th>\n",
       "    </tr>\n",
       "  </thead>\n",
       "  <tbody>\n",
       "    <tr>\n",
       "      <th>0</th>\n",
       "      <td>2020-09-21 09:05:00</td>\n",
       "      <td>79.000000</td>\n",
       "    </tr>\n",
       "    <tr>\n",
       "      <th>1</th>\n",
       "      <td>2020-09-21 09:10:00</td>\n",
       "      <td>517.045455</td>\n",
       "    </tr>\n",
       "    <tr>\n",
       "      <th>2</th>\n",
       "      <td>2020-09-21 09:15:00</td>\n",
       "      <td>630.840000</td>\n",
       "    </tr>\n",
       "    <tr>\n",
       "      <th>3</th>\n",
       "      <td>2020-09-21 09:20:00</td>\n",
       "      <td>604.473684</td>\n",
       "    </tr>\n",
       "    <tr>\n",
       "      <th>4</th>\n",
       "      <td>2020-09-21 09:25:00</td>\n",
       "      <td>333.437500</td>\n",
       "    </tr>\n",
       "  </tbody>\n",
       "</table>\n",
       "</div>"
      ],
      "text/plain": [
       "          Create-time    Avg-time\n",
       "0 2020-09-21 09:05:00   79.000000\n",
       "1 2020-09-21 09:10:00  517.045455\n",
       "2 2020-09-21 09:15:00  630.840000\n",
       "3 2020-09-21 09:20:00  604.473684\n",
       "4 2020-09-21 09:25:00  333.437500"
      ]
     },
     "execution_count": 23,
     "metadata": {},
     "output_type": "execute_result"
    }
   ],
   "source": [
    "total_time.loc[~total_time['Avg-time'].isnull()].head()"
   ]
  },
  {
   "cell_type": "code",
   "execution_count": 24,
   "metadata": {},
   "outputs": [],
   "source": [
    "total_time.to_csv('total_time_1.csv', index=False)"
   ]
  },
  {
   "cell_type": "code",
   "execution_count": 25,
   "metadata": {},
   "outputs": [],
   "source": [
    "consolidated = pd.merge(left=inflow, right=total_time, on='Create-time')"
   ]
  },
  {
   "cell_type": "code",
   "execution_count": 26,
   "metadata": {},
   "outputs": [
    {
     "data": {
      "text/html": [
       "<div>\n",
       "<style scoped>\n",
       "    .dataframe tbody tr th:only-of-type {\n",
       "        vertical-align: middle;\n",
       "    }\n",
       "\n",
       "    .dataframe tbody tr th {\n",
       "        vertical-align: top;\n",
       "    }\n",
       "\n",
       "    .dataframe thead th {\n",
       "        text-align: right;\n",
       "    }\n",
       "</style>\n",
       "<table border=\"1\" class=\"dataframe\">\n",
       "  <thead>\n",
       "    <tr style=\"text-align: right;\">\n",
       "      <th></th>\n",
       "      <th>Create-time</th>\n",
       "      <th>ncalls</th>\n",
       "      <th>Avg-time</th>\n",
       "    </tr>\n",
       "  </thead>\n",
       "  <tbody>\n",
       "    <tr>\n",
       "      <th>0</th>\n",
       "      <td>2020-09-21 09:05:00</td>\n",
       "      <td>1</td>\n",
       "      <td>79.000000</td>\n",
       "    </tr>\n",
       "    <tr>\n",
       "      <th>1</th>\n",
       "      <td>2020-09-21 09:10:00</td>\n",
       "      <td>22</td>\n",
       "      <td>517.045455</td>\n",
       "    </tr>\n",
       "    <tr>\n",
       "      <th>2</th>\n",
       "      <td>2020-09-21 09:15:00</td>\n",
       "      <td>25</td>\n",
       "      <td>630.840000</td>\n",
       "    </tr>\n",
       "    <tr>\n",
       "      <th>3</th>\n",
       "      <td>2020-09-21 09:20:00</td>\n",
       "      <td>19</td>\n",
       "      <td>604.473684</td>\n",
       "    </tr>\n",
       "    <tr>\n",
       "      <th>4</th>\n",
       "      <td>2020-09-21 09:25:00</td>\n",
       "      <td>16</td>\n",
       "      <td>333.437500</td>\n",
       "    </tr>\n",
       "  </tbody>\n",
       "</table>\n",
       "</div>"
      ],
      "text/plain": [
       "          Create-time  ncalls    Avg-time\n",
       "0 2020-09-21 09:05:00       1   79.000000\n",
       "1 2020-09-21 09:10:00      22  517.045455\n",
       "2 2020-09-21 09:15:00      25  630.840000\n",
       "3 2020-09-21 09:20:00      19  604.473684\n",
       "4 2020-09-21 09:25:00      16  333.437500"
      ]
     },
     "execution_count": 26,
     "metadata": {},
     "output_type": "execute_result"
    }
   ],
   "source": [
    "consolidated.head()"
   ]
  },
  {
   "cell_type": "code",
   "execution_count": 27,
   "metadata": {},
   "outputs": [],
   "source": [
    "def extract_period(dt):\n",
    "    return str(dt)[0:10]    \n",
    "\n",
    "consolidated['Period'] = consolidated.apply(lambda r: extract_period(r['Create-time']), axis=1)"
   ]
  },
  {
   "cell_type": "code",
   "execution_count": 28,
   "metadata": {},
   "outputs": [],
   "source": [
    "nagents = ss[['Period', 'Agent']].groupby('Period').nunique()\n",
    "nagents.reset_index(inplace=True)"
   ]
  },
  {
   "cell_type": "code",
   "execution_count": 29,
   "metadata": {},
   "outputs": [
    {
     "data": {
      "text/html": [
       "<div>\n",
       "<style scoped>\n",
       "    .dataframe tbody tr th:only-of-type {\n",
       "        vertical-align: middle;\n",
       "    }\n",
       "\n",
       "    .dataframe tbody tr th {\n",
       "        vertical-align: top;\n",
       "    }\n",
       "\n",
       "    .dataframe thead th {\n",
       "        text-align: right;\n",
       "    }\n",
       "</style>\n",
       "<table border=\"1\" class=\"dataframe\">\n",
       "  <thead>\n",
       "    <tr style=\"text-align: right;\">\n",
       "      <th></th>\n",
       "      <th>Period</th>\n",
       "      <th>Agent</th>\n",
       "    </tr>\n",
       "  </thead>\n",
       "  <tbody>\n",
       "    <tr>\n",
       "      <th>0</th>\n",
       "      <td>01/10/2020</td>\n",
       "      <td>64</td>\n",
       "    </tr>\n",
       "    <tr>\n",
       "      <th>1</th>\n",
       "      <td>02/10/2020</td>\n",
       "      <td>53</td>\n",
       "    </tr>\n",
       "    <tr>\n",
       "      <th>2</th>\n",
       "      <td>03/10/2020</td>\n",
       "      <td>9</td>\n",
       "    </tr>\n",
       "    <tr>\n",
       "      <th>3</th>\n",
       "      <td>04/10/2020</td>\n",
       "      <td>8</td>\n",
       "    </tr>\n",
       "    <tr>\n",
       "      <th>4</th>\n",
       "      <td>05/10/2020</td>\n",
       "      <td>58</td>\n",
       "    </tr>\n",
       "  </tbody>\n",
       "</table>\n",
       "</div>"
      ],
      "text/plain": [
       "       Period  Agent\n",
       "0  01/10/2020     64\n",
       "1  02/10/2020     53\n",
       "2  03/10/2020      9\n",
       "3  04/10/2020      8\n",
       "4  05/10/2020     58"
      ]
     },
     "execution_count": 29,
     "metadata": {},
     "output_type": "execute_result"
    }
   ],
   "source": [
    "nagents.head()"
   ]
  },
  {
   "cell_type": "code",
   "execution_count": 30,
   "metadata": {},
   "outputs": [],
   "source": [
    "def convert(d):\n",
    "    yr = d[6:10]\n",
    "    mn = d[3:5]\n",
    "    dy = d[0:2]\n",
    "    \n",
    "    return yr + '-' + mn + '-' + dy"
   ]
  },
  {
   "cell_type": "code",
   "execution_count": 31,
   "metadata": {},
   "outputs": [],
   "source": [
    "nagents['Period'] = nagents.apply(lambda r: convert(r['Period']), axis=1)"
   ]
  },
  {
   "cell_type": "code",
   "execution_count": 32,
   "metadata": {},
   "outputs": [],
   "source": [
    "consolidated = pd.merge(left=consolidated, right=nagents, on='Period')"
   ]
  },
  {
   "cell_type": "code",
   "execution_count": 33,
   "metadata": {},
   "outputs": [],
   "source": [
    "consolidated.rename(columns={'Agent': 'nagents'}, inplace=True)"
   ]
  },
  {
   "cell_type": "code",
   "execution_count": 34,
   "metadata": {},
   "outputs": [
    {
     "data": {
      "text/html": [
       "<div>\n",
       "<style scoped>\n",
       "    .dataframe tbody tr th:only-of-type {\n",
       "        vertical-align: middle;\n",
       "    }\n",
       "\n",
       "    .dataframe tbody tr th {\n",
       "        vertical-align: top;\n",
       "    }\n",
       "\n",
       "    .dataframe thead th {\n",
       "        text-align: right;\n",
       "    }\n",
       "</style>\n",
       "<table border=\"1\" class=\"dataframe\">\n",
       "  <thead>\n",
       "    <tr style=\"text-align: right;\">\n",
       "      <th></th>\n",
       "      <th>Create-time</th>\n",
       "      <th>ncalls</th>\n",
       "      <th>Avg-time</th>\n",
       "      <th>Period</th>\n",
       "      <th>nagents</th>\n",
       "    </tr>\n",
       "  </thead>\n",
       "  <tbody>\n",
       "    <tr>\n",
       "      <th>0</th>\n",
       "      <td>2020-09-21 09:05:00</td>\n",
       "      <td>1</td>\n",
       "      <td>79.000000</td>\n",
       "      <td>2020-09-21</td>\n",
       "      <td>60</td>\n",
       "    </tr>\n",
       "    <tr>\n",
       "      <th>1</th>\n",
       "      <td>2020-09-21 09:10:00</td>\n",
       "      <td>22</td>\n",
       "      <td>517.045455</td>\n",
       "      <td>2020-09-21</td>\n",
       "      <td>60</td>\n",
       "    </tr>\n",
       "    <tr>\n",
       "      <th>2</th>\n",
       "      <td>2020-09-21 09:15:00</td>\n",
       "      <td>25</td>\n",
       "      <td>630.840000</td>\n",
       "      <td>2020-09-21</td>\n",
       "      <td>60</td>\n",
       "    </tr>\n",
       "    <tr>\n",
       "      <th>3</th>\n",
       "      <td>2020-09-21 09:20:00</td>\n",
       "      <td>19</td>\n",
       "      <td>604.473684</td>\n",
       "      <td>2020-09-21</td>\n",
       "      <td>60</td>\n",
       "    </tr>\n",
       "    <tr>\n",
       "      <th>4</th>\n",
       "      <td>2020-09-21 09:25:00</td>\n",
       "      <td>16</td>\n",
       "      <td>333.437500</td>\n",
       "      <td>2020-09-21</td>\n",
       "      <td>60</td>\n",
       "    </tr>\n",
       "  </tbody>\n",
       "</table>\n",
       "</div>"
      ],
      "text/plain": [
       "          Create-time  ncalls    Avg-time      Period  nagents\n",
       "0 2020-09-21 09:05:00       1   79.000000  2020-09-21       60\n",
       "1 2020-09-21 09:10:00      22  517.045455  2020-09-21       60\n",
       "2 2020-09-21 09:15:00      25  630.840000  2020-09-21       60\n",
       "3 2020-09-21 09:20:00      19  604.473684  2020-09-21       60\n",
       "4 2020-09-21 09:25:00      16  333.437500  2020-09-21       60"
      ]
     },
     "execution_count": 34,
     "metadata": {},
     "output_type": "execute_result"
    }
   ],
   "source": [
    "consolidated.head()"
   ]
  },
  {
   "cell_type": "code",
   "execution_count": 37,
   "metadata": {},
   "outputs": [
    {
     "data": {
      "text/plain": [
       "(8095, 5)"
      ]
     },
     "execution_count": 37,
     "metadata": {},
     "output_type": "execute_result"
    }
   ],
   "source": [
    "consolidated.shape"
   ]
  },
  {
   "cell_type": "code",
   "execution_count": 38,
   "metadata": {},
   "outputs": [
    {
     "data": {
      "text/plain": [
       "Create-time    datetime64[ns]\n",
       "ncalls                  int64\n",
       "Avg-time              float64\n",
       "Period                 object\n",
       "nagents                 int64\n",
       "dtype: object"
      ]
     },
     "execution_count": 38,
     "metadata": {},
     "output_type": "execute_result"
    }
   ],
   "source": [
    "consolidated.dtypes"
   ]
  },
  {
   "cell_type": "code",
   "execution_count": 44,
   "metadata": {},
   "outputs": [],
   "source": [
    "import datetime"
   ]
  },
  {
   "cell_type": "code",
   "execution_count": 55,
   "metadata": {},
   "outputs": [
    {
     "data": {
      "text/plain": [
       "True"
      ]
     },
     "execution_count": 55,
     "metadata": {},
     "output_type": "execute_result"
    }
   ],
   "source": [
    "consolidated.iloc[0, :][0].time() > datetime.time(9, 0)"
   ]
  },
  {
   "cell_type": "code",
   "execution_count": 66,
   "metadata": {},
   "outputs": [],
   "source": [
    "def is_office_hour(dt):\n",
    "    return dt.time() > datetime.time(9, 0) and dt.time() < datetime.time(17, 5)\n",
    "\n",
    "consolidated['office-hour'] = consolidated.apply(lambda r: is_office_hour(r['Create-time']), axis=1)"
   ]
  },
  {
   "cell_type": "code",
   "execution_count": 67,
   "metadata": {},
   "outputs": [
    {
     "data": {
      "text/html": [
       "<div>\n",
       "<style scoped>\n",
       "    .dataframe tbody tr th:only-of-type {\n",
       "        vertical-align: middle;\n",
       "    }\n",
       "\n",
       "    .dataframe tbody tr th {\n",
       "        vertical-align: top;\n",
       "    }\n",
       "\n",
       "    .dataframe thead th {\n",
       "        text-align: right;\n",
       "    }\n",
       "</style>\n",
       "<table border=\"1\" class=\"dataframe\">\n",
       "  <thead>\n",
       "    <tr style=\"text-align: right;\">\n",
       "      <th></th>\n",
       "      <th>Create-time</th>\n",
       "      <th>ncalls</th>\n",
       "      <th>Avg-time</th>\n",
       "      <th>Period</th>\n",
       "      <th>nagents</th>\n",
       "      <th>office-hour</th>\n",
       "    </tr>\n",
       "  </thead>\n",
       "  <tbody>\n",
       "    <tr>\n",
       "      <th>0</th>\n",
       "      <td>2020-09-21 09:05:00</td>\n",
       "      <td>1</td>\n",
       "      <td>79.000000</td>\n",
       "      <td>2020-09-21</td>\n",
       "      <td>60</td>\n",
       "      <td>True</td>\n",
       "    </tr>\n",
       "    <tr>\n",
       "      <th>1</th>\n",
       "      <td>2020-09-21 09:10:00</td>\n",
       "      <td>22</td>\n",
       "      <td>517.045455</td>\n",
       "      <td>2020-09-21</td>\n",
       "      <td>60</td>\n",
       "      <td>True</td>\n",
       "    </tr>\n",
       "    <tr>\n",
       "      <th>2</th>\n",
       "      <td>2020-09-21 09:15:00</td>\n",
       "      <td>25</td>\n",
       "      <td>630.840000</td>\n",
       "      <td>2020-09-21</td>\n",
       "      <td>60</td>\n",
       "      <td>True</td>\n",
       "    </tr>\n",
       "    <tr>\n",
       "      <th>3</th>\n",
       "      <td>2020-09-21 09:20:00</td>\n",
       "      <td>19</td>\n",
       "      <td>604.473684</td>\n",
       "      <td>2020-09-21</td>\n",
       "      <td>60</td>\n",
       "      <td>True</td>\n",
       "    </tr>\n",
       "    <tr>\n",
       "      <th>4</th>\n",
       "      <td>2020-09-21 09:25:00</td>\n",
       "      <td>16</td>\n",
       "      <td>333.437500</td>\n",
       "      <td>2020-09-21</td>\n",
       "      <td>60</td>\n",
       "      <td>True</td>\n",
       "    </tr>\n",
       "  </tbody>\n",
       "</table>\n",
       "</div>"
      ],
      "text/plain": [
       "          Create-time  ncalls    Avg-time      Period  nagents  office-hour\n",
       "0 2020-09-21 09:05:00       1   79.000000  2020-09-21       60         True\n",
       "1 2020-09-21 09:10:00      22  517.045455  2020-09-21       60         True\n",
       "2 2020-09-21 09:15:00      25  630.840000  2020-09-21       60         True\n",
       "3 2020-09-21 09:20:00      19  604.473684  2020-09-21       60         True\n",
       "4 2020-09-21 09:25:00      16  333.437500  2020-09-21       60         True"
      ]
     },
     "execution_count": 67,
     "metadata": {},
     "output_type": "execute_result"
    }
   ],
   "source": [
    "consolidated.head()"
   ]
  },
  {
   "cell_type": "code",
   "execution_count": 69,
   "metadata": {},
   "outputs": [],
   "source": [
    "C = consolidated[consolidated['office-hour'] == True]"
   ]
  },
  {
   "cell_type": "code",
   "execution_count": 70,
   "metadata": {},
   "outputs": [
    {
     "data": {
      "text/plain": [
       "(2719, 6)"
      ]
     },
     "execution_count": 70,
     "metadata": {},
     "output_type": "execute_result"
    }
   ],
   "source": [
    "C.shape"
   ]
  },
  {
   "cell_type": "code",
   "execution_count": 72,
   "metadata": {},
   "outputs": [],
   "source": [
    "C.to_csv('consolidated-1.csv', index=False)"
   ]
  },
  {
   "cell_type": "code",
   "execution_count": null,
   "metadata": {},
   "outputs": [],
   "source": []
  }
 ],
 "metadata": {
  "kernelspec": {
   "display_name": "Python 3",
   "language": "python",
   "name": "python3"
  },
  "language_info": {
   "codemirror_mode": {
    "name": "ipython",
    "version": 3
   },
   "file_extension": ".py",
   "mimetype": "text/x-python",
   "name": "python",
   "nbconvert_exporter": "python",
   "pygments_lexer": "ipython3",
   "version": "3.9.0"
  }
 },
 "nbformat": 4,
 "nbformat_minor": 4
}
