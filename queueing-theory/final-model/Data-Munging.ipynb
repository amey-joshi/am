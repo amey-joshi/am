{
 "cells": [
  {
   "cell_type": "markdown",
   "metadata": {},
   "source": [
    "This notebook is **almost** the same as 'Data-Munging-2.ipynb' except that I have dropped a few snippets that show data and the code to convert 'Total-time' to seconds is much easier."
   ]
  },
  {
   "cell_type": "code",
   "execution_count": 46,
   "metadata": {},
   "outputs": [],
   "source": [
    "import numpy as np\n",
    "import pandas as pd\n",
    "import matplotlib.pyplot as plt"
   ]
  },
  {
   "cell_type": "code",
   "execution_count": 47,
   "metadata": {},
   "outputs": [],
   "source": [
    "time_window = '3min' # This is the time window over which we will average call arrivals.\n",
    "time_window_size = int(time_window[0])"
   ]
  },
  {
   "cell_type": "code",
   "execution_count": 48,
   "metadata": {},
   "outputs": [],
   "source": [
    "ss = pd.read_csv('Call-data.csv')"
   ]
  },
  {
   "cell_type": "code",
   "execution_count": 49,
   "metadata": {},
   "outputs": [],
   "source": [
    "def was_abandoned(row):\n",
    "    if pd.isnull(row['Abandon-time']):\n",
    "        return False\n",
    "    else:\n",
    "        return True\n",
    "    \n",
    "ss['Abandoned'] = ss.apply(lambda r: was_abandoned(r), axis=1)"
   ]
  },
  {
   "cell_type": "code",
   "execution_count": 50,
   "metadata": {},
   "outputs": [],
   "source": [
    "ss['Create time'] = pd.to_datetime(ss['Create time'], format='%d/%m/%Y %H:%M:%S', errors='ignore')\n",
    "ss['Accept time'] = pd.to_datetime(ss['Accept time'], format='%d/%m/%Y %H:%M:%S', errors='ignore')\n",
    "ss['Abandon-time'] = pd.to_datetime(ss['Abandon-time'], format='%d/%m/%Y %H:%M:%S', errors='ignore')"
   ]
  },
  {
   "cell_type": "code",
   "execution_count": 51,
   "metadata": {},
   "outputs": [],
   "source": [
    "ss['Total-time'] = ss['Total-time'].apply(lambda x: pd.to_timedelta(x, errors='ignore'))"
   ]
  },
  {
   "cell_type": "code",
   "execution_count": 52,
   "metadata": {},
   "outputs": [
    {
     "data": {
      "text/html": [
       "<div>\n",
       "<style scoped>\n",
       "    .dataframe tbody tr th:only-of-type {\n",
       "        vertical-align: middle;\n",
       "    }\n",
       "\n",
       "    .dataframe tbody tr th {\n",
       "        vertical-align: top;\n",
       "    }\n",
       "\n",
       "    .dataframe thead th {\n",
       "        text-align: right;\n",
       "    }\n",
       "</style>\n",
       "<table border=\"1\" class=\"dataframe\">\n",
       "  <thead>\n",
       "    <tr style=\"text-align: right;\">\n",
       "      <th></th>\n",
       "      <th>Period</th>\n",
       "      <th>Media</th>\n",
       "      <th>Channel</th>\n",
       "      <th>Queue</th>\n",
       "      <th>Transaction</th>\n",
       "      <th>Origination</th>\n",
       "      <th>Customer</th>\n",
       "      <th>Case Number</th>\n",
       "      <th>Web Callback</th>\n",
       "      <th>Create time</th>\n",
       "      <th>...</th>\n",
       "      <th>Voice mail left</th>\n",
       "      <th>IVR-Treatment-Time</th>\n",
       "      <th>Hold-max</th>\n",
       "      <th>Hold-Count</th>\n",
       "      <th>Hold-Total</th>\n",
       "      <th>PDD-Leg1</th>\n",
       "      <th>PDD-Leg2</th>\n",
       "      <th>AT-Leg1</th>\n",
       "      <th>AT-Leg2</th>\n",
       "      <th>Abandoned</th>\n",
       "    </tr>\n",
       "  </thead>\n",
       "  <tbody>\n",
       "    <tr>\n",
       "      <th>0</th>\n",
       "      <td>21/09/2020</td>\n",
       "      <td>Phone</td>\n",
       "      <td>441135121333</td>\n",
       "      <td>Customer Service Calls</td>\n",
       "      <td>45767.0</td>\n",
       "      <td>447929833073</td>\n",
       "      <td>NaN</td>\n",
       "      <td>NaN</td>\n",
       "      <td>NaN</td>\n",
       "      <td>2020-09-21 14:18:45</td>\n",
       "      <td>...</td>\n",
       "      <td>NaN</td>\n",
       "      <td>0:01:35</td>\n",
       "      <td>0:00:00</td>\n",
       "      <td>0.0</td>\n",
       "      <td>0:00:00</td>\n",
       "      <td>0:00:01</td>\n",
       "      <td>0:00:01</td>\n",
       "      <td>0:00:00</td>\n",
       "      <td>0:00:01</td>\n",
       "      <td>False</td>\n",
       "    </tr>\n",
       "    <tr>\n",
       "      <th>1</th>\n",
       "      <td>21/09/2020</td>\n",
       "      <td>Phone</td>\n",
       "      <td>441135121333</td>\n",
       "      <td>Customer Service Calls</td>\n",
       "      <td>46109.0</td>\n",
       "      <td>447443295687</td>\n",
       "      <td>NaN</td>\n",
       "      <td>NaN</td>\n",
       "      <td>NaN</td>\n",
       "      <td>2020-09-21 14:53:41</td>\n",
       "      <td>...</td>\n",
       "      <td>NaN</td>\n",
       "      <td>0:01:36</td>\n",
       "      <td>0:04:59</td>\n",
       "      <td>1.0</td>\n",
       "      <td>0:04:59</td>\n",
       "      <td>0:00:00</td>\n",
       "      <td>0:00:01</td>\n",
       "      <td>0:00:00</td>\n",
       "      <td>0:00:02</td>\n",
       "      <td>False</td>\n",
       "    </tr>\n",
       "    <tr>\n",
       "      <th>2</th>\n",
       "      <td>21/09/2020</td>\n",
       "      <td>Phone</td>\n",
       "      <td>441312855510</td>\n",
       "      <td>Customer Service Calls</td>\n",
       "      <td>42436.0</td>\n",
       "      <td>447804160003</td>\n",
       "      <td>NaN</td>\n",
       "      <td>NaN</td>\n",
       "      <td>NaN</td>\n",
       "      <td>2020-09-21 09:11:35</td>\n",
       "      <td>...</td>\n",
       "      <td>NaN</td>\n",
       "      <td>0:01:31</td>\n",
       "      <td>0:03:53</td>\n",
       "      <td>1.0</td>\n",
       "      <td>0:03:53</td>\n",
       "      <td>0:00:00</td>\n",
       "      <td>0:00:00</td>\n",
       "      <td>0:00:00</td>\n",
       "      <td>0:00:15</td>\n",
       "      <td>False</td>\n",
       "    </tr>\n",
       "    <tr>\n",
       "      <th>3</th>\n",
       "      <td>21/09/2020</td>\n",
       "      <td>Phone</td>\n",
       "      <td>441312855510</td>\n",
       "      <td>Customer Service Calls</td>\n",
       "      <td>42438.0</td>\n",
       "      <td>447747118790</td>\n",
       "      <td>NaN</td>\n",
       "      <td>NaN</td>\n",
       "      <td>NaN</td>\n",
       "      <td>2020-09-21 09:11:44</td>\n",
       "      <td>...</td>\n",
       "      <td>NaN</td>\n",
       "      <td>0:01:32</td>\n",
       "      <td>0:00:00</td>\n",
       "      <td>0.0</td>\n",
       "      <td>0:00:00</td>\n",
       "      <td>0:00:00</td>\n",
       "      <td>0:00:00</td>\n",
       "      <td>0:00:00</td>\n",
       "      <td>0:00:00</td>\n",
       "      <td>False</td>\n",
       "    </tr>\n",
       "    <tr>\n",
       "      <th>4</th>\n",
       "      <td>21/09/2020</td>\n",
       "      <td>Phone</td>\n",
       "      <td>441312855510</td>\n",
       "      <td>Customer Service Calls</td>\n",
       "      <td>42442.0</td>\n",
       "      <td>447903775955</td>\n",
       "      <td>NaN</td>\n",
       "      <td>NaN</td>\n",
       "      <td>NaN</td>\n",
       "      <td>2020-09-21 09:12:05</td>\n",
       "      <td>...</td>\n",
       "      <td>NaN</td>\n",
       "      <td>0:01:33</td>\n",
       "      <td>0:00:00</td>\n",
       "      <td>0.0</td>\n",
       "      <td>0:00:00</td>\n",
       "      <td>0:00:00</td>\n",
       "      <td>0:00:01</td>\n",
       "      <td>0:00:00</td>\n",
       "      <td>0:00:03</td>\n",
       "      <td>False</td>\n",
       "    </tr>\n",
       "  </tbody>\n",
       "</table>\n",
       "<p>5 rows × 26 columns</p>\n",
       "</div>"
      ],
      "text/plain": [
       "       Period  Media       Channel                   Queue  Transaction  \\\n",
       "0  21/09/2020  Phone  441135121333  Customer Service Calls      45767.0   \n",
       "1  21/09/2020  Phone  441135121333  Customer Service Calls      46109.0   \n",
       "2  21/09/2020  Phone  441312855510  Customer Service Calls      42436.0   \n",
       "3  21/09/2020  Phone  441312855510  Customer Service Calls      42438.0   \n",
       "4  21/09/2020  Phone  441312855510  Customer Service Calls      42442.0   \n",
       "\n",
       "    Origination  Customer  Case Number Web Callback         Create time  ...  \\\n",
       "0  447929833073       NaN          NaN          NaN 2020-09-21 14:18:45  ...   \n",
       "1  447443295687       NaN          NaN          NaN 2020-09-21 14:53:41  ...   \n",
       "2  447804160003       NaN          NaN          NaN 2020-09-21 09:11:35  ...   \n",
       "3  447747118790       NaN          NaN          NaN 2020-09-21 09:11:44  ...   \n",
       "4  447903775955       NaN          NaN          NaN 2020-09-21 09:12:05  ...   \n",
       "\n",
       "  Voice mail left IVR-Treatment-Time Hold-max Hold-Count Hold-Total PDD-Leg1  \\\n",
       "0             NaN            0:01:35  0:00:00        0.0    0:00:00  0:00:01   \n",
       "1             NaN            0:01:36  0:04:59        1.0    0:04:59  0:00:00   \n",
       "2             NaN            0:01:31  0:03:53        1.0    0:03:53  0:00:00   \n",
       "3             NaN            0:01:32  0:00:00        0.0    0:00:00  0:00:00   \n",
       "4             NaN            0:01:33  0:00:00        0.0    0:00:00  0:00:00   \n",
       "\n",
       "   PDD-Leg2  AT-Leg1  AT-Leg2  Abandoned  \n",
       "0   0:00:01  0:00:00  0:00:01      False  \n",
       "1   0:00:01  0:00:00  0:00:02      False  \n",
       "2   0:00:00  0:00:00  0:00:15      False  \n",
       "3   0:00:00  0:00:00  0:00:00      False  \n",
       "4   0:00:01  0:00:00  0:00:03      False  \n",
       "\n",
       "[5 rows x 26 columns]"
      ]
     },
     "execution_count": 52,
     "metadata": {},
     "output_type": "execute_result"
    }
   ],
   "source": [
    "ss.loc[~ss['Total-time'].isnull()].head()"
   ]
  },
  {
   "cell_type": "code",
   "execution_count": 53,
   "metadata": {},
   "outputs": [],
   "source": [
    "def calc_abandon_time(row):\n",
    "    if row['Abandoned']:\n",
    "        return row['Abandon-time'] - row['Create time']      \n",
    "    else:\n",
    "        return None\n",
    "\n",
    "ss['Abandoned-after'] = ss[['Create time', 'Abandon-time', 'Abandoned']].apply(lambda r: calc_abandon_time(r), axis=1)"
   ]
  },
  {
   "cell_type": "code",
   "execution_count": 54,
   "metadata": {},
   "outputs": [],
   "source": [
    "ss.rename(columns={'Create time': 'Create-time', 'Accept time': 'Accept-time'}, inplace=True)"
   ]
  },
  {
   "cell_type": "code",
   "execution_count": 55,
   "metadata": {},
   "outputs": [],
   "source": [
    "attrs_of_interest = ['Period', 'Create-time', 'Agent', 'Accept-time', 'Total-time', 'Abandon-time', 'Abandoned', 'Abandoned-after']\n",
    "data = ss.loc[:, attrs_of_interest]"
   ]
  },
  {
   "cell_type": "code",
   "execution_count": 56,
   "metadata": {},
   "outputs": [],
   "source": [
    "data['time-to-accept'] = data.apply(lambda r: r['Accept-time'] - r['Create-time'], axis=1)"
   ]
  },
  {
   "cell_type": "code",
   "execution_count": 57,
   "metadata": {},
   "outputs": [],
   "source": [
    "inflow = data[['Create-time', 'Agent']].groupby(pd.Grouper(key='Create-time', freq=time_window)).count()\n",
    "inflow.reset_index(inplace=True)"
   ]
  },
  {
   "cell_type": "code",
   "execution_count": 58,
   "metadata": {},
   "outputs": [
    {
     "data": {
      "image/png": "[encoded data removed]",
      "text/plain": [
       "<Figure size 432x288 with 1 Axes>"
      ]
     },
     "metadata": {
      "needs_background": "light"
     },
     "output_type": "display_data"
    }
   ],
   "source": [
    "ignore = inflow.loc[inflow['Agent'] > 0].plot.scatter(x='Create-time', y='Agent')"
   ]
  },
  {
   "cell_type": "code",
   "execution_count": 59,
   "metadata": {},
   "outputs": [
    {
     "data": {
      "text/plain": [
       "Create-time    2020-10-01 09:12:00\n",
       "Agent                           21\n",
       "Name: 4802, dtype: object"
      ]
     },
     "execution_count": 59,
     "metadata": {},
     "output_type": "execute_result"
    }
   ],
   "source": [
    "inflow.iloc[inflow['Agent'].idxmax()]"
   ]
  },
  {
   "cell_type": "code",
   "execution_count": 60,
   "metadata": {},
   "outputs": [
    {
     "data": {
      "text/html": [
       "<div>\n",
       "<style scoped>\n",
       "    .dataframe tbody tr th:only-of-type {\n",
       "        vertical-align: middle;\n",
       "    }\n",
       "\n",
       "    .dataframe tbody tr th {\n",
       "        vertical-align: top;\n",
       "    }\n",
       "\n",
       "    .dataframe thead th {\n",
       "        text-align: right;\n",
       "    }\n",
       "</style>\n",
       "<table border=\"1\" class=\"dataframe\">\n",
       "  <thead>\n",
       "    <tr style=\"text-align: right;\">\n",
       "      <th></th>\n",
       "      <th>Create-time</th>\n",
       "      <th>Agent</th>\n",
       "    </tr>\n",
       "  </thead>\n",
       "  <tbody>\n",
       "    <tr>\n",
       "      <th>0</th>\n",
       "      <td>2020-09-21 09:06:00</td>\n",
       "      <td>1</td>\n",
       "    </tr>\n",
       "    <tr>\n",
       "      <th>1</th>\n",
       "      <td>2020-09-21 09:09:00</td>\n",
       "      <td>2</td>\n",
       "    </tr>\n",
       "    <tr>\n",
       "      <th>2</th>\n",
       "      <td>2020-09-21 09:12:00</td>\n",
       "      <td>20</td>\n",
       "    </tr>\n",
       "    <tr>\n",
       "      <th>3</th>\n",
       "      <td>2020-09-21 09:15:00</td>\n",
       "      <td>20</td>\n",
       "    </tr>\n",
       "    <tr>\n",
       "      <th>4</th>\n",
       "      <td>2020-09-21 09:18:00</td>\n",
       "      <td>12</td>\n",
       "    </tr>\n",
       "  </tbody>\n",
       "</table>\n",
       "</div>"
      ],
      "text/plain": [
       "          Create-time  Agent\n",
       "0 2020-09-21 09:06:00      1\n",
       "1 2020-09-21 09:09:00      2\n",
       "2 2020-09-21 09:12:00     20\n",
       "3 2020-09-21 09:15:00     20\n",
       "4 2020-09-21 09:18:00     12"
      ]
     },
     "execution_count": 60,
     "metadata": {},
     "output_type": "execute_result"
    }
   ],
   "source": [
    "inflow.head()"
   ]
  },
  {
   "cell_type": "code",
   "execution_count": 61,
   "metadata": {},
   "outputs": [],
   "source": [
    "inflow.rename(columns = {'Agent': 'ncalls'}, inplace=True)"
   ]
  },
  {
   "cell_type": "code",
   "execution_count": 62,
   "metadata": {},
   "outputs": [
    {
     "data": {
      "text/html": [
       "<div>\n",
       "<style scoped>\n",
       "    .dataframe tbody tr th:only-of-type {\n",
       "        vertical-align: middle;\n",
       "    }\n",
       "\n",
       "    .dataframe tbody tr th {\n",
       "        vertical-align: top;\n",
       "    }\n",
       "\n",
       "    .dataframe thead th {\n",
       "        text-align: right;\n",
       "    }\n",
       "</style>\n",
       "<table border=\"1\" class=\"dataframe\">\n",
       "  <thead>\n",
       "    <tr style=\"text-align: right;\">\n",
       "      <th></th>\n",
       "      <th>Create-time</th>\n",
       "      <th>ncalls</th>\n",
       "    </tr>\n",
       "  </thead>\n",
       "  <tbody>\n",
       "    <tr>\n",
       "      <th>0</th>\n",
       "      <td>2020-09-21 09:06:00</td>\n",
       "      <td>1</td>\n",
       "    </tr>\n",
       "    <tr>\n",
       "      <th>1</th>\n",
       "      <td>2020-09-21 09:09:00</td>\n",
       "      <td>2</td>\n",
       "    </tr>\n",
       "    <tr>\n",
       "      <th>2</th>\n",
       "      <td>2020-09-21 09:12:00</td>\n",
       "      <td>20</td>\n",
       "    </tr>\n",
       "    <tr>\n",
       "      <th>3</th>\n",
       "      <td>2020-09-21 09:15:00</td>\n",
       "      <td>20</td>\n",
       "    </tr>\n",
       "    <tr>\n",
       "      <th>4</th>\n",
       "      <td>2020-09-21 09:18:00</td>\n",
       "      <td>12</td>\n",
       "    </tr>\n",
       "  </tbody>\n",
       "</table>\n",
       "</div>"
      ],
      "text/plain": [
       "          Create-time  ncalls\n",
       "0 2020-09-21 09:06:00       1\n",
       "1 2020-09-21 09:09:00       2\n",
       "2 2020-09-21 09:12:00      20\n",
       "3 2020-09-21 09:15:00      20\n",
       "4 2020-09-21 09:18:00      12"
      ]
     },
     "execution_count": 62,
     "metadata": {},
     "output_type": "execute_result"
    }
   ],
   "source": [
    "inflow.head()"
   ]
  },
  {
   "cell_type": "code",
   "execution_count": 63,
   "metadata": {},
   "outputs": [],
   "source": [
    "inflow.to_csv('full-inflow-1.csv', index=False)"
   ]
  },
  {
   "cell_type": "code",
   "execution_count": 64,
   "metadata": {},
   "outputs": [
    {
     "data": {
      "text/html": [
       "<div>\n",
       "<style scoped>\n",
       "    .dataframe tbody tr th:only-of-type {\n",
       "        vertical-align: middle;\n",
       "    }\n",
       "\n",
       "    .dataframe tbody tr th {\n",
       "        vertical-align: top;\n",
       "    }\n",
       "\n",
       "    .dataframe thead th {\n",
       "        text-align: right;\n",
       "    }\n",
       "</style>\n",
       "<table border=\"1\" class=\"dataframe\">\n",
       "  <thead>\n",
       "    <tr style=\"text-align: right;\">\n",
       "      <th></th>\n",
       "      <th>Create-time</th>\n",
       "      <th>Avg-time</th>\n",
       "    </tr>\n",
       "  </thead>\n",
       "  <tbody>\n",
       "    <tr>\n",
       "      <th>0</th>\n",
       "      <td>2020-09-21 09:06:00</td>\n",
       "      <td>79.00</td>\n",
       "    </tr>\n",
       "    <tr>\n",
       "      <th>1</th>\n",
       "      <td>2020-09-21 09:09:00</td>\n",
       "      <td>1161.00</td>\n",
       "    </tr>\n",
       "    <tr>\n",
       "      <th>2</th>\n",
       "      <td>2020-09-21 09:12:00</td>\n",
       "      <td>452.65</td>\n",
       "    </tr>\n",
       "    <tr>\n",
       "      <th>3</th>\n",
       "      <td>2020-09-21 09:15:00</td>\n",
       "      <td>612.70</td>\n",
       "    </tr>\n",
       "    <tr>\n",
       "      <th>4</th>\n",
       "      <td>2020-09-21 09:18:00</td>\n",
       "      <td>536.50</td>\n",
       "    </tr>\n",
       "  </tbody>\n",
       "</table>\n",
       "</div>"
      ],
      "text/plain": [
       "          Create-time  Avg-time\n",
       "0 2020-09-21 09:06:00     79.00\n",
       "1 2020-09-21 09:09:00   1161.00\n",
       "2 2020-09-21 09:12:00    452.65\n",
       "3 2020-09-21 09:15:00    612.70\n",
       "4 2020-09-21 09:18:00    536.50"
      ]
     },
     "execution_count": 64,
     "metadata": {},
     "output_type": "execute_result"
    }
   ],
   "source": [
    "data['Total-time'] = data['Total-time'].apply(lambda r: r.seconds)\n",
    "total_time = data[['Create-time', 'Total-time']].groupby(pd.Grouper(key='Create-time', freq=time_window)).mean()\n",
    "total_time.reset_index(inplace=True)\n",
    "total_time.rename(columns={'Total-time': 'Avg-time'}, inplace=True)\n",
    "total_time.head()"
   ]
  },
  {
   "cell_type": "code",
   "execution_count": 65,
   "metadata": {},
   "outputs": [
    {
     "data": {
      "text/html": [
       "<div>\n",
       "<style scoped>\n",
       "    .dataframe tbody tr th:only-of-type {\n",
       "        vertical-align: middle;\n",
       "    }\n",
       "\n",
       "    .dataframe tbody tr th {\n",
       "        vertical-align: top;\n",
       "    }\n",
       "\n",
       "    .dataframe thead th {\n",
       "        text-align: right;\n",
       "    }\n",
       "</style>\n",
       "<table border=\"1\" class=\"dataframe\">\n",
       "  <thead>\n",
       "    <tr style=\"text-align: right;\">\n",
       "      <th></th>\n",
       "      <th>Create-time</th>\n",
       "      <th>Avg-time</th>\n",
       "    </tr>\n",
       "  </thead>\n",
       "  <tbody>\n",
       "    <tr>\n",
       "      <th>0</th>\n",
       "      <td>2020-09-21 09:06:00</td>\n",
       "      <td>79.00</td>\n",
       "    </tr>\n",
       "    <tr>\n",
       "      <th>1</th>\n",
       "      <td>2020-09-21 09:09:00</td>\n",
       "      <td>1161.00</td>\n",
       "    </tr>\n",
       "    <tr>\n",
       "      <th>2</th>\n",
       "      <td>2020-09-21 09:12:00</td>\n",
       "      <td>452.65</td>\n",
       "    </tr>\n",
       "    <tr>\n",
       "      <th>3</th>\n",
       "      <td>2020-09-21 09:15:00</td>\n",
       "      <td>612.70</td>\n",
       "    </tr>\n",
       "    <tr>\n",
       "      <th>4</th>\n",
       "      <td>2020-09-21 09:18:00</td>\n",
       "      <td>536.50</td>\n",
       "    </tr>\n",
       "  </tbody>\n",
       "</table>\n",
       "</div>"
      ],
      "text/plain": [
       "          Create-time  Avg-time\n",
       "0 2020-09-21 09:06:00     79.00\n",
       "1 2020-09-21 09:09:00   1161.00\n",
       "2 2020-09-21 09:12:00    452.65\n",
       "3 2020-09-21 09:15:00    612.70\n",
       "4 2020-09-21 09:18:00    536.50"
      ]
     },
     "execution_count": 65,
     "metadata": {},
     "output_type": "execute_result"
    }
   ],
   "source": [
    "total_time.loc[~total_time['Avg-time'].isnull()].head()"
   ]
  },
  {
   "cell_type": "code",
   "execution_count": 66,
   "metadata": {},
   "outputs": [],
   "source": [
    "total_time.to_csv('total_time_1.csv', index=False)"
   ]
  },
  {
   "cell_type": "code",
   "execution_count": 67,
   "metadata": {},
   "outputs": [],
   "source": [
    "consolidated = pd.merge(left=inflow, right=total_time, on='Create-time')"
   ]
  },
  {
   "cell_type": "code",
   "execution_count": 68,
   "metadata": {},
   "outputs": [
    {
     "data": {
      "text/html": [
       "<div>\n",
       "<style scoped>\n",
       "    .dataframe tbody tr th:only-of-type {\n",
       "        vertical-align: middle;\n",
       "    }\n",
       "\n",
       "    .dataframe tbody tr th {\n",
       "        vertical-align: top;\n",
       "    }\n",
       "\n",
       "    .dataframe thead th {\n",
       "        text-align: right;\n",
       "    }\n",
       "</style>\n",
       "<table border=\"1\" class=\"dataframe\">\n",
       "  <thead>\n",
       "    <tr style=\"text-align: right;\">\n",
       "      <th></th>\n",
       "      <th>Create-time</th>\n",
       "      <th>ncalls</th>\n",
       "      <th>Avg-time</th>\n",
       "    </tr>\n",
       "  </thead>\n",
       "  <tbody>\n",
       "    <tr>\n",
       "      <th>0</th>\n",
       "      <td>2020-09-21 09:06:00</td>\n",
       "      <td>1</td>\n",
       "      <td>79.00</td>\n",
       "    </tr>\n",
       "    <tr>\n",
       "      <th>1</th>\n",
       "      <td>2020-09-21 09:09:00</td>\n",
       "      <td>2</td>\n",
       "      <td>1161.00</td>\n",
       "    </tr>\n",
       "    <tr>\n",
       "      <th>2</th>\n",
       "      <td>2020-09-21 09:12:00</td>\n",
       "      <td>20</td>\n",
       "      <td>452.65</td>\n",
       "    </tr>\n",
       "    <tr>\n",
       "      <th>3</th>\n",
       "      <td>2020-09-21 09:15:00</td>\n",
       "      <td>20</td>\n",
       "      <td>612.70</td>\n",
       "    </tr>\n",
       "    <tr>\n",
       "      <th>4</th>\n",
       "      <td>2020-09-21 09:18:00</td>\n",
       "      <td>12</td>\n",
       "      <td>536.50</td>\n",
       "    </tr>\n",
       "  </tbody>\n",
       "</table>\n",
       "</div>"
      ],
      "text/plain": [
       "          Create-time  ncalls  Avg-time\n",
       "0 2020-09-21 09:06:00       1     79.00\n",
       "1 2020-09-21 09:09:00       2   1161.00\n",
       "2 2020-09-21 09:12:00      20    452.65\n",
       "3 2020-09-21 09:15:00      20    612.70\n",
       "4 2020-09-21 09:18:00      12    536.50"
      ]
     },
     "execution_count": 68,
     "metadata": {},
     "output_type": "execute_result"
    }
   ],
   "source": [
    "consolidated.head()"
   ]
  },
  {
   "cell_type": "code",
   "execution_count": 69,
   "metadata": {},
   "outputs": [],
   "source": [
    "def extract_period(dt):\n",
    "    return str(dt)[0:10]    \n",
    "\n",
    "consolidated['Period'] = consolidated.apply(lambda r: extract_period(r['Create-time']), axis=1)"
   ]
  },
  {
   "cell_type": "code",
   "execution_count": 70,
   "metadata": {},
   "outputs": [],
   "source": [
    "nagents = ss[['Period', 'Agent']].groupby('Period').nunique()\n",
    "nagents.reset_index(inplace=True)"
   ]
  },
  {
   "cell_type": "code",
   "execution_count": 71,
   "metadata": {},
   "outputs": [
    {
     "data": {
      "text/html": [
       "<div>\n",
       "<style scoped>\n",
       "    .dataframe tbody tr th:only-of-type {\n",
       "        vertical-align: middle;\n",
       "    }\n",
       "\n",
       "    .dataframe tbody tr th {\n",
       "        vertical-align: top;\n",
       "    }\n",
       "\n",
       "    .dataframe thead th {\n",
       "        text-align: right;\n",
       "    }\n",
       "</style>\n",
       "<table border=\"1\" class=\"dataframe\">\n",
       "  <thead>\n",
       "    <tr style=\"text-align: right;\">\n",
       "      <th></th>\n",
       "      <th>Period</th>\n",
       "      <th>Agent</th>\n",
       "    </tr>\n",
       "  </thead>\n",
       "  <tbody>\n",
       "    <tr>\n",
       "      <th>0</th>\n",
       "      <td>01/10/2020</td>\n",
       "      <td>64</td>\n",
       "    </tr>\n",
       "    <tr>\n",
       "      <th>1</th>\n",
       "      <td>02/10/2020</td>\n",
       "      <td>53</td>\n",
       "    </tr>\n",
       "    <tr>\n",
       "      <th>2</th>\n",
       "      <td>03/10/2020</td>\n",
       "      <td>9</td>\n",
       "    </tr>\n",
       "    <tr>\n",
       "      <th>3</th>\n",
       "      <td>04/10/2020</td>\n",
       "      <td>8</td>\n",
       "    </tr>\n",
       "    <tr>\n",
       "      <th>4</th>\n",
       "      <td>05/10/2020</td>\n",
       "      <td>58</td>\n",
       "    </tr>\n",
       "  </tbody>\n",
       "</table>\n",
       "</div>"
      ],
      "text/plain": [
       "       Period  Agent\n",
       "0  01/10/2020     64\n",
       "1  02/10/2020     53\n",
       "2  03/10/2020      9\n",
       "3  04/10/2020      8\n",
       "4  05/10/2020     58"
      ]
     },
     "execution_count": 71,
     "metadata": {},
     "output_type": "execute_result"
    }
   ],
   "source": [
    "nagents.head()"
   ]
  },
  {
   "cell_type": "code",
   "execution_count": 72,
   "metadata": {},
   "outputs": [],
   "source": [
    "def convert(d):\n",
    "    yr = d[6:10]\n",
    "    mn = d[3:5]\n",
    "    dy = d[0:2]\n",
    "    \n",
    "    return yr + '-' + mn + '-' + dy"
   ]
  },
  {
   "cell_type": "code",
   "execution_count": 73,
   "metadata": {},
   "outputs": [],
   "source": [
    "nagents['Period'] = nagents.apply(lambda r: convert(r['Period']), axis=1)"
   ]
  },
  {
   "cell_type": "code",
   "execution_count": 74,
   "metadata": {},
   "outputs": [],
   "source": [
    "consolidated = pd.merge(left=consolidated, right=nagents, on='Period')"
   ]
  },
  {
   "cell_type": "code",
   "execution_count": 75,
   "metadata": {},
   "outputs": [],
   "source": [
    "consolidated.rename(columns={'Agent': 'nagents'}, inplace=True)"
   ]
  },
  {
   "cell_type": "code",
   "execution_count": 76,
   "metadata": {},
   "outputs": [
    {
     "data": {
      "text/html": [
       "<div>\n",
       "<style scoped>\n",
       "    .dataframe tbody tr th:only-of-type {\n",
       "        vertical-align: middle;\n",
       "    }\n",
       "\n",
       "    .dataframe tbody tr th {\n",
       "        vertical-align: top;\n",
       "    }\n",
       "\n",
       "    .dataframe thead th {\n",
       "        text-align: right;\n",
       "    }\n",
       "</style>\n",
       "<table border=\"1\" class=\"dataframe\">\n",
       "  <thead>\n",
       "    <tr style=\"text-align: right;\">\n",
       "      <th></th>\n",
       "      <th>Create-time</th>\n",
       "      <th>ncalls</th>\n",
       "      <th>Avg-time</th>\n",
       "      <th>Period</th>\n",
       "      <th>nagents</th>\n",
       "    </tr>\n",
       "  </thead>\n",
       "  <tbody>\n",
       "    <tr>\n",
       "      <th>0</th>\n",
       "      <td>2020-09-21 09:06:00</td>\n",
       "      <td>1</td>\n",
       "      <td>79.00</td>\n",
       "      <td>2020-09-21</td>\n",
       "      <td>60</td>\n",
       "    </tr>\n",
       "    <tr>\n",
       "      <th>1</th>\n",
       "      <td>2020-09-21 09:09:00</td>\n",
       "      <td>2</td>\n",
       "      <td>1161.00</td>\n",
       "      <td>2020-09-21</td>\n",
       "      <td>60</td>\n",
       "    </tr>\n",
       "    <tr>\n",
       "      <th>2</th>\n",
       "      <td>2020-09-21 09:12:00</td>\n",
       "      <td>20</td>\n",
       "      <td>452.65</td>\n",
       "      <td>2020-09-21</td>\n",
       "      <td>60</td>\n",
       "    </tr>\n",
       "    <tr>\n",
       "      <th>3</th>\n",
       "      <td>2020-09-21 09:15:00</td>\n",
       "      <td>20</td>\n",
       "      <td>612.70</td>\n",
       "      <td>2020-09-21</td>\n",
       "      <td>60</td>\n",
       "    </tr>\n",
       "    <tr>\n",
       "      <th>4</th>\n",
       "      <td>2020-09-21 09:18:00</td>\n",
       "      <td>12</td>\n",
       "      <td>536.50</td>\n",
       "      <td>2020-09-21</td>\n",
       "      <td>60</td>\n",
       "    </tr>\n",
       "  </tbody>\n",
       "</table>\n",
       "</div>"
      ],
      "text/plain": [
       "          Create-time  ncalls  Avg-time      Period  nagents\n",
       "0 2020-09-21 09:06:00       1     79.00  2020-09-21       60\n",
       "1 2020-09-21 09:09:00       2   1161.00  2020-09-21       60\n",
       "2 2020-09-21 09:12:00      20    452.65  2020-09-21       60\n",
       "3 2020-09-21 09:15:00      20    612.70  2020-09-21       60\n",
       "4 2020-09-21 09:18:00      12    536.50  2020-09-21       60"
      ]
     },
     "execution_count": 76,
     "metadata": {},
     "output_type": "execute_result"
    }
   ],
   "source": [
    "consolidated.head()"
   ]
  },
  {
   "cell_type": "code",
   "execution_count": 77,
   "metadata": {},
   "outputs": [
    {
     "data": {
      "text/plain": [
       "(13491, 5)"
      ]
     },
     "execution_count": 77,
     "metadata": {},
     "output_type": "execute_result"
    }
   ],
   "source": [
    "consolidated.shape"
   ]
  },
  {
   "cell_type": "code",
   "execution_count": 78,
   "metadata": {},
   "outputs": [
    {
     "data": {
      "text/plain": [
       "Create-time    datetime64[ns]\n",
       "ncalls                  int64\n",
       "Avg-time              float64\n",
       "Period                 object\n",
       "nagents                 int64\n",
       "dtype: object"
      ]
     },
     "execution_count": 78,
     "metadata": {},
     "output_type": "execute_result"
    }
   ],
   "source": [
    "consolidated.dtypes"
   ]
  },
  {
   "cell_type": "code",
   "execution_count": 79,
   "metadata": {},
   "outputs": [],
   "source": [
    "import datetime"
   ]
  },
  {
   "cell_type": "code",
   "execution_count": 80,
   "metadata": {},
   "outputs": [
    {
     "data": {
      "text/plain": [
       "True"
      ]
     },
     "execution_count": 80,
     "metadata": {},
     "output_type": "execute_result"
    }
   ],
   "source": [
    "consolidated.iloc[0, :][0].time() > datetime.time(9, 0)"
   ]
  },
  {
   "cell_type": "code",
   "execution_count": 81,
   "metadata": {},
   "outputs": [],
   "source": [
    "def is_office_hour(dt):\n",
    "    return dt.time() > datetime.time(9, 0) and dt.time() < datetime.time(17, 1)\n",
    "\n",
    "consolidated['office-hour'] = consolidated.apply(lambda r: is_office_hour(r['Create-time']), axis=1)"
   ]
  },
  {
   "cell_type": "code",
   "execution_count": 82,
   "metadata": {},
   "outputs": [
    {
     "data": {
      "text/html": [
       "<div>\n",
       "<style scoped>\n",
       "    .dataframe tbody tr th:only-of-type {\n",
       "        vertical-align: middle;\n",
       "    }\n",
       "\n",
       "    .dataframe tbody tr th {\n",
       "        vertical-align: top;\n",
       "    }\n",
       "\n",
       "    .dataframe thead th {\n",
       "        text-align: right;\n",
       "    }\n",
       "</style>\n",
       "<table border=\"1\" class=\"dataframe\">\n",
       "  <thead>\n",
       "    <tr style=\"text-align: right;\">\n",
       "      <th></th>\n",
       "      <th>Create-time</th>\n",
       "      <th>ncalls</th>\n",
       "      <th>Avg-time</th>\n",
       "      <th>Period</th>\n",
       "      <th>nagents</th>\n",
       "      <th>office-hour</th>\n",
       "    </tr>\n",
       "  </thead>\n",
       "  <tbody>\n",
       "    <tr>\n",
       "      <th>0</th>\n",
       "      <td>2020-09-21 09:06:00</td>\n",
       "      <td>1</td>\n",
       "      <td>79.00</td>\n",
       "      <td>2020-09-21</td>\n",
       "      <td>60</td>\n",
       "      <td>True</td>\n",
       "    </tr>\n",
       "    <tr>\n",
       "      <th>1</th>\n",
       "      <td>2020-09-21 09:09:00</td>\n",
       "      <td>2</td>\n",
       "      <td>1161.00</td>\n",
       "      <td>2020-09-21</td>\n",
       "      <td>60</td>\n",
       "      <td>True</td>\n",
       "    </tr>\n",
       "    <tr>\n",
       "      <th>2</th>\n",
       "      <td>2020-09-21 09:12:00</td>\n",
       "      <td>20</td>\n",
       "      <td>452.65</td>\n",
       "      <td>2020-09-21</td>\n",
       "      <td>60</td>\n",
       "      <td>True</td>\n",
       "    </tr>\n",
       "    <tr>\n",
       "      <th>3</th>\n",
       "      <td>2020-09-21 09:15:00</td>\n",
       "      <td>20</td>\n",
       "      <td>612.70</td>\n",
       "      <td>2020-09-21</td>\n",
       "      <td>60</td>\n",
       "      <td>True</td>\n",
       "    </tr>\n",
       "    <tr>\n",
       "      <th>4</th>\n",
       "      <td>2020-09-21 09:18:00</td>\n",
       "      <td>12</td>\n",
       "      <td>536.50</td>\n",
       "      <td>2020-09-21</td>\n",
       "      <td>60</td>\n",
       "      <td>True</td>\n",
       "    </tr>\n",
       "  </tbody>\n",
       "</table>\n",
       "</div>"
      ],
      "text/plain": [
       "          Create-time  ncalls  Avg-time      Period  nagents  office-hour\n",
       "0 2020-09-21 09:06:00       1     79.00  2020-09-21       60         True\n",
       "1 2020-09-21 09:09:00       2   1161.00  2020-09-21       60         True\n",
       "2 2020-09-21 09:12:00      20    452.65  2020-09-21       60         True\n",
       "3 2020-09-21 09:15:00      20    612.70  2020-09-21       60         True\n",
       "4 2020-09-21 09:18:00      12    536.50  2020-09-21       60         True"
      ]
     },
     "execution_count": 82,
     "metadata": {},
     "output_type": "execute_result"
    }
   ],
   "source": [
    "consolidated.head()"
   ]
  },
  {
   "cell_type": "code",
   "execution_count": 83,
   "metadata": {},
   "outputs": [],
   "source": [
    "consolidated['Avg-calls'] = consolidated['ncalls'].rolling(window=time_window_size).mean()"
   ]
  },
  {
   "cell_type": "code",
   "execution_count": 84,
   "metadata": {},
   "outputs": [],
   "source": [
    "consolidated['iso_day_of_week'] = consolidated['Create-time'].apply(lambda r: r.isoweekday())"
   ]
  },
  {
   "cell_type": "code",
   "execution_count": 85,
   "metadata": {},
   "outputs": [
    {
     "data": {
      "text/html": [
       "<div>\n",
       "<style scoped>\n",
       "    .dataframe tbody tr th:only-of-type {\n",
       "        vertical-align: middle;\n",
       "    }\n",
       "\n",
       "    .dataframe tbody tr th {\n",
       "        vertical-align: top;\n",
       "    }\n",
       "\n",
       "    .dataframe thead th {\n",
       "        text-align: right;\n",
       "    }\n",
       "</style>\n",
       "<table border=\"1\" class=\"dataframe\">\n",
       "  <thead>\n",
       "    <tr style=\"text-align: right;\">\n",
       "      <th></th>\n",
       "      <th>Create-time</th>\n",
       "      <th>ncalls</th>\n",
       "      <th>Avg-time</th>\n",
       "      <th>Period</th>\n",
       "      <th>nagents</th>\n",
       "      <th>office-hour</th>\n",
       "      <th>Avg-calls</th>\n",
       "      <th>iso_day_of_week</th>\n",
       "    </tr>\n",
       "  </thead>\n",
       "  <tbody>\n",
       "    <tr>\n",
       "      <th>0</th>\n",
       "      <td>2020-09-21 09:06:00</td>\n",
       "      <td>1</td>\n",
       "      <td>79.000000</td>\n",
       "      <td>2020-09-21</td>\n",
       "      <td>60</td>\n",
       "      <td>True</td>\n",
       "      <td>NaN</td>\n",
       "      <td>1</td>\n",
       "    </tr>\n",
       "    <tr>\n",
       "      <th>1</th>\n",
       "      <td>2020-09-21 09:09:00</td>\n",
       "      <td>2</td>\n",
       "      <td>1161.000000</td>\n",
       "      <td>2020-09-21</td>\n",
       "      <td>60</td>\n",
       "      <td>True</td>\n",
       "      <td>NaN</td>\n",
       "      <td>1</td>\n",
       "    </tr>\n",
       "    <tr>\n",
       "      <th>2</th>\n",
       "      <td>2020-09-21 09:12:00</td>\n",
       "      <td>20</td>\n",
       "      <td>452.650000</td>\n",
       "      <td>2020-09-21</td>\n",
       "      <td>60</td>\n",
       "      <td>True</td>\n",
       "      <td>7.666667</td>\n",
       "      <td>1</td>\n",
       "    </tr>\n",
       "    <tr>\n",
       "      <th>3</th>\n",
       "      <td>2020-09-21 09:15:00</td>\n",
       "      <td>20</td>\n",
       "      <td>612.700000</td>\n",
       "      <td>2020-09-21</td>\n",
       "      <td>60</td>\n",
       "      <td>True</td>\n",
       "      <td>14.000000</td>\n",
       "      <td>1</td>\n",
       "    </tr>\n",
       "    <tr>\n",
       "      <th>4</th>\n",
       "      <td>2020-09-21 09:18:00</td>\n",
       "      <td>12</td>\n",
       "      <td>536.500000</td>\n",
       "      <td>2020-09-21</td>\n",
       "      <td>60</td>\n",
       "      <td>True</td>\n",
       "      <td>17.333333</td>\n",
       "      <td>1</td>\n",
       "    </tr>\n",
       "    <tr>\n",
       "      <th>5</th>\n",
       "      <td>2020-09-21 09:21:00</td>\n",
       "      <td>6</td>\n",
       "      <td>435.666667</td>\n",
       "      <td>2020-09-21</td>\n",
       "      <td>60</td>\n",
       "      <td>True</td>\n",
       "      <td>12.666667</td>\n",
       "      <td>1</td>\n",
       "    </tr>\n",
       "    <tr>\n",
       "      <th>6</th>\n",
       "      <td>2020-09-21 09:24:00</td>\n",
       "      <td>12</td>\n",
       "      <td>723.583333</td>\n",
       "      <td>2020-09-21</td>\n",
       "      <td>60</td>\n",
       "      <td>True</td>\n",
       "      <td>10.000000</td>\n",
       "      <td>1</td>\n",
       "    </tr>\n",
       "    <tr>\n",
       "      <th>7</th>\n",
       "      <td>2020-09-21 09:27:00</td>\n",
       "      <td>10</td>\n",
       "      <td>260.200000</td>\n",
       "      <td>2020-09-21</td>\n",
       "      <td>60</td>\n",
       "      <td>True</td>\n",
       "      <td>9.333333</td>\n",
       "      <td>1</td>\n",
       "    </tr>\n",
       "    <tr>\n",
       "      <th>8</th>\n",
       "      <td>2020-09-21 09:30:00</td>\n",
       "      <td>6</td>\n",
       "      <td>1444.000000</td>\n",
       "      <td>2020-09-21</td>\n",
       "      <td>60</td>\n",
       "      <td>True</td>\n",
       "      <td>9.333333</td>\n",
       "      <td>1</td>\n",
       "    </tr>\n",
       "    <tr>\n",
       "      <th>9</th>\n",
       "      <td>2020-09-21 09:33:00</td>\n",
       "      <td>12</td>\n",
       "      <td>369.000000</td>\n",
       "      <td>2020-09-21</td>\n",
       "      <td>60</td>\n",
       "      <td>True</td>\n",
       "      <td>9.333333</td>\n",
       "      <td>1</td>\n",
       "    </tr>\n",
       "  </tbody>\n",
       "</table>\n",
       "</div>"
      ],
      "text/plain": [
       "          Create-time  ncalls     Avg-time      Period  nagents  office-hour  \\\n",
       "0 2020-09-21 09:06:00       1    79.000000  2020-09-21       60         True   \n",
       "1 2020-09-21 09:09:00       2  1161.000000  2020-09-21       60         True   \n",
       "2 2020-09-21 09:12:00      20   452.650000  2020-09-21       60         True   \n",
       "3 2020-09-21 09:15:00      20   612.700000  2020-09-21       60         True   \n",
       "4 2020-09-21 09:18:00      12   536.500000  2020-09-21       60         True   \n",
       "5 2020-09-21 09:21:00       6   435.666667  2020-09-21       60         True   \n",
       "6 2020-09-21 09:24:00      12   723.583333  2020-09-21       60         True   \n",
       "7 2020-09-21 09:27:00      10   260.200000  2020-09-21       60         True   \n",
       "8 2020-09-21 09:30:00       6  1444.000000  2020-09-21       60         True   \n",
       "9 2020-09-21 09:33:00      12   369.000000  2020-09-21       60         True   \n",
       "\n",
       "   Avg-calls  iso_day_of_week  \n",
       "0        NaN                1  \n",
       "1        NaN                1  \n",
       "2   7.666667                1  \n",
       "3  14.000000                1  \n",
       "4  17.333333                1  \n",
       "5  12.666667                1  \n",
       "6  10.000000                1  \n",
       "7   9.333333                1  \n",
       "8   9.333333                1  \n",
       "9   9.333333                1  "
      ]
     },
     "execution_count": 85,
     "metadata": {},
     "output_type": "execute_result"
    }
   ],
   "source": [
    "consolidated.head(10)"
   ]
  },
  {
   "cell_type": "code",
   "execution_count": 86,
   "metadata": {},
   "outputs": [],
   "source": [
    "C = consolidated[(consolidated['office-hour'] == True) & (consolidated['iso_day_of_week'] < 6)]"
   ]
  },
  {
   "cell_type": "code",
   "execution_count": 87,
   "metadata": {},
   "outputs": [
    {
     "data": {
      "text/html": [
       "<div>\n",
       "<style scoped>\n",
       "    .dataframe tbody tr th:only-of-type {\n",
       "        vertical-align: middle;\n",
       "    }\n",
       "\n",
       "    .dataframe tbody tr th {\n",
       "        vertical-align: top;\n",
       "    }\n",
       "\n",
       "    .dataframe thead th {\n",
       "        text-align: right;\n",
       "    }\n",
       "</style>\n",
       "<table border=\"1\" class=\"dataframe\">\n",
       "  <thead>\n",
       "    <tr style=\"text-align: right;\">\n",
       "      <th></th>\n",
       "      <th>Create-time</th>\n",
       "      <th>ncalls</th>\n",
       "      <th>Avg-time</th>\n",
       "      <th>Period</th>\n",
       "      <th>nagents</th>\n",
       "      <th>office-hour</th>\n",
       "      <th>Avg-calls</th>\n",
       "      <th>iso_day_of_week</th>\n",
       "    </tr>\n",
       "  </thead>\n",
       "  <tbody>\n",
       "    <tr>\n",
       "      <th>0</th>\n",
       "      <td>2020-09-21 09:06:00</td>\n",
       "      <td>1</td>\n",
       "      <td>79.000000</td>\n",
       "      <td>2020-09-21</td>\n",
       "      <td>60</td>\n",
       "      <td>True</td>\n",
       "      <td>NaN</td>\n",
       "      <td>1</td>\n",
       "    </tr>\n",
       "    <tr>\n",
       "      <th>1</th>\n",
       "      <td>2020-09-21 09:09:00</td>\n",
       "      <td>2</td>\n",
       "      <td>1161.000000</td>\n",
       "      <td>2020-09-21</td>\n",
       "      <td>60</td>\n",
       "      <td>True</td>\n",
       "      <td>NaN</td>\n",
       "      <td>1</td>\n",
       "    </tr>\n",
       "    <tr>\n",
       "      <th>2</th>\n",
       "      <td>2020-09-21 09:12:00</td>\n",
       "      <td>20</td>\n",
       "      <td>452.650000</td>\n",
       "      <td>2020-09-21</td>\n",
       "      <td>60</td>\n",
       "      <td>True</td>\n",
       "      <td>7.666667</td>\n",
       "      <td>1</td>\n",
       "    </tr>\n",
       "    <tr>\n",
       "      <th>3</th>\n",
       "      <td>2020-09-21 09:15:00</td>\n",
       "      <td>20</td>\n",
       "      <td>612.700000</td>\n",
       "      <td>2020-09-21</td>\n",
       "      <td>60</td>\n",
       "      <td>True</td>\n",
       "      <td>14.000000</td>\n",
       "      <td>1</td>\n",
       "    </tr>\n",
       "    <tr>\n",
       "      <th>4</th>\n",
       "      <td>2020-09-21 09:18:00</td>\n",
       "      <td>12</td>\n",
       "      <td>536.500000</td>\n",
       "      <td>2020-09-21</td>\n",
       "      <td>60</td>\n",
       "      <td>True</td>\n",
       "      <td>17.333333</td>\n",
       "      <td>1</td>\n",
       "    </tr>\n",
       "    <tr>\n",
       "      <th>5</th>\n",
       "      <td>2020-09-21 09:21:00</td>\n",
       "      <td>6</td>\n",
       "      <td>435.666667</td>\n",
       "      <td>2020-09-21</td>\n",
       "      <td>60</td>\n",
       "      <td>True</td>\n",
       "      <td>12.666667</td>\n",
       "      <td>1</td>\n",
       "    </tr>\n",
       "    <tr>\n",
       "      <th>6</th>\n",
       "      <td>2020-09-21 09:24:00</td>\n",
       "      <td>12</td>\n",
       "      <td>723.583333</td>\n",
       "      <td>2020-09-21</td>\n",
       "      <td>60</td>\n",
       "      <td>True</td>\n",
       "      <td>10.000000</td>\n",
       "      <td>1</td>\n",
       "    </tr>\n",
       "    <tr>\n",
       "      <th>7</th>\n",
       "      <td>2020-09-21 09:27:00</td>\n",
       "      <td>10</td>\n",
       "      <td>260.200000</td>\n",
       "      <td>2020-09-21</td>\n",
       "      <td>60</td>\n",
       "      <td>True</td>\n",
       "      <td>9.333333</td>\n",
       "      <td>1</td>\n",
       "    </tr>\n",
       "    <tr>\n",
       "      <th>8</th>\n",
       "      <td>2020-09-21 09:30:00</td>\n",
       "      <td>6</td>\n",
       "      <td>1444.000000</td>\n",
       "      <td>2020-09-21</td>\n",
       "      <td>60</td>\n",
       "      <td>True</td>\n",
       "      <td>9.333333</td>\n",
       "      <td>1</td>\n",
       "    </tr>\n",
       "    <tr>\n",
       "      <th>9</th>\n",
       "      <td>2020-09-21 09:33:00</td>\n",
       "      <td>12</td>\n",
       "      <td>369.000000</td>\n",
       "      <td>2020-09-21</td>\n",
       "      <td>60</td>\n",
       "      <td>True</td>\n",
       "      <td>9.333333</td>\n",
       "      <td>1</td>\n",
       "    </tr>\n",
       "  </tbody>\n",
       "</table>\n",
       "</div>"
      ],
      "text/plain": [
       "          Create-time  ncalls     Avg-time      Period  nagents  office-hour  \\\n",
       "0 2020-09-21 09:06:00       1    79.000000  2020-09-21       60         True   \n",
       "1 2020-09-21 09:09:00       2  1161.000000  2020-09-21       60         True   \n",
       "2 2020-09-21 09:12:00      20   452.650000  2020-09-21       60         True   \n",
       "3 2020-09-21 09:15:00      20   612.700000  2020-09-21       60         True   \n",
       "4 2020-09-21 09:18:00      12   536.500000  2020-09-21       60         True   \n",
       "5 2020-09-21 09:21:00       6   435.666667  2020-09-21       60         True   \n",
       "6 2020-09-21 09:24:00      12   723.583333  2020-09-21       60         True   \n",
       "7 2020-09-21 09:27:00      10   260.200000  2020-09-21       60         True   \n",
       "8 2020-09-21 09:30:00       6  1444.000000  2020-09-21       60         True   \n",
       "9 2020-09-21 09:33:00      12   369.000000  2020-09-21       60         True   \n",
       "\n",
       "   Avg-calls  iso_day_of_week  \n",
       "0        NaN                1  \n",
       "1        NaN                1  \n",
       "2   7.666667                1  \n",
       "3  14.000000                1  \n",
       "4  17.333333                1  \n",
       "5  12.666667                1  \n",
       "6  10.000000                1  \n",
       "7   9.333333                1  \n",
       "8   9.333333                1  \n",
       "9   9.333333                1  "
      ]
     },
     "execution_count": 87,
     "metadata": {},
     "output_type": "execute_result"
    }
   ],
   "source": [
    "C.head(10)"
   ]
  },
  {
   "cell_type": "code",
   "execution_count": 88,
   "metadata": {},
   "outputs": [],
   "source": [
    "C.to_csv('consolidated-1.csv', index=False)"
   ]
  },
  {
   "cell_type": "code",
   "execution_count": null,
   "metadata": {},
   "outputs": [],
   "source": []
  }
 ],
 "metadata": {
  "kernelspec": {
   "display_name": "Python 3",
   "language": "python",
   "name": "python3"
  },
  "language_info": {
   "codemirror_mode": {
    "name": "ipython",
    "version": 3
   },
   "file_extension": ".py",
   "mimetype": "text/x-python",
   "name": "python",
   "nbconvert_exporter": "python",
   "pygments_lexer": "ipython3",
   "version": "3.9.0"
  }
 },
 "nbformat": 4,
 "nbformat_minor": 4
}
