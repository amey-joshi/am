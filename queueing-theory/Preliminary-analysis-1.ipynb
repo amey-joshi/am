{
 "cells": [
  {
   "cell_type": "markdown",
   "metadata": {},
   "source": [
    "Trying to come up with some metrics to detect overflow."
   ]
  },
  {
   "cell_type": "code",
   "execution_count": 1,
   "metadata": {},
   "outputs": [],
   "source": [
    "import numpy as np\n",
    "import pandas as pd\n",
    "import matplotlib.pyplot as plt"
   ]
  },
  {
   "cell_type": "code",
   "execution_count": 2,
   "metadata": {},
   "outputs": [],
   "source": [
    "data = pd.read_csv('consolidated-1.csv')"
   ]
  },
  {
   "cell_type": "code",
   "execution_count": 3,
   "metadata": {},
   "outputs": [],
   "source": [
    "# This is the time in seconds taken to complete a call(included post-processing).\n",
    "data['Avg-time'] = data['Avg-time'].fillna(0) "
   ]
  },
  {
   "cell_type": "code",
   "execution_count": 4,
   "metadata": {},
   "outputs": [],
   "source": [
    "data['lambda'] = data['ncalls'].rolling(window=6).mean() # Number of calls per 5 minutes."
   ]
  },
  {
   "cell_type": "code",
   "execution_count": 5,
   "metadata": {},
   "outputs": [],
   "source": [
    "data.set_index('Create-time', inplace=True)"
   ]
  },
  {
   "cell_type": "code",
   "execution_count": 6,
   "metadata": {},
   "outputs": [],
   "source": [
    "data['mu'] = data['Avg-time']/300 # The term lambda/mu must be unit less."
   ]
  },
  {
   "cell_type": "code",
   "execution_count": 7,
   "metadata": {},
   "outputs": [],
   "source": [
    "data['E'] = data['lambda']*data['mu'] # Ordered traffic in erlangs"
   ]
  },
  {
   "cell_type": "markdown",
   "metadata": {},
   "source": [
    "**Question:**\n",
    "Given a number of agents, average time to complete a task and rate the incoming calls what is the average waiting time?\n",
    "\n",
    "The number of agents on a day is known. We should be able to plot another curve on this chart which indicates the maximum inflow we can sustain without dropping quality. That should give our first indication of things slipping out of control. In fact, we can add yet another curve that indicates that we are approaching danger.\n",
    "\n",
    "One may not be able to infer the queue length as easily as forecast ASA. I think the business tracks ASA and not the queue length. Refer to equation (1.4) in the paper 'Evaluating the Erlang C and Erlang A Models for Call Center Modeling'. File name is 'Erlang Compare Working paper.pdf'.\n"
   ]
  },
  {
   "cell_type": "code",
   "execution_count": 22,
   "metadata": {},
   "outputs": [],
   "source": [
    "def factorial(n):\n",
    "    if n == 0:\n",
    "        return 1.0\n",
    "    else:\n",
    "        f = 1.0\n",
    "        for m in range(1, n+1):\n",
    "            f = f * m\n",
    "        \n",
    "        return f\n",
    "    \n",
    "def prob_of_wait(ncalls, E, m, drop=40):\n",
    "    \"\"\"\n",
    "    ncalls: number of calls in an interval of 5 minutes.\n",
    "    E:      traffic\n",
    "    m:      # agents.\n",
    "    drop:   a variable that corrects the number of people on the floor. \n",
    "    Reference: https://en.wikipedia.org/wiki/Erlang_(unit)\n",
    "    \"\"\"\n",
    "    if ncalls == 0:\n",
    "        return 0\n",
    "    \n",
    "    if m == 0:\n",
    "        m = 1\n",
    "    \n",
    "    # Remove this block. This is just an experiment.    \n",
    "    #if m > drop + 1 and m - E != drop:\n",
    "    #    m -= drop\n",
    "    \n",
    "    numerator = E**m/factorial(m) * m/(m-E)\n",
    "    denominator = 0\n",
    "        \n",
    "    for i in range(m):\n",
    "        denominator += E**i/factorial(i)\n",
    "        \n",
    "    denominator += numerator\n",
    "    \n",
    "    p = numerator/denominator\n",
    "    \n",
    "    # TODO: Find out when p exceeds 1. Which assumptions of Erlang C formula are violated?\n",
    "    if p > 1:\n",
    "        p = 1\n",
    "        \n",
    "    return p\n",
    "\n",
    "def calculate_ASA(wait_prob, N, mu, rho):\n",
    "    return wait_prob/(N * mu * rho)"
   ]
  },
  {
   "cell_type": "code",
   "execution_count": 23,
   "metadata": {},
   "outputs": [],
   "source": [
    "assert factorial(0) == 1\n",
    "assert factorial(1) == 1\n",
    "assert factorial(5) == 120\n",
    "assert factorial(12) == 479001600"
   ]
  },
  {
   "cell_type": "code",
   "execution_count": 24,
   "metadata": {},
   "outputs": [
    {
     "data": {
      "text/plain": [
       "8.519347161918773e-16"
      ]
     },
     "execution_count": 24,
     "metadata": {},
     "output_type": "execute_result"
    }
   ],
   "source": [
    "prob_of_wait(17, 25.738519, 76)"
   ]
  },
  {
   "cell_type": "code",
   "execution_count": 25,
   "metadata": {},
   "outputs": [
    {
     "data": {
      "text/plain": [
       "2.7666262077124267e-05"
      ]
     },
     "execution_count": 25,
     "metadata": {},
     "output_type": "execute_result"
    }
   ],
   "source": [
    "r = data.loc['2020-07-20 10:35:00']\n",
    "prob_of_wait(r['ncalls'], r['E'], r['nagents'])"
   ]
  },
  {
   "cell_type": "code",
   "execution_count": 26,
   "metadata": {},
   "outputs": [],
   "source": [
    "drop = 0 # The number by which the agent count should be reduced."
   ]
  },
  {
   "cell_type": "code",
   "execution_count": 27,
   "metadata": {},
   "outputs": [],
   "source": [
    "data['wait-prob'] = data.apply(lambda r: prob_of_wait(r['ncalls'], r['E'], r['nagents'], drop), axis=1)"
   ]
  },
  {
   "cell_type": "code",
   "execution_count": 29,
   "metadata": {},
   "outputs": [
    {
     "data": {
      "text/plain": [
       "Index(['ncalls', 'Avg-time', 'Period', 'nagents', 'lambda', 'mu', 'E',\n",
       "       'wait-prob'],\n",
       "      dtype='object')"
      ]
     },
     "execution_count": 29,
     "metadata": {},
     "output_type": "execute_result"
    }
   ],
   "source": [
    "data.columns"
   ]
  },
  {
   "cell_type": "code",
   "execution_count": 30,
   "metadata": {},
   "outputs": [],
   "source": [
    "data['asa'] = data['wait-prob'] * data['mu']/(data['nagents'] - data['E'] - drop) * 5 # Convert to minutes'"
   ]
  },
  {
   "cell_type": "code",
   "execution_count": 36,
   "metadata": {},
   "outputs": [],
   "source": [
    "data.reset_index(level=0, inplace=True)"
   ]
  },
  {
   "cell_type": "code",
   "execution_count": 38,
   "metadata": {},
   "outputs": [
    {
     "data": {
      "text/html": [
       "<div>\n",
       "<style scoped>\n",
       "    .dataframe tbody tr th:only-of-type {\n",
       "        vertical-align: middle;\n",
       "    }\n",
       "\n",
       "    .dataframe tbody tr th {\n",
       "        vertical-align: top;\n",
       "    }\n",
       "\n",
       "    .dataframe thead th {\n",
       "        text-align: right;\n",
       "    }\n",
       "</style>\n",
       "<table border=\"1\" class=\"dataframe\">\n",
       "  <thead>\n",
       "    <tr style=\"text-align: right;\">\n",
       "      <th></th>\n",
       "      <th>Create-time</th>\n",
       "      <th>ncalls</th>\n",
       "      <th>Avg-time</th>\n",
       "      <th>Period</th>\n",
       "      <th>nagents</th>\n",
       "      <th>lambda</th>\n",
       "      <th>mu</th>\n",
       "      <th>E</th>\n",
       "      <th>wait-prob</th>\n",
       "      <th>asa</th>\n",
       "    </tr>\n",
       "  </thead>\n",
       "  <tbody>\n",
       "    <tr>\n",
       "      <th>0</th>\n",
       "      <td>2020-07-18 00:00:00</td>\n",
       "      <td>0</td>\n",
       "      <td>0.0</td>\n",
       "      <td>2020-07-18</td>\n",
       "      <td>56</td>\n",
       "      <td>NaN</td>\n",
       "      <td>0.000000</td>\n",
       "      <td>NaN</td>\n",
       "      <td>0.0</td>\n",
       "      <td>NaN</td>\n",
       "    </tr>\n",
       "    <tr>\n",
       "      <th>1</th>\n",
       "      <td>2020-07-18 00:05:00</td>\n",
       "      <td>0</td>\n",
       "      <td>0.0</td>\n",
       "      <td>2020-07-18</td>\n",
       "      <td>56</td>\n",
       "      <td>NaN</td>\n",
       "      <td>0.000000</td>\n",
       "      <td>NaN</td>\n",
       "      <td>0.0</td>\n",
       "      <td>NaN</td>\n",
       "    </tr>\n",
       "    <tr>\n",
       "      <th>2</th>\n",
       "      <td>2020-07-18 00:10:00</td>\n",
       "      <td>1</td>\n",
       "      <td>13.0</td>\n",
       "      <td>2020-07-18</td>\n",
       "      <td>56</td>\n",
       "      <td>NaN</td>\n",
       "      <td>0.043333</td>\n",
       "      <td>NaN</td>\n",
       "      <td>NaN</td>\n",
       "      <td>NaN</td>\n",
       "    </tr>\n",
       "    <tr>\n",
       "      <th>3</th>\n",
       "      <td>2020-07-18 00:15:00</td>\n",
       "      <td>0</td>\n",
       "      <td>0.0</td>\n",
       "      <td>2020-07-18</td>\n",
       "      <td>56</td>\n",
       "      <td>NaN</td>\n",
       "      <td>0.000000</td>\n",
       "      <td>NaN</td>\n",
       "      <td>0.0</td>\n",
       "      <td>NaN</td>\n",
       "    </tr>\n",
       "    <tr>\n",
       "      <th>4</th>\n",
       "      <td>2020-07-18 00:20:00</td>\n",
       "      <td>0</td>\n",
       "      <td>0.0</td>\n",
       "      <td>2020-07-18</td>\n",
       "      <td>56</td>\n",
       "      <td>NaN</td>\n",
       "      <td>0.000000</td>\n",
       "      <td>NaN</td>\n",
       "      <td>0.0</td>\n",
       "      <td>NaN</td>\n",
       "    </tr>\n",
       "  </tbody>\n",
       "</table>\n",
       "</div>"
      ],
      "text/plain": [
       "           Create-time  ncalls  Avg-time      Period  nagents  lambda  \\\n",
       "0  2020-07-18 00:00:00       0       0.0  2020-07-18       56     NaN   \n",
       "1  2020-07-18 00:05:00       0       0.0  2020-07-18       56     NaN   \n",
       "2  2020-07-18 00:10:00       1      13.0  2020-07-18       56     NaN   \n",
       "3  2020-07-18 00:15:00       0       0.0  2020-07-18       56     NaN   \n",
       "4  2020-07-18 00:20:00       0       0.0  2020-07-18       56     NaN   \n",
       "\n",
       "         mu   E  wait-prob  asa  \n",
       "0  0.000000 NaN        0.0  NaN  \n",
       "1  0.000000 NaN        0.0  NaN  \n",
       "2  0.043333 NaN        NaN  NaN  \n",
       "3  0.000000 NaN        0.0  NaN  \n",
       "4  0.000000 NaN        0.0  NaN  "
      ]
     },
     "execution_count": 38,
     "metadata": {},
     "output_type": "execute_result"
    }
   ],
   "source": [
    "data.head()"
   ]
  },
  {
   "cell_type": "code",
   "execution_count": 39,
   "metadata": {},
   "outputs": [],
   "source": [
    "data.to_csv('wait_prob.csv', index=False)"
   ]
  },
  {
   "cell_type": "code",
   "execution_count": 33,
   "metadata": {},
   "outputs": [
    {
     "data": {
      "text/plain": [
       "1.0"
      ]
     },
     "execution_count": 33,
     "metadata": {},
     "output_type": "execute_result"
    }
   ],
   "source": [
    "np.max(data['wait-prob'])"
   ]
  },
  {
   "cell_type": "code",
   "execution_count": 34,
   "metadata": {},
   "outputs": [
    {
     "data": {
      "text/plain": [
       "<AxesSubplot:>"
      ]
     },
     "execution_count": 34,
     "metadata": {},
     "output_type": "execute_result"
    },
    {
     "data": {
      "image/png": "[encoded data removed]",
      "text/plain": [
       "<Figure size 432x288 with 1 Axes>"
      ]
     },
     "metadata": {
      "needs_background": "light"
     },
     "output_type": "display_data"
    }
   ],
   "source": [
    "data['wait-prob'].hist()"
   ]
  },
  {
   "cell_type": "code",
   "execution_count": 35,
   "metadata": {},
   "outputs": [
    {
     "data": {
      "text/plain": [
       "215.23868686868678"
      ]
     },
     "execution_count": 35,
     "metadata": {},
     "output_type": "execute_result"
    }
   ],
   "source": [
    "np.max(data['E'])"
   ]
  },
  {
   "cell_type": "markdown",
   "metadata": {},
   "source": [
    "**19-Oct-2020**\n",
    "\n",
    "I implemented a function to compute the probability that a customer will have to wait. Since I do not have accurate data on the number of agents on the floor and I believe that perhaps 76 is a very large number, I reduced it by 40. This is also to check if there are situations when the probability of wait is one. I also calculate the ASA for each interval of five minutes.\n",
    "\n",
    "Next steps:\n",
    "1. Get an accurate count of agents on the floor for every interval of 5 minutes.\n",
    "2. Confirm that that situation was indeed read when probability of wait exceeded 0.5."
   ]
  },
  {
   "cell_type": "markdown",
   "metadata": {},
   "source": [
    "**01-Nov-2020**\n",
    "\n",
    "I got data about the number of people available on the floor from 9:00 to 17:00 for the week of 14-Sep-2020. I put in the <code>'consolidated-1.csv'</code> and **copied** it for the following week as well. I assumed that the situation would not have been drastically different in that week. Since I have accurate data, I disabled the variable <code>drop</code> from the function <code>prob_of_wait</code> and recalculated the variables <code>wait_prob</code> and <code>asa</code>.\n",
    "\n",
    "I then started analyzing the results. The analysis is in the file <code>wait_prob_analysis</code>. Here are the main observations:\n",
    "\n",
    "* When the <code>wait_prob</code> is 1, <code>asa</code> is negative.\n",
    "* The same thing happens when the number of agents os zero. I don't think this scenario is very interesting. The number of agents will be zero on holidays and beyond office-hours. I think, this analysis should focus only on the 9:00 to 17:00 period.\n",
    "\n",
    "I am now looking at the analysis in the file <code>wait_prob_analysis_week_of_14Sep.ods</code> and I notice that\n",
    "\n",
    "* The <code>wait_prob</code> is a highly non-linear function of the traffic <code>E</code> (in erlangs) and the number of agents. It might not be easy to model it as a time-series. Instead, I should model the traffic and use the number of agents to predict the probability of wait."
   ]
  },
  {
   "cell_type": "code",
   "execution_count": null,
   "metadata": {},
   "outputs": [],
   "source": []
  }
 ],
 "metadata": {
  "kernelspec": {
   "display_name": "Python 3",
   "language": "python",
   "name": "python3"
  },
  "language_info": {
   "codemirror_mode": {
    "name": "ipython",
    "version": 3
   },
   "file_extension": ".py",
   "mimetype": "text/x-python",
   "name": "python",
   "nbconvert_exporter": "python",
   "pygments_lexer": "ipython3",
   "version": "3.8.6"
  }
 },
 "nbformat": 4,
 "nbformat_minor": 4
}
