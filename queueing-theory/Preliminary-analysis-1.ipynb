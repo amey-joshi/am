{
 "cells": [
  {
   "cell_type": "markdown",
   "metadata": {},
   "source": [
    "Trying to come up with some metrics to detect overflow."
   ]
  },
  {
   "cell_type": "code",
   "execution_count": 1,
   "metadata": {},
   "outputs": [],
   "source": [
    "import numpy as np\n",
    "import pandas as pd\n",
    "import matplotlib.pyplot as plt"
   ]
  },
  {
   "cell_type": "code",
   "execution_count": 2,
   "metadata": {},
   "outputs": [],
   "source": [
    "data = pd.read_csv('consolidated.csv')"
   ]
  },
  {
   "cell_type": "code",
   "execution_count": 3,
   "metadata": {},
   "outputs": [
    {
     "data": {
      "text/html": [
       "<div>\n",
       "<style scoped>\n",
       "    .dataframe tbody tr th:only-of-type {\n",
       "        vertical-align: middle;\n",
       "    }\n",
       "\n",
       "    .dataframe tbody tr th {\n",
       "        vertical-align: top;\n",
       "    }\n",
       "\n",
       "    .dataframe thead th {\n",
       "        text-align: right;\n",
       "    }\n",
       "</style>\n",
       "<table border=\"1\" class=\"dataframe\">\n",
       "  <thead>\n",
       "    <tr style=\"text-align: right;\">\n",
       "      <th></th>\n",
       "      <th>Create-time</th>\n",
       "      <th>ncalls</th>\n",
       "      <th>Avg-time</th>\n",
       "      <th>Period</th>\n",
       "      <th>nagents</th>\n",
       "    </tr>\n",
       "  </thead>\n",
       "  <tbody>\n",
       "    <tr>\n",
       "      <th>0</th>\n",
       "      <td>2020-07-18 00:00:00</td>\n",
       "      <td>0</td>\n",
       "      <td>NaN</td>\n",
       "      <td>2020-07-18</td>\n",
       "      <td>56</td>\n",
       "    </tr>\n",
       "    <tr>\n",
       "      <th>1</th>\n",
       "      <td>2020-07-18 00:05:00</td>\n",
       "      <td>0</td>\n",
       "      <td>NaN</td>\n",
       "      <td>2020-07-18</td>\n",
       "      <td>56</td>\n",
       "    </tr>\n",
       "    <tr>\n",
       "      <th>2</th>\n",
       "      <td>2020-07-18 00:10:00</td>\n",
       "      <td>1</td>\n",
       "      <td>13.0</td>\n",
       "      <td>2020-07-18</td>\n",
       "      <td>56</td>\n",
       "    </tr>\n",
       "    <tr>\n",
       "      <th>3</th>\n",
       "      <td>2020-07-18 00:15:00</td>\n",
       "      <td>0</td>\n",
       "      <td>NaN</td>\n",
       "      <td>2020-07-18</td>\n",
       "      <td>56</td>\n",
       "    </tr>\n",
       "    <tr>\n",
       "      <th>4</th>\n",
       "      <td>2020-07-18 00:20:00</td>\n",
       "      <td>0</td>\n",
       "      <td>NaN</td>\n",
       "      <td>2020-07-18</td>\n",
       "      <td>56</td>\n",
       "    </tr>\n",
       "  </tbody>\n",
       "</table>\n",
       "</div>"
      ],
      "text/plain": [
       "           Create-time  ncalls  Avg-time      Period  nagents\n",
       "0  2020-07-18 00:00:00       0       NaN  2020-07-18       56\n",
       "1  2020-07-18 00:05:00       0       NaN  2020-07-18       56\n",
       "2  2020-07-18 00:10:00       1      13.0  2020-07-18       56\n",
       "3  2020-07-18 00:15:00       0       NaN  2020-07-18       56\n",
       "4  2020-07-18 00:20:00       0       NaN  2020-07-18       56"
      ]
     },
     "execution_count": 3,
     "metadata": {},
     "output_type": "execute_result"
    }
   ],
   "source": [
    "data.head()"
   ]
  },
  {
   "cell_type": "code",
   "execution_count": 4,
   "metadata": {},
   "outputs": [],
   "source": [
    "data['Avg-time'] = data['Avg-time'].fillna(0)"
   ]
  },
  {
   "cell_type": "code",
   "execution_count": 5,
   "metadata": {},
   "outputs": [
    {
     "data": {
      "text/html": [
       "<div>\n",
       "<style scoped>\n",
       "    .dataframe tbody tr th:only-of-type {\n",
       "        vertical-align: middle;\n",
       "    }\n",
       "\n",
       "    .dataframe tbody tr th {\n",
       "        vertical-align: top;\n",
       "    }\n",
       "\n",
       "    .dataframe thead th {\n",
       "        text-align: right;\n",
       "    }\n",
       "</style>\n",
       "<table border=\"1\" class=\"dataframe\">\n",
       "  <thead>\n",
       "    <tr style=\"text-align: right;\">\n",
       "      <th></th>\n",
       "      <th>Create-time</th>\n",
       "      <th>ncalls</th>\n",
       "      <th>Avg-time</th>\n",
       "      <th>Period</th>\n",
       "      <th>nagents</th>\n",
       "    </tr>\n",
       "  </thead>\n",
       "  <tbody>\n",
       "    <tr>\n",
       "      <th>0</th>\n",
       "      <td>2020-07-18 00:00:00</td>\n",
       "      <td>0</td>\n",
       "      <td>0.0</td>\n",
       "      <td>2020-07-18</td>\n",
       "      <td>56</td>\n",
       "    </tr>\n",
       "    <tr>\n",
       "      <th>1</th>\n",
       "      <td>2020-07-18 00:05:00</td>\n",
       "      <td>0</td>\n",
       "      <td>0.0</td>\n",
       "      <td>2020-07-18</td>\n",
       "      <td>56</td>\n",
       "    </tr>\n",
       "    <tr>\n",
       "      <th>2</th>\n",
       "      <td>2020-07-18 00:10:00</td>\n",
       "      <td>1</td>\n",
       "      <td>13.0</td>\n",
       "      <td>2020-07-18</td>\n",
       "      <td>56</td>\n",
       "    </tr>\n",
       "    <tr>\n",
       "      <th>3</th>\n",
       "      <td>2020-07-18 00:15:00</td>\n",
       "      <td>0</td>\n",
       "      <td>0.0</td>\n",
       "      <td>2020-07-18</td>\n",
       "      <td>56</td>\n",
       "    </tr>\n",
       "    <tr>\n",
       "      <th>4</th>\n",
       "      <td>2020-07-18 00:20:00</td>\n",
       "      <td>0</td>\n",
       "      <td>0.0</td>\n",
       "      <td>2020-07-18</td>\n",
       "      <td>56</td>\n",
       "    </tr>\n",
       "  </tbody>\n",
       "</table>\n",
       "</div>"
      ],
      "text/plain": [
       "           Create-time  ncalls  Avg-time      Period  nagents\n",
       "0  2020-07-18 00:00:00       0       0.0  2020-07-18       56\n",
       "1  2020-07-18 00:05:00       0       0.0  2020-07-18       56\n",
       "2  2020-07-18 00:10:00       1      13.0  2020-07-18       56\n",
       "3  2020-07-18 00:15:00       0       0.0  2020-07-18       56\n",
       "4  2020-07-18 00:20:00       0       0.0  2020-07-18       56"
      ]
     },
     "execution_count": 5,
     "metadata": {},
     "output_type": "execute_result"
    }
   ],
   "source": [
    "data.head()"
   ]
  },
  {
   "cell_type": "code",
   "execution_count": 6,
   "metadata": {},
   "outputs": [],
   "source": [
    "data['ma-calls'] = data['ncalls'].rolling(window=6).mean()"
   ]
  },
  {
   "cell_type": "code",
   "execution_count": 7,
   "metadata": {},
   "outputs": [],
   "source": [
    "data.set_index('Create-time', inplace=True)"
   ]
  },
  {
   "cell_type": "code",
   "execution_count": 8,
   "metadata": {},
   "outputs": [
    {
     "data": {
      "text/html": [
       "<div>\n",
       "<style scoped>\n",
       "    .dataframe tbody tr th:only-of-type {\n",
       "        vertical-align: middle;\n",
       "    }\n",
       "\n",
       "    .dataframe tbody tr th {\n",
       "        vertical-align: top;\n",
       "    }\n",
       "\n",
       "    .dataframe thead th {\n",
       "        text-align: right;\n",
       "    }\n",
       "</style>\n",
       "<table border=\"1\" class=\"dataframe\">\n",
       "  <thead>\n",
       "    <tr style=\"text-align: right;\">\n",
       "      <th></th>\n",
       "      <th>ncalls</th>\n",
       "      <th>Avg-time</th>\n",
       "      <th>Period</th>\n",
       "      <th>nagents</th>\n",
       "      <th>ma-calls</th>\n",
       "    </tr>\n",
       "    <tr>\n",
       "      <th>Create-time</th>\n",
       "      <th></th>\n",
       "      <th></th>\n",
       "      <th></th>\n",
       "      <th></th>\n",
       "      <th></th>\n",
       "    </tr>\n",
       "  </thead>\n",
       "  <tbody>\n",
       "    <tr>\n",
       "      <th>2020-07-20 08:00:00</th>\n",
       "      <td>1</td>\n",
       "      <td>498.000000</td>\n",
       "      <td>2020-07-20</td>\n",
       "      <td>76</td>\n",
       "      <td>1.333333</td>\n",
       "    </tr>\n",
       "    <tr>\n",
       "      <th>2020-07-20 08:05:00</th>\n",
       "      <td>2</td>\n",
       "      <td>355.500000</td>\n",
       "      <td>2020-07-20</td>\n",
       "      <td>76</td>\n",
       "      <td>1.166667</td>\n",
       "    </tr>\n",
       "    <tr>\n",
       "      <th>2020-07-20 08:10:00</th>\n",
       "      <td>3</td>\n",
       "      <td>155.000000</td>\n",
       "      <td>2020-07-20</td>\n",
       "      <td>76</td>\n",
       "      <td>1.666667</td>\n",
       "    </tr>\n",
       "    <tr>\n",
       "      <th>2020-07-20 08:15:00</th>\n",
       "      <td>6</td>\n",
       "      <td>510.833333</td>\n",
       "      <td>2020-07-20</td>\n",
       "      <td>76</td>\n",
       "      <td>2.500000</td>\n",
       "    </tr>\n",
       "    <tr>\n",
       "      <th>2020-07-20 08:20:00</th>\n",
       "      <td>2</td>\n",
       "      <td>107.000000</td>\n",
       "      <td>2020-07-20</td>\n",
       "      <td>76</td>\n",
       "      <td>2.833333</td>\n",
       "    </tr>\n",
       "    <tr>\n",
       "      <th>2020-07-20 08:25:00</th>\n",
       "      <td>5</td>\n",
       "      <td>289.400000</td>\n",
       "      <td>2020-07-20</td>\n",
       "      <td>76</td>\n",
       "      <td>3.166667</td>\n",
       "    </tr>\n",
       "    <tr>\n",
       "      <th>2020-07-20 08:30:00</th>\n",
       "      <td>3</td>\n",
       "      <td>479.333333</td>\n",
       "      <td>2020-07-20</td>\n",
       "      <td>76</td>\n",
       "      <td>3.500000</td>\n",
       "    </tr>\n",
       "    <tr>\n",
       "      <th>2020-07-20 08:35:00</th>\n",
       "      <td>0</td>\n",
       "      <td>0.000000</td>\n",
       "      <td>2020-07-20</td>\n",
       "      <td>76</td>\n",
       "      <td>3.166667</td>\n",
       "    </tr>\n",
       "    <tr>\n",
       "      <th>2020-07-20 08:40:00</th>\n",
       "      <td>4</td>\n",
       "      <td>222.250000</td>\n",
       "      <td>2020-07-20</td>\n",
       "      <td>76</td>\n",
       "      <td>3.333333</td>\n",
       "    </tr>\n",
       "    <tr>\n",
       "      <th>2020-07-20 08:45:00</th>\n",
       "      <td>4</td>\n",
       "      <td>441.000000</td>\n",
       "      <td>2020-07-20</td>\n",
       "      <td>76</td>\n",
       "      <td>3.000000</td>\n",
       "    </tr>\n",
       "    <tr>\n",
       "      <th>2020-07-20 08:50:00</th>\n",
       "      <td>8</td>\n",
       "      <td>779.625000</td>\n",
       "      <td>2020-07-20</td>\n",
       "      <td>76</td>\n",
       "      <td>4.000000</td>\n",
       "    </tr>\n",
       "    <tr>\n",
       "      <th>2020-07-20 08:55:00</th>\n",
       "      <td>7</td>\n",
       "      <td>255.428571</td>\n",
       "      <td>2020-07-20</td>\n",
       "      <td>76</td>\n",
       "      <td>4.333333</td>\n",
       "    </tr>\n",
       "    <tr>\n",
       "      <th>2020-07-20 09:00:00</th>\n",
       "      <td>3</td>\n",
       "      <td>185.666667</td>\n",
       "      <td>2020-07-20</td>\n",
       "      <td>76</td>\n",
       "      <td>4.333333</td>\n",
       "    </tr>\n",
       "  </tbody>\n",
       "</table>\n",
       "</div>"
      ],
      "text/plain": [
       "                     ncalls    Avg-time      Period  nagents  ma-calls\n",
       "Create-time                                                           \n",
       "2020-07-20 08:00:00       1  498.000000  2020-07-20       76  1.333333\n",
       "2020-07-20 08:05:00       2  355.500000  2020-07-20       76  1.166667\n",
       "2020-07-20 08:10:00       3  155.000000  2020-07-20       76  1.666667\n",
       "2020-07-20 08:15:00       6  510.833333  2020-07-20       76  2.500000\n",
       "2020-07-20 08:20:00       2  107.000000  2020-07-20       76  2.833333\n",
       "2020-07-20 08:25:00       5  289.400000  2020-07-20       76  3.166667\n",
       "2020-07-20 08:30:00       3  479.333333  2020-07-20       76  3.500000\n",
       "2020-07-20 08:35:00       0    0.000000  2020-07-20       76  3.166667\n",
       "2020-07-20 08:40:00       4  222.250000  2020-07-20       76  3.333333\n",
       "2020-07-20 08:45:00       4  441.000000  2020-07-20       76  3.000000\n",
       "2020-07-20 08:50:00       8  779.625000  2020-07-20       76  4.000000\n",
       "2020-07-20 08:55:00       7  255.428571  2020-07-20       76  4.333333\n",
       "2020-07-20 09:00:00       3  185.666667  2020-07-20       76  4.333333"
      ]
     },
     "execution_count": 8,
     "metadata": {},
     "output_type": "execute_result"
    }
   ],
   "source": [
    "data.loc['2020-07-20 08:00:00':'2020-07-20 09:00:00']"
   ]
  },
  {
   "cell_type": "code",
   "execution_count": 9,
   "metadata": {},
   "outputs": [],
   "source": [
    "import datetime\n",
    "time_vals = [d[11:16] for d in data.loc['2020-07-20 08:00:00':'2020-07-20 23:55:00'].index.values.tolist()]\n",
    "time_ticks = [time_vals[i] for i in range(0, len(time_vals), 20)]\n",
    "time_ticks = time_ticks.append('00:40')"
   ]
  },
  {
   "cell_type": "code",
   "execution_count": 10,
   "metadata": {},
   "outputs": [
    {
     "name": "stdout",
     "output_type": "stream",
     "text": [
      "None\n"
     ]
    }
   ],
   "source": [
    "print(time_ticks)"
   ]
  },
  {
   "cell_type": "code",
   "execution_count": 11,
   "metadata": {
    "scrolled": true
   },
   "outputs": [
    {
     "name": "stderr",
     "output_type": "stream",
     "text": [
      "/home/ajoshi/.local/lib/python3.8/site-packages/pandas/plotting/_matplotlib/core.py:1235: UserWarning: FixedFormatter should only be used together with FixedLocator\n",
      "  ax.set_xticklabels(xticklabels)\n"
     ]
    },
    {
     "data": {
      "image/png": "[encoded data removed]",
      "text/plain": [
       "<Figure size 1152x288 with 1 Axes>"
      ]
     },
     "metadata": {
      "needs_background": "light"
     },
     "output_type": "display_data"
    }
   ],
   "source": [
    "ax = data.loc['2020-07-20 08:00:00':'2020-07-20 23:55:00']['ma-calls'].plot(figsize=(16, 4))"
   ]
  },
  {
   "cell_type": "markdown",
   "metadata": {},
   "source": [
    "**Question:**\n",
    "Given a number of agents, average time to complete a task and rate the incoming calls what is the average waiting time?\n",
    "\n",
    "The number of agents on a day is known. We should be able to plot another curve on this chart which indicates the maximum inflow we can sustain without dropping quality. That should give our first indication of things slipping out of control. In fact, we can add yet another curve that indicates that we are approaching danger.\n",
    "\n",
    "One may not be able to infer the queue length as easily as forecast ASA. I think the business tracks ASA and not the queue length. Refer to equation (1.4) in the paper 'Evaluating the Erlang C and Erlang A Models for Call Center Modeling'. File name is 'Erlang Compare Working paper.pdf'.\n"
   ]
  }
 ],
 "metadata": {
  "kernelspec": {
   "display_name": "Python 3",
   "language": "python",
   "name": "python3"
  },
  "language_info": {
   "codemirror_mode": {
    "name": "ipython",
    "version": 3
   },
   "file_extension": ".py",
   "mimetype": "text/x-python",
   "name": "python",
   "nbconvert_exporter": "python",
   "pygments_lexer": "ipython3",
   "version": "3.8.6"
  }
 },
 "nbformat": 4,
 "nbformat_minor": 4
}
