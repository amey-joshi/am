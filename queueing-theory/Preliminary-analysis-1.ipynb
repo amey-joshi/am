{
 "cells": [
  {
   "cell_type": "markdown",
   "metadata": {},
   "source": [
    "Trying to come up with some metrics to detect overflow."
   ]
  },
  {
   "cell_type": "code",
   "execution_count": 39,
   "metadata": {},
   "outputs": [],
   "source": [
    "import numpy as np\n",
    "import pandas as pd\n",
    "import matplotlib.pyplot as plt"
   ]
  },
  {
   "cell_type": "code",
   "execution_count": 94,
   "metadata": {},
   "outputs": [],
   "source": [
    "data = pd.read_csv('consolidated.csv')"
   ]
  },
  {
   "cell_type": "code",
   "execution_count": 95,
   "metadata": {},
   "outputs": [],
   "source": [
    "# This is the time in seconds taken to complete a call(included post-processing).\n",
    "data['Avg-time'] = data['Avg-time'].fillna(0) "
   ]
  },
  {
   "cell_type": "code",
   "execution_count": 96,
   "metadata": {},
   "outputs": [],
   "source": [
    "data['lambda'] = data['ncalls'].rolling(window=6).mean() # Number of calls per 5 minutes."
   ]
  },
  {
   "cell_type": "code",
   "execution_count": 97,
   "metadata": {},
   "outputs": [],
   "source": [
    "data.set_index('Create-time', inplace=True)"
   ]
  },
  {
   "cell_type": "code",
   "execution_count": 99,
   "metadata": {},
   "outputs": [],
   "source": [
    "data['mu'] = data['Avg-time']/300 # The term lambda/mu must be unit less."
   ]
  },
  {
   "cell_type": "code",
   "execution_count": 100,
   "metadata": {},
   "outputs": [],
   "source": [
    "data['E'] = data['lambda']*data['mu'] # Ordered traffic in erlangs"
   ]
  },
  {
   "cell_type": "markdown",
   "metadata": {},
   "source": [
    "**Question:**\n",
    "Given a number of agents, average time to complete a task and rate the incoming calls what is the average waiting time?\n",
    "\n",
    "The number of agents on a day is known. We should be able to plot another curve on this chart which indicates the maximum inflow we can sustain without dropping quality. That should give our first indication of things slipping out of control. In fact, we can add yet another curve that indicates that we are approaching danger.\n",
    "\n",
    "One may not be able to infer the queue length as easily as forecast ASA. I think the business tracks ASA and not the queue length. Refer to equation (1.4) in the paper 'Evaluating the Erlang C and Erlang A Models for Call Center Modeling'. File name is 'Erlang Compare Working paper.pdf'.\n"
   ]
  },
  {
   "cell_type": "code",
   "execution_count": 133,
   "metadata": {},
   "outputs": [],
   "source": [
    "def factorial(n):\n",
    "    if n == 0:\n",
    "        return 1.0\n",
    "    else:\n",
    "        f = 1.0\n",
    "        for m in range(1, n+1):\n",
    "            f = f * m\n",
    "        \n",
    "        return f\n",
    "    \n",
    "def prob_of_wait(ncalls, E, m, drop=40):\n",
    "    \"\"\"\n",
    "    ncalls: number of calls in an interval of 5 minutes.\n",
    "    E:      traffic\n",
    "    m:      # agents.\n",
    "    drop:   a variable that corrects the number of people on the floor. \n",
    "    Reference: https://en.wikipedia.org/wiki/Erlang_(unit)\n",
    "    \"\"\"\n",
    "    if ncalls == 0:\n",
    "        return 0\n",
    "    \n",
    "    # Remove this block. This is just an experiment.    \n",
    "    if m > drop + 1 and m - E != drop:\n",
    "        m -= drop\n",
    "    \n",
    "    numerator = E**m/factorial(m) * m/(m-E)\n",
    "    denominator = 0\n",
    "        \n",
    "    for i in range(m):\n",
    "        denominator += E**i/factorial(i)\n",
    "        \n",
    "    denominator += numerator\n",
    "    \n",
    "    p = numerator/denominator\n",
    "    \n",
    "    # TODO: Find out when p exceeds 1. Which assumptions of Erlang C formula are violated?\n",
    "    if p > 1:\n",
    "        p = 1\n",
    "        \n",
    "    return p\n",
    "\n",
    "def calculate_ASA(wait_prob, N, mu, rho):\n",
    "    return wait_prob/(N * mu * rho)"
   ]
  },
  {
   "cell_type": "code",
   "execution_count": 134,
   "metadata": {},
   "outputs": [],
   "source": [
    "assert factorial(0) == 1\n",
    "assert factorial(1) == 1\n",
    "assert factorial(5) == 120\n",
    "assert factorial(12) == 479001600"
   ]
  },
  {
   "cell_type": "code",
   "execution_count": 135,
   "metadata": {},
   "outputs": [
    {
     "data": {
      "text/plain": [
       "0.037587062946995514"
      ]
     },
     "execution_count": 135,
     "metadata": {},
     "output_type": "execute_result"
    }
   ],
   "source": [
    "prob_of_wait(17, 25.738519, 76)"
   ]
  },
  {
   "cell_type": "code",
   "execution_count": 136,
   "metadata": {},
   "outputs": [
    {
     "data": {
      "text/plain": [
       "1"
      ]
     },
     "execution_count": 136,
     "metadata": {},
     "output_type": "execute_result"
    }
   ],
   "source": [
    "r = data.loc['2020-07-20 10:35:00']\n",
    "prob_of_wait(r['ncalls'], r['E'], r['nagents'])"
   ]
  },
  {
   "cell_type": "code",
   "execution_count": null,
   "metadata": {},
   "outputs": [],
   "source": [
    "drop = 20 # The number by which the agent count should be reduced."
   ]
  },
  {
   "cell_type": "code",
   "execution_count": 137,
   "metadata": {},
   "outputs": [],
   "source": [
    "data['wait-prob'] = data.apply(lambda r: prob_of_wait(r['ncalls'], r['E'], r['nagents'], drop), axis=1)"
   ]
  },
  {
   "cell_type": "code",
   "execution_count": 138,
   "metadata": {},
   "outputs": [],
   "source": [
    "data['asa'] = data['wait-prob'] * data['mu']/(data['nagents'] - E - drop) * 5 # Convert to minutes"
   ]
  },
  {
   "cell_type": "code",
   "execution_count": 139,
   "metadata": {},
   "outputs": [
    {
     "data": {
      "text/html": [
       "<div>\n",
       "<style scoped>\n",
       "    .dataframe tbody tr th:only-of-type {\n",
       "        vertical-align: middle;\n",
       "    }\n",
       "\n",
       "    .dataframe tbody tr th {\n",
       "        vertical-align: top;\n",
       "    }\n",
       "\n",
       "    .dataframe thead th {\n",
       "        text-align: right;\n",
       "    }\n",
       "</style>\n",
       "<table border=\"1\" class=\"dataframe\">\n",
       "  <thead>\n",
       "    <tr style=\"text-align: right;\">\n",
       "      <th></th>\n",
       "      <th>ncalls</th>\n",
       "      <th>Avg-time</th>\n",
       "      <th>Period</th>\n",
       "      <th>nagents</th>\n",
       "      <th>lambda</th>\n",
       "      <th>mu</th>\n",
       "      <th>E</th>\n",
       "      <th>wait-prob</th>\n",
       "      <th>asa</th>\n",
       "    </tr>\n",
       "    <tr>\n",
       "      <th>Create-time</th>\n",
       "      <th></th>\n",
       "      <th></th>\n",
       "      <th></th>\n",
       "      <th></th>\n",
       "      <th></th>\n",
       "      <th></th>\n",
       "      <th></th>\n",
       "      <th></th>\n",
       "      <th></th>\n",
       "    </tr>\n",
       "  </thead>\n",
       "  <tbody>\n",
       "    <tr>\n",
       "      <th>2020-07-20 09:35:00</th>\n",
       "      <td>19</td>\n",
       "      <td>380.526316</td>\n",
       "      <td>2020-07-20</td>\n",
       "      <td>76</td>\n",
       "      <td>20.333333</td>\n",
       "      <td>1.268421</td>\n",
       "      <td>25.791228</td>\n",
       "      <td>1.809803e-07</td>\n",
       "      <td>2.133979e-08</td>\n",
       "    </tr>\n",
       "    <tr>\n",
       "      <th>2020-07-20 09:40:00</th>\n",
       "      <td>8</td>\n",
       "      <td>390.500000</td>\n",
       "      <td>2020-07-20</td>\n",
       "      <td>76</td>\n",
       "      <td>17.666667</td>\n",
       "      <td>1.301667</td>\n",
       "      <td>22.996111</td>\n",
       "      <td>4.398619e-09</td>\n",
       "      <td>5.322448e-10</td>\n",
       "    </tr>\n",
       "    <tr>\n",
       "      <th>2020-07-20 09:45:00</th>\n",
       "      <td>30</td>\n",
       "      <td>473.133333</td>\n",
       "      <td>2020-07-20</td>\n",
       "      <td>76</td>\n",
       "      <td>18.333333</td>\n",
       "      <td>1.577111</td>\n",
       "      <td>28.913704</td>\n",
       "      <td>5.349538e-06</td>\n",
       "      <td>7.842850e-07</td>\n",
       "    </tr>\n",
       "    <tr>\n",
       "      <th>2020-07-20 09:50:00</th>\n",
       "      <td>17</td>\n",
       "      <td>649.647059</td>\n",
       "      <td>2020-07-20</td>\n",
       "      <td>76</td>\n",
       "      <td>18.500000</td>\n",
       "      <td>2.165490</td>\n",
       "      <td>40.061569</td>\n",
       "      <td>1.115810e-02</td>\n",
       "      <td>2.246165e-03</td>\n",
       "    </tr>\n",
       "    <tr>\n",
       "      <th>2020-07-20 09:55:00</th>\n",
       "      <td>28</td>\n",
       "      <td>491.750000</td>\n",
       "      <td>2020-07-20</td>\n",
       "      <td>76</td>\n",
       "      <td>19.000000</td>\n",
       "      <td>1.639167</td>\n",
       "      <td>31.144167</td>\n",
       "      <td>4.020189e-05</td>\n",
       "      <td>6.125830e-06</td>\n",
       "    </tr>\n",
       "    <tr>\n",
       "      <th>2020-07-20 10:00:00</th>\n",
       "      <td>25</td>\n",
       "      <td>386.520000</td>\n",
       "      <td>2020-07-20</td>\n",
       "      <td>76</td>\n",
       "      <td>21.166667</td>\n",
       "      <td>1.288400</td>\n",
       "      <td>27.271133</td>\n",
       "      <td>9.855451e-07</td>\n",
       "      <td>1.180382e-07</td>\n",
       "    </tr>\n",
       "    <tr>\n",
       "      <th>2020-07-20 10:05:00</th>\n",
       "      <td>17</td>\n",
       "      <td>564.470588</td>\n",
       "      <td>2020-07-20</td>\n",
       "      <td>76</td>\n",
       "      <td>20.833333</td>\n",
       "      <td>1.881569</td>\n",
       "      <td>39.199346</td>\n",
       "      <td>7.416984e-03</td>\n",
       "      <td>1.297307e-03</td>\n",
       "    </tr>\n",
       "    <tr>\n",
       "      <th>2020-07-20 10:10:00</th>\n",
       "      <td>22</td>\n",
       "      <td>506.090909</td>\n",
       "      <td>2020-07-20</td>\n",
       "      <td>76</td>\n",
       "      <td>23.166667</td>\n",
       "      <td>1.686970</td>\n",
       "      <td>39.081465</td>\n",
       "      <td>7.001004e-03</td>\n",
       "      <td>1.097901e-03</td>\n",
       "    </tr>\n",
       "    <tr>\n",
       "      <th>2020-07-20 10:15:00</th>\n",
       "      <td>29</td>\n",
       "      <td>572.000000</td>\n",
       "      <td>2020-07-20</td>\n",
       "      <td>76</td>\n",
       "      <td>23.000000</td>\n",
       "      <td>1.906667</td>\n",
       "      <td>43.853333</td>\n",
       "      <td>5.186597e-02</td>\n",
       "      <td>9.192901e-03</td>\n",
       "    </tr>\n",
       "    <tr>\n",
       "      <th>2020-07-20 10:20:00</th>\n",
       "      <td>24</td>\n",
       "      <td>543.958333</td>\n",
       "      <td>2020-07-20</td>\n",
       "      <td>76</td>\n",
       "      <td>24.166667</td>\n",
       "      <td>1.813194</td>\n",
       "      <td>43.818866</td>\n",
       "      <td>5.123439e-02</td>\n",
       "      <td>8.635775e-03</td>\n",
       "    </tr>\n",
       "    <tr>\n",
       "      <th>2020-07-20 10:25:00</th>\n",
       "      <td>22</td>\n",
       "      <td>497.545455</td>\n",
       "      <td>2020-07-20</td>\n",
       "      <td>76</td>\n",
       "      <td>23.166667</td>\n",
       "      <td>1.658485</td>\n",
       "      <td>38.421566</td>\n",
       "      <td>5.024228e-03</td>\n",
       "      <td>7.745977e-04</td>\n",
       "    </tr>\n",
       "    <tr>\n",
       "      <th>2020-07-20 10:30:00</th>\n",
       "      <td>28</td>\n",
       "      <td>400.321429</td>\n",
       "      <td>2020-07-20</td>\n",
       "      <td>76</td>\n",
       "      <td>23.666667</td>\n",
       "      <td>1.334405</td>\n",
       "      <td>31.580913</td>\n",
       "      <td>5.767061e-05</td>\n",
       "      <td>7.153811e-06</td>\n",
       "    </tr>\n",
       "    <tr>\n",
       "      <th>2020-07-20 10:35:00</th>\n",
       "      <td>15</td>\n",
       "      <td>588.066667</td>\n",
       "      <td>2020-07-20</td>\n",
       "      <td>76</td>\n",
       "      <td>23.333333</td>\n",
       "      <td>1.960222</td>\n",
       "      <td>45.738519</td>\n",
       "      <td>9.720449e-02</td>\n",
       "      <td>1.771279e-02</td>\n",
       "    </tr>\n",
       "  </tbody>\n",
       "</table>\n",
       "</div>"
      ],
      "text/plain": [
       "                     ncalls    Avg-time      Period  nagents     lambda  \\\n",
       "Create-time                                                               \n",
       "2020-07-20 09:35:00      19  380.526316  2020-07-20       76  20.333333   \n",
       "2020-07-20 09:40:00       8  390.500000  2020-07-20       76  17.666667   \n",
       "2020-07-20 09:45:00      30  473.133333  2020-07-20       76  18.333333   \n",
       "2020-07-20 09:50:00      17  649.647059  2020-07-20       76  18.500000   \n",
       "2020-07-20 09:55:00      28  491.750000  2020-07-20       76  19.000000   \n",
       "2020-07-20 10:00:00      25  386.520000  2020-07-20       76  21.166667   \n",
       "2020-07-20 10:05:00      17  564.470588  2020-07-20       76  20.833333   \n",
       "2020-07-20 10:10:00      22  506.090909  2020-07-20       76  23.166667   \n",
       "2020-07-20 10:15:00      29  572.000000  2020-07-20       76  23.000000   \n",
       "2020-07-20 10:20:00      24  543.958333  2020-07-20       76  24.166667   \n",
       "2020-07-20 10:25:00      22  497.545455  2020-07-20       76  23.166667   \n",
       "2020-07-20 10:30:00      28  400.321429  2020-07-20       76  23.666667   \n",
       "2020-07-20 10:35:00      15  588.066667  2020-07-20       76  23.333333   \n",
       "\n",
       "                           mu          E     wait-prob           asa  \n",
       "Create-time                                                           \n",
       "2020-07-20 09:35:00  1.268421  25.791228  1.809803e-07  2.133979e-08  \n",
       "2020-07-20 09:40:00  1.301667  22.996111  4.398619e-09  5.322448e-10  \n",
       "2020-07-20 09:45:00  1.577111  28.913704  5.349538e-06  7.842850e-07  \n",
       "2020-07-20 09:50:00  2.165490  40.061569  1.115810e-02  2.246165e-03  \n",
       "2020-07-20 09:55:00  1.639167  31.144167  4.020189e-05  6.125830e-06  \n",
       "2020-07-20 10:00:00  1.288400  27.271133  9.855451e-07  1.180382e-07  \n",
       "2020-07-20 10:05:00  1.881569  39.199346  7.416984e-03  1.297307e-03  \n",
       "2020-07-20 10:10:00  1.686970  39.081465  7.001004e-03  1.097901e-03  \n",
       "2020-07-20 10:15:00  1.906667  43.853333  5.186597e-02  9.192901e-03  \n",
       "2020-07-20 10:20:00  1.813194  43.818866  5.123439e-02  8.635775e-03  \n",
       "2020-07-20 10:25:00  1.658485  38.421566  5.024228e-03  7.745977e-04  \n",
       "2020-07-20 10:30:00  1.334405  31.580913  5.767061e-05  7.153811e-06  \n",
       "2020-07-20 10:35:00  1.960222  45.738519  9.720449e-02  1.771279e-02  "
      ]
     },
     "execution_count": 139,
     "metadata": {},
     "output_type": "execute_result"
    }
   ],
   "source": [
    "data.loc['2020-07-20 09:35:00':'2020-07-20 10:35:00']"
   ]
  },
  {
   "cell_type": "code",
   "execution_count": 140,
   "metadata": {},
   "outputs": [],
   "source": [
    "data.to_csv('wait_prob.csv', index=False)"
   ]
  },
  {
   "cell_type": "code",
   "execution_count": 130,
   "metadata": {},
   "outputs": [
    {
     "data": {
      "text/plain": [
       "1.0"
      ]
     },
     "execution_count": 130,
     "metadata": {},
     "output_type": "execute_result"
    }
   ],
   "source": [
    "np.max(data['wait-prob'])"
   ]
  },
  {
   "cell_type": "code",
   "execution_count": 131,
   "metadata": {},
   "outputs": [
    {
     "data": {
      "text/plain": [
       "<AxesSubplot:>"
      ]
     },
     "execution_count": 131,
     "metadata": {},
     "output_type": "execute_result"
    },
    {
     "data": {
      "image/png": "[encoded data removed]",
      "text/plain": [
       "<Figure size 432x288 with 1 Axes>"
      ]
     },
     "metadata": {
      "needs_background": "light"
     },
     "output_type": "display_data"
    }
   ],
   "source": [
    "data['wait-prob'].hist()"
   ]
  },
  {
   "cell_type": "code",
   "execution_count": 132,
   "metadata": {},
   "outputs": [
    {
     "data": {
      "text/plain": [
       "215.23868686868684"
      ]
     },
     "execution_count": 132,
     "metadata": {},
     "output_type": "execute_result"
    }
   ],
   "source": [
    "np.max(data['E'])"
   ]
  },
  {
   "cell_type": "markdown",
   "metadata": {},
   "source": [
    "**19-Oct-2020**\n",
    "\n",
    "I implemented a function to compute the probability that a customer will have to wait. Since I do not have accurate data on the number of agents on the floor and I believe that perhaps 76 is a very large number, I reduced it by 40. This is also to check if there are situations when the probability of wait is one. I also calculate the ASA for each interval of five minutes.\n",
    "\n",
    "Next steps:\n",
    "1. Get an accurate count of agents on the floor for every interval of 5 minutes.\n",
    "2. Confirm that that situation was indeed read when probability of wait exceeded 0.5."
   ]
  }
 ],
 "metadata": {
  "kernelspec": {
   "display_name": "Python 3",
   "language": "python",
   "name": "python3"
  },
  "language_info": {
   "codemirror_mode": {
    "name": "ipython",
    "version": 3
   },
   "file_extension": ".py",
   "mimetype": "text/x-python",
   "name": "python",
   "nbconvert_exporter": "python",
   "pygments_lexer": "ipython3",
   "version": "3.8.6"
  }
 },
 "nbformat": 4,
 "nbformat_minor": 4
}
