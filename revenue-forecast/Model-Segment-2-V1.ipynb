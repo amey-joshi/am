{
 "cells": [
  {
   "cell_type": "code",
   "execution_count": 16,
   "metadata": {},
   "outputs": [],
   "source": [
    "import numpy as np\n",
    "import pandas as pd\n",
    "import matplotlib.pyplot as plt\n",
    "from sklearn.model_selection import train_test_split\n",
    "from sklearn.metrics import mean_squared_error, r2_score\n",
    "from sklearn.linear_model import LinearRegression"
   ]
  },
  {
   "cell_type": "code",
   "execution_count": 17,
   "metadata": {},
   "outputs": [],
   "source": [
    "seg = pd.read_csv('segment-2.csv')\n",
    "seg['month'] = seg['Date'].apply(lambda x: x[0:2])\n",
    "seg['sqrt-tpc'] = np.sqrt(seg['Total paid customers'])"
   ]
  },
  {
   "cell_type": "code",
   "execution_count": 18,
   "metadata": {},
   "outputs": [],
   "source": [
    "X = seg[['Total paid customers', 'sqrt-tpc']]\n",
    "y = seg['Segment 2 MRR']\n",
    "\n",
    "X_train, X_test, y_train, y_test = train_test_split(X, y, test_size = 0.2, random_state = 15081947)"
   ]
  },
  {
   "cell_type": "code",
   "execution_count": 19,
   "metadata": {},
   "outputs": [],
   "source": [
    "lr = LinearRegression()\n",
    "lr = lr.fit(X_train, y_train)"
   ]
  },
  {
   "cell_type": "code",
   "execution_count": 20,
   "metadata": {},
   "outputs": [
    {
     "data": {
      "image/png": "[encoded data removed]",
      "text/plain": [
       "<Figure size 432x288 with 1 Axes>"
      ]
     },
     "metadata": {
      "needs_background": "light"
     },
     "output_type": "display_data"
    }
   ],
   "source": [
    "y_trn_pred = lr.predict(X_train)\n",
    "plt.scatter(X_train['Total paid customers'], y_train, s = 2, label = 'Actual')\n",
    "plt.scatter(X_train['Total paid customers'], y_trn_pred, s = 2, label = 'Predicted')\n",
    "plt.legend()\n",
    "ignore = plt.title('Performance on training data')"
   ]
  },
  {
   "cell_type": "code",
   "execution_count": 21,
   "metadata": {},
   "outputs": [
    {
     "data": {
      "image/png": "[encoded data removed]",
      "text/plain": [
       "<Figure size 432x288 with 1 Axes>"
      ]
     },
     "metadata": {
      "needs_background": "light"
     },
     "output_type": "display_data"
    }
   ],
   "source": [
    "y_tst_pred = lr.predict(X_test)\n",
    "plt.scatter(X_test['Total paid customers'], y_test, s = 2, label = 'Actual')\n",
    "plt.scatter(X_test['Total paid customers'], y_tst_pred, s = 2, label = 'Predicted')\n",
    "plt.legend()\n",
    "ignore = plt.title('Performance on test data')"
   ]
  },
  {
   "cell_type": "markdown",
   "metadata": {},
   "source": [
    "We will now predict 'Total paid customers' for the next three months."
   ]
  },
  {
   "cell_type": "code",
   "execution_count": 22,
   "metadata": {},
   "outputs": [
    {
     "name": "stderr",
     "output_type": "stream",
     "text": [
      "/home/ajoshi/.local/lib/python3.9/site-packages/statsmodels/tsa/arima_model.py:472: FutureWarning: \n",
      "statsmodels.tsa.arima_model.ARMA and statsmodels.tsa.arima_model.ARIMA have\n",
      "been deprecated in favor of statsmodels.tsa.arima.model.ARIMA (note the .\n",
      "between arima and model) and\n",
      "statsmodels.tsa.SARIMAX. These will be removed after the 0.12 release.\n",
      "\n",
      "statsmodels.tsa.arima.model.ARIMA makes use of the statespace framework and\n",
      "is both well tested and maintained.\n",
      "\n",
      "To silence this warning and continue using ARMA and ARIMA until they are\n",
      "removed, use:\n",
      "\n",
      "import warnings\n",
      "warnings.filterwarnings('ignore', 'statsmodels.tsa.arima_model.ARMA',\n",
      "                        FutureWarning)\n",
      "warnings.filterwarnings('ignore', 'statsmodels.tsa.arima_model.ARIMA',\n",
      "                        FutureWarning)\n",
      "\n",
      "  warnings.warn(ARIMA_DEPRECATION_WARN, FutureWarning)\n",
      "/home/ajoshi/.local/lib/python3.9/site-packages/statsmodels/base/model.py:566: ConvergenceWarning: Maximum Likelihood optimization failed to converge. Check mle_retvals\n",
      "  warnings.warn(\"Maximum Likelihood optimization failed to \"\n",
      "/home/ajoshi/.local/lib/python3.9/site-packages/statsmodels/tsa/arima_model.py:1521: RuntimeWarning: invalid value encountered in sqrt\n",
      "  return np.sqrt(np.diag(-inv(hess)))\n"
     ]
    },
    {
     "data": {
      "text/html": [
       "<table class=\"simpletable\">\n",
       "<caption>ARMA Model Results</caption>\n",
       "<tr>\n",
       "  <th>Dep. Variable:</th> <td>Total paid customers</td> <th>  No. Observations:  </th>    <td>365</td>   \n",
       "</tr>\n",
       "<tr>\n",
       "  <th>Model:</th>              <td>ARMA(12, 0)</td>     <th>  Log Likelihood     </th> <td>-1480.049</td>\n",
       "</tr>\n",
       "<tr>\n",
       "  <th>Method:</th>                 <td>mle</td>         <th>  S.D. of innovations</th>  <td>13.656</td>  \n",
       "</tr>\n",
       "<tr>\n",
       "  <th>Date:</th>            <td>Mon, 23 Nov 2020</td>   <th>  AIC                </th> <td>2988.097</td> \n",
       "</tr>\n",
       "<tr>\n",
       "  <th>Time:</th>                <td>12:56:47</td>       <th>  BIC                </th> <td>3042.696</td> \n",
       "</tr>\n",
       "<tr>\n",
       "  <th>Sample:</th>                  <td>0</td>          <th>  HQIC               </th> <td>3009.795</td> \n",
       "</tr>\n",
       "<tr>\n",
       "  <th></th>                         <td> </td>          <th>                     </th>     <td> </td>    \n",
       "</tr>\n",
       "</table>\n",
       "<table class=\"simpletable\">\n",
       "<tr>\n",
       "               <td></td>                  <th>coef</th>     <th>std err</th>      <th>z</th>      <th>P>|z|</th>  <th>[0.025</th>    <th>0.975]</th>  \n",
       "</tr>\n",
       "<tr>\n",
       "  <th>const</th>                       <td> 8048.2562</td> <td> 4176.715</td> <td>    1.927</td> <td> 0.054</td> <td> -137.956</td> <td> 1.62e+04</td>\n",
       "</tr>\n",
       "<tr>\n",
       "  <th>ar.L1.Total paid customers</th>  <td>    1.0651</td> <td>    0.005</td> <td>  196.699</td> <td> 0.000</td> <td>    1.054</td> <td>    1.076</td>\n",
       "</tr>\n",
       "<tr>\n",
       "  <th>ar.L2.Total paid customers</th>  <td>   -0.0172</td> <td>    0.058</td> <td>   -0.294</td> <td> 0.769</td> <td>   -0.132</td> <td>    0.097</td>\n",
       "</tr>\n",
       "<tr>\n",
       "  <th>ar.L3.Total paid customers</th>  <td>    0.0162</td> <td>    0.077</td> <td>    0.209</td> <td> 0.834</td> <td>   -0.136</td> <td>    0.168</td>\n",
       "</tr>\n",
       "<tr>\n",
       "  <th>ar.L4.Total paid customers</th>  <td>   -0.0463</td> <td>      nan</td> <td>      nan</td> <td>   nan</td> <td>      nan</td> <td>      nan</td>\n",
       "</tr>\n",
       "<tr>\n",
       "  <th>ar.L5.Total paid customers</th>  <td>    0.0223</td> <td>      nan</td> <td>      nan</td> <td>   nan</td> <td>      nan</td> <td>      nan</td>\n",
       "</tr>\n",
       "<tr>\n",
       "  <th>ar.L6.Total paid customers</th>  <td>   -0.0777</td> <td>    0.031</td> <td>   -2.505</td> <td> 0.012</td> <td>   -0.138</td> <td>   -0.017</td>\n",
       "</tr>\n",
       "<tr>\n",
       "  <th>ar.L7.Total paid customers</th>  <td>    0.3886</td> <td>    0.031</td> <td>   12.620</td> <td> 0.000</td> <td>    0.328</td> <td>    0.449</td>\n",
       "</tr>\n",
       "<tr>\n",
       "  <th>ar.L8.Total paid customers</th>  <td>   -0.3804</td> <td>    0.038</td> <td>   -9.926</td> <td> 0.000</td> <td>   -0.456</td> <td>   -0.305</td>\n",
       "</tr>\n",
       "<tr>\n",
       "  <th>ar.L9.Total paid customers</th>  <td>    0.2225</td> <td>    0.021</td> <td>   10.521</td> <td> 0.000</td> <td>    0.181</td> <td>    0.264</td>\n",
       "</tr>\n",
       "<tr>\n",
       "  <th>ar.L10.Total paid customers</th> <td>   -0.0757</td> <td>    0.016</td> <td>   -4.839</td> <td> 0.000</td> <td>   -0.106</td> <td>   -0.045</td>\n",
       "</tr>\n",
       "<tr>\n",
       "  <th>ar.L11.Total paid customers</th> <td>    0.0315</td> <td>      nan</td> <td>      nan</td> <td>   nan</td> <td>      nan</td> <td>      nan</td>\n",
       "</tr>\n",
       "<tr>\n",
       "  <th>ar.L12.Total paid customers</th> <td>   -0.1492</td> <td>      nan</td> <td>      nan</td> <td>   nan</td> <td>      nan</td> <td>      nan</td>\n",
       "</tr>\n",
       "</table>\n",
       "<table class=\"simpletable\">\n",
       "<caption>Roots</caption>\n",
       "<tr>\n",
       "    <td></td>    <th>            Real</th>  <th>         Imaginary</th> <th>         Modulus</th>  <th>        Frequency</th>\n",
       "</tr>\n",
       "<tr>\n",
       "  <th>AR.1</th>  <td>           1.0014</td> <td>          -0.0049j</td> <td>           1.0014</td> <td>          -0.0008</td>\n",
       "</tr>\n",
       "<tr>\n",
       "  <th>AR.2</th>  <td>           1.0014</td> <td>          +0.0049j</td> <td>           1.0014</td> <td>           0.0008</td>\n",
       "</tr>\n",
       "<tr>\n",
       "  <th>AR.3</th>  <td>           0.8758</td> <td>          -0.6949j</td> <td>           1.1180</td> <td>          -0.1068</td>\n",
       "</tr>\n",
       "<tr>\n",
       "  <th>AR.4</th>  <td>           0.8758</td> <td>          +0.6949j</td> <td>           1.1180</td> <td>           0.1068</td>\n",
       "</tr>\n",
       "<tr>\n",
       "  <th>AR.5</th>  <td>           0.4736</td> <td>          -1.1367j</td> <td>           1.2314</td> <td>          -0.1872</td>\n",
       "</tr>\n",
       "<tr>\n",
       "  <th>AR.6</th>  <td>           0.4736</td> <td>          +1.1367j</td> <td>           1.2314</td> <td>           0.1872</td>\n",
       "</tr>\n",
       "<tr>\n",
       "  <th>AR.7</th>  <td>          -1.0049</td> <td>          -0.4258j</td> <td>           1.0914</td> <td>          -0.4362</td>\n",
       "</tr>\n",
       "<tr>\n",
       "  <th>AR.8</th>  <td>          -1.0049</td> <td>          +0.4258j</td> <td>           1.0914</td> <td>           0.4362</td>\n",
       "</tr>\n",
       "<tr>\n",
       "  <th>AR.9</th>  <td>          -0.2679</td> <td>          -1.1150j</td> <td>           1.1467</td> <td>          -0.2875</td>\n",
       "</tr>\n",
       "<tr>\n",
       "  <th>AR.10</th> <td>          -0.2679</td> <td>          +1.1150j</td> <td>           1.1467</td> <td>           0.2875</td>\n",
       "</tr>\n",
       "<tr>\n",
       "  <th>AR.11</th> <td>          -0.9725</td> <td>          -1.1432j</td> <td>           1.5009</td> <td>          -0.3622</td>\n",
       "</tr>\n",
       "<tr>\n",
       "  <th>AR.12</th> <td>          -0.9725</td> <td>          +1.1432j</td> <td>           1.5009</td> <td>           0.3622</td>\n",
       "</tr>\n",
       "</table>"
      ],
      "text/plain": [
       "<class 'statsmodels.iolib.summary.Summary'>\n",
       "\"\"\"\n",
       "                               ARMA Model Results                               \n",
       "================================================================================\n",
       "Dep. Variable:     Total paid customers   No. Observations:                  365\n",
       "Model:                      ARMA(12, 0)   Log Likelihood               -1480.049\n",
       "Method:                             mle   S.D. of innovations             13.656\n",
       "Date:                  Mon, 23 Nov 2020   AIC                           2988.097\n",
       "Time:                          12:56:47   BIC                           3042.696\n",
       "Sample:                               0   HQIC                          3009.795\n",
       "                                                                                \n",
       "===============================================================================================\n",
       "                                  coef    std err          z      P>|z|      [0.025      0.975]\n",
       "-----------------------------------------------------------------------------------------------\n",
       "const                        8048.2562   4176.715      1.927      0.054    -137.956    1.62e+04\n",
       "ar.L1.Total paid customers      1.0651      0.005    196.699      0.000       1.054       1.076\n",
       "ar.L2.Total paid customers     -0.0172      0.058     -0.294      0.769      -0.132       0.097\n",
       "ar.L3.Total paid customers      0.0162      0.077      0.209      0.834      -0.136       0.168\n",
       "ar.L4.Total paid customers     -0.0463        nan        nan        nan         nan         nan\n",
       "ar.L5.Total paid customers      0.0223        nan        nan        nan         nan         nan\n",
       "ar.L6.Total paid customers     -0.0777      0.031     -2.505      0.012      -0.138      -0.017\n",
       "ar.L7.Total paid customers      0.3886      0.031     12.620      0.000       0.328       0.449\n",
       "ar.L8.Total paid customers     -0.3804      0.038     -9.926      0.000      -0.456      -0.305\n",
       "ar.L9.Total paid customers      0.2225      0.021     10.521      0.000       0.181       0.264\n",
       "ar.L10.Total paid customers    -0.0757      0.016     -4.839      0.000      -0.106      -0.045\n",
       "ar.L11.Total paid customers     0.0315        nan        nan        nan         nan         nan\n",
       "ar.L12.Total paid customers    -0.1492        nan        nan        nan         nan         nan\n",
       "                                    Roots                                     \n",
       "==============================================================================\n",
       "                   Real          Imaginary           Modulus         Frequency\n",
       "------------------------------------------------------------------------------\n",
       "AR.1             1.0014           -0.0049j            1.0014           -0.0008\n",
       "AR.2             1.0014           +0.0049j            1.0014            0.0008\n",
       "AR.3             0.8758           -0.6949j            1.1180           -0.1068\n",
       "AR.4             0.8758           +0.6949j            1.1180            0.1068\n",
       "AR.5             0.4736           -1.1367j            1.2314           -0.1872\n",
       "AR.6             0.4736           +1.1367j            1.2314            0.1872\n",
       "AR.7            -1.0049           -0.4258j            1.0914           -0.4362\n",
       "AR.8            -1.0049           +0.4258j            1.0914            0.4362\n",
       "AR.9            -0.2679           -1.1150j            1.1467           -0.2875\n",
       "AR.10           -0.2679           +1.1150j            1.1467            0.2875\n",
       "AR.11           -0.9725           -1.1432j            1.5009           -0.3622\n",
       "AR.12           -0.9725           +1.1432j            1.5009            0.3622\n",
       "------------------------------------------------------------------------------\n",
       "\"\"\""
      ]
     },
     "execution_count": 22,
     "metadata": {},
     "output_type": "execute_result"
    }
   ],
   "source": [
    "from statsmodels.tsa.arima_model import ARIMA\n",
    "import warnings\n",
    "warnings.filterwarnings('ignore', 'statsmodels.tsa.arima_model.ARMA', FutureWarning)\n",
    "warnings.filterwarnings('ignore', 'statsmodels.tsa.arima_model.ARIMA', FutureWarning)\n",
    "\n",
    "a1 = ARIMA(X['Total paid customers'], order = (12, 0, 0))\n",
    "f1 = a1.fit(method = 'mle', maxiter = 1000)\n",
    "f1.summary()"
   ]
  },
  {
   "cell_type": "code",
   "execution_count": 23,
   "metadata": {},
   "outputs": [],
   "source": [
    "future_tpc = f1.predict(start = 361, end = (361+90), dynamic=True)\n",
    "X_future = pd.DataFrame({'Total paid customers': future_tpc, 'sqrt-tpc': np.sqrt(future_tpc)})"
   ]
  },
  {
   "cell_type": "code",
   "execution_count": 24,
   "metadata": {},
   "outputs": [],
   "source": [
    "y_fut = lr.predict(X_future)"
   ]
  },
  {
   "cell_type": "code",
   "execution_count": 25,
   "metadata": {},
   "outputs": [],
   "source": [
    "jan_arpu = np.sum(y_fut[0:30])\n",
    "feb_arpu = np.sum(y_fut[31:59])\n",
    "mar_arpu = np.sum(y_fut[60:90])"
   ]
  },
  {
   "cell_type": "code",
   "execution_count": 26,
   "metadata": {},
   "outputs": [
    {
     "name": "stdout",
     "output_type": "stream",
     "text": [
      "ARPU for Jan = 9654590.29, Feb = 9297859.31, Mar = 10150034.65.\n"
     ]
    }
   ],
   "source": [
    "print('ARPU for Jan = {:0.2f}, Feb = {:0.2f}, Mar = {:0.2f}.'.format(jan_arpu, feb_arpu, mar_arpu))"
   ]
  },
  {
   "cell_type": "code",
   "execution_count": 29,
   "metadata": {},
   "outputs": [],
   "source": [
    "all_mrr = seg['Segment 2 MRR'].append(pd.Series(y_fut), ignore_index = True)"
   ]
  },
  {
   "cell_type": "code",
   "execution_count": 30,
   "metadata": {},
   "outputs": [
    {
     "data": {
      "image/png": "[encoded data removed]",
      "text/plain": [
       "<Figure size 432x288 with 1 Axes>"
      ]
     },
     "metadata": {
      "needs_background": "light"
     },
     "output_type": "display_data"
    }
   ],
   "source": [
    "ax = all_mrr.plot()\n",
    "ax.set_xlabel('time')\n",
    "ax.set_ylabel('MRR')\n",
    "ignore = ax.set_title('Current and future MRR.')"
   ]
  }
 ],
 "metadata": {
  "kernelspec": {
   "display_name": "Python 3",
   "language": "python",
   "name": "python3"
  },
  "language_info": {
   "codemirror_mode": {
    "name": "ipython",
    "version": 3
   },
   "file_extension": ".py",
   "mimetype": "text/x-python",
   "name": "python",
   "nbconvert_exporter": "python",
   "pygments_lexer": "ipython3",
   "version": "3.9.0"
  }
 },
 "nbformat": 4,
 "nbformat_minor": 4
}
