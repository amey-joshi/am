{
 "cells": [
  {
   "cell_type": "code",
   "execution_count": 68,
   "metadata": {},
   "outputs": [],
   "source": [
    "import pandas as pd\n",
    "import numpy as np\n",
    "import scipy.stats"
   ]
  },
  {
   "cell_type": "code",
   "execution_count": 69,
   "metadata": {},
   "outputs": [],
   "source": [
    "sheets = ['Single-pod-1', 'Single-pod-2', 'Scale-bound-1', 'Scale-bound-2', 'Scale-to-zero-1', \\\n",
    "          'Scale-to-zero-2', 'Kn-Scale-Bound', 'Kn-Target-Bound']"
   ]
  },
  {
   "cell_type": "code",
   "execution_count": 70,
   "metadata": {},
   "outputs": [],
   "source": [
    "excel_filename = 'data.xlsx'"
   ]
  },
  {
   "cell_type": "markdown",
   "metadata": {},
   "source": [
    "We want to check if the means of the two data sets are equal. We use the $t$-test for that purpose. The null hypothesis of the $t$-test is $H_0:$ 'the two means are equal'. Therefore if the $p$-value of the test is greater than the critical $p$-value then we cannot reject $H_0$. That is, the test concludes that there is not enough evidence to suspect that the two means are different from each other. Equivalently, we say that the two means are the same. \n",
    "\n",
    "[$t$-test](https://docs.scipy.org/doc/scipy/reference/generated/scipy.stats.ttest_ind.html) requires us to check if the variances of the two data sets are the same. We use [Levene's test](https://docs.scipy.org/doc/scipy/reference/generated/scipy.stats.levene.html#scipy.stats.levene) to check the equality of variances."
   ]
  },
  {
   "cell_type": "code",
   "execution_count": 75,
   "metadata": {},
   "outputs": [],
   "source": [
    "def do_t_test(sheet_name):\n",
    "    data = pd.read_excel(excel_filename, sheet_name = sheet_name, engine='openpyxl')\n",
    "    col1 = data.columns[1]\n",
    "    col2 = data.columns[2]\n",
    "    print(f'Analyzing data in the sheet {sheet_name}.')\n",
    "    print(f'Carrying out t-test between {col1} and {col2}.')\n",
    "    \n",
    "    X = data.iloc[:, 1].values.flatten()\n",
    "    Y = data.iloc[:, 2].values.flatten()\n",
    "    \n",
    "    mean_X = np.mean(X)\n",
    "    mean_Y = np.mean(Y)\n",
    "    print('The two means are {:0.3f} and {:0.3f}'.format(mean_X, mean_Y))\n",
    "    \n",
    "    # Check if the two data have the same variance.\n",
    "    results = scipy.stats.levene(X, Y)\n",
    "    p_value = results[1]\n",
    "    \n",
    "    equal_var = True\n",
    "    if p_value > 0.05:\n",
    "        print('The two data sets have the same variance.')\n",
    "    else:\n",
    "        print('The two data sets have different variance.')\n",
    "        equal_var = False\n",
    "        \n",
    "    # Do the t-test\n",
    "    results = scipy.stats.ttest_ind(X, Y, equal_var = equal_var)\n",
    "    p_value = results[1]\n",
    "    if p_value > 0.05:\n",
    "        print('We cannot reject the null hypothesis that the means of the two data sets are equal.')\n",
    "    else:\n",
    "        print('We reject the null hypothesis that the means of the two data sets are equal.')"
   ]
  },
  {
   "cell_type": "code",
   "execution_count": 76,
   "metadata": {},
   "outputs": [
    {
     "name": "stdout",
     "output_type": "stream",
     "text": [
      "Analyzing data in the sheet Single-pod-1.\n",
      "Carrying out t-test between Knative and Openfaas.\n",
      "The two means are 317.600 and 314.400\n",
      "The two data sets have the same variance.\n",
      "We cannot reject the null hypothesis that the means of the two data sets are equal.\n",
      "\n",
      "--------------------------------------------------------------------------------\n",
      "\n",
      "Analyzing data in the sheet Single-pod-2.\n",
      "Carrying out t-test between Knative and Openfaas.\n",
      "The two means are 643.200 and 636.000\n",
      "The two data sets have the same variance.\n",
      "We cannot reject the null hypothesis that the means of the two data sets are equal.\n",
      "\n",
      "--------------------------------------------------------------------------------\n",
      "\n",
      "Analyzing data in the sheet Scale-bound-1.\n",
      "Carrying out t-test between Knative and Openfaas.\n",
      "The two means are 309.600 and 310.100\n",
      "The two data sets have the same variance.\n",
      "We cannot reject the null hypothesis that the means of the two data sets are equal.\n",
      "\n",
      "--------------------------------------------------------------------------------\n",
      "\n",
      "Analyzing data in the sheet Scale-bound-2.\n",
      "Carrying out t-test between Knative and Openfaas.\n",
      "The two means are 622.400 and 604.100\n",
      "The two data sets have the same variance.\n",
      "We cannot reject the null hypothesis that the means of the two data sets are equal.\n",
      "\n",
      "--------------------------------------------------------------------------------\n",
      "\n",
      "Analyzing data in the sheet Scale-to-zero-1.\n",
      "Carrying out t-test between Knative and Openfaas.\n",
      "The two means are 306.900 and 331.300\n",
      "The two data sets have the same variance.\n",
      "We reject the null hypothesis that the means of the two data sets are equal.\n",
      "\n",
      "--------------------------------------------------------------------------------\n",
      "\n",
      "Analyzing data in the sheet Scale-to-zero-2.\n",
      "Carrying out t-test between Knative and Openfaas.\n",
      "The two means are 599.800 and 629.500\n",
      "The two data sets have the same variance.\n",
      "We cannot reject the null hypothesis that the means of the two data sets are equal.\n",
      "\n",
      "--------------------------------------------------------------------------------\n",
      "\n",
      "Analyzing data in the sheet Kn-Scale-Bound.\n",
      "Carrying out t-test between KN100 and KN200.\n",
      "The two means are 309.600 and 309.200\n",
      "The two data sets have the same variance.\n",
      "We cannot reject the null hypothesis that the means of the two data sets are equal.\n",
      "\n",
      "--------------------------------------------------------------------------------\n",
      "\n",
      "Analyzing data in the sheet Kn-Target-Bound.\n",
      "Carrying out t-test between KN100 and KN200.\n",
      "The two means are 622.400 and 614.400\n",
      "The two data sets have the same variance.\n",
      "We cannot reject the null hypothesis that the means of the two data sets are equal.\n",
      "\n",
      "--------------------------------------------------------------------------------\n",
      "\n"
     ]
    }
   ],
   "source": [
    "for s in sheets:\n",
    "    do_t_test(s)\n",
    "    print()\n",
    "    print('-' * 80)\n",
    "    print()"
   ]
  },
  {
   "cell_type": "code",
   "execution_count": null,
   "metadata": {},
   "outputs": [],
   "source": []
  }
 ],
 "metadata": {
  "kernelspec": {
   "display_name": "Python 3",
   "language": "python",
   "name": "python3"
  },
  "language_info": {
   "codemirror_mode": {
    "name": "ipython",
    "version": 3
   },
   "file_extension": ".py",
   "mimetype": "text/x-python",
   "name": "python",
   "nbconvert_exporter": "python",
   "pygments_lexer": "ipython3",
   "version": "3.9.0"
  }
 },
 "nbformat": 4,
 "nbformat_minor": 4
}
